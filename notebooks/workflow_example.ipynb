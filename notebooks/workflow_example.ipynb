{
 "cells": [
  {
   "cell_type": "code",
   "execution_count": 1,
   "id": "8dee8129-6b23-4abf-90d2-217d71b8ba7a",
   "metadata": {},
   "outputs": [
    {
     "data": {
      "text/html": [
       "<pre style=\"white-space:pre;overflow-x:auto;line-height:normal;font-family:Menlo,'DejaVu Sans Mono',consolas,'Courier New',monospace\"></pre>\n"
      ],
      "text/plain": []
     },
     "metadata": {},
     "output_type": "display_data"
    },
    {
     "data": {
      "text/html": [
       "<pre style=\"white-space:pre;overflow-x:auto;line-height:normal;font-family:Menlo,'DejaVu Sans Mono',consolas,'Courier New',monospace\"></pre>\n"
      ],
      "text/plain": []
     },
     "metadata": {},
     "output_type": "display_data"
    },
    {
     "data": {
      "application/vnd.jupyter.widget-view+json": {
       "model_id": "ceee180feeb547a0b959ccacf8aef2ae",
       "version_major": 2,
       "version_minor": 0
      },
      "text/plain": []
     },
     "metadata": {},
     "output_type": "display_data"
    },
    {
     "name": "stderr",
     "output_type": "stream",
     "text": [
      "* Owlready2 * Warning: optimized Cython parser module 'owlready2_optimized' is not available, defaulting to slower Python implementation\n"
     ]
    }
   ],
   "source": [
    "from pyiron_contrib.workflow.node import Node, node\n",
    "from pyiron_contrib.workflow.workflow import Workflow"
   ]
  },
  {
   "cell_type": "markdown",
   "id": "5edfe456-c5b8-4347-a74f-1fb19fdff91b",
   "metadata": {},
   "source": [
    "# Pyiron workflows: Introduction and Syntax\n",
    "\n",
    "Here we will highlight:\n",
    "- How to instantiate a node\n",
    "- How to make reusable node classes\n",
    "- A variety of ways to set node channel data\n",
    "- How to connect node inputs and outputs together\n",
    "- The four ways of adding nodes to a workflow\n",
    "- How to import and use pre-defined nodes "
   ]
  },
  {
   "cell_type": "markdown",
   "id": "f4e75528-3ea7-4feb-8167-533d439f798d",
   "metadata": {},
   "source": [
    "## Instantiating a node\n",
    "\n",
    "Nodes can be defined on-the-fly by passing any callable to the `Node` class, along with a string (tuple of strings) giving names for the output value(s)."
   ]
  },
  {
   "cell_type": "code",
   "execution_count": 2,
   "id": "2502bc6b-d961-43d1-b2d9-66b20e2740d7",
   "metadata": {},
   "outputs": [
    {
     "name": "stdout",
     "output_type": "stream",
     "text": [
      "This won't quite work yet!\n"
     ]
    }
   ],
   "source": [
    "def plus_minus_one(x):\n",
    "    return x+1, x-1\n",
    "\n",
    "try:\n",
    "    pm_node = Node(plus_minus_one, \"p1\", \"m1\")\n",
    "except TypeError:\n",
    "    print(\"This won't quite work yet!\")"
   ]
  },
  {
   "cell_type": "markdown",
   "id": "89142b6b-3401-4606-98f9-8dbd5e40f6f0",
   "metadata": {},
   "source": [
    "Unless you specify additional kwargs (i.e. `run_automatically=False`, `update_on_instantiation=False`), your node will try to execute the function immediately! In the example above, this resulted in a `TypeError` (from `None + 1`).\n",
    "\n",
    "Instead of just preventing the update by decree, we could (a) provide default values for our function, and/or (b) provide type hints for our function (the node will only run automatically once all the input data has the right type (where specified)).\n",
    "Let's do both"
   ]
  },
  {
   "cell_type": "code",
   "execution_count": 3,
   "id": "6035d22e-594c-4b3e-9ab0-bb5ece641074",
   "metadata": {},
   "outputs": [],
   "source": [
    "def plus_minus_one(x: int | float = 1) -> tuple[int | float, int | float]:\n",
    "    return x+1, x-1\n",
    "\n",
    "pm_node = Node(plus_minus_one, \"p1\", \"m1\")"
   ]
  },
  {
   "cell_type": "markdown",
   "id": "6f4ff622-4d6b-4aca-9215-4de90e6d83e2",
   "metadata": {},
   "source": [
    "When we create a node, input and output data channels are constructed automatically from the signature and type hints of the function, and the output labels."
   ]
  },
  {
   "cell_type": "code",
   "execution_count": 4,
   "id": "769a6543-6fc8-4004-b97a-6a42584a4f29",
   "metadata": {},
   "outputs": [
    {
     "name": "stdout",
     "output_type": "stream",
     "text": [
      "['x'] ['p1', 'm1']\n"
     ]
    }
   ],
   "source": [
    "print(pm_node.inputs.labels, pm_node.outputs.labels)"
   ]
  },
  {
   "cell_type": "code",
   "execution_count": 5,
   "id": "1136c118-d035-40a3-a456-2a1c01583d26",
   "metadata": {},
   "outputs": [
    {
     "name": "stdout",
     "output_type": "stream",
     "text": [
      "int | float\n"
     ]
    }
   ],
   "source": [
    "print(pm_node.inputs.x.type_hint)"
   ]
  },
  {
   "cell_type": "markdown",
   "id": "b551b4de-6dc4-4d8a-be5e-536e5517f6d9",
   "metadata": {},
   "source": [
    "And now that it could safely update right away, we can look at the output:"
   ]
  },
  {
   "cell_type": "code",
   "execution_count": 6,
   "id": "0af9df19-61c3-4b78-9a91-b6f4aaabf591",
   "metadata": {},
   "outputs": [
    {
     "name": "stdout",
     "output_type": "stream",
     "text": [
      "{'p1': 2, 'm1': 0}\n"
     ]
    }
   ],
   "source": [
    "print(pm_node.outputs.to_value_dict())"
   ]
  },
  {
   "cell_type": "markdown",
   "id": "263f5b24-113f-45d9-82cc-0475c59da587",
   "metadata": {},
   "source": [
    "We can assign new data to the input channels with the `update` method, or with `=`:"
   ]
  },
  {
   "cell_type": "code",
   "execution_count": 7,
   "id": "15742a49-4c23-4d4a-84d9-9bf19677544c",
   "metadata": {},
   "outputs": [
    {
     "name": "stdout",
     "output_type": "stream",
     "text": [
      "{'p1': 3, 'm1': 1}\n"
     ]
    }
   ],
   "source": [
    "pm_node.inputs.x.update(2)\n",
    "print(pm_node.outputs.to_value_dict())"
   ]
  },
  {
   "cell_type": "code",
   "execution_count": 8,
   "id": "26052b2d-cd2c-4073-b3cb-8173b58298c9",
   "metadata": {},
   "outputs": [
    {
     "name": "stdout",
     "output_type": "stream",
     "text": [
      "{'p1': 4, 'm1': 2}\n"
     ]
    }
   ],
   "source": [
    "pm_node.inputs.x = 3\n",
    "print(pm_node.outputs.to_value_dict())"
   ]
  },
  {
   "cell_type": "markdown",
   "id": "07a22cee-e340-4551-bb81-07d8be1d152b",
   "metadata": {},
   "source": [
    "## Reusable node classes\n",
    "\n",
    "If we're going to use a node many times, we may want to define a new sub-class of `Node` to handle this.\n",
    "\n",
    "The can be done directly by inheriting from `Node` and overriding it's `__init__` function so that the core functionality of the node (i.e. the node function and output labels) are set in stone. Here we do this very succinctly using `functools.partialmethod`:"
   ]
  },
  {
   "cell_type": "code",
   "execution_count": 9,
   "id": "aca2ce54-f19a-4d3d-8583-50313d50bf20",
   "metadata": {},
   "outputs": [],
   "source": [
    "from functools import partialmethod\n",
    "\n",
    "class Adder(Node):\n",
    "    @staticmethod\n",
    "    def adder(x: int|float, y: int|float) -> int|float:\n",
    "        return x + y\n",
    "    \n",
    "    __init__ = partialmethod(Node.__init__, adder, \"sum\")"
   ]
  },
  {
   "cell_type": "markdown",
   "id": "0d7f1c64-c495-4986-a67d-e46782881731",
   "metadata": {},
   "source": [
    "Note that we only need a single string for `output_labels` when we only return a single value, and that the node's `label` takes (by default) the name of the `node_function`:"
   ]
  },
  {
   "cell_type": "code",
   "execution_count": 10,
   "id": "81ab5c0c-a710-49dd-904f-ce6f328b06c8",
   "metadata": {},
   "outputs": [
    {
     "name": "stdout",
     "output_type": "stream",
     "text": [
      "adder\n",
      "5\n"
     ]
    }
   ],
   "source": [
    "add = Adder(x=2, y=3)\n",
    "print(add.label)\n",
    "print(add.outputs.sum)"
   ]
  },
  {
   "cell_type": "markdown",
   "id": "ddaa1e08-464c-41b5-94b1-4fc69970df52",
   "metadata": {},
   "source": [
    "Here we have also shown another way to initialize data -- right at instantiation as a kwarg.\n",
    "Kwarg values matching the node function signature will be passed from the node initializer to the channels."
   ]
  },
  {
   "cell_type": "markdown",
   "id": "fd88faa3-d321-4ab2-93b9-17583ce716b7",
   "metadata": {},
   "source": [
    "We can also define new node classes _even more succinctly_ by using the `@node` decorator! Under the hood it is doing the same stuff we just did above, but here all you need to do is decorate the function you want to have as a node and provide labels for the output:"
   ]
  },
  {
   "cell_type": "code",
   "execution_count": 11,
   "id": "7fb1799c-b87b-4e7d-ba92-1b0d2d01028d",
   "metadata": {},
   "outputs": [],
   "source": [
    "@node(\"difference\")\n",
    "def subtractor(x: int|float, y: int|float) -> int|float:\n",
    "    return x - y"
   ]
  },
  {
   "cell_type": "code",
   "execution_count": 12,
   "id": "4819c6e5-1e52-414d-a39d-9e3940b99725",
   "metadata": {},
   "outputs": [
    {
     "name": "stdout",
     "output_type": "stream",
     "text": [
      "class name = Subtractor\n",
      "label = subtractor\n",
      "z = -1\n"
     ]
    }
   ],
   "source": [
    "sub = subtractor(x=2, y=3)\n",
    "print(\"class name =\",sub.__class__.__name__)\n",
    "print(\"label =\", sub.label)\n",
    "print(\"z =\", sub.outputs.difference)"
   ]
  },
  {
   "cell_type": "markdown",
   "id": "c799b0e5-ac4a-4b45-b632-715259630107",
   "metadata": {},
   "source": [
    "Note that the new class uses a CamelCase version of the function name, has the method-resolution-order (i.e. parentage) that we expect."
   ]
  },
  {
   "cell_type": "markdown",
   "id": "af45e7a1-0a8d-4ad6-9363-ed2bcfe4c405",
   "metadata": {},
   "source": [
    "## Node connections \n",
    "\n",
    "Next, we want to make connections between nodes. Instead of `update` we can use the `connect` method to accomplish this, or we can do it with the other syntactic sugar we saw for regular data (i.e. direct attribute access or using kwargs at instantiation):"
   ]
  },
  {
   "cell_type": "code",
   "execution_count": 13,
   "id": "594be0e7-c145-4e6f-a2ac-1cb8b34290c2",
   "metadata": {},
   "outputs": [
    {
     "name": "stdout",
     "output_type": "stream",
     "text": [
      "1 1 1\n",
      "11 11 11\n"
     ]
    }
   ],
   "source": [
    "upstream = Adder(x=0, y=0)\n",
    "\n",
    "ds1 = Node(plus_minus_one, \"p1\", \"m1\")\n",
    "ds1.inputs.x.connect(upstream.outputs.sum)\n",
    "\n",
    "ds2 = Node(plus_minus_one, \"p1\", \"m1\")\n",
    "ds2.inputs.x = upstream.outputs.sum\n",
    "\n",
    "ds3 = Node(plus_minus_one, \"p1\", \"m1\", x=upstream.outputs.sum)\n",
    "\n",
    "print(ds1.outputs.p1, ds2.outputs.p1, ds3.outputs.p1)\n",
    "upstream.inputs.x = 10\n",
    "print(ds1.outputs.p1, ds2.outputs.p1, ds3.outputs.p1)"
   ]
  },
  {
   "cell_type": "markdown",
   "id": "ceef526f-3583-4d87-a69d-1ac3d2e706d2",
   "metadata": {},
   "source": [
    "## Adding nodes to a workflow\n",
    "\n",
    "We use workflows to hold together collections of related and connected nodes.\n",
    "\n",
    "All five of the following approaches are equivalent ways to add a node to a workflow:"
   ]
  },
  {
   "cell_type": "code",
   "execution_count": 14,
   "id": "7964df3c-55af-4c25-afc5-9e07accb606a",
   "metadata": {},
   "outputs": [
    {
     "name": "stderr",
     "output_type": "stream",
     "text": [
      "/Users/huber/work/pyiron/pyiron_contrib/pyiron_contrib/workflow/workflow.py:167: UserWarning: Reassigning the node whatever_n4_gets_used to the label n4 when adding it to the workflow my_wf.\n",
      "  warn(\n"
     ]
    },
    {
     "data": {
      "text/plain": [
       "{'n1': <pyiron_contrib.workflow.node.Node at 0x149862b10>,\n",
       " 'n2': <pyiron_contrib.workflow.node.Node at 0x149860f90>,\n",
       " 'n3': <pyiron_contrib.workflow.node.Node at 0x149861290>,\n",
       " 'n4': <pyiron_contrib.workflow.node.Node at 0x1495f1610>,\n",
       " 'n5': <pyiron_contrib.workflow.node.Node at 0x149868bd0>}"
      ]
     },
     "execution_count": 14,
     "metadata": {},
     "output_type": "execute_result"
    }
   ],
   "source": [
    "n1 = Node(plus_minus_one, \"p1\", \"m1\", label=\"n1\")\n",
    "\n",
    "wf = Workflow(\"my_wf\", n1)  # As args at init\n",
    "wf.add.Node(plus_minus_one, \"p1\", \"m1\", label=\"n2\")  # Instantiating from the node adder\n",
    "wf.add(Node(plus_minus_one, \"p1\", \"m1\", label=\"n3\"))  # Instantiating then passing to node adder\n",
    "wf.n4 = Node(plus_minus_one, \"p1\", \"m1\", label=\"whatever_n4_gets_used\")  # By attribute\n",
    "Node(plus_minus_one, \"p1\", \"m1\", label=\"n5\", workflow=wf)  # By passing the workflow\n",
    "\n",
    "wf.nodes"
   ]
  },
  {
   "cell_type": "markdown",
   "id": "9b9220b0-833d-4c6a-9929-5dfa60a47d14",
   "metadata": {},
   "source": [
    "# Flow control\n",
    "\n",
    "By default, when a node runs and updates its output, this triggers outputs in all downstream connections. This is useful when all your node functions are small and light, but there may come times when you want something other than this simple \"push\" flow.\n",
    "\n",
    "In addition to input and output data channels, nodes also have \"signal\" channels available. Input signals are bound to a callback function (typically one of its node's methods), and output signals trigger the callbacks for all the input signal channels they're connected to.\n",
    "\n",
    "Standard nodes have a `run` input signal (which is, unsurprisingly, bound to the `run` method), and a `ran` output signal (which, again, hopefully with no great surprise, is triggered at the end of the `run` method.)\n",
    "\n",
    "Below is a super simple example of how these signal channels can be used to delay execution and manually control flow:"
   ]
  },
  {
   "cell_type": "code",
   "execution_count": 2,
   "id": "2e418abf-7059-4e1e-9b9f-b3dc0a4b5e35",
   "metadata": {},
   "outputs": [
    {
     "name": "stdout",
     "output_type": "stream",
     "text": [
      "1 None\n"
     ]
    }
   ],
   "source": [
    "@node(\"y\")\n",
    "def linear(x):\n",
    "    return x\n",
    "\n",
    "@node(\"z\")\n",
    "def times_two(y):\n",
    "    return 2 * y\n",
    "\n",
    "l = linear(x=1)\n",
    "t2 = times_two(\n",
    "    y=l.outputs.y, update_on_instantiation=False, run_automatically=False\n",
    ")\n",
    "print(t2.inputs.y, t2.outputs.z)"
   ]
  },
  {
   "cell_type": "markdown",
   "id": "37aa4455-9b98-4be5-a365-363e3c490bb6",
   "metadata": {},
   "source": [
    "Now the input of `t2` got updated when the connection is made, but we told this node not to do any automatic updates, so the output has its uninitialized value of `None`.\n",
    "\n",
    "Often, you will probably want to have nodes with data connections to have signal connections, but this is not strictly required. Here, we'll introduce a third node to control the execution of `t2`.\n",
    "\n",
    "Note that we have all the same syntacic sugar from data channels when creating connections between signal channels."
   ]
  },
  {
   "cell_type": "code",
   "execution_count": 3,
   "id": "3310eac4-04f6-421b-9824-19bb2d680be6",
   "metadata": {},
   "outputs": [
    {
     "name": "stdout",
     "output_type": "stream",
     "text": [
      "2\n"
     ]
    }
   ],
   "source": [
    "@node(\"void\")\n",
    "def control():\n",
    "    return\n",
    "\n",
    "c = control()\n",
    "t2.signals.input.run = c.signals.output.ran\n",
    "c.run()\n",
    "print(t2.outputs.z.value)"
   ]
  },
  {
   "cell_type": "markdown",
   "id": "2671dc36-42a4-466b-848d-067ef7bd1d1d",
   "metadata": {},
   "source": [
    "# Example with pre-built nodes\n",
    "\n",
    "Currently we have a handfull of pre-build nodes available for import from the `nodes` package. Let's use these to quickly put together a workflow for looking at some MD data."
   ]
  },
  {
   "cell_type": "code",
   "execution_count": 15,
   "id": "d56c4464-7aa9-4136-83ea-4acce6a0afb1",
   "metadata": {},
   "outputs": [],
   "source": [
    "from pyiron_contrib.workflow import nodes"
   ]
  },
  {
   "cell_type": "code",
   "execution_count": 16,
   "id": "bf9ef826-fcfe-47ef-8439-f8b9e495122a",
   "metadata": {},
   "outputs": [],
   "source": [
    "wf = Workflow(\"with_prebuilt\")"
   ]
  },
  {
   "cell_type": "code",
   "execution_count": 17,
   "id": "ae500d5e-e55b-432c-8b5f-d5892193cdf5",
   "metadata": {},
   "outputs": [
    {
     "name": "stderr",
     "output_type": "stream",
     "text": [
      "/Users/huber/work/pyiron/pyiron_contrib/pyiron_contrib/workflow/workflow.py:167: UserWarning: Reassigning the node bulk_structure to the label structure when adding it to the workflow with_prebuilt.\n",
      "  warn(\n",
      "/Users/huber/work/pyiron/pyiron_contrib/pyiron_contrib/workflow/workflow.py:167: UserWarning: Reassigning the node lammps to the label engine when adding it to the workflow with_prebuilt.\n",
      "  warn(\n"
     ]
    },
    {
     "name": "stdout",
     "output_type": "stream",
     "text": [
      "The job JUSTAJOBNAME was saved and received the ID: 333\n"
     ]
    },
    {
     "name": "stderr",
     "output_type": "stream",
     "text": [
      "/Users/huber/work/pyiron/pyiron_contrib/pyiron_contrib/workflow/workflow.py:167: UserWarning: Reassigning the node calc_md to the label calc when adding it to the workflow with_prebuilt.\n",
      "  warn(\n",
      "/Users/huber/work/pyiron/pyiron_contrib/pyiron_contrib/workflow/workflow.py:167: UserWarning: Reassigning the node scatter to the label plot when adding it to the workflow with_prebuilt.\n",
      "  warn(\n"
     ]
    },
    {
     "data": {
      "image/png": "[encoded data removed]",
      "text/plain": [
       "<Figure size 640x480 with 1 Axes>"
      ]
     },
     "metadata": {},
     "output_type": "display_data"
    }
   ],
   "source": [
    "wf.structure = nodes.bulk_structure(repeat=3, cubic=True, element=\"Al\")\n",
    "wf.engine = nodes.lammps(structure=wf.structure.outputs.structure)\n",
    "wf.calc = nodes.calc_md(job=wf.engine.outputs.job)\n",
    "wf.plot = nodes.scatter(\n",
    "    x=wf.calc.outputs.steps, \n",
    "    y=wf.calc.outputs.temperature\n",
    ")"
   ]
  },
  {
   "cell_type": "code",
   "execution_count": null,
   "id": "2de85772-c18f-4a44-a14f-6729a9d3ca2f",
   "metadata": {},
   "outputs": [],
   "source": []
  }
 ],
 "metadata": {
  "kernelspec": {
   "display_name": "Python 3 (ipykernel)",
   "language": "python",
   "name": "python3"
  },
  "language_info": {
   "codemirror_mode": {
    "name": "ipython",
    "version": 3
   },
   "file_extension": ".py",
   "mimetype": "text/x-python",
   "name": "python",
   "nbconvert_exporter": "python",
   "pygments_lexer": "ipython3",
   "version": "3.11.0"
  }
 },
 "nbformat": 4,
 "nbformat_minor": 5
}
