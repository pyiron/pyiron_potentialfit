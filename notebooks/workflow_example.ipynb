{
 "cells": [
  {
   "cell_type": "code",
   "execution_count": 1,
   "id": "8dee8129-6b23-4abf-90d2-217d71b8ba7a",
   "metadata": {},
   "outputs": [
    {
     "data": {
      "application/vnd.jupyter.widget-view+json": {
       "model_id": "2cf85a81cbaf46f4a0ce55cd4fb29f5f",
       "version_major": 2,
       "version_minor": 0
      },
      "text/plain": []
     },
     "metadata": {},
     "output_type": "display_data"
    },
    {
     "name": "stderr",
     "output_type": "stream",
     "text": [
      "/Users/huber/work/pyiron/pyiron_contrib/pyiron_contrib/__init__.py:9: UserWarning: pyiron module not found, importing Project from pyiron_base\n",
      "  warnings.warn(\"pyiron module not found, importing Project from pyiron_base\")\n"
     ]
    }
   ],
   "source": [
    "# from pyiron_contrib.workflow import nodes  # TODO: Update pre-built nodes\n",
    "from pyiron_contrib.workflow.node import Node\n",
    "from pyiron_contrib.workflow.workflow import Workflow"
   ]
  },
  {
   "cell_type": "markdown",
   "id": "5edfe456-c5b8-4347-a74f-1fb19fdff91b",
   "metadata": {},
   "source": [
    "# Pyiron workflows: Introduction and Syntax\n",
    "\n",
    "Here we will highlight:\n",
    "- The two (and a half) ways of defining a node\n",
    "- The two x two ways of setting node channel values/connections\n",
    "- The four ways of adding nodes to a workflow\n",
    "\n",
    "Then we will present a simple working example (TODO)"
   ]
  },
  {
   "cell_type": "markdown",
   "id": "f4e75528-3ea7-4feb-8167-533d439f798d",
   "metadata": {},
   "source": [
    "## Defining a node\n",
    "\n",
    "Nodes can be defined on-the-fly by passing any callable to the `Node` class, along with a string (tuple of strings) giving names for the output value(s)."
   ]
  },
  {
   "cell_type": "code",
   "execution_count": 2,
   "id": "2502bc6b-d961-43d1-b2d9-66b20e2740d7",
   "metadata": {},
   "outputs": [
    {
     "name": "stdout",
     "output_type": "stream",
     "text": [
      "This won't quite work yet!\n"
     ]
    }
   ],
   "source": [
    "def plus_minus_one(x):\n",
    "    return x+1, x-1\n",
    "\n",
    "try:\n",
    "    node = Node(plus_minus_one, (\"p1\", \"m1\"))\n",
    "except TypeError:\n",
    "    print(\"This won't quite work yet!\")"
   ]
  },
  {
   "cell_type": "markdown",
   "id": "89142b6b-3401-4606-98f9-8dbd5e40f6f0",
   "metadata": {},
   "source": [
    "Unless you specify additional kwargs (i.e. `run_automatically=False`, `update_on_instantiation=False`), your node will try to execute the function immediately! In the example above, this resulted in a `TypeError` (from `None + 1`).\n",
    "\n",
    "Instead of just preventing the update by decree, we could (a) provide default values for our function, and/or (b) provide type hints for our function (the node will only run automatically once all the input data has the right type (where specified)).\n",
    "Let's do both"
   ]
  },
  {
   "cell_type": "code",
   "execution_count": 3,
   "id": "6035d22e-594c-4b3e-9ab0-bb5ece641074",
   "metadata": {},
   "outputs": [],
   "source": [
    "def plus_minus_one(x: int | float = 1) -> tuple[int | float, int | float]:\n",
    "    return x+1, x-1\n",
    "\n",
    "node = Node(plus_minus_one, (\"p1\", \"m1\"))"
   ]
  },
  {
   "cell_type": "markdown",
   "id": "6f4ff622-4d6b-4aca-9215-4de90e6d83e2",
   "metadata": {},
   "source": [
    "When we create a node, input and output data channels are constructed automatically from the signature and type hints of the function, and the output labels."
   ]
  },
  {
   "cell_type": "code",
   "execution_count": 4,
   "id": "769a6543-6fc8-4004-b97a-6a42584a4f29",
   "metadata": {},
   "outputs": [
    {
     "name": "stdout",
     "output_type": "stream",
     "text": [
      "['x'] ['p1', 'm1']\n"
     ]
    }
   ],
   "source": [
    "print(node.inputs.labels, node.outputs.labels)"
   ]
  },
  {
   "cell_type": "code",
   "execution_count": 5,
   "id": "1136c118-d035-40a3-a456-2a1c01583d26",
   "metadata": {},
   "outputs": [
    {
     "name": "stdout",
     "output_type": "stream",
     "text": [
      "int | float\n"
     ]
    }
   ],
   "source": [
    "print(node.inputs.x.type_hint)"
   ]
  },
  {
   "cell_type": "markdown",
   "id": "b551b4de-6dc4-4d8a-be5e-536e5517f6d9",
   "metadata": {},
   "source": [
    "And now that it could safely update right away, we can look at the output:"
   ]
  },
  {
   "cell_type": "code",
   "execution_count": 6,
   "id": "0af9df19-61c3-4b78-9a91-b6f4aaabf591",
   "metadata": {},
   "outputs": [
    {
     "name": "stdout",
     "output_type": "stream",
     "text": [
      "{'p1': 2, 'm1': 0}\n"
     ]
    }
   ],
   "source": [
    "print(node.outputs.to_value_dict())"
   ]
  },
  {
   "cell_type": "markdown",
   "id": "263f5b24-113f-45d9-82cc-0475c59da587",
   "metadata": {},
   "source": [
    "We can assign new data to the input channels with the `update` method, or with `=`:"
   ]
  },
  {
   "cell_type": "code",
   "execution_count": 7,
   "id": "15742a49-4c23-4d4a-84d9-9bf19677544c",
   "metadata": {},
   "outputs": [
    {
     "name": "stdout",
     "output_type": "stream",
     "text": [
      "{'p1': 3, 'm1': 1}\n"
     ]
    }
   ],
   "source": [
    "node.inputs.x.update(2)\n",
    "print(node.outputs.to_value_dict())"
   ]
  },
  {
   "cell_type": "code",
   "execution_count": 8,
   "id": "26052b2d-cd2c-4073-b3cb-8173b58298c9",
   "metadata": {},
   "outputs": [
    {
     "name": "stdout",
     "output_type": "stream",
     "text": [
      "{'p1': 4, 'm1': 2}\n"
     ]
    }
   ],
   "source": [
    "node.inputs.x = 3\n",
    "print(node.outputs.to_value_dict())"
   ]
  },
  {
   "cell_type": "markdown",
   "id": "07a22cee-e340-4551-bb81-07d8be1d152b",
   "metadata": {},
   "source": [
    "If we're going to use a node many times, we may want to define a new sub-class of `Node` to handle this"
   ]
  },
  {
   "cell_type": "code",
   "execution_count": 9,
   "id": "aca2ce54-f19a-4d3d-8583-50313d50bf20",
   "metadata": {},
   "outputs": [],
   "source": [
    "from functools import partialmethod\n",
    "\n",
    "class Adder(Node):\n",
    "    @staticmethod\n",
    "    def adder(x: int|float, y: int|float) -> int|float:\n",
    "        return x + y\n",
    "    \n",
    "    __init__ = partialmethod(\n",
    "        Node.__init__,\n",
    "        node_function=adder,\n",
    "        output_labels=\"sum\"\n",
    "    )"
   ]
  },
  {
   "cell_type": "markdown",
   "id": "0d7f1c64-c495-4986-a67d-e46782881731",
   "metadata": {},
   "source": [
    "We could also have done this without `partialmethod` by simply overriding `__init__`, but this way is much tidier.\n",
    "\n",
    "Note that we only need a single string for `output_labels` when we only return a single value, and that the node's `label` takes (by default) the name of the `node_function`:"
   ]
  },
  {
   "cell_type": "code",
   "execution_count": 10,
   "id": "81ab5c0c-a710-49dd-904f-ce6f328b06c8",
   "metadata": {},
   "outputs": [
    {
     "name": "stdout",
     "output_type": "stream",
     "text": [
      "adder\n",
      "5\n"
     ]
    }
   ],
   "source": [
    "add = Adder(x=2, y=3)\n",
    "print(add.label)\n",
    "print(add.outputs.sum)"
   ]
  },
  {
   "cell_type": "markdown",
   "id": "ddaa1e08-464c-41b5-94b1-4fc69970df52",
   "metadata": {},
   "source": [
    "Here we have also shown another way to initialize data -- right at instantiation as a kwarg.\n",
    "Kwarg values matching the node function signature will be passed from the node initializer to the channels."
   ]
  },
  {
   "cell_type": "markdown",
   "id": "af45e7a1-0a8d-4ad6-9363-ed2bcfe4c405",
   "metadata": {},
   "source": [
    "Next, we want to make connections between nodes. Instead of `update` we can use the `connect` method to accomplish this, or we can do it with the other syntactic sugar we saw for regular data:"
   ]
  },
  {
   "cell_type": "code",
   "execution_count": 11,
   "id": "594be0e7-c145-4e6f-a2ac-1cb8b34290c2",
   "metadata": {},
   "outputs": [
    {
     "name": "stdout",
     "output_type": "stream",
     "text": [
      "2 2 2\n",
      "11 11 11\n"
     ]
    }
   ],
   "source": [
    "upstream = Adder(x=0, y=0)\n",
    "\n",
    "ds1 = Node(plus_minus_one, (\"p1\", \"m1\"))\n",
    "ds1.inputs.x.connect(upstream.outputs.sum)\n",
    "\n",
    "ds2 = Node(plus_minus_one, (\"p1\", \"m1\"))\n",
    "ds2.inputs.x = upstream.outputs.sum\n",
    "\n",
    "ds3 = Node(plus_minus_one, (\"p1\", \"m1\"), x=upstream.outputs.sum)\n",
    "\n",
    "print(ds1.outputs.p1, ds2.outputs.p1, ds3.outputs.p1)\n",
    "upstream.inputs.x = 10\n",
    "print(ds1.outputs.p1, ds2.outputs.p1, ds3.outputs.p1)"
   ]
  },
  {
   "cell_type": "markdown",
   "id": "ceef526f-3583-4d87-a69d-1ac3d2e706d2",
   "metadata": {},
   "source": [
    "## Adding nodes to a workflow\n",
    "\n",
    "We use workflows to hold together collections of related and connected nodes.\n",
    "\n",
    "All five of the following approaches are equivalent ways to add a node to a workflow:"
   ]
  },
  {
   "cell_type": "code",
   "execution_count": 12,
   "id": "7964df3c-55af-4c25-afc5-9e07accb606a",
   "metadata": {},
   "outputs": [
    {
     "name": "stderr",
     "output_type": "stream",
     "text": [
      "/Users/huber/work/pyiron/pyiron_contrib/pyiron_contrib/workflow/workflow.py:137: UserWarning: Reassigning the node whatever_n4_gets_used to the label n4 when adding it to the workflow my_wf.\n",
      "  warn(\n"
     ]
    },
    {
     "data": {
      "text/plain": [
       "{'n1': <pyiron_contrib.workflow.node.Node at 0x10ae7b950>,\n",
       " 'n2': <pyiron_contrib.workflow.node.Node at 0x14a29ae90>,\n",
       " 'n3': <pyiron_contrib.workflow.node.Node at 0x14a29b590>,\n",
       " 'n4': <pyiron_contrib.workflow.node.Node at 0x14a29bdd0>,\n",
       " 'n5': <pyiron_contrib.workflow.node.Node at 0x14a290a10>}"
      ]
     },
     "execution_count": 12,
     "metadata": {},
     "output_type": "execute_result"
    }
   ],
   "source": [
    "n1 = Node(plus_minus_one, (\"p1\", \"m1\"), label=\"n1\")\n",
    "\n",
    "wf = Workflow(\"my_wf\", n1)  # As args at init\n",
    "wf.add.Node(plus_minus_one, (\"p1\", \"m1\"), label=\"n2\")  # Instantiating from the node adder\n",
    "wf.add(Node(plus_minus_one, (\"p1\", \"m1\"), label=\"n3\"))  # Instantiating then passing to node adder\n",
    "wf.n4 = Node(plus_minus_one, (\"p1\", \"m1\"), label=\"whatever_n4_gets_used\")  # By attribute\n",
    "Node(plus_minus_one, (\"p1\", \"m1\"), label=\"n5\", workflow=wf)  # By passing the workflow\n",
    "\n",
    "wf.nodes"
   ]
  },
  {
   "cell_type": "code",
   "execution_count": null,
   "id": "094c677e-6996-4474-882e-5e8fe1e92c17",
   "metadata": {},
   "outputs": [],
   "source": []
  }
 ],
 "metadata": {
  "kernelspec": {
   "display_name": "Python 3 (ipykernel)",
   "language": "python",
   "name": "python3"
  },
  "language_info": {
   "codemirror_mode": {
    "name": "ipython",
    "version": 3
   },
   "file_extension": ".py",
   "mimetype": "text/x-python",
   "name": "python",
   "nbconvert_exporter": "python",
   "pygments_lexer": "ipython3",
   "version": "3.11.0"
  }
 },
 "nbformat": 4,
 "nbformat_minor": 5
}
