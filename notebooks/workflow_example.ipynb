{
 "cells": [
  {
   "cell_type": "code",
   "execution_count": 1,
   "id": "8dee8129-6b23-4abf-90d2-217d71b8ba7a",
   "metadata": {},
   "outputs": [
    {
     "data": {
      "text/html": [
       "<pre style=\"white-space:pre;overflow-x:auto;line-height:normal;font-family:Menlo,'DejaVu Sans Mono',consolas,'Courier New',monospace\"></pre>\n"
      ],
      "text/plain": []
     },
     "metadata": {},
     "output_type": "display_data"
    },
    {
     "data": {
      "text/html": [
       "<pre style=\"white-space:pre;overflow-x:auto;line-height:normal;font-family:Menlo,'DejaVu Sans Mono',consolas,'Courier New',monospace\"></pre>\n"
      ],
      "text/plain": []
     },
     "metadata": {},
     "output_type": "display_data"
    },
    {
     "data": {
      "application/vnd.jupyter.widget-view+json": {
       "model_id": "b04ad159923f4d67870f859105813dd9",
       "version_major": 2,
       "version_minor": 0
      },
      "text/plain": []
     },
     "metadata": {},
     "output_type": "display_data"
    },
    {
     "name": "stderr",
     "output_type": "stream",
     "text": [
      "* Owlready2 * Warning: optimized Cython parser module 'owlready2_optimized' is not available, defaulting to slower Python implementation\n"
     ]
    }
   ],
   "source": [
    "from pyiron_contrib.workflow.node import Node"
   ]
  },
  {
   "cell_type": "markdown",
   "id": "5edfe456-c5b8-4347-a74f-1fb19fdff91b",
   "metadata": {},
   "source": [
    "# Pyiron workflows: Introduction and Syntax\n",
    "\n",
    "Here we will highlight:\n",
    "- How to instantiate a node\n",
    "- How to make reusable node classes\n",
    "- How to connect node inputs and outputs together\n",
    "- Defining new nodes from special node classes (Fast and SingleValue)\n",
    "- The five ways of adding nodes to a workflow\n",
    "- Flow control (i.e. signal channels vs data channels)\n",
    "- Using pre-defined nodes "
   ]
  },
  {
   "cell_type": "markdown",
   "id": "f4e75528-3ea7-4feb-8167-533d439f798d",
   "metadata": {},
   "source": [
    "## Instantiating a node\n",
    "\n",
    "Nodes can be defined on-the-fly by passing any callable to the `Node` class, along with a string (tuple of strings) giving names for the output value(s)."
   ]
  },
  {
   "cell_type": "code",
   "execution_count": 2,
   "id": "2502bc6b-d961-43d1-b2d9-66b20e2740d7",
   "metadata": {},
   "outputs": [],
   "source": [
    "def plus_minus_one(x):\n",
    "    return x+1, x-1\n",
    "\n",
    "pm_node = Node(plus_minus_one, \"p1\", \"m1\")"
   ]
  },
  {
   "cell_type": "markdown",
   "id": "5d15f0c2-b36d-4960-86b3-40d769f78528",
   "metadata": {},
   "source": [
    "This has automatically created a node with input and output data channels whose labels are gathered by inspecting the function:"
   ]
  },
  {
   "cell_type": "code",
   "execution_count": 3,
   "id": "840f4c07-4b21-4bcc-b15c-9847c6c1b048",
   "metadata": {},
   "outputs": [
    {
     "name": "stdout",
     "output_type": "stream",
     "text": [
      "['x'] ['p1', 'm1']\n"
     ]
    }
   ],
   "source": [
    "print(pm_node.inputs.labels, pm_node.outputs.labels)"
   ]
  },
  {
   "cell_type": "markdown",
   "id": "22ee2a49-47d1-4cec-bb25-8441ea01faf7",
   "metadata": {},
   "source": [
    "The output is still empty because we haven't `run` the node.\n",
    "If we try that now though, we'll just get a type error because the input is not set!\n",
    "Let's set the input and run the node:"
   ]
  },
  {
   "cell_type": "code",
   "execution_count": 4,
   "id": "613a90fa-66ed-49f8-ba8c-2f83a54253cd",
   "metadata": {},
   "outputs": [
    {
     "name": "stdout",
     "output_type": "stream",
     "text": [
      "{'p1': None, 'm1': None}\n",
      "{'p1': 6, 'm1': 4}\n"
     ]
    }
   ],
   "source": [
    "print(pm_node.outputs.to_value_dict())\n",
    "pm_node.inputs.x = 5\n",
    "pm_node.run()\n",
    "print(pm_node.outputs.to_value_dict())"
   ]
  },
  {
   "cell_type": "markdown",
   "id": "df4520d7-856e-4bc8-817f-5b2e22c1ddce",
   "metadata": {},
   "source": [
    "Nodes also have the option to `run_on_updates` -- i.e. to attempt a `run` command whenever _any_ of their input data gets updated -- and to `update_on_instantiation`."
   ]
  },
  {
   "cell_type": "code",
   "execution_count": 5,
   "id": "ab1ac28a-6e69-491f-882f-da4a43162dd7",
   "metadata": {},
   "outputs": [
    {
     "data": {
      "text/plain": [
       "2"
      ]
     },
     "execution_count": 5,
     "metadata": {},
     "output_type": "execute_result"
    }
   ],
   "source": [
    "def adder(x: int, y: int = 1) -> int:\n",
    "    return x + y\n",
    "\n",
    "adder_node = Node(adder, \"sum\", run_on_updates=True, update_on_instantiation=True)\n",
    "adder_node.inputs.x = 1\n",
    "adder_node.outputs.sum.value  # We use `value` to see the data the channel holds"
   ]
  },
  {
   "cell_type": "markdown",
   "id": "0929f222-6073-4201-b5a1-723c31c8998a",
   "metadata": {},
   "source": [
    "We see that now the output got populated automatically when we updated `x`. \n",
    "We can safely update it back to something silly without causing an error because of our type hints."
   ]
  },
  {
   "cell_type": "code",
   "execution_count": 6,
   "id": "ac0fe993-6c82-48c8-a780-cbd0c97fc386",
   "metadata": {},
   "outputs": [
    {
     "data": {
      "text/plain": [
       "int"
      ]
     },
     "execution_count": 6,
     "metadata": {},
     "output_type": "execute_result"
    }
   ],
   "source": [
    "adder_node.inputs.x = \"not an integer\"\n",
    "adder_node.inputs.x.type_hint\n",
    "# No error because the update doesn't trigger a run"
   ]
  },
  {
   "cell_type": "markdown",
   "id": "263f5b24-113f-45d9-82cc-0475c59da587",
   "metadata": {},
   "source": [
    "Note that assigning data to channels with `=` is actually just syntactic sugar for calling the `update` method of the underlying channel:"
   ]
  },
  {
   "cell_type": "code",
   "execution_count": 7,
   "id": "15742a49-4c23-4d4a-84d9-9bf19677544c",
   "metadata": {},
   "outputs": [
    {
     "data": {
      "text/plain": [
       "3"
      ]
     },
     "execution_count": 7,
     "metadata": {},
     "output_type": "execute_result"
    }
   ],
   "source": [
    "adder_node.inputs.x.update(2)\n",
    "adder_node.outputs.sum.value"
   ]
  },
  {
   "cell_type": "markdown",
   "id": "07a22cee-e340-4551-bb81-07d8be1d152b",
   "metadata": {},
   "source": [
    "## Reusable node classes\n",
    "\n",
    "If we're going to use a node many times, we may want to define a new sub-class of `Node` to handle this.\n",
    "\n",
    "The can be done directly by inheriting from `Node` and overriding it's `__init__` function so that the core functionality of the node (i.e. the node function and output labels) are set in stone, but even easier is to use the `node` decorator to do this for you!\n",
    "\n",
    "The decorator takes the output labels and whatever other class kwargs you want to override, and the function is defined like any other node function:"
   ]
  },
  {
   "cell_type": "code",
   "execution_count": 8,
   "id": "61b43a9b-8dad-48b7-9194-2045e465793b",
   "metadata": {},
   "outputs": [],
   "source": [
    "from pyiron_contrib.workflow.node import node"
   ]
  },
  {
   "cell_type": "code",
   "execution_count": 9,
   "id": "647360a9-c971-4272-995c-aa01e5f5bb83",
   "metadata": {},
   "outputs": [
    {
     "name": "stdout",
     "output_type": "stream",
     "text": [
      "class name = SubtractNode\n",
      "label = subtract_node\n",
      "default output = 1\n"
     ]
    }
   ],
   "source": [
    "@node(\"diff\", run_on_updates=True, update_on_instantiation=True)\n",
    "def subtract_node(x: int | float = 2, y: int | float = 1) -> int | float:\n",
    "    return x - y\n",
    "\n",
    "sn = subtract_node()\n",
    "print(\"class name =\", sn.__class__.__name__)\n",
    "print(\"label =\", sn.label)\n",
    "print(\"default output =\", sn.outputs.diff.value)"
   ]
  },
  {
   "cell_type": "markdown",
   "id": "7b7133ff-6ef6-49fa-9eb0-7c280de9b1e5",
   "metadata": {},
   "source": [
    "Earlier we saw that we could set input data by function defaults, or by directly setting the `.inputs.*` channel values with an `=` assignement or `.update` method call.\n",
    "\n",
    "We can also set the input of a node instance at instantiation by passing the input labels as kwargs!"
   ]
  },
  {
   "cell_type": "code",
   "execution_count": 10,
   "id": "8fb0671b-045a-4d71-9d35-f0beadc9cf3a",
   "metadata": {},
   "outputs": [
    {
     "data": {
      "text/plain": [
       "-10"
      ]
     },
     "execution_count": 10,
     "metadata": {},
     "output_type": "execute_result"
    }
   ],
   "source": [
    "subtract_node(x=10, y=20).outputs.diff.value"
   ]
  },
  {
   "cell_type": "markdown",
   "id": "af45e7a1-0a8d-4ad6-9363-ed2bcfe4c405",
   "metadata": {},
   "source": [
    "## Node connections \n",
    "\n",
    "Next, we want to make connections between nodes. Instead of `update` we can use the `connect` method to accomplish this, or we can do it with the other syntactic sugar we saw for regular data (i.e. direct attribute access or using kwargs at instantiation):"
   ]
  },
  {
   "cell_type": "code",
   "execution_count": 11,
   "id": "5ce91f42-7aec-492c-94fb-2320c971cd79",
   "metadata": {},
   "outputs": [
    {
     "name": "stdout",
     "output_type": "stream",
     "text": [
      "2 - 4 = -2\n"
     ]
    }
   ],
   "source": [
    "@node(\"sum\", run_on_updates=True, update_on_instantiation=True)\n",
    "def add_node(x: int | float = 1, y: int | float = 1) -> int | float:\n",
    "    return x + y\n",
    "\n",
    "add1 = add_node()\n",
    "add2 = add_node(x=2, y=2)\n",
    "sub = subtract_node(x=add1.outputs.sum, y=add2.outputs.sum)\n",
    "print(\n",
    "    f\"{add1.outputs.sum.value} - {add2.outputs.sum.value} = {sub.outputs.diff.value}\"\n",
    ")"
   ]
  },
  {
   "cell_type": "markdown",
   "id": "0bea37ae-65f6-4842-b507-9542f17791ca",
   "metadata": {},
   "source": [
    "Because we've set all of our nodes to run automatically on updates, we can change upstream data and see the result propogate downstream immediately:"
   ]
  },
  {
   "cell_type": "code",
   "execution_count": 12,
   "id": "20360fe7-b422-4d78-9bd1-de233f28c8df",
   "metadata": {},
   "outputs": [
    {
     "name": "stdout",
     "output_type": "stream",
     "text": [
      "11 - 4 = 7\n"
     ]
    }
   ],
   "source": [
    "add1.inputs.x = 10\n",
    "print(\n",
    "    f\"{add1.outputs.sum.value} - {add2.outputs.sum.value} = {sub.outputs.diff.value}\"\n",
    ")"
   ]
  },
  {
   "cell_type": "markdown",
   "id": "e5c531a3-77e4-48ad-a189-fed619e79baa",
   "metadata": {},
   "source": [
    "## Special nodes\n",
    "\n",
    "In addition to the basic `Node` class, for the sake of convenience we also offer `FastNode(Node)` -- which enforces that all the node function inputs are type-hinted and have defaults, then sets `run_on_updates=True` and `update_on_instantiation=True` --, and `SingleValueNode(FastNode)` -- which further enforces that there is only a _single_ return value to the node function (i.e. a single output label), and then lets attribute and item access fall back to looking for attributes and items of this single output value. Of course there are decorators available for both of these.\n",
    "\n",
    "Let's look at a use case:"
   ]
  },
  {
   "cell_type": "code",
   "execution_count": 13,
   "id": "1a4e9693-0980-4435-aecc-3331d8b608dd",
   "metadata": {},
   "outputs": [],
   "source": [
    "import numpy as np\n",
    "from pyiron_contrib.workflow.node import single_value_node"
   ]
  },
  {
   "cell_type": "code",
   "execution_count": 14,
   "id": "7c4d314b-33bb-4a67-bfb9-ed77fba3949c",
   "metadata": {},
   "outputs": [
    {
     "name": "stdout",
     "output_type": "stream",
     "text": [
      "<class 'numpy.ndarray'>\n",
      "[0.02040816 0.04081633 0.06122449]\n",
      "0.5\n"
     ]
    }
   ],
   "source": [
    "@single_value_node(\"linspace\")\n",
    "def linspace_node(\n",
    "    start: int | float = 0, stop: int | float = 1, num: int = 50\n",
    "):\n",
    "    return np.linspace(start=start, stop=stop, num=num)\n",
    "\n",
    "lin = linspace_node()\n",
    "\n",
    "print(type(lin.outputs.linspace.value))  # Output is just what we expect\n",
    "print(lin[1:4])  # Gets items from the output\n",
    "print(lin.mean())  # Finds the method on the output"
   ]
  },
  {
   "cell_type": "markdown",
   "id": "a1a9daa5-9c12-4c2f-b8bd-a54a5fc60feb",
   "metadata": {},
   "source": [
    "# Workflows\n",
    "\n",
    "Typically, you will have a group of nodes working together with their connections.\n",
    "We call these groups workflows, and offer a `Workflow` object as a single point of entry -- i.e. most of the time you shouldn't need the node imports used above, because the decorators are available right on the workflow class."
   ]
  },
  {
   "cell_type": "code",
   "execution_count": 15,
   "id": "1cd000bd-9b24-4c39-9cac-70a3291d0660",
   "metadata": {},
   "outputs": [],
   "source": [
    "from pyiron_contrib.workflow.workflow import Workflow\n",
    "\n",
    "@Workflow.wrap_as.single_value_node(\"is_greater\")\n",
    "def greater_than_half(x: int | float | bool = 0) -> bool:\n",
    "    \"\"\"The functionality doesn't matter here, it's just an example\"\"\"\n",
    "    return x > 0.5"
   ]
  },
  {
   "cell_type": "markdown",
   "id": "ceef526f-3583-4d87-a69d-1ac3d2e706d2",
   "metadata": {},
   "source": [
    "## Adding nodes to a workflow\n",
    "\n",
    "All five of the following approaches are equivalent ways to add a node to a workflow:"
   ]
  },
  {
   "cell_type": "code",
   "execution_count": 16,
   "id": "7964df3c-55af-4c25-afc5-9e07accb606a",
   "metadata": {},
   "outputs": [
    {
     "name": "stdout",
     "output_type": "stream",
     "text": [
      "n1 n1 <abc.GreaterThanHalf object at 0x147a55850>\n",
      "n2 n2 <pyiron_contrib.workflow.node.Node object at 0x14780a7d0>\n",
      "n3 n3 <abc.GreaterThanHalf object at 0x147d0c1d0>\n",
      "n4 n4 <abc.GreaterThanHalf object at 0x147d0d310>\n",
      "n5 n5 <abc.GreaterThanHalf object at 0x147d091d0>\n"
     ]
    },
    {
     "name": "stderr",
     "output_type": "stream",
     "text": [
      "/Users/huber/work/pyiron/pyiron_contrib/pyiron_contrib/workflow/workflow.py:176: UserWarning: Reassigning the node will_get_overwritten_with_n4 to the label n4 when adding it to the workflow my_wf.\n",
      "  warn(\n"
     ]
    }
   ],
   "source": [
    "n1 = greater_than_half(label=\"n1\")\n",
    "\n",
    "wf = Workflow(\"my_wf\", n1)  # As args at init\n",
    "wf.add.Node(lambda: x + 1, \"p1\", label=\"n2\")  # Instantiating from the node adder\n",
    "wf.add(greater_than_half(label=\"n3\"))  # Instantiating then passing to node adder\n",
    "wf.n4 = greater_than_half(label=\"will_get_overwritten_with_n4\")  # Set attribute to instance\n",
    "greater_than_half(label=\"n5\", workflow=wf)  # By passing the workflow to the node\n",
    "\n",
    "for k, v in wf.nodes.items():\n",
    "    print(k, v.label, v)"
   ]
  },
  {
   "cell_type": "markdown",
   "id": "9b9220b0-833d-4c6a-9929-5dfa60a47d14",
   "metadata": {},
   "source": [
    "# Flow control\n",
    "\n",
    "By default, when a node runs and updates its output, this triggers outputs in all downstream connections. This is useful when all your node functions are small and light, but there may come times when you want something other than this simple \"push\" flow.\n",
    "\n",
    "In addition to input and output data channels, nodes also have \"signal\" channels available. Input signals are bound to a callback function (typically one of its node's methods), and output signals trigger the callbacks for all the input signal channels they're connected to.\n",
    "\n",
    "Standard nodes have a `run` input signal (which is, unsurprisingly, bound to the `run` method), and a `ran` output signal (which, again, hopefully with no great surprise, is triggered at the end of the `run` method.)\n",
    "\n",
    "Below is a super simple example of how these signal channels can be used to delay execution and manually control flow:"
   ]
  },
  {
   "cell_type": "code",
   "execution_count": 17,
   "id": "2e418abf-7059-4e1e-9b9f-b3dc0a4b5e35",
   "metadata": {},
   "outputs": [
    {
     "name": "stdout",
     "output_type": "stream",
     "text": [
      "None None\n"
     ]
    }
   ],
   "source": [
    "@node(\"y\")\n",
    "def linear(x):\n",
    "    return x\n",
    "\n",
    "@node(\"z\")\n",
    "def times_two(y):\n",
    "    return 2 * y\n",
    "\n",
    "l = linear(x=1)\n",
    "t2 = times_two(\n",
    "    y=l.outputs.y, update_on_instantiation=False, run_automatically=False\n",
    ")\n",
    "print(t2.inputs.y, t2.outputs.z)"
   ]
  },
  {
   "cell_type": "markdown",
   "id": "37aa4455-9b98-4be5-a365-363e3c490bb6",
   "metadata": {},
   "source": [
    "Now the input of `t2` got updated when the connection is made, but we told this node not to do any automatic updates, so the output has its uninitialized value of `None`.\n",
    "\n",
    "Often, you will probably want to have nodes with data connections to have signal connections, but this is not strictly required. Here, we'll introduce a (not strictly necessary) third node to control starting the workflow, and chain together to signals from our two functional nodes.\n",
    "\n",
    "Note that we have all the same syntacic sugar from data channels when creating connections between signal channels."
   ]
  },
  {
   "cell_type": "code",
   "execution_count": 18,
   "id": "3310eac4-04f6-421b-9824-19bb2d680be6",
   "metadata": {},
   "outputs": [
    {
     "name": "stdout",
     "output_type": "stream",
     "text": [
      "2\n"
     ]
    }
   ],
   "source": [
    "@node(\"void\")\n",
    "def control():\n",
    "    return\n",
    "\n",
    "c = control()\n",
    "l.signals.input.run = c.signals.output.ran\n",
    "t2.signals.input.run = l.signals.output.ran\n",
    "c.run()\n",
    "print(t2.outputs.z.value)"
   ]
  },
  {
   "cell_type": "markdown",
   "id": "2671dc36-42a4-466b-848d-067ef7bd1d1d",
   "metadata": {},
   "source": [
    "# Example with pre-built nodes\n",
    "\n",
    "Currently we have a handfull of pre-build nodes available for import from the `nodes` package. Let's use these to quickly put together a workflow for looking at some MD data.\n",
    "\n",
    "The `calc_md`, node is _not_ at `FastNode`, but we happen to know that the calculation we're doing here is very easy, so we'll set `run_on_updates` and `update_at_instantiation` to `True`."
   ]
  },
  {
   "cell_type": "code",
   "execution_count": 19,
   "id": "8a79aa02-cb49-4bad-b923-8fba32416116",
   "metadata": {},
   "outputs": [],
   "source": [
    "from pyiron_contrib.workflow import nodes\n",
    "# TODO: Register node libraries directly with the workflow so there is only a single import"
   ]
  },
  {
   "cell_type": "code",
   "execution_count": 20,
   "id": "ae500d5e-e55b-432c-8b5f-d5892193cdf5",
   "metadata": {},
   "outputs": [
    {
     "name": "stderr",
     "output_type": "stream",
     "text": [
      "/Users/huber/work/pyiron/pyiron_contrib/pyiron_contrib/workflow/workflow.py:176: UserWarning: Reassigning the node bulk_structure to the label structure when adding it to the workflow with_prebuilt.\n",
      "  warn(\n",
      "/Users/huber/work/pyiron/pyiron_contrib/pyiron_contrib/workflow/workflow.py:176: UserWarning: Reassigning the node lammps to the label engine when adding it to the workflow with_prebuilt.\n",
      "  warn(\n"
     ]
    },
    {
     "name": "stdout",
     "output_type": "stream",
     "text": [
      "The job JUSTAJOBNAME was saved and received the ID: 7417\n"
     ]
    },
    {
     "name": "stderr",
     "output_type": "stream",
     "text": [
      "/Users/huber/work/pyiron/pyiron_contrib/pyiron_contrib/workflow/workflow.py:176: UserWarning: Reassigning the node calc_md to the label calc when adding it to the workflow with_prebuilt.\n",
      "  warn(\n",
      "/Users/huber/work/pyiron/pyiron_contrib/pyiron_contrib/workflow/workflow.py:176: UserWarning: Reassigning the node scatter to the label plot when adding it to the workflow with_prebuilt.\n",
      "  warn(\n"
     ]
    },
    {
     "data": {
      "image/png": "[encoded data removed]",
      "text/plain": [
       "<Figure size 640x480 with 1 Axes>"
      ]
     },
     "metadata": {},
     "output_type": "display_data"
    }
   ],
   "source": [
    "wf = Workflow(\"with_prebuilt\")\n",
    "\n",
    "wf.structure = nodes.bulk_structure(repeat=3, cubic=True, element=\"Al\")\n",
    "wf.engine = nodes.lammps(structure=wf.structure.outputs.structure)\n",
    "wf.calc = nodes.calc_md(\n",
    "    job=wf.engine.outputs.job, \n",
    "    run_on_updates=True, \n",
    "    update_on_instantiation=True\n",
    ")\n",
    "wf.plot = nodes.scatter(\n",
    "    x=wf.calc.outputs.steps, \n",
    "    y=wf.calc.outputs.temperature\n",
    ")\n"
   ]
  }
 ],
 "metadata": {
  "kernelspec": {
   "display_name": "Python 3 (ipykernel)",
   "language": "python",
   "name": "python3"
  },
  "language_info": {
   "codemirror_mode": {
    "name": "ipython",
    "version": 3
   },
   "file_extension": ".py",
   "mimetype": "text/x-python",
   "name": "python",
   "nbconvert_exporter": "python",
   "pygments_lexer": "ipython3",
   "version": "3.11.0"
  }
 },
 "nbformat": 4,
 "nbformat_minor": 5
}
