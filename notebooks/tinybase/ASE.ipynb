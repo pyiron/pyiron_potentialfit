{
 "cells": [
  {
   "cell_type": "markdown",
   "id": "32de9950-ae26-488d-92af-9784ab1c7598",
   "metadata": {},
   "source": [
    "# Imports"
   ]
  },
  {
   "cell_type": "code",
   "execution_count": 1,
   "id": "f9ecb713-99e6-4f34-b4c2-fe9f3d96c81e",
   "metadata": {},
   "outputs": [],
   "source": [
    "from ase import Atoms"
   ]
  },
  {
   "cell_type": "code",
   "execution_count": 2,
   "id": "31dc7658-dcf0-41a4-9c62-ec92b02e47ea",
   "metadata": {},
   "outputs": [],
   "source": [
    "from ase.build import bulk"
   ]
  },
  {
   "cell_type": "code",
   "execution_count": 3,
   "id": "e7cc88a5-8492-482e-8c6b-c17ff967fff5",
   "metadata": {},
   "outputs": [],
   "source": [
    "from ase.calculators.morse import MorsePotential"
   ]
  },
  {
   "cell_type": "code",
   "execution_count": 9,
   "id": "b3108213-1d94-4354-9537-84982e45683d",
   "metadata": {},
   "outputs": [],
   "source": [
    "from pyiron_contrib.tinybase.ase import AseStaticNode, AseMDNode, AseMinimizeNode"
   ]
  },
  {
   "cell_type": "code",
   "execution_count": 10,
   "id": "0029125a-55e6-4181-a59b-09f606a1b4dd",
   "metadata": {},
   "outputs": [],
   "source": [
    "from pyiron_contrib.tinybase.murn import MurnaghanNode"
   ]
  },
  {
   "cell_type": "code",
   "execution_count": 11,
   "id": "c7c74920-c6b3-4577-a60f-951a0d3276ec",
   "metadata": {},
   "outputs": [],
   "source": [
    "from pyiron_contrib.tinybase.executor import ProcessExecutor, BackgroundExecutor, Executor"
   ]
  },
  {
   "cell_type": "code",
   "execution_count": 12,
   "id": "c6630920-6ab7-4273-883e-999020b1fe5a",
   "metadata": {},
   "outputs": [],
   "source": [
    "import logging\n",
    "logging.getLogger().setLevel(20)"
   ]
  },
  {
   "cell_type": "markdown",
   "id": "4d6f4eab-7660-4e66-b85b-8d9969512c00",
   "metadata": {},
   "source": [
    "# Simple ASE Static Calculation"
   ]
  },
  {
   "cell_type": "code",
   "execution_count": 13,
   "id": "a6af72cb-989b-46c3-a2b5-4d2b9c5fd1eb",
   "metadata": {},
   "outputs": [],
   "source": [
    "a = AseStaticNode()"
   ]
  },
  {
   "cell_type": "code",
   "execution_count": 14,
   "id": "5b2a9d62-3f74-4acf-acb6-e72dcd984704",
   "metadata": {},
   "outputs": [],
   "source": [
    "a.input.structure = bulk(\"Fe\")"
   ]
  },
  {
   "cell_type": "code",
   "execution_count": 15,
   "id": "1af70322-897e-487d-ba18-239ba5bfb7ba",
   "metadata": {},
   "outputs": [],
   "source": [
    "a.input.calculator = MorsePotential()"
   ]
  },
  {
   "cell_type": "code",
   "execution_count": 16,
   "id": "273902ef-03f3-4f68-8668-4e6c6055a302",
   "metadata": {},
   "outputs": [
    {
     "data": {
      "text/plain": [
       "(ReturnStatus(Code.DONE, None),\n",
       " <pyiron_contrib.tinybase.container.EnergyOutput at 0x7fcce94e2e10>)"
      ]
     },
     "execution_count": 16,
     "metadata": {},
     "output_type": "execute_result"
    }
   ],
   "source": [
    "ret, output = a.execute(); ret, output"
   ]
  },
  {
   "cell_type": "code",
   "execution_count": 17,
   "id": "497de0b9-5e11-4d6c-8c19-664d0e759ac4",
   "metadata": {},
   "outputs": [
    {
     "data": {
      "text/plain": [
       "-0.00013307075712109978"
      ]
     },
     "execution_count": 17,
     "metadata": {},
     "output_type": "execute_result"
    }
   ],
   "source": [
    "output.energy_pot"
   ]
  },
  {
   "cell_type": "code",
   "execution_count": 18,
   "id": "57eced2f-6649-4269-b3fa-6061d518f9ee",
   "metadata": {},
   "outputs": [
    {
     "data": {
      "text/plain": [
       "-0.00013307075712109978"
      ]
     },
     "execution_count": 18,
     "metadata": {},
     "output_type": "execute_result"
    }
   ],
   "source": [
    "exe = a.run()\n",
    "exe.output[0].energy_pot"
   ]
  },
  {
   "cell_type": "markdown",
   "id": "8a102a81-df04-4527-8739-7fe542f0c1fc",
   "metadata": {},
   "source": [
    "# ASE MD"
   ]
  },
  {
   "cell_type": "code",
   "execution_count": 54,
   "id": "02cfe01b-0b24-4723-a79b-d41ffb146bf9",
   "metadata": {},
   "outputs": [],
   "source": [
    "md = AseMDNode()"
   ]
  },
  {
   "cell_type": "code",
   "execution_count": 55,
   "id": "466d1f9a-b707-4c05-a8af-5414d76bd8eb",
   "metadata": {},
   "outputs": [],
   "source": [
    "md.input.structure = bulk(\"Fe\", a=1.2, cubic=True).repeat(3)\n",
    "md.input.calculator = MorsePotential()"
   ]
  },
  {
   "cell_type": "code",
   "execution_count": 56,
   "id": "dfdfc027-1608-43ad-9d15-0c649986eb73",
   "metadata": {},
   "outputs": [],
   "source": [
    "md.input.steps = 100\n",
    "md.input.timestep = 3\n",
    "md.input.temperature = 600\n",
    "md.input.output_steps = 20"
   ]
  },
  {
   "cell_type": "code",
   "execution_count": 57,
   "id": "db5c7cfe-b075-483e-8b7e-a58cebf1a782",
   "metadata": {},
   "outputs": [
    {
     "name": "stdout",
     "output_type": "stream",
     "text": [
      "CPU times: user 12.5 ms, sys: 45.2 ms, total: 57.7 ms\n",
      "Wall time: 63.3 ms\n"
     ]
    }
   ],
   "source": [
    "%%time\n",
    "exe = md.run(how='process')"
   ]
  },
  {
   "cell_type": "code",
   "execution_count": 58,
   "id": "80155255-4dcf-48cb-9825-015da13d6ac0",
   "metadata": {},
   "outputs": [],
   "source": [
    "exe.wait()"
   ]
  },
  {
   "cell_type": "code",
   "execution_count": 59,
   "id": "6f7aff4e-9e89-459b-843f-46a4d4139bcf",
   "metadata": {},
   "outputs": [
    {
     "data": {
      "text/plain": [
       "{'status': [ReturnStatus(Code.DONE, None)],\n",
       " 'output': [<pyiron_contrib.tinybase.container.MDOutput at 0x7fcce0f10fd0>]}"
      ]
     },
     "execution_count": 59,
     "metadata": {},
     "output_type": "execute_result"
    }
   ],
   "source": [
    "exe._run_machine._data"
   ]
  },
  {
   "cell_type": "code",
   "execution_count": 60,
   "id": "62ce8439-bf95-4818-b35c-b4e2ef649bd2",
   "metadata": {},
   "outputs": [
    {
     "data": {
      "text/plain": [
       "<Code.FINISHED: 'finished'>"
      ]
     },
     "execution_count": 60,
     "metadata": {},
     "output_type": "execute_result"
    }
   ],
   "source": [
    "exe._run_machine.state"
   ]
  },
  {
   "cell_type": "code",
   "execution_count": 61,
   "id": "5bcd1b68-6a48-4a08-92d4-143419071618",
   "metadata": {},
   "outputs": [
    {
     "data": {
      "text/plain": [
       "15.040622767002787"
      ]
     },
     "execution_count": 61,
     "metadata": {},
     "output_type": "execute_result"
    }
   ],
   "source": [
    "exe._run_time"
   ]
  },
  {
   "cell_type": "code",
   "execution_count": 62,
   "id": "d21371e0-fa36-44bd-b7bf-a0092177ba17",
   "metadata": {},
   "outputs": [
    {
     "data": {
      "text/plain": [
       "3.111499245278537e-05"
      ]
     },
     "execution_count": 62,
     "metadata": {},
     "output_type": "execute_result"
    }
   ],
   "source": [
    "exe._collect_time"
   ]
  },
  {
   "cell_type": "code",
   "execution_count": 63,
   "id": "9e06cd6d-e0f7-40dd-93f2-777f86ffe2eb",
   "metadata": {},
   "outputs": [
    {
     "data": {
      "image/png": "[encoded data removed]",
      "text/plain": [
       "<Figure size 640x480 with 1 Axes>"
      ]
     },
     "metadata": {},
     "output_type": "display_data"
    }
   ],
   "source": [
    "exe.output[0].plot_energies()"
   ]
  },
  {
   "cell_type": "code",
   "execution_count": 64,
   "id": "bb70a653-6231-4f4e-9bbe-279811acc895",
   "metadata": {},
   "outputs": [
    {
     "data": {
      "application/vnd.jupyter.widget-view+json": {
       "model_id": "d702f3bf2990434a85d0792cd2611c5f",
       "version_major": 2,
       "version_minor": 0
      },
      "text/plain": [
       "NGLWidget(max_frame=21)"
      ]
     },
     "metadata": {},
     "output_type": "display_data"
    }
   ],
   "source": [
    "exe.output[0].animate_structures()"
   ]
  },
  {
   "cell_type": "markdown",
   "id": "c7844b5f-1f9b-4770-8608-144c8b84fb87",
   "metadata": {},
   "source": [
    "# ASE Minimize"
   ]
  },
  {
   "cell_type": "code",
   "execution_count": 65,
   "id": "f816e2af-0455-4e05-9c39-2e9f615d8f34",
   "metadata": {},
   "outputs": [],
   "source": [
    "from pyiron_atomistics import ase_to_pyiron"
   ]
  },
  {
   "cell_type": "code",
   "execution_count": 66,
   "id": "22314020-8f48-487b-a765-229a77d79a2f",
   "metadata": {},
   "outputs": [],
   "source": [
    "mi = AseMinimizeNode()"
   ]
  },
  {
   "cell_type": "code",
   "execution_count": 67,
   "id": "ff411a05-82e1-4581-b06e-ab2fd7e0be3b",
   "metadata": {},
   "outputs": [],
   "source": [
    "dimer = Atoms(symbols=['Fe', 'Fe'], positions=[[0,0,0], [0,0, .75]], cell=[10,10,10])"
   ]
  },
  {
   "cell_type": "code",
   "execution_count": 68,
   "id": "5574f0d5-d800-472a-9418-8c6ccc1e555b",
   "metadata": {},
   "outputs": [],
   "source": [
    "mi.input.structure = dimer\n",
    "mi.input.calculator = MorsePotential(rcut1=6,rcut2=10)"
   ]
  },
  {
   "cell_type": "code",
   "execution_count": 69,
   "id": "9e02d6dd-0fa6-4dd6-a7ab-3e648958eb20",
   "metadata": {},
   "outputs": [
    {
     "data": {
      "application/vnd.jupyter.widget-view+json": {
       "model_id": "490fa227a15b47d9bfc0fa37ac79e59c",
       "version_major": 2,
       "version_minor": 0
      },
      "text/plain": [
       "NGLWidget()"
      ]
     },
     "metadata": {},
     "output_type": "display_data"
    }
   ],
   "source": [
    "ase_to_pyiron(mi.input.structure).plot3d()"
   ]
  },
  {
   "cell_type": "code",
   "execution_count": 70,
   "id": "663e4435-1cd0-4ce2-9593-85453f4c846a",
   "metadata": {},
   "outputs": [],
   "source": [
    "mi.input.max_steps = 100\n",
    "mi.input.output_steps = 1\n",
    "mi.input.ionic_force_tolerance = 1e-6"
   ]
  },
  {
   "cell_type": "code",
   "execution_count": 71,
   "id": "37440e5a-75ff-4601-813a-f5c8df9413ad",
   "metadata": {},
   "outputs": [],
   "source": [
    "mi.input.gpmin()"
   ]
  },
  {
   "cell_type": "code",
   "execution_count": 72,
   "id": "a448ec7f-53bc-4d72-a8a7-f9392de9f3d5",
   "metadata": {
    "scrolled": true,
    "tags": []
   },
   "outputs": [
    {
     "name": "stdout",
     "output_type": "stream",
     "text": [
      "       Step     Time          Energy         fmax\n",
      "GPMin:    0 17:12:33       11.122159      187.2462\n",
      "GPMin:    1 17:12:33       -0.278268        1.5338\n",
      "GPMin:    2 17:12:33       -0.996055        0.8010\n",
      "GPMin:    3 17:12:33       -0.000000        0.0000\n",
      "CPU times: user 76.8 ms, sys: 34.4 ms, total: 111 ms\n",
      "Wall time: 61.9 ms\n"
     ]
    }
   ],
   "source": [
    "%%time\n",
    "exe = mi.run(how='foreground')"
   ]
  },
  {
   "cell_type": "code",
   "execution_count": 73,
   "id": "5977dd10-c4cf-40c9-944e-5aa52cfa263d",
   "metadata": {},
   "outputs": [
    {
     "data": {
      "text/plain": [
       "(ReturnStatus(Code.DONE, None),)"
      ]
     },
     "execution_count": 73,
     "metadata": {},
     "output_type": "execute_result"
    }
   ],
   "source": [
    "exe.status"
   ]
  },
  {
   "cell_type": "code",
   "execution_count": 74,
   "id": "dd164778-634c-4785-903a-08a5243999ce",
   "metadata": {},
   "outputs": [
    {
     "data": {
      "text/plain": [
       "2.136147842601888e-07"
      ]
     },
     "execution_count": 74,
     "metadata": {},
     "output_type": "execute_result"
    }
   ],
   "source": [
    "abs(exe.output[0].forces[-1]).max()"
   ]
  },
  {
   "cell_type": "code",
   "execution_count": 75,
   "id": "515ea06d-9026-4d9e-9df0-b9c249f0758a",
   "metadata": {},
   "outputs": [
    {
     "data": {
      "text/plain": [
       "<Code.FINISHED: 'finished'>"
      ]
     },
     "execution_count": 75,
     "metadata": {},
     "output_type": "execute_result"
    }
   ],
   "source": [
    "exe._run_machine.state"
   ]
  },
  {
   "cell_type": "code",
   "execution_count": 76,
   "id": "52b7231f-8978-46ec-b698-ea8724a6fea3",
   "metadata": {},
   "outputs": [
    {
     "data": {
      "text/plain": [
       "0.061767543986206874"
      ]
     },
     "execution_count": 76,
     "metadata": {},
     "output_type": "execute_result"
    }
   ],
   "source": [
    "exe._run_time"
   ]
  },
  {
   "cell_type": "code",
   "execution_count": 77,
   "id": "c845430c-119d-4566-88e1-8465e378fde1",
   "metadata": {},
   "outputs": [
    {
     "data": {
      "text/plain": [
       "1.0585004929453135e-05"
      ]
     },
     "execution_count": 77,
     "metadata": {},
     "output_type": "execute_result"
    }
   ],
   "source": [
    "exe._collect_time"
   ]
  },
  {
   "cell_type": "code",
   "execution_count": 78,
   "id": "35291d7f-33a9-41ab-9b80-f052c5eb2e55",
   "metadata": {},
   "outputs": [
    {
     "data": {
      "image/png": "[encoded data removed]",
      "text/plain": [
       "<Figure size 640x480 with 1 Axes>"
      ]
     },
     "metadata": {},
     "output_type": "display_data"
    }
   ],
   "source": [
    "exe.output[0].plot_energies()"
   ]
  },
  {
   "cell_type": "code",
   "execution_count": 79,
   "id": "1d5b5203-d07f-485b-9553-9150f4a674e7",
   "metadata": {},
   "outputs": [
    {
     "data": {
      "text/plain": [
       "[11.122158782511535,\n",
       " -0.2782678462106827,\n",
       " -0.9960554302957411,\n",
       " -3.560246436024868e-08,\n",
       " -3.560246436024868e-08]"
      ]
     },
     "execution_count": 79,
     "metadata": {},
     "output_type": "execute_result"
    }
   ],
   "source": [
    "exe.output[0].pot_energies"
   ]
  },
  {
   "cell_type": "code",
   "execution_count": 80,
   "id": "d2cc3b3a-5daa-49bb-9d6d-2994ebc74273",
   "metadata": {},
   "outputs": [
    {
     "data": {
      "application/vnd.jupyter.widget-view+json": {
       "model_id": "ae4da31a319e4baca99703ce308889d4",
       "version_major": 2,
       "version_minor": 0
      },
      "text/plain": [
       "NGLWidget(max_frame=4)"
      ]
     },
     "metadata": {},
     "output_type": "display_data"
    }
   ],
   "source": [
    "exe.output[0].animate_structures()"
   ]
  },
  {
   "cell_type": "markdown",
   "id": "32c15731-fd88-40d1-9045-beb9c53de501",
   "metadata": {
    "tags": []
   },
   "source": [
    "# Murnaghan"
   ]
  },
  {
   "cell_type": "markdown",
   "id": "aa535698-ddaa-4d60-862c-d6d6d5ecb6c8",
   "metadata": {},
   "source": [
    "## Basic"
   ]
  },
  {
   "cell_type": "code",
   "execution_count": 81,
   "id": "4acdeafc-90b5-4b3f-9559-c74b9fa221ab",
   "metadata": {},
   "outputs": [],
   "source": [
    "m = MurnaghanNode()"
   ]
  },
  {
   "cell_type": "code",
   "execution_count": 82,
   "id": "f8cf3136-9b7c-4f1e-b630-962795527946",
   "metadata": {},
   "outputs": [],
   "source": [
    "m.input.node = AseStaticNode()\n",
    "m.input.node.input.calculator = MorsePotential()\n",
    "m.input.structure = bulk(\"Fe\", a=1.2)"
   ]
  },
  {
   "cell_type": "code",
   "execution_count": 83,
   "id": "fef21aa4-d9f1-4d4a-8761-af1bc3121e5b",
   "metadata": {},
   "outputs": [
    {
     "data": {
      "text/plain": [
       "<pyiron_contrib.tinybase.ase.AseStaticInput at 0x7fcce03afd90>"
      ]
     },
     "execution_count": 83,
     "metadata": {},
     "output_type": "execute_result"
    }
   ],
   "source": [
    "m.input.node.input"
   ]
  },
  {
   "cell_type": "code",
   "execution_count": 84,
   "id": "41a68b17-c7c4-4a5f-8f04-11bee18fe55a",
   "metadata": {},
   "outputs": [],
   "source": [
    "m.input.set_strain_range(.5, 50)"
   ]
  },
  {
   "cell_type": "code",
   "execution_count": 85,
   "id": "fd107556-99b6-4042-9209-9412b4bbff94",
   "metadata": {},
   "outputs": [
    {
     "data": {
      "text/plain": [
       "array([0.79370053, 0.8043555 , 0.81473542, 0.82485739, 0.83473686,\n",
       "       0.84438786, 0.85382314, 0.86305437, 0.87209225, 0.88094658,\n",
       "       0.88962642, 0.89814011, 0.90649538, 0.9146994 , 0.92275884,\n",
       "       0.93067991, 0.93846839, 0.94612969, 0.95366889, 0.96109074,\n",
       "       0.96839969, 0.97559996, 0.98269548, 0.98968999, 0.996587  ,\n",
       "       1.00338986, 1.01010169, 1.0167255 , 1.02326411, 1.0297202 ,\n",
       "       1.03609634, 1.04239496, 1.04861836, 1.05476875, 1.06084824,\n",
       "       1.06685884, 1.07280247, 1.07868096, 1.08449606, 1.09024946,\n",
       "       1.09594278, 1.10157754, 1.10715524, 1.11267731, 1.1181451 ,\n",
       "       1.12355993, 1.12892306, 1.13423572, 1.13949907, 1.14471424])"
      ]
     },
     "execution_count": 85,
     "metadata": {},
     "output_type": "execute_result"
    }
   ],
   "source": [
    "m.input.strains"
   ]
  },
  {
   "cell_type": "code",
   "execution_count": 86,
   "id": "0715614a-7284-4388-ac6b-c97bfedf7184",
   "metadata": {},
   "outputs": [
    {
     "data": {
      "text/plain": [
       "True"
      ]
     },
     "execution_count": 86,
     "metadata": {},
     "output_type": "execute_result"
    }
   ],
   "source": [
    "m.input.check_ready()"
   ]
  },
  {
   "cell_type": "code",
   "execution_count": 87,
   "id": "c2aa3093-1ea8-4099-bc14-be0c06e9d34b",
   "metadata": {
    "scrolled": true,
    "tags": []
   },
   "outputs": [],
   "source": [
    "exe = m.run(how='foreground')"
   ]
  },
  {
   "cell_type": "code",
   "execution_count": 88,
   "id": "be97853a-f182-4b4f-af74-7fd5a4fbd850",
   "metadata": {},
   "outputs": [
    {
     "data": {
      "text/plain": [
       "(ReturnStatus(Code.DONE, None),)"
      ]
     },
     "execution_count": 88,
     "metadata": {},
     "output_type": "execute_result"
    }
   ],
   "source": [
    "exe.status"
   ]
  },
  {
   "cell_type": "code",
   "execution_count": 89,
   "id": "47f916ef-b140-49c5-adf1-93dca91b4540",
   "metadata": {},
   "outputs": [
    {
     "data": {
      "image/png": "[encoded data removed]",
      "text/plain": [
       "<Figure size 640x480 with 1 Axes>"
      ]
     },
     "metadata": {},
     "output_type": "display_data"
    }
   ],
   "source": [
    "exe.output[0].plot()"
   ]
  },
  {
   "cell_type": "code",
   "execution_count": 90,
   "id": "14162f5b-1318-4595-8c8c-d6346a21721d",
   "metadata": {},
   "outputs": [
    {
     "data": {
      "text/plain": [
       "0.6788586373205143"
      ]
     },
     "execution_count": 90,
     "metadata": {},
     "output_type": "execute_result"
    }
   ],
   "source": [
    "exe.output[0].equilibrium_volume"
   ]
  },
  {
   "cell_type": "code",
   "execution_count": 91,
   "id": "0f5ff296-df33-40d2-851b-02d6ded72dd6",
   "metadata": {},
   "outputs": [
    {
     "data": {
      "text/plain": [
       "0.6788586373205143"
      ]
     },
     "execution_count": 91,
     "metadata": {},
     "output_type": "execute_result"
    }
   ],
   "source": [
    "exe.output[0].get_structure().get_volume()"
   ]
  },
  {
   "cell_type": "code",
   "execution_count": 92,
   "id": "92b06330-b1fc-41d0-8bd8-bf1b11bf448c",
   "metadata": {},
   "outputs": [
    {
     "data": {
      "text/plain": [
       "Atoms(symbols='Fe', pbc=True, cell=[[-0.5536557129291797, 0.5536557129291797, 0.5536557129291797], [0.5536557129291797, -0.5536557129291797, 0.5536557129291797], [0.5536557129291797, 0.5536557129291797, -0.5536557129291797]])"
      ]
     },
     "execution_count": 92,
     "metadata": {},
     "output_type": "execute_result"
    }
   ],
   "source": [
    "exe.output[0].get_structure()"
   ]
  },
  {
   "cell_type": "markdown",
   "id": "26bade63-559f-4c93-be24-5561f5c8190f",
   "metadata": {},
   "source": [
    "## Again but execute children as background processes, but keep the node itself blocking"
   ]
  },
  {
   "cell_type": "code",
   "execution_count": 93,
   "id": "89169376-be36-4ceb-9f4e-6e1f3247bc62",
   "metadata": {},
   "outputs": [],
   "source": [
    "m = MurnaghanNode()"
   ]
  },
  {
   "cell_type": "code",
   "execution_count": 94,
   "id": "2ee9f1d4-5b14-4340-98d4-4bd293af89a4",
   "metadata": {},
   "outputs": [],
   "source": [
    "m.input.node = AseStaticNode()\n",
    "m.input.node.input.calculator = MorsePotential()\n",
    "m.input.structure = bulk(\"Fe\", a=1.2)"
   ]
  },
  {
   "cell_type": "code",
   "execution_count": 95,
   "id": "3d73a9de-7b4e-476a-b50a-ac6a3957a7ab",
   "metadata": {},
   "outputs": [
    {
     "data": {
      "text/plain": [
       "<pyiron_contrib.tinybase.ase.AseStaticInput at 0x7fcce01a8c10>"
      ]
     },
     "execution_count": 95,
     "metadata": {},
     "output_type": "execute_result"
    }
   ],
   "source": [
    "m.input.node.input"
   ]
  },
  {
   "cell_type": "code",
   "execution_count": 96,
   "id": "0f075d90-e636-49be-b1a6-741a56363f54",
   "metadata": {},
   "outputs": [],
   "source": [
    "m.input.set_strain_range(.6, 1000)"
   ]
  },
  {
   "cell_type": "code",
   "execution_count": null,
   "id": "2b2f703c-745b-49f9-a81f-a780248e9cd3",
   "metadata": {},
   "outputs": [],
   "source": []
  },
  {
   "cell_type": "code",
   "execution_count": 97,
   "id": "58064e52-1c94-49fd-b38f-614cf6f19004",
   "metadata": {},
   "outputs": [],
   "source": [
    "m.input.child_executor = ProcessExecutor"
   ]
  },
  {
   "cell_type": "code",
   "execution_count": 98,
   "id": "d82a28ab-1a96-4a3a-8f79-5a875ac20788",
   "metadata": {
    "scrolled": true,
    "tags": []
   },
   "outputs": [],
   "source": [
    "exe = m.run(how='foreground')"
   ]
  },
  {
   "cell_type": "code",
   "execution_count": 99,
   "id": "5472daed-f25c-4aab-b101-90c76a0235a5",
   "metadata": {
    "scrolled": true,
    "tags": []
   },
   "outputs": [
    {
     "data": {
      "text/plain": [
       "<Code.FINISHED: 'finished'>"
      ]
     },
     "execution_count": 99,
     "metadata": {},
     "output_type": "execute_result"
    }
   ],
   "source": [
    "exe._run_machine.state"
   ]
  },
  {
   "cell_type": "code",
   "execution_count": 100,
   "id": "a42865c9-8616-4335-8e46-ec4839daab0a",
   "metadata": {},
   "outputs": [
    {
     "data": {
      "text/plain": [
       "30.503913552995073"
      ]
     },
     "execution_count": 100,
     "metadata": {},
     "output_type": "execute_result"
    }
   ],
   "source": [
    "exe._run_time"
   ]
  },
  {
   "cell_type": "code",
   "execution_count": 101,
   "id": "d894a79f-a9e6-4667-9a9b-2bd9a088622f",
   "metadata": {},
   "outputs": [
    {
     "data": {
      "text/plain": [
       "2.4366017896682024e-05"
      ]
     },
     "execution_count": 101,
     "metadata": {},
     "output_type": "execute_result"
    }
   ],
   "source": [
    "exe._collect_time"
   ]
  },
  {
   "cell_type": "code",
   "execution_count": 102,
   "id": "78017969-23fc-46f5-b99f-cd1d2dc74c00",
   "metadata": {},
   "outputs": [
    {
     "data": {
      "image/png": "[encoded data removed]",
      "text/plain": [
       "<Figure size 640x480 with 1 Axes>"
      ]
     },
     "metadata": {},
     "output_type": "display_data"
    }
   ],
   "source": [
    "exe.output[0].plot()"
   ]
  },
  {
   "cell_type": "code",
   "execution_count": 103,
   "id": "45162eb2-b23d-45c6-8aad-dfe9a6a484d1",
   "metadata": {},
   "outputs": [
    {
     "data": {
      "text/plain": [
       "0.6818586500998999"
      ]
     },
     "execution_count": 103,
     "metadata": {},
     "output_type": "execute_result"
    }
   ],
   "source": [
    "exe.output[0].get_structure().get_volume()"
   ]
  },
  {
   "cell_type": "code",
   "execution_count": 104,
   "id": "f0bcfe59-2168-4e74-9d7a-33d900368907",
   "metadata": {},
   "outputs": [
    {
     "data": {
      "text/plain": [
       "0.6818586500999"
      ]
     },
     "execution_count": 104,
     "metadata": {},
     "output_type": "execute_result"
    }
   ],
   "source": [
    "exe.output[0].equilibrium_volume"
   ]
  },
  {
   "cell_type": "markdown",
   "id": "36b17048-3941-4d86-bd2a-e131371f4bad",
   "metadata": {},
   "source": [
    "## Again but execute everything in the background."
   ]
  },
  {
   "cell_type": "code",
   "execution_count": 105,
   "id": "10f6c113-1e35-48f0-8878-291129bd8a60",
   "metadata": {},
   "outputs": [],
   "source": [
    "m = MurnaghanNode()"
   ]
  },
  {
   "cell_type": "code",
   "execution_count": 106,
   "id": "70832c31-040e-49be-b0f7-172f930cf31b",
   "metadata": {},
   "outputs": [],
   "source": [
    "m.input.node = AseStaticNode()\n",
    "m.input.node.input.calculator = MorsePotential()\n",
    "m.input.structure = bulk(\"Fe\", a=1.2)"
   ]
  },
  {
   "cell_type": "code",
   "execution_count": 107,
   "id": "94f4c51d-b69b-4477-a9db-d0ee7627cee6",
   "metadata": {},
   "outputs": [
    {
     "data": {
      "text/plain": [
       "<pyiron_contrib.tinybase.ase.AseStaticInput at 0x7fccda582810>"
      ]
     },
     "execution_count": 107,
     "metadata": {},
     "output_type": "execute_result"
    }
   ],
   "source": [
    "m.input.node.input"
   ]
  },
  {
   "cell_type": "code",
   "execution_count": 108,
   "id": "9a000824-0a9e-4395-8e07-00e484bc7937",
   "metadata": {},
   "outputs": [],
   "source": [
    "m.input.set_strain_range(.7, 100)"
   ]
  },
  {
   "cell_type": "markdown",
   "id": "82c9d3a2-d93c-41aa-a1af-52bfab8cd8df",
   "metadata": {},
   "source": [
    "Use the threading backend just to show off."
   ]
  },
  {
   "cell_type": "code",
   "execution_count": 109,
   "id": "ca50857c-1c2f-4fad-a58c-16b399b8721d",
   "metadata": {},
   "outputs": [],
   "source": [
    "from pyiron_contrib.tinybase.executor import BackgroundExecutor\n",
    "\n",
    "m.input.child_executor = BackgroundExecutor"
   ]
  },
  {
   "cell_type": "code",
   "execution_count": 110,
   "id": "12f20f5c-27a3-4533-ad19-8ec06e1c8a90",
   "metadata": {
    "scrolled": true,
    "tags": []
   },
   "outputs": [],
   "source": [
    "exe = m.run(how='background')"
   ]
  },
  {
   "cell_type": "code",
   "execution_count": 111,
   "id": "2c5d8bea-49ec-4004-8a54-3ded7a3f413d",
   "metadata": {},
   "outputs": [],
   "source": [
    "exe.wait()"
   ]
  },
  {
   "cell_type": "code",
   "execution_count": 112,
   "id": "ea7bcb58-0890-487e-bef5-bd3cb36143c1",
   "metadata": {},
   "outputs": [
    {
     "data": {
      "text/plain": [
       "<Code.FINISHED: 'finished'>"
      ]
     },
     "execution_count": 112,
     "metadata": {},
     "output_type": "execute_result"
    }
   ],
   "source": [
    "exe._run_machine.state"
   ]
  },
  {
   "cell_type": "code",
   "execution_count": 113,
   "id": "0b7c2912-6847-4262-a62d-7233ca398643",
   "metadata": {},
   "outputs": [
    {
     "data": {
      "text/plain": [
       "13.346773353026947"
      ]
     },
     "execution_count": 113,
     "metadata": {},
     "output_type": "execute_result"
    }
   ],
   "source": [
    "exe._run_time"
   ]
  },
  {
   "cell_type": "code",
   "execution_count": 114,
   "id": "fd5ca921-2062-4f85-b014-382561e9893a",
   "metadata": {},
   "outputs": [
    {
     "data": {
      "text/plain": [
       "1.0522984666749835e-05"
      ]
     },
     "execution_count": 114,
     "metadata": {},
     "output_type": "execute_result"
    }
   ],
   "source": [
    "exe._collect_time"
   ]
  },
  {
   "cell_type": "code",
   "execution_count": 115,
   "id": "4d1223f7-2d72-413e-b20b-cf42781780bb",
   "metadata": {},
   "outputs": [
    {
     "data": {
      "image/png": "[encoded data removed]",
      "text/plain": [
       "<Figure size 640x480 with 1 Axes>"
      ]
     },
     "metadata": {},
     "output_type": "display_data"
    }
   ],
   "source": [
    "exe.output[0].plot()"
   ]
  },
  {
   "cell_type": "markdown",
   "id": "e21f6582-e7ec-43be-80ec-e9ad53aabc43",
   "metadata": {},
   "source": [
    "# Combine Minimize and Murnaghan"
   ]
  },
  {
   "cell_type": "code",
   "execution_count": null,
   "id": "149c52b5-a0ce-4e6b-ba55-d94d33aa2f8a",
   "metadata": {},
   "outputs": [],
   "source": [
    "m = MurnaghanNode()"
   ]
  },
  {
   "cell_type": "code",
   "execution_count": null,
   "id": "aca24005-ea49-4389-bc26-f292fd0a75a2",
   "metadata": {},
   "outputs": [],
   "source": [
    "m.input.node = AseMinimizeNode()\n",
    "m.input.node.input.calculator = MorsePotential()\n",
    "m.input.node.input.max_steps = 100\n",
    "m.input.node.input.output_steps = 10\n",
    "m.input.node.input.ionic_force_tolerance = 1e-6\n",
    "m.input.node.input.lbfgs()\n",
    "\n",
    "m.input.structure = bulk(\"Fe\", a=1.2)"
   ]
  },
  {
   "cell_type": "code",
   "execution_count": null,
   "id": "4ae990bd-af18-4dae-8500-779c9509f3f6",
   "metadata": {},
   "outputs": [],
   "source": [
    "m.input.set_strain_range(.5, 500)"
   ]
  },
  {
   "cell_type": "code",
   "execution_count": null,
   "id": "fa62529f-45e6-4e2d-822d-b1cc433a7223",
   "metadata": {},
   "outputs": [],
   "source": [
    "m.input.child_executor = ProcessExecutor"
   ]
  },
  {
   "cell_type": "code",
   "execution_count": null,
   "id": "0925864e-4dd1-4f4e-ace4-aac09c55e787",
   "metadata": {
    "scrolled": true,
    "tags": []
   },
   "outputs": [],
   "source": [
    "exe = m.run()"
   ]
  },
  {
   "cell_type": "code",
   "execution_count": null,
   "id": "a3069fe3-93bf-4c83-93e7-6d0ac56d8248",
   "metadata": {},
   "outputs": [],
   "source": [
    "exe._run_machine.state"
   ]
  },
  {
   "cell_type": "code",
   "execution_count": null,
   "id": "71bbb913-7d7a-4bb6-b775-3fbc8e7e1f35",
   "metadata": {},
   "outputs": [],
   "source": [
    "exe.status"
   ]
  },
  {
   "cell_type": "code",
   "execution_count": null,
   "id": "4bf2df15-31dc-474c-b3df-f7c32b0fdaf2",
   "metadata": {},
   "outputs": [],
   "source": [
    "exe.output[0].energies[:10]"
   ]
  },
  {
   "cell_type": "code",
   "execution_count": null,
   "id": "eb0a2daf-9dab-4174-bfee-0cd1ef8c474e",
   "metadata": {},
   "outputs": [],
   "source": [
    "exe.output[0].plot()"
   ]
  }
 ],
 "metadata": {
  "kernelspec": {
   "display_name": "Python 3 (ipykernel)",
   "language": "python",
   "name": "python3"
  },
  "language_info": {
   "codemirror_mode": {
    "name": "ipython",
    "version": 3
   },
   "file_extension": ".py",
   "mimetype": "text/x-python",
   "name": "python",
   "nbconvert_exporter": "python",
   "pygments_lexer": "ipython3",
   "version": "3.11.0"
  },
  "widgets": {
   "application/vnd.jupyter.widget-state+json": {
    "state": {
     "07a1f180db7d4aa8affe9f48c66281a6": {
      "model_module": "@jupyter-widgets/controls",
      "model_module_version": "1.5.0",
      "model_name": "ButtonModel",
      "state": {
       "icon": "compress",
       "layout": "IPY_MODEL_e13a786ff807427fae43a5cfed219975",
       "style": "IPY_MODEL_be2fba7fd3ff4b849be3f65d03ba13dc"
      }
     },
     "0bf198140cba45c0a145a68988e41219": {
      "model_module": "@jupyter-widgets/controls",
      "model_module_version": "1.5.0",
      "model_name": "LinkModel",
      "state": {
       "source": [
        "IPY_MODEL_36cfccf761b44baca72c5d53cf6cfc0a",
        "max"
       ],
       "target": [
        "IPY_MODEL_ae4da31a319e4baca99703ce308889d4",
        "max_frame"
       ]
      }
     },
     "102b613a9c2a4eab96aeaf1a469ae6bb": {
      "model_module": "@jupyter-widgets/base",
      "model_module_version": "1.2.0",
      "model_name": "LayoutModel",
      "state": {}
     },
     "176bb87615954634a7e91fc73bf93128": {
      "model_module": "@jupyter-widgets/controls",
      "model_module_version": "1.5.0",
      "model_name": "SliderStyleModel",
      "state": {
       "description_width": ""
      }
     },
     "17eef0435ab640e2aef097257a8b9899": {
      "model_module": "@jupyter-widgets/controls",
      "model_module_version": "1.5.0",
      "model_name": "ImageModel",
      "state": {
       "layout": "IPY_MODEL_cdfea586c0fb4e44b9313a9e8cfbf525",
       "width": "900.0"
      }
     },
     "18d0f24252dc44278939495d450dfd86": {
      "model_module": "@jupyter-widgets/controls",
      "model_module_version": "1.5.0",
      "model_name": "ImageModel",
      "state": {
       "layout": "IPY_MODEL_24a18c81c2e04c21875e583889c838cc",
       "width": "900.0"
      }
     },
     "1afea03bd47043fa9669604183c600f3": {
      "model_module": "@jupyter-widgets/controls",
      "model_module_version": "1.5.0",
      "model_name": "ButtonStyleModel",
      "state": {}
     },
     "1d8983f2ad514ab990ac8a9c8ec9d8ed": {
      "model_module": "@jupyter-widgets/controls",
      "model_module_version": "1.5.0",
      "model_name": "DescriptionStyleModel",
      "state": {
       "description_width": ""
      }
     },
     "2131495c39cd4e688fb5ab9367bcc3d2": {
      "model_module": "@jupyter-widgets/controls",
      "model_module_version": "1.5.0",
      "model_name": "IntSliderModel",
      "state": {
       "layout": "IPY_MODEL_bdb15f0c4925488785b36853f2a507c4",
       "max": 21,
       "style": "IPY_MODEL_48ea0d9bc5d24e15997d34ae1f94b612"
      }
     },
     "232edc1031014bb48162c281fb240759": {
      "model_module": "@jupyter-widgets/base",
      "model_module_version": "1.2.0",
      "model_name": "LayoutModel",
      "state": {}
     },
     "24a18c81c2e04c21875e583889c838cc": {
      "model_module": "@jupyter-widgets/base",
      "model_module_version": "1.2.0",
      "model_name": "LayoutModel",
      "state": {}
     },
     "2aeb102499514aeeaa3ac02b9e7ae04b": {
      "model_module": "@jupyter-widgets/controls",
      "model_module_version": "1.5.0",
      "model_name": "ButtonModel",
      "state": {
       "icon": "compress",
       "layout": "IPY_MODEL_5c4b36124793443cad1938479a0b26b4",
       "style": "IPY_MODEL_1afea03bd47043fa9669604183c600f3"
      }
     },
     "31de7259a7fb47dda852aa5690daff26": {
      "model_module": "@jupyter-widgets/controls",
      "model_module_version": "1.5.0",
      "model_name": "LinkModel",
      "state": {
       "source": [
        "IPY_MODEL_4d1e30940a9f4d39ad539132bb9e3a97",
        "value"
       ],
       "target": [
        "IPY_MODEL_577bee1eabef4c21b01870d31b31b844",
        "value"
       ]
      }
     },
     "36cfccf761b44baca72c5d53cf6cfc0a": {
      "model_module": "@jupyter-widgets/controls",
      "model_module_version": "1.5.0",
      "model_name": "PlayModel",
      "state": {
       "layout": "IPY_MODEL_d2bc4378320e47da9447235f5ba8c172",
       "max": 4,
       "style": "IPY_MODEL_bb0156e2570c453fab53e820ff281a50"
      }
     },
     "38329f9971164ed8acc6f05286ec0b87": {
      "model_module": "nglview-js-widgets",
      "model_module_version": "3.0.1",
      "model_name": "ColormakerRegistryModel",
      "state": {
       "_msg_ar": [],
       "_msg_q": [],
       "_ready": false,
       "layout": "IPY_MODEL_99b7a7163688495ca026df2229a46c1d"
      }
     },
     "40fe843dee8545819f229f799259f716": {
      "model_module": "@jupyter-widgets/controls",
      "model_module_version": "1.5.0",
      "model_name": "PlayModel",
      "state": {
       "layout": "IPY_MODEL_7060f26e34204b15ac60179586b326c6",
       "max": 21,
       "style": "IPY_MODEL_1d8983f2ad514ab990ac8a9c8ec9d8ed"
      }
     },
     "44791309f79943f08eeb4bdd781d7c16": {
      "model_module": "@jupyter-widgets/controls",
      "model_module_version": "1.5.0",
      "model_name": "LinkModel",
      "state": {
       "source": [
        "IPY_MODEL_4d1e30940a9f4d39ad539132bb9e3a97",
        "value"
       ],
       "target": [
        "IPY_MODEL_490fa227a15b47d9bfc0fa37ac79e59c",
        "frame"
       ]
      }
     },
     "48ea0d9bc5d24e15997d34ae1f94b612": {
      "model_module": "@jupyter-widgets/controls",
      "model_module_version": "1.5.0",
      "model_name": "SliderStyleModel",
      "state": {
       "description_width": ""
      }
     },
     "490fa227a15b47d9bfc0fa37ac79e59c": {
      "model_module": "nglview-js-widgets",
      "model_module_version": "3.0.1",
      "model_name": "NGLModel",
      "state": {
       "_camera_orientation": [
        14,
        0,
        0,
        0,
        0,
        14,
        0,
        0,
        0,
        0,
        14,
        0,
        0,
        0,
        0,
        1
       ],
       "_camera_str": "orthographic",
       "_gui_theme": null,
       "_ibtn_fullscreen": "IPY_MODEL_07a1f180db7d4aa8affe9f48c66281a6",
       "_igui": null,
       "_iplayer": "IPY_MODEL_b7fbffee80154c97bedfd8966a43bfc0",
       "_ngl_color_dict": {},
       "_ngl_coordinate_resource": {},
       "_ngl_full_stage_parameters": {
        "ambientColor": 14540253,
        "ambientIntensity": 0.2,
        "backgroundColor": "white",
        "cameraEyeSep": 0.3,
        "cameraFov": 40,
        "cameraType": "orthographic",
        "clipDist": 10,
        "clipFar": 100,
        "clipNear": 0,
        "fogFar": 100,
        "fogNear": 50,
        "hoverTimeout": 0,
        "impostor": true,
        "lightColor": 14540253,
        "lightIntensity": 1,
        "mousePreset": "default",
        "panSpeed": 1,
        "quality": "medium",
        "rotateSpeed": 2,
        "sampleLevel": 0,
        "tooltip": true,
        "workerDefault": true,
        "zoomSpeed": 1.2
       },
       "_ngl_msg_archive": [
        {
         "args": [
          {
           "binary": false,
           "data": "CRYST1   10.000   10.000   10.000  90.00  90.00  90.00 P 1\nMODEL     1\nATOM      0   Fe   Fe     0      0.000   0.000   0.000  1.00  0.00          Fe \nATOM      1   Fe   Fe     1      0.000   0.000   0.750  1.00  0.00          Fe \nENDMDL \n",
           "type": "blob"
          }
         ],
         "kwargs": {
          "defaultRepresentation": true,
          "ext": "pdb"
         },
         "methodName": "loadFile",
         "reconstruc_color_scheme": false,
         "target": "Stage",
         "type": "call_method"
        },
        {
         "args": [
          "spacefill"
         ],
         "component_index": 0,
         "kwargs": {
          "colorScheme": "element",
          "radius": 0.7099019513592786,
          "radiusType": "vdw",
          "sele": "#Fe"
         },
         "methodName": "addRepresentation",
         "reconstruc_color_scheme": false,
         "target": "compList",
         "type": "call_method"
        },
        {
         "args": [
          "ball+stick",
          0
         ],
         "kwargs": {},
         "methodName": "removeRepresentationsByName",
         "reconstruc_color_scheme": false,
         "target": "Widget",
         "type": "call_method"
        },
        {
         "args": [
          "unitcell"
         ],
         "component_index": 0,
         "kwargs": {
          "sele": "all"
         },
         "methodName": "addRepresentation",
         "reconstruc_color_scheme": false,
         "target": "compList",
         "type": "call_method"
        },
        {
         "args": [
          "shape",
          [
           [
            "arrow",
            [
             -1,
             -1,
             -1
            ],
            [
             0,
             -1,
             -1
            ],
            [
             1,
             0,
             0
            ],
            0.1
           ]
          ]
         ],
         "fire_embed": true,
         "kwargs": {},
         "methodName": "addShape",
         "reconstruc_color_scheme": false,
         "target": "Widget",
         "type": "call_method"
        },
        {
         "args": [
          "shape",
          [
           [
            "text",
            [
             0,
             -1,
             -1
            ],
            [
             0,
             0,
             0
            ],
            1,
            "x"
           ]
          ]
         ],
         "fire_embed": true,
         "kwargs": {},
         "methodName": "addShape",
         "reconstruc_color_scheme": false,
         "target": "Widget",
         "type": "call_method"
        },
        {
         "args": [
          "shape",
          [
           [
            "arrow",
            [
             -1,
             -1,
             -1
            ],
            [
             -1,
             0,
             -1
            ],
            [
             0,
             1,
             0
            ],
            0.1
           ]
          ]
         ],
         "fire_embed": true,
         "kwargs": {},
         "methodName": "addShape",
         "reconstruc_color_scheme": false,
         "target": "Widget",
         "type": "call_method"
        },
        {
         "args": [
          "shape",
          [
           [
            "text",
            [
             -1,
             0,
             -1
            ],
            [
             0,
             0,
             0
            ],
            1,
            "y"
           ]
          ]
         ],
         "fire_embed": true,
         "kwargs": {},
         "methodName": "addShape",
         "reconstruc_color_scheme": false,
         "target": "Widget",
         "type": "call_method"
        },
        {
         "args": [
          "shape",
          [
           [
            "arrow",
            [
             -1,
             -1,
             -1
            ],
            [
             -1,
             -1,
             0
            ],
            [
             0,
             0,
             1
            ],
            0.1
           ]
          ]
         ],
         "fire_embed": true,
         "kwargs": {},
         "methodName": "addShape",
         "reconstruc_color_scheme": false,
         "target": "Widget",
         "type": "call_method"
        },
        {
         "args": [
          "shape",
          [
           [
            "text",
            [
             -1,
             -1,
             0
            ],
            [
             0,
             0,
             0
            ],
            1,
            "z"
           ]
          ]
         ],
         "fire_embed": true,
         "kwargs": {},
         "methodName": "addShape",
         "reconstruc_color_scheme": false,
         "target": "Widget",
         "type": "call_method"
        },
        {
         "args": [],
         "kwargs": {
          "cameraType": "orthographic"
         },
         "methodName": "setParameters",
         "reconstruc_color_scheme": false,
         "target": "Stage",
         "type": "call_method"
        },
        {
         "args": [
          [
           14,
           0,
           0,
           0,
           0,
           14,
           0,
           0,
           0,
           0,
           14,
           0,
           0,
           0,
           0,
           14
          ]
         ],
         "kwargs": {},
         "methodName": "orient",
         "reconstruc_color_scheme": false,
         "target": "viewerControls",
         "type": "call_method"
        }
       ],
       "_ngl_original_stage_parameters": {
        "ambientColor": 14540253,
        "ambientIntensity": 0.2,
        "backgroundColor": "white",
        "cameraEyeSep": 0.3,
        "cameraFov": 40,
        "cameraType": "perspective",
        "clipDist": 10,
        "clipFar": 100,
        "clipNear": 0,
        "fogFar": 100,
        "fogNear": 50,
        "hoverTimeout": 0,
        "impostor": true,
        "lightColor": 14540253,
        "lightIntensity": 1,
        "mousePreset": "default",
        "panSpeed": 1,
        "quality": "medium",
        "rotateSpeed": 2,
        "sampleLevel": 0,
        "tooltip": true,
        "workerDefault": true,
        "zoomSpeed": 1.2
       },
       "_ngl_repr_dict": {
        "0": {
         "0": {
          "params": {
           "assembly": "default",
           "clipCenter": {
            "x": 0,
            "y": 0,
            "z": 0
           },
           "clipNear": 0,
           "clipRadius": 0,
           "colorMode": "hcl",
           "colorReverse": false,
           "colorScale": "",
           "colorScheme": "element",
           "colorValue": 9474192,
           "defaultAssembly": "",
           "depthWrite": true,
           "diffuse": 16777215,
           "diffuseInterior": false,
           "disableImpostor": false,
           "disablePicking": false,
           "flatShaded": false,
           "interiorColor": 2236962,
           "interiorDarkening": 0,
           "lazy": false,
           "matrix": {
            "elements": [
             1,
             0,
             0,
             0,
             0,
             1,
             0,
             0,
             0,
             0,
             1,
             0,
             0,
             0,
             0,
             1
            ]
           },
           "metalness": 0,
           "opacity": 1,
           "quality": "medium",
           "radiusData": {},
           "radiusScale": 1,
           "radiusSize": 0.7099019513592786,
           "radiusType": "size",
           "roughness": 0.4,
           "sele": "#Fe",
           "side": "double",
           "sphereDetail": 1,
           "useInteriorColor": true,
           "visible": true,
           "wireframe": false
          },
          "type": "spacefill"
         },
         "1": {
          "params": {
           "clipCenter": {
            "x": 0,
            "y": 0,
            "z": 0
           },
           "clipNear": 0,
           "clipRadius": 0,
           "colorMode": "hcl",
           "colorReverse": false,
           "colorScale": "",
           "colorScheme": "element",
           "colorValue": "orange",
           "defaultAssembly": "",
           "depthWrite": true,
           "diffuse": 16777215,
           "diffuseInterior": false,
           "disableImpostor": false,
           "disablePicking": false,
           "flatShaded": false,
           "interiorColor": 2236962,
           "interiorDarkening": 0,
           "lazy": false,
           "matrix": {
            "elements": [
             1,
             0,
             0,
             0,
             0,
             1,
             0,
             0,
             0,
             0,
             1,
             0,
             0,
             0,
             0,
             1
            ]
           },
           "metalness": 0,
           "opacity": 1,
           "quality": "medium",
           "radialSegments": 10,
           "radiusData": {},
           "radiusScale": 1,
           "radiusSize": 0.049999997805194256,
           "radiusType": "vdw",
           "roughness": 0.4,
           "sele": "all",
           "side": "double",
           "sphereDetail": 1,
           "useInteriorColor": true,
           "visible": true,
           "wireframe": false
          },
          "type": "unitcell"
         }
        },
        "1": {
         "0": {
          "params": {
           "clipCenter": {
            "x": 0,
            "y": 0,
            "z": 0
           },
           "clipNear": 0,
           "clipRadius": 0,
           "colorReverse": false,
           "depthWrite": true,
           "diffuse": 16777215,
           "diffuseInterior": false,
           "disablePicking": false,
           "flatShaded": false,
           "interiorColor": 2236962,
           "interiorDarkening": 0,
           "lazy": false,
           "matrix": {
            "elements": [
             1,
             0,
             0,
             0,
             0,
             1,
             0,
             0,
             0,
             0,
             1,
             0,
             0,
             0,
             0,
             1
            ]
           },
           "metalness": 0,
           "opacity": 1,
           "quality": "medium",
           "roughness": 0.4,
           "side": "double",
           "useInteriorColor": false,
           "visible": true,
           "wireframe": false
          },
          "type": "buffer"
         }
        },
        "2": {
         "0": {
          "params": {
           "clipCenter": {
            "x": 0,
            "y": 0,
            "z": 0
           },
           "clipNear": 0,
           "clipRadius": 0,
           "colorReverse": false,
           "depthWrite": true,
           "diffuse": 16777215,
           "diffuseInterior": false,
           "disablePicking": false,
           "flatShaded": false,
           "interiorColor": 2236962,
           "interiorDarkening": 0,
           "lazy": false,
           "matrix": {
            "elements": [
             1,
             0,
             0,
             0,
             0,
             1,
             0,
             0,
             0,
             0,
             1,
             0,
             0,
             0,
             0,
             1
            ]
           },
           "metalness": 0,
           "opacity": 1,
           "quality": "medium",
           "roughness": 0.4,
           "side": "double",
           "useInteriorColor": false,
           "visible": true,
           "wireframe": false
          },
          "type": "buffer"
         }
        },
        "3": {
         "0": {
          "params": {
           "clipCenter": {
            "x": 0,
            "y": 0,
            "z": 0
           },
           "clipNear": 0,
           "clipRadius": 0,
           "colorReverse": false,
           "depthWrite": true,
           "diffuse": 16777215,
           "diffuseInterior": false,
           "disablePicking": false,
           "flatShaded": false,
           "interiorColor": 2236962,
           "interiorDarkening": 0,
           "lazy": false,
           "matrix": {
            "elements": [
             1,
             0,
             0,
             0,
             0,
             1,
             0,
             0,
             0,
             0,
             1,
             0,
             0,
             0,
             0,
             1
            ]
           },
           "metalness": 0,
           "opacity": 1,
           "quality": "medium",
           "roughness": 0.4,
           "side": "double",
           "useInteriorColor": false,
           "visible": true,
           "wireframe": false
          },
          "type": "buffer"
         }
        },
        "4": {
         "0": {
          "params": {
           "clipCenter": {
            "x": 0,
            "y": 0,
            "z": 0
           },
           "clipNear": 0,
           "clipRadius": 0,
           "colorReverse": false,
           "depthWrite": true,
           "diffuse": 16777215,
           "diffuseInterior": false,
           "disablePicking": false,
           "flatShaded": false,
           "interiorColor": 2236962,
           "interiorDarkening": 0,
           "lazy": false,
           "matrix": {
            "elements": [
             1,
             0,
             0,
             0,
             0,
             1,
             0,
             0,
             0,
             0,
             1,
             0,
             0,
             0,
             0,
             1
            ]
           },
           "metalness": 0,
           "opacity": 1,
           "quality": "medium",
           "roughness": 0.4,
           "side": "double",
           "useInteriorColor": false,
           "visible": true,
           "wireframe": false
          },
          "type": "buffer"
         }
        },
        "5": {
         "0": {
          "params": {
           "clipCenter": {
            "x": 0,
            "y": 0,
            "z": 0
           },
           "clipNear": 0,
           "clipRadius": 0,
           "colorReverse": false,
           "depthWrite": true,
           "diffuse": 16777215,
           "diffuseInterior": false,
           "disablePicking": false,
           "flatShaded": false,
           "interiorColor": 2236962,
           "interiorDarkening": 0,
           "lazy": false,
           "matrix": {
            "elements": [
             1,
             0,
             0,
             0,
             0,
             1,
             0,
             0,
             0,
             0,
             1,
             0,
             0,
             0,
             0,
             1
            ]
           },
           "metalness": 0,
           "opacity": 1,
           "quality": "medium",
           "roughness": 0.4,
           "side": "double",
           "useInteriorColor": false,
           "visible": true,
           "wireframe": false
          },
          "type": "buffer"
         }
        },
        "6": {
         "0": {
          "params": {
           "clipCenter": {
            "x": 0,
            "y": 0,
            "z": 0
           },
           "clipNear": 0,
           "clipRadius": 0,
           "colorReverse": false,
           "depthWrite": true,
           "diffuse": 16777215,
           "diffuseInterior": false,
           "disablePicking": false,
           "flatShaded": false,
           "interiorColor": 2236962,
           "interiorDarkening": 0,
           "lazy": false,
           "matrix": {
            "elements": [
             1,
             0,
             0,
             0,
             0,
             1,
             0,
             0,
             0,
             0,
             1,
             0,
             0,
             0,
             0,
             1
            ]
           },
           "metalness": 0,
           "opacity": 1,
           "quality": "medium",
           "roughness": 0.4,
           "side": "double",
           "useInteriorColor": false,
           "visible": true,
           "wireframe": false
          },
          "type": "buffer"
         }
        }
       },
       "_ngl_serialize": false,
       "_ngl_version": "2.0.0-dev.36",
       "_ngl_view_id": [
        "667690D3-6FEE-45C1-8831-CE7922A214C1"
       ],
       "_player_dict": {},
       "_scene_position": {},
       "_scene_rotation": {},
       "_synced_model_ids": [],
       "_synced_repr_model_ids": [],
       "_view_height": "",
       "_view_width": "",
       "background": "white",
       "frame": 0,
       "gui_style": null,
       "layout": "IPY_MODEL_abed0a7e394b4d96a23e5e49c6550396",
       "max_frame": 0,
       "n_components": 7,
       "picked": {}
      }
     },
     "4a437568edb6486bb6f42d78cb503321": {
      "model_module": "@jupyter-widgets/controls",
      "model_module_version": "1.5.0",
      "model_name": "LinkModel",
      "state": {
       "source": [
        "IPY_MODEL_40fe843dee8545819f229f799259f716",
        "value"
       ],
       "target": [
        "IPY_MODEL_2131495c39cd4e688fb5ab9367bcc3d2",
        "value"
       ]
      }
     },
     "4d1e30940a9f4d39ad539132bb9e3a97": {
      "model_module": "@jupyter-widgets/controls",
      "model_module_version": "1.5.0",
      "model_name": "PlayModel",
      "state": {
       "layout": "IPY_MODEL_90a56f475dff4490bed56c96a0cb2d24",
       "max": 0,
       "style": "IPY_MODEL_fde0b8d494b14f87b50672b32c077416"
      }
     },
     "535dd339949e422cbcc7361d221197a1": {
      "model_module": "@jupyter-widgets/controls",
      "model_module_version": "1.5.0",
      "model_name": "LinkModel",
      "state": {
       "source": [
        "IPY_MODEL_36cfccf761b44baca72c5d53cf6cfc0a",
        "value"
       ],
       "target": [
        "IPY_MODEL_ae4da31a319e4baca99703ce308889d4",
        "frame"
       ]
      }
     },
     "554ad1cbd4cb49178f7fb82699279805": {
      "model_module": "@jupyter-widgets/controls",
      "model_module_version": "1.5.0",
      "model_name": "IntSliderModel",
      "state": {
       "layout": "IPY_MODEL_5de42c821a114c07beeee90ceb543a62",
       "max": 4,
       "style": "IPY_MODEL_72de8832cfa341e7be1c3e8af9ef5836"
      }
     },
     "56b6a1023dd748c5b2ad01fb5b538763": {
      "model_module": "@jupyter-widgets/controls",
      "model_module_version": "1.5.0",
      "model_name": "LinkModel",
      "state": {
       "source": [
        "IPY_MODEL_4d1e30940a9f4d39ad539132bb9e3a97",
        "max"
       ],
       "target": [
        "IPY_MODEL_490fa227a15b47d9bfc0fa37ac79e59c",
        "max_frame"
       ]
      }
     },
     "577bee1eabef4c21b01870d31b31b844": {
      "model_module": "@jupyter-widgets/controls",
      "model_module_version": "1.5.0",
      "model_name": "IntSliderModel",
      "state": {
       "layout": "IPY_MODEL_92762f6dd2a34d95a4ffdba0937f6e07",
       "max": 0,
       "style": "IPY_MODEL_176bb87615954634a7e91fc73bf93128"
      }
     },
     "5c4b36124793443cad1938479a0b26b4": {
      "model_module": "@jupyter-widgets/base",
      "model_module_version": "1.2.0",
      "model_name": "LayoutModel",
      "state": {
       "width": "34px"
      }
     },
     "5de42c821a114c07beeee90ceb543a62": {
      "model_module": "@jupyter-widgets/base",
      "model_module_version": "1.2.0",
      "model_name": "LayoutModel",
      "state": {}
     },
     "650ffcac60dd466d99a3636f9aceb344": {
      "model_module": "@jupyter-widgets/controls",
      "model_module_version": "1.5.0",
      "model_name": "ImageModel",
      "state": {
       "layout": "IPY_MODEL_e7187596a3b845d2b7f369c7fa1201c7",
       "width": "900.0"
      }
     },
     "6a9347cdf7904fc2a5875e6a6dcbae6e": {
      "model_module": "@jupyter-widgets/controls",
      "model_module_version": "1.5.0",
      "model_name": "HBoxModel",
      "state": {
       "children": [
        "IPY_MODEL_36cfccf761b44baca72c5d53cf6cfc0a",
        "IPY_MODEL_554ad1cbd4cb49178f7fb82699279805"
       ],
       "layout": "IPY_MODEL_bdb611883eb04a1eb9a640d4fcbf633c"
      }
     },
     "7060f26e34204b15ac60179586b326c6": {
      "model_module": "@jupyter-widgets/base",
      "model_module_version": "1.2.0",
      "model_name": "LayoutModel",
      "state": {}
     },
     "72de8832cfa341e7be1c3e8af9ef5836": {
      "model_module": "@jupyter-widgets/controls",
      "model_module_version": "1.5.0",
      "model_name": "SliderStyleModel",
      "state": {
       "description_width": ""
      }
     },
     "90a56f475dff4490bed56c96a0cb2d24": {
      "model_module": "@jupyter-widgets/base",
      "model_module_version": "1.2.0",
      "model_name": "LayoutModel",
      "state": {}
     },
     "92762f6dd2a34d95a4ffdba0937f6e07": {
      "model_module": "@jupyter-widgets/base",
      "model_module_version": "1.2.0",
      "model_name": "LayoutModel",
      "state": {}
     },
     "99b7a7163688495ca026df2229a46c1d": {
      "model_module": "@jupyter-widgets/base",
      "model_module_version": "1.2.0",
      "model_name": "LayoutModel",
      "state": {}
     },
     "9f5126572d5042239621624f1c52e83b": {
      "model_module": "@jupyter-widgets/controls",
      "model_module_version": "1.5.0",
      "model_name": "LinkModel",
      "state": {
       "source": [
        "IPY_MODEL_40fe843dee8545819f229f799259f716",
        "value"
       ],
       "target": [
        "IPY_MODEL_d702f3bf2990434a85d0792cd2611c5f",
        "frame"
       ]
      }
     },
     "abed0a7e394b4d96a23e5e49c6550396": {
      "model_module": "@jupyter-widgets/base",
      "model_module_version": "1.2.0",
      "model_name": "LayoutModel",
      "state": {}
     },
     "ae4da31a319e4baca99703ce308889d4": {
      "model_module": "nglview-js-widgets",
      "model_module_version": "3.0.1",
      "model_name": "NGLModel",
      "state": {
       "_camera_orientation": [
        11.096625056567845,
        0,
        0,
        0,
        0,
        11.096625056567845,
        0,
        0,
        0,
        0,
        11.096625056567845,
        0,
        0,
        0,
        -0.375,
        1
       ],
       "_camera_str": "orthographic",
       "_gui_theme": null,
       "_ibtn_fullscreen": "IPY_MODEL_f34e98e4c72945838d54a52a5e081315",
       "_igui": null,
       "_iplayer": "IPY_MODEL_6a9347cdf7904fc2a5875e6a6dcbae6e",
       "_ngl_color_dict": {},
       "_ngl_coordinate_resource": {},
       "_ngl_full_stage_parameters": {
        "ambientColor": 14540253,
        "ambientIntensity": 0.2,
        "backgroundColor": "white",
        "cameraEyeSep": 0.3,
        "cameraFov": 40,
        "cameraType": "orthographic",
        "clipDist": 10,
        "clipFar": 100,
        "clipNear": 0,
        "fogFar": 100,
        "fogNear": 50,
        "hoverTimeout": 0,
        "impostor": true,
        "lightColor": 14540253,
        "lightIntensity": 1,
        "mousePreset": "default",
        "panSpeed": 1,
        "quality": "medium",
        "rotateSpeed": 2,
        "sampleLevel": 0,
        "tooltip": true,
        "workerDefault": true,
        "zoomSpeed": 1.2
       },
       "_ngl_msg_archive": [
        {
         "args": [
          {
           "binary": false,
           "data": "MODEL     1\nATOM      1   Fe MOL     1       0.000   0.000   0.000  1.00  0.00          FE  \nATOM      2   Fe MOL     1       0.000   0.000   0.750  1.00  0.00          FE  \nENDMDL\n",
           "type": "blob"
          }
         ],
         "kwargs": {
          "defaultRepresentation": true,
          "ext": "pdb",
          "name": "nglview.adaptor.ASETrajectory"
         },
         "methodName": "loadFile",
         "reconstruc_color_scheme": false,
         "target": "Stage",
         "type": "call_method"
        },
        {
         "args": [
          "spacefill"
         ],
         "component_index": 0,
         "kwargs": {
          "radius": 0.5,
          "radiusType": "vdw",
          "scale": 0.5,
          "sele": "all"
         },
         "methodName": "addRepresentation",
         "reconstruc_color_scheme": false,
         "target": "compList",
         "type": "call_method"
        },
        {
         "args": [
          "ball+stick",
          0
         ],
         "kwargs": {},
         "methodName": "removeRepresentationsByName",
         "reconstruc_color_scheme": false,
         "target": "Widget",
         "type": "call_method"
        },
        {
         "args": [
          "unitcell"
         ],
         "component_index": 0,
         "kwargs": {
          "sele": "all"
         },
         "methodName": "addRepresentation",
         "reconstruc_color_scheme": false,
         "target": "compList",
         "type": "call_method"
        },
        {
         "args": [],
         "kwargs": {
          "cameraType": "orthographic"
         },
         "methodName": "setParameters",
         "reconstruc_color_scheme": false,
         "target": "Stage",
         "type": "call_method"
        }
       ],
       "_ngl_original_stage_parameters": {
        "ambientColor": 14540253,
        "ambientIntensity": 0.2,
        "backgroundColor": "white",
        "cameraEyeSep": 0.3,
        "cameraFov": 40,
        "cameraType": "perspective",
        "clipDist": 10,
        "clipFar": 100,
        "clipNear": 0,
        "fogFar": 100,
        "fogNear": 50,
        "hoverTimeout": 0,
        "impostor": true,
        "lightColor": 14540253,
        "lightIntensity": 1,
        "mousePreset": "default",
        "panSpeed": 1,
        "quality": "medium",
        "rotateSpeed": 2,
        "sampleLevel": 0,
        "tooltip": true,
        "workerDefault": true,
        "zoomSpeed": 1.2
       },
       "_ngl_repr_dict": {
        "0": {
         "0": {
          "params": {
           "assembly": "default",
           "clipCenter": {
            "x": 0,
            "y": 0,
            "z": 0
           },
           "clipNear": 0,
           "clipRadius": 0,
           "colorMode": "hcl",
           "colorReverse": false,
           "colorScale": "",
           "colorScheme": "element",
           "colorValue": 9474192,
           "defaultAssembly": "",
           "depthWrite": true,
           "diffuse": 16777215,
           "diffuseInterior": false,
           "disableImpostor": false,
           "disablePicking": false,
           "flatShaded": false,
           "interiorColor": 2236962,
           "interiorDarkening": 0,
           "lazy": false,
           "matrix": {
            "elements": [
             1,
             0,
             0,
             0,
             0,
             1,
             0,
             0,
             0,
             0,
             1,
             0,
             0,
             0,
             0,
             1
            ]
           },
           "metalness": 0,
           "opacity": 1,
           "quality": "medium",
           "radiusData": {},
           "radiusScale": 1,
           "radiusSize": 0.5,
           "radiusType": "size",
           "roughness": 0.4,
           "sele": "all",
           "side": "double",
           "sphereDetail": 1,
           "useInteriorColor": true,
           "visible": true,
           "wireframe": false
          },
          "type": "spacefill"
         },
         "1": {
          "params": {
           "clipCenter": {
            "x": 0,
            "y": 0,
            "z": 0
           },
           "clipNear": 0,
           "clipRadius": 0,
           "colorMode": "hcl",
           "colorReverse": false,
           "colorScale": "",
           "colorScheme": "element",
           "colorValue": "orange",
           "defaultAssembly": "",
           "depthWrite": true,
           "diffuse": 16777215,
           "diffuseInterior": false,
           "disableImpostor": false,
           "disablePicking": false,
           "flatShaded": false,
           "interiorColor": 2236962,
           "interiorDarkening": 0,
           "lazy": false,
           "matrix": {
            "elements": [
             1,
             0,
             0,
             0,
             0,
             1,
             0,
             0,
             0,
             0,
             1,
             0,
             0,
             0,
             0,
             1
            ]
           },
           "metalness": 0,
           "opacity": 1,
           "quality": "medium",
           "radialSegments": 10,
           "radiusData": {},
           "radiusScale": 1,
           "radiusSize": 0.5,
           "radiusType": "vdw",
           "roughness": 0.4,
           "sele": "all",
           "side": "double",
           "sphereDetail": 1,
           "useInteriorColor": true,
           "visible": true,
           "wireframe": false
          },
          "type": "unitcell"
         }
        }
       },
       "_ngl_serialize": false,
       "_ngl_version": "2.0.0-dev.36",
       "_ngl_view_id": [
        "94D4F05B-4B91-4EBB-AD85-EC9DEB97D514"
       ],
       "_player_dict": {},
       "_scene_position": {},
       "_scene_rotation": {},
       "_synced_model_ids": [],
       "_synced_repr_model_ids": [],
       "_view_height": "",
       "_view_width": "",
       "background": "white",
       "frame": 0,
       "gui_style": null,
       "layout": "IPY_MODEL_232edc1031014bb48162c281fb240759",
       "max_frame": 4,
       "n_components": 1,
       "picked": {}
      }
     },
     "af4e2d19c99f4c449bb13afe7baa471d": {
      "model_module": "@jupyter-widgets/controls",
      "model_module_version": "1.5.0",
      "model_name": "LinkModel",
      "state": {
       "source": [
        "IPY_MODEL_2131495c39cd4e688fb5ab9367bcc3d2",
        "max"
       ],
       "target": [
        "IPY_MODEL_d702f3bf2990434a85d0792cd2611c5f",
        "max_frame"
       ]
      }
     },
     "b174844c258f40a881d42ddd952c95fc": {
      "model_module": "@jupyter-widgets/controls",
      "model_module_version": "1.5.0",
      "model_name": "LinkModel",
      "state": {
       "source": [
        "IPY_MODEL_577bee1eabef4c21b01870d31b31b844",
        "max"
       ],
       "target": [
        "IPY_MODEL_490fa227a15b47d9bfc0fa37ac79e59c",
        "max_frame"
       ]
      }
     },
     "b4038c5bf965445c93b0d0e697c2830b": {
      "model_module": "@jupyter-widgets/controls",
      "model_module_version": "1.5.0",
      "model_name": "LinkModel",
      "state": {
       "source": [
        "IPY_MODEL_554ad1cbd4cb49178f7fb82699279805",
        "max"
       ],
       "target": [
        "IPY_MODEL_ae4da31a319e4baca99703ce308889d4",
        "max_frame"
       ]
      }
     },
     "b7fbffee80154c97bedfd8966a43bfc0": {
      "model_module": "@jupyter-widgets/controls",
      "model_module_version": "1.5.0",
      "model_name": "HBoxModel",
      "state": {
       "children": [
        "IPY_MODEL_4d1e30940a9f4d39ad539132bb9e3a97",
        "IPY_MODEL_577bee1eabef4c21b01870d31b31b844"
       ],
       "layout": "IPY_MODEL_102b613a9c2a4eab96aeaf1a469ae6bb"
      }
     },
     "bb0156e2570c453fab53e820ff281a50": {
      "model_module": "@jupyter-widgets/controls",
      "model_module_version": "1.5.0",
      "model_name": "DescriptionStyleModel",
      "state": {
       "description_width": ""
      }
     },
     "bdb15f0c4925488785b36853f2a507c4": {
      "model_module": "@jupyter-widgets/base",
      "model_module_version": "1.2.0",
      "model_name": "LayoutModel",
      "state": {}
     },
     "bdb611883eb04a1eb9a640d4fcbf633c": {
      "model_module": "@jupyter-widgets/base",
      "model_module_version": "1.2.0",
      "model_name": "LayoutModel",
      "state": {}
     },
     "be2fba7fd3ff4b849be3f65d03ba13dc": {
      "model_module": "@jupyter-widgets/controls",
      "model_module_version": "1.5.0",
      "model_name": "ButtonStyleModel",
      "state": {}
     },
     "c6f4e62a00074fd9b9a26d86059fdfdf": {
      "model_module": "@jupyter-widgets/controls",
      "model_module_version": "1.5.0",
      "model_name": "LinkModel",
      "state": {
       "source": [
        "IPY_MODEL_36cfccf761b44baca72c5d53cf6cfc0a",
        "value"
       ],
       "target": [
        "IPY_MODEL_554ad1cbd4cb49178f7fb82699279805",
        "value"
       ]
      }
     },
     "c9bb8f068708498a8963f68d1f5e21c9": {
      "model_module": "@jupyter-widgets/base",
      "model_module_version": "1.2.0",
      "model_name": "LayoutModel",
      "state": {}
     },
     "cdfea586c0fb4e44b9313a9e8cfbf525": {
      "model_module": "@jupyter-widgets/base",
      "model_module_version": "1.2.0",
      "model_name": "LayoutModel",
      "state": {}
     },
     "d2bc4378320e47da9447235f5ba8c172": {
      "model_module": "@jupyter-widgets/base",
      "model_module_version": "1.2.0",
      "model_name": "LayoutModel",
      "state": {}
     },
     "d5347f1a62b84865a7375f54f807ca33": {
      "model_module": "@jupyter-widgets/base",
      "model_module_version": "1.2.0",
      "model_name": "LayoutModel",
      "state": {
       "width": "34px"
      }
     },
     "d702f3bf2990434a85d0792cd2611c5f": {
      "model_module": "nglview-js-widgets",
      "model_module_version": "3.0.1",
      "model_name": "NGLModel",
      "state": {
       "_camera_orientation": [
        16.91904731270948,
        0,
        0,
        0,
        0,
        16.91904731270948,
        0,
        0,
        0,
        0,
        16.91904731270948,
        0,
        -1.5,
        -1.5,
        -1.5,
        1
       ],
       "_camera_str": "orthographic",
       "_gui_theme": null,
       "_ibtn_fullscreen": "IPY_MODEL_2aeb102499514aeeaa3ac02b9e7ae04b",
       "_igui": null,
       "_iplayer": "IPY_MODEL_d840e72db72e40b1926c1d6a46a0ebcf",
       "_ngl_color_dict": {},
       "_ngl_coordinate_resource": {},
       "_ngl_full_stage_parameters": {
        "ambientColor": 14540253,
        "ambientIntensity": 0.2,
        "backgroundColor": "white",
        "cameraEyeSep": 0.3,
        "cameraFov": 40,
        "cameraType": "orthographic",
        "clipDist": 10,
        "clipFar": 100,
        "clipNear": 0,
        "fogFar": 100,
        "fogNear": 50,
        "hoverTimeout": 0,
        "impostor": true,
        "lightColor": 14540253,
        "lightIntensity": 1,
        "mousePreset": "default",
        "panSpeed": 1,
        "quality": "medium",
        "rotateSpeed": 2,
        "sampleLevel": 0,
        "tooltip": true,
        "workerDefault": true,
        "zoomSpeed": 1.2
       },
       "_ngl_msg_archive": [
        {
         "args": [
          {
           "binary": false,
           "data": "CRYST1    3.600    3.600    3.600  90.00  90.00  90.00 P 1\nMODEL     1\nATOM      1   Fe MOL     1       0.000   0.000   0.000  1.00  0.00          FE  \nATOM      2   Fe MOL     1       0.600   0.600   0.600  1.00  0.00          FE  \nATOM      3   Fe MOL     1       0.000   0.000   1.200  1.00  0.00          FE  \nATOM      4   Fe MOL     1       0.600   0.600   1.800  1.00  0.00          FE  \nATOM      5   Fe MOL     1       0.000   0.000   2.400  1.00  0.00          FE  \nATOM      6   Fe MOL     1       0.600   0.600   3.000  1.00  0.00          FE  \nATOM      7   Fe MOL     1       0.000   1.200   0.000  1.00  0.00          FE  \nATOM      8   Fe MOL     1       0.600   1.800   0.600  1.00  0.00          FE  \nATOM      9   Fe MOL     1       0.000   1.200   1.200  1.00  0.00          FE  \nATOM     10   Fe MOL     1       0.600   1.800   1.800  1.00  0.00          FE  \nATOM     11   Fe MOL     1       0.000   1.200   2.400  1.00  0.00          FE  \nATOM     12   Fe MOL     1       0.600   1.800   3.000  1.00  0.00          FE  \nATOM     13   Fe MOL     1       0.000   2.400   0.000  1.00  0.00          FE  \nATOM     14   Fe MOL     1       0.600   3.000   0.600  1.00  0.00          FE  \nATOM     15   Fe MOL     1       0.000   2.400   1.200  1.00  0.00          FE  \nATOM     16   Fe MOL     1       0.600   3.000   1.800  1.00  0.00          FE  \nATOM     17   Fe MOL     1       0.000   2.400   2.400  1.00  0.00          FE  \nATOM     18   Fe MOL     1       0.600   3.000   3.000  1.00  0.00          FE  \nATOM     19   Fe MOL     1       1.200   0.000   0.000  1.00  0.00          FE  \nATOM     20   Fe MOL     1       1.800   0.600   0.600  1.00  0.00          FE  \nATOM     21   Fe MOL     1       1.200   0.000   1.200  1.00  0.00          FE  \nATOM     22   Fe MOL     1       1.800   0.600   1.800  1.00  0.00          FE  \nATOM     23   Fe MOL     1       1.200   0.000   2.400  1.00  0.00          FE  \nATOM     24   Fe MOL     1       1.800   0.600   3.000  1.00  0.00          FE  \nATOM     25   Fe MOL     1       1.200   1.200   0.000  1.00  0.00          FE  \nATOM     26   Fe MOL     1       1.800   1.800   0.600  1.00  0.00          FE  \nATOM     27   Fe MOL     1       1.200   1.200   1.200  1.00  0.00          FE  \nATOM     28   Fe MOL     1       1.800   1.800   1.800  1.00  0.00          FE  \nATOM     29   Fe MOL     1       1.200   1.200   2.400  1.00  0.00          FE  \nATOM     30   Fe MOL     1       1.800   1.800   3.000  1.00  0.00          FE  \nATOM     31   Fe MOL     1       1.200   2.400   0.000  1.00  0.00          FE  \nATOM     32   Fe MOL     1       1.800   3.000   0.600  1.00  0.00          FE  \nATOM     33   Fe MOL     1       1.200   2.400   1.200  1.00  0.00          FE  \nATOM     34   Fe MOL     1       1.800   3.000   1.800  1.00  0.00          FE  \nATOM     35   Fe MOL     1       1.200   2.400   2.400  1.00  0.00          FE  \nATOM     36   Fe MOL     1       1.800   3.000   3.000  1.00  0.00          FE  \nATOM     37   Fe MOL     1       2.400   0.000   0.000  1.00  0.00          FE  \nATOM     38   Fe MOL     1       3.000   0.600   0.600  1.00  0.00          FE  \nATOM     39   Fe MOL     1       2.400   0.000   1.200  1.00  0.00          FE  \nATOM     40   Fe MOL     1       3.000   0.600   1.800  1.00  0.00          FE  \nATOM     41   Fe MOL     1       2.400   0.000   2.400  1.00  0.00          FE  \nATOM     42   Fe MOL     1       3.000   0.600   3.000  1.00  0.00          FE  \nATOM     43   Fe MOL     1       2.400   1.200   0.000  1.00  0.00          FE  \nATOM     44   Fe MOL     1       3.000   1.800   0.600  1.00  0.00          FE  \nATOM     45   Fe MOL     1       2.400   1.200   1.200  1.00  0.00          FE  \nATOM     46   Fe MOL     1       3.000   1.800   1.800  1.00  0.00          FE  \nATOM     47   Fe MOL     1       2.400   1.200   2.400  1.00  0.00          FE  \nATOM     48   Fe MOL     1       3.000   1.800   3.000  1.00  0.00          FE  \nATOM     49   Fe MOL     1       2.400   2.400   0.000  1.00  0.00          FE  \nATOM     50   Fe MOL     1       3.000   3.000   0.600  1.00  0.00          FE  \nATOM     51   Fe MOL     1       2.400   2.400   1.200  1.00  0.00          FE  \nATOM     52   Fe MOL     1       3.000   3.000   1.800  1.00  0.00          FE  \nATOM     53   Fe MOL     1       2.400   2.400   2.400  1.00  0.00          FE  \nATOM     54   Fe MOL     1       3.000   3.000   3.000  1.00  0.00          FE  \nENDMDL\n",
           "type": "blob"
          }
         ],
         "kwargs": {
          "defaultRepresentation": true,
          "ext": "pdb",
          "name": "nglview.adaptor.ASETrajectory"
         },
         "methodName": "loadFile",
         "reconstruc_color_scheme": false,
         "target": "Stage",
         "type": "call_method"
        },
        {
         "args": [
          "spacefill"
         ],
         "component_index": 0,
         "kwargs": {
          "radius": 0.5,
          "radiusType": "vdw",
          "scale": 0.5,
          "sele": "all"
         },
         "methodName": "addRepresentation",
         "reconstruc_color_scheme": false,
         "target": "compList",
         "type": "call_method"
        },
        {
         "args": [
          "ball+stick",
          0
         ],
         "kwargs": {},
         "methodName": "removeRepresentationsByName",
         "reconstruc_color_scheme": false,
         "target": "Widget",
         "type": "call_method"
        },
        {
         "args": [
          "unitcell"
         ],
         "component_index": 0,
         "kwargs": {
          "sele": "all"
         },
         "methodName": "addRepresentation",
         "reconstruc_color_scheme": false,
         "target": "compList",
         "type": "call_method"
        },
        {
         "args": [],
         "kwargs": {
          "cameraType": "orthographic"
         },
         "methodName": "setParameters",
         "reconstruc_color_scheme": false,
         "target": "Stage",
         "type": "call_method"
        }
       ],
       "_ngl_original_stage_parameters": {
        "ambientColor": 14540253,
        "ambientIntensity": 0.2,
        "backgroundColor": "white",
        "cameraEyeSep": 0.3,
        "cameraFov": 40,
        "cameraType": "perspective",
        "clipDist": 10,
        "clipFar": 100,
        "clipNear": 0,
        "fogFar": 100,
        "fogNear": 50,
        "hoverTimeout": 0,
        "impostor": true,
        "lightColor": 14540253,
        "lightIntensity": 1,
        "mousePreset": "default",
        "panSpeed": 1,
        "quality": "medium",
        "rotateSpeed": 2,
        "sampleLevel": 0,
        "tooltip": true,
        "workerDefault": true,
        "zoomSpeed": 1.2
       },
       "_ngl_repr_dict": {
        "0": {
         "0": {
          "params": {
           "assembly": "default",
           "clipCenter": {
            "x": 0,
            "y": 0,
            "z": 0
           },
           "clipNear": 0,
           "clipRadius": 0,
           "colorMode": "hcl",
           "colorReverse": false,
           "colorScale": "",
           "colorScheme": "element",
           "colorValue": 9474192,
           "defaultAssembly": "",
           "depthWrite": true,
           "diffuse": 16777215,
           "diffuseInterior": false,
           "disableImpostor": false,
           "disablePicking": false,
           "flatShaded": false,
           "interiorColor": 2236962,
           "interiorDarkening": 0,
           "lazy": false,
           "matrix": {
            "elements": [
             1,
             0,
             0,
             0,
             0,
             1,
             0,
             0,
             0,
             0,
             1,
             0,
             0,
             0,
             0,
             1
            ]
           },
           "metalness": 0,
           "opacity": 1,
           "quality": "medium",
           "radiusData": {},
           "radiusScale": 1,
           "radiusSize": 0.5,
           "radiusType": "size",
           "roughness": 0.4,
           "sele": "all",
           "side": "double",
           "sphereDetail": 1,
           "useInteriorColor": true,
           "visible": true,
           "wireframe": false
          },
          "type": "spacefill"
         },
         "1": {
          "params": {
           "clipCenter": {
            "x": 0,
            "y": 0,
            "z": 0
           },
           "clipNear": 0,
           "clipRadius": 0,
           "colorMode": "hcl",
           "colorReverse": false,
           "colorScale": "",
           "colorScheme": "element",
           "colorValue": "orange",
           "defaultAssembly": "",
           "depthWrite": true,
           "diffuse": 16777215,
           "diffuseInterior": false,
           "disableImpostor": false,
           "disablePicking": false,
           "flatShaded": false,
           "interiorColor": 2236962,
           "interiorDarkening": 0,
           "lazy": false,
           "matrix": {
            "elements": [
             1,
             0,
             0,
             0,
             0,
             1,
             0,
             0,
             0,
             0,
             1,
             0,
             0,
             0,
             0,
             1
            ]
           },
           "metalness": 0,
           "opacity": 1,
           "quality": "medium",
           "radialSegments": 10,
           "radiusData": {},
           "radiusScale": 1,
           "radiusSize": 0.017999999209869933,
           "radiusType": "vdw",
           "roughness": 0.4,
           "sele": "all",
           "side": "double",
           "sphereDetail": 1,
           "useInteriorColor": true,
           "visible": true,
           "wireframe": false
          },
          "type": "unitcell"
         }
        }
       },
       "_ngl_serialize": false,
       "_ngl_version": "2.0.0-dev.36",
       "_ngl_view_id": [
        "F3DFC146-3E56-4815-8862-4714ED3F6F6F"
       ],
       "_player_dict": {},
       "_scene_position": {},
       "_scene_rotation": {},
       "_synced_model_ids": [],
       "_synced_repr_model_ids": [],
       "_view_height": "",
       "_view_width": "",
       "background": "white",
       "frame": 0,
       "gui_style": null,
       "layout": "IPY_MODEL_c9bb8f068708498a8963f68d1f5e21c9",
       "max_frame": 21,
       "n_components": 1,
       "picked": {}
      }
     },
     "d7837d55497b4e9b894e8a310288b9b1": {
      "model_module": "@jupyter-widgets/controls",
      "model_module_version": "1.5.0",
      "model_name": "ButtonStyleModel",
      "state": {}
     },
     "d840e72db72e40b1926c1d6a46a0ebcf": {
      "model_module": "@jupyter-widgets/controls",
      "model_module_version": "1.5.0",
      "model_name": "HBoxModel",
      "state": {
       "children": [
        "IPY_MODEL_40fe843dee8545819f229f799259f716",
        "IPY_MODEL_2131495c39cd4e688fb5ab9367bcc3d2"
       ],
       "layout": "IPY_MODEL_e80a07b509d24321a5f728427a7579ce"
      }
     },
     "e13a786ff807427fae43a5cfed219975": {
      "model_module": "@jupyter-widgets/base",
      "model_module_version": "1.2.0",
      "model_name": "LayoutModel",
      "state": {
       "width": "34px"
      }
     },
     "e7187596a3b845d2b7f369c7fa1201c7": {
      "model_module": "@jupyter-widgets/base",
      "model_module_version": "1.2.0",
      "model_name": "LayoutModel",
      "state": {}
     },
     "e80a07b509d24321a5f728427a7579ce": {
      "model_module": "@jupyter-widgets/base",
      "model_module_version": "1.2.0",
      "model_name": "LayoutModel",
      "state": {}
     },
     "f34e98e4c72945838d54a52a5e081315": {
      "model_module": "@jupyter-widgets/controls",
      "model_module_version": "1.5.0",
      "model_name": "ButtonModel",
      "state": {
       "icon": "compress",
       "layout": "IPY_MODEL_d5347f1a62b84865a7375f54f807ca33",
       "style": "IPY_MODEL_d7837d55497b4e9b894e8a310288b9b1"
      }
     },
     "f70fe483cde24341b4074f933a0d5574": {
      "model_module": "@jupyter-widgets/controls",
      "model_module_version": "1.5.0",
      "model_name": "LinkModel",
      "state": {
       "source": [
        "IPY_MODEL_40fe843dee8545819f229f799259f716",
        "max"
       ],
       "target": [
        "IPY_MODEL_d702f3bf2990434a85d0792cd2611c5f",
        "max_frame"
       ]
      }
     },
     "fde0b8d494b14f87b50672b32c077416": {
      "model_module": "@jupyter-widgets/controls",
      "model_module_version": "1.5.0",
      "model_name": "DescriptionStyleModel",
      "state": {
       "description_width": ""
      }
     }
    },
    "version_major": 2,
    "version_minor": 0
   }
  }
 },
 "nbformat": 4,
 "nbformat_minor": 5
}
