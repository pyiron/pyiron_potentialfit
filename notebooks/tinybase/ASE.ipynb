{
 "cells": [
  {
   "cell_type": "markdown",
   "id": "32de9950-ae26-488d-92af-9784ab1c7598",
   "metadata": {},
   "source": [
    "# Imports"
   ]
  },
  {
   "cell_type": "code",
   "execution_count": 1,
   "id": "f9ecb713-99e6-4f34-b4c2-fe9f3d96c81e",
   "metadata": {},
   "outputs": [],
   "source": [
    "from ase import Atoms"
   ]
  },
  {
   "cell_type": "code",
   "execution_count": 2,
   "id": "31dc7658-dcf0-41a4-9c62-ec92b02e47ea",
   "metadata": {},
   "outputs": [],
   "source": [
    "from ase.build import bulk"
   ]
  },
  {
   "cell_type": "code",
   "execution_count": 3,
   "id": "e7cc88a5-8492-482e-8c6b-c17ff967fff5",
   "metadata": {},
   "outputs": [],
   "source": [
    "from ase.calculators.morse import MorsePotential"
   ]
  },
  {
   "cell_type": "code",
   "execution_count": 4,
   "id": "b3108213-1d94-4354-9537-84982e45683d",
   "metadata": {},
   "outputs": [
    {
     "name": "stderr",
     "output_type": "stream",
     "text": [
      "/home/ponder/science/phd/dev/pyiron_contrib/pyiron_contrib/__init__.py:9: UserWarning: pyiron module not found, importing Project from pyiron_base\n",
      "  warnings.warn(\"pyiron module not found, importing Project from pyiron_base\")\n"
     ]
    },
    {
     "data": {
      "application/vnd.jupyter.widget-view+json": {
       "model_id": "d3dba68b040c436a87aa1acf4b90a1c9",
       "version_major": 2,
       "version_minor": 0
      },
      "text/plain": []
     },
     "metadata": {},
     "output_type": "display_data"
    }
   ],
   "source": [
    "from pyiron_contrib.tinybase.ase import AseStaticNode, AseMDNode, AseMinimizeNode"
   ]
  },
  {
   "cell_type": "code",
   "execution_count": 5,
   "id": "0029125a-55e6-4181-a59b-09f606a1b4dd",
   "metadata": {},
   "outputs": [],
   "source": [
    "from pyiron_contrib.tinybase.murn import MurnaghanNode"
   ]
  },
  {
   "cell_type": "code",
   "execution_count": 6,
   "id": "c7c74920-c6b3-4577-a60f-951a0d3276ec",
   "metadata": {},
   "outputs": [],
   "source": [
    "from pyiron_contrib.tinybase.executor import ProcessExecutor, BackgroundExecutor, Executor"
   ]
  },
  {
   "cell_type": "code",
   "execution_count": 7,
   "id": "c6630920-6ab7-4273-883e-999020b1fe5a",
   "metadata": {},
   "outputs": [],
   "source": [
    "import logging\n",
    "logging.getLogger().setLevel(20)"
   ]
  },
  {
   "cell_type": "markdown",
   "id": "4d6f4eab-7660-4e66-b85b-8d9969512c00",
   "metadata": {},
   "source": [
    "# Simple ASE Static Calculation"
   ]
  },
  {
   "cell_type": "code",
   "execution_count": 8,
   "id": "a6af72cb-989b-46c3-a2b5-4d2b9c5fd1eb",
   "metadata": {},
   "outputs": [],
   "source": [
    "a = AseStaticNode()"
   ]
  },
  {
   "cell_type": "code",
   "execution_count": 9,
   "id": "5b2a9d62-3f74-4acf-acb6-e72dcd984704",
   "metadata": {},
   "outputs": [],
   "source": [
    "a.input.structure = bulk(\"Fe\")"
   ]
  },
  {
   "cell_type": "code",
   "execution_count": 10,
   "id": "1af70322-897e-487d-ba18-239ba5bfb7ba",
   "metadata": {},
   "outputs": [],
   "source": [
    "a.input.calculator = MorsePotential()"
   ]
  },
  {
   "cell_type": "code",
   "execution_count": 11,
   "id": "273902ef-03f3-4f68-8668-4e6c6055a302",
   "metadata": {},
   "outputs": [
    {
     "data": {
      "text/plain": [
       "(ReturnStatus(Code.DONE, None),\n",
       " <pyiron_contrib.tinybase.container.EnergyOutput at 0x7fb8336d4710>)"
      ]
     },
     "execution_count": 11,
     "metadata": {},
     "output_type": "execute_result"
    }
   ],
   "source": [
    "ret, output = a.execute(); ret, output"
   ]
  },
  {
   "cell_type": "code",
   "execution_count": 12,
   "id": "497de0b9-5e11-4d6c-8c19-664d0e759ac4",
   "metadata": {},
   "outputs": [
    {
     "data": {
      "text/plain": [
       "-0.00013307075712109978"
      ]
     },
     "execution_count": 12,
     "metadata": {},
     "output_type": "execute_result"
    }
   ],
   "source": [
    "output.energy_pot"
   ]
  },
  {
   "cell_type": "code",
   "execution_count": 13,
   "id": "57eced2f-6649-4269-b3fa-6061d518f9ee",
   "metadata": {},
   "outputs": [
    {
     "data": {
      "text/plain": [
       "-0.00013307075712109978"
      ]
     },
     "execution_count": 13,
     "metadata": {},
     "output_type": "execute_result"
    }
   ],
   "source": [
    "exe = a.run()\n",
    "exe.output[0].energy_pot"
   ]
  },
  {
   "cell_type": "markdown",
   "id": "8a102a81-df04-4527-8739-7fe542f0c1fc",
   "metadata": {},
   "source": [
    "# ASE MD"
   ]
  },
  {
   "cell_type": "code",
   "execution_count": 14,
   "id": "02cfe01b-0b24-4723-a79b-d41ffb146bf9",
   "metadata": {},
   "outputs": [],
   "source": [
    "md = AseMDNode()"
   ]
  },
  {
   "cell_type": "code",
   "execution_count": 15,
   "id": "466d1f9a-b707-4c05-a8af-5414d76bd8eb",
   "metadata": {},
   "outputs": [],
   "source": [
    "md.input.structure = bulk(\"Fe\", a=1.2, cubic=True).repeat(3)\n",
    "md.input.calculator = MorsePotential()"
   ]
  },
  {
   "cell_type": "code",
   "execution_count": 16,
   "id": "dfdfc027-1608-43ad-9d15-0c649986eb73",
   "metadata": {},
   "outputs": [],
   "source": [
    "md.input.steps = 100\n",
    "md.input.timestep = 3\n",
    "md.input.temperature = 600\n",
    "md.input.output_steps = 20"
   ]
  },
  {
   "cell_type": "code",
   "execution_count": 17,
   "id": "db5c7cfe-b075-483e-8b7e-a58cebf1a782",
   "metadata": {},
   "outputs": [
    {
     "name": "stdout",
     "output_type": "stream",
     "text": [
      "CPU times: user 8.76 ms, sys: 29.8 ms, total: 38.5 ms\n",
      "Wall time: 38.1 ms\n"
     ]
    }
   ],
   "source": [
    "%%time\n",
    "exe = md.run(how='process')"
   ]
  },
  {
   "cell_type": "code",
   "execution_count": 18,
   "id": "80155255-4dcf-48cb-9825-015da13d6ac0",
   "metadata": {},
   "outputs": [],
   "source": [
    "exe.wait()"
   ]
  },
  {
   "cell_type": "code",
   "execution_count": 19,
   "id": "6f7aff4e-9e89-459b-843f-46a4d4139bcf",
   "metadata": {},
   "outputs": [
    {
     "data": {
      "text/plain": [
       "{'status': [ReturnStatus(Code.DONE, None)],\n",
       " 'output': [<pyiron_contrib.tinybase.container.MDOutput at 0x7fb8336dbf50>]}"
      ]
     },
     "execution_count": 19,
     "metadata": {},
     "output_type": "execute_result"
    }
   ],
   "source": [
    "exe._run_machine._data"
   ]
  },
  {
   "cell_type": "code",
   "execution_count": 20,
   "id": "62ce8439-bf95-4818-b35c-b4e2ef649bd2",
   "metadata": {},
   "outputs": [
    {
     "data": {
      "text/plain": [
       "<Code.FINISHED: 'finished'>"
      ]
     },
     "execution_count": 20,
     "metadata": {},
     "output_type": "execute_result"
    }
   ],
   "source": [
    "exe._run_machine.state"
   ]
  },
  {
   "cell_type": "code",
   "execution_count": 21,
   "id": "5bcd1b68-6a48-4a08-92d4-143419071618",
   "metadata": {},
   "outputs": [
    {
     "data": {
      "text/plain": [
       "15.664004709979054"
      ]
     },
     "execution_count": 21,
     "metadata": {},
     "output_type": "execute_result"
    }
   ],
   "source": [
    "exe._run_time"
   ]
  },
  {
   "cell_type": "code",
   "execution_count": 22,
   "id": "d21371e0-fa36-44bd-b7bf-a0092177ba17",
   "metadata": {},
   "outputs": [
    {
     "data": {
      "text/plain": [
       "2.8318027034401894e-05"
      ]
     },
     "execution_count": 22,
     "metadata": {},
     "output_type": "execute_result"
    }
   ],
   "source": [
    "exe._collect_time"
   ]
  },
  {
   "cell_type": "code",
   "execution_count": 23,
   "id": "9e06cd6d-e0f7-40dd-93f2-777f86ffe2eb",
   "metadata": {},
   "outputs": [
    {
     "data": {
      "image/png": "[encoded data removed]",
      "text/plain": [
       "<Figure size 640x480 with 1 Axes>"
      ]
     },
     "metadata": {},
     "output_type": "display_data"
    }
   ],
   "source": [
    "exe.output[0].plot_energies()"
   ]
  },
  {
   "cell_type": "code",
   "execution_count": 24,
   "id": "bb70a653-6231-4f4e-9bbe-279811acc895",
   "metadata": {},
   "outputs": [
    {
     "data": {
      "application/vnd.jupyter.widget-view+json": {
       "model_id": "72151a9d47704d1fb535afa54a44cdda",
       "version_major": 2,
       "version_minor": 0
      },
      "text/plain": [
       "NGLWidget(max_frame=21)"
      ]
     },
     "metadata": {},
     "output_type": "display_data"
    }
   ],
   "source": [
    "exe.output[0].animate_structures()"
   ]
  },
  {
   "cell_type": "markdown",
   "id": "c7844b5f-1f9b-4770-8608-144c8b84fb87",
   "metadata": {},
   "source": [
    "# ASE Minimize"
   ]
  },
  {
   "cell_type": "code",
   "execution_count": 25,
   "id": "f816e2af-0455-4e05-9c39-2e9f615d8f34",
   "metadata": {},
   "outputs": [],
   "source": [
    "from pyiron_atomistics import ase_to_pyiron"
   ]
  },
  {
   "cell_type": "code",
   "execution_count": 26,
   "id": "22314020-8f48-487b-a765-229a77d79a2f",
   "metadata": {},
   "outputs": [],
   "source": [
    "mi = AseMinimizeNode()"
   ]
  },
  {
   "cell_type": "code",
   "execution_count": 27,
   "id": "ff411a05-82e1-4581-b06e-ab2fd7e0be3b",
   "metadata": {},
   "outputs": [],
   "source": [
    "dimer = Atoms(symbols=['Fe', 'Fe'], positions=[[0,0,0], [0,0, .75]], cell=[10,10,10])"
   ]
  },
  {
   "cell_type": "code",
   "execution_count": 28,
   "id": "5574f0d5-d800-472a-9418-8c6ccc1e555b",
   "metadata": {},
   "outputs": [],
   "source": [
    "mi.input.structure = dimer\n",
    "mi.input.calculator = MorsePotential(rcut1=6,rcut2=10)"
   ]
  },
  {
   "cell_type": "code",
   "execution_count": 29,
   "id": "9e02d6dd-0fa6-4dd6-a7ab-3e648958eb20",
   "metadata": {},
   "outputs": [
    {
     "data": {
      "application/vnd.jupyter.widget-view+json": {
       "model_id": "cdde213a7a3445d08efacffc1c7b0581",
       "version_major": 2,
       "version_minor": 0
      },
      "text/plain": [
       "NGLWidget()"
      ]
     },
     "metadata": {},
     "output_type": "display_data"
    }
   ],
   "source": [
    "ase_to_pyiron(mi.input.structure).plot3d()"
   ]
  },
  {
   "cell_type": "code",
   "execution_count": 30,
   "id": "663e4435-1cd0-4ce2-9593-85453f4c846a",
   "metadata": {},
   "outputs": [],
   "source": [
    "mi.input.max_steps = 100\n",
    "mi.input.output_steps = 1\n",
    "mi.input.ionic_force_tolerance = 1e-6"
   ]
  },
  {
   "cell_type": "code",
   "execution_count": 31,
   "id": "37440e5a-75ff-4601-813a-f5c8df9413ad",
   "metadata": {},
   "outputs": [],
   "source": [
    "mi.input.gpmin()"
   ]
  },
  {
   "cell_type": "code",
   "execution_count": 32,
   "id": "a448ec7f-53bc-4d72-a8a7-f9392de9f3d5",
   "metadata": {
    "scrolled": true,
    "tags": []
   },
   "outputs": [
    {
     "name": "stdout",
     "output_type": "stream",
     "text": [
      "       Step     Time          Energy         fmax\n",
      "GPMin:    0 09:04:10       11.122159      187.2462\n",
      "GPMin:    1 09:04:10       -0.278268        1.5338\n",
      "GPMin:    2 09:04:10       -0.996055        0.8010\n",
      "GPMin:    3 09:04:10       -0.000000        0.0000\n",
      "CPU times: user 91 ms, sys: 45.6 ms, total: 137 ms\n",
      "Wall time: 75.7 ms\n"
     ]
    }
   ],
   "source": [
    "%%time\n",
    "exe = mi.run(how='foreground')"
   ]
  },
  {
   "cell_type": "code",
   "execution_count": 33,
   "id": "5977dd10-c4cf-40c9-944e-5aa52cfa263d",
   "metadata": {},
   "outputs": [
    {
     "data": {
      "text/plain": [
       "(ReturnStatus(Code.DONE, None),)"
      ]
     },
     "execution_count": 33,
     "metadata": {},
     "output_type": "execute_result"
    }
   ],
   "source": [
    "exe.status"
   ]
  },
  {
   "cell_type": "code",
   "execution_count": 34,
   "id": "dd164778-634c-4785-903a-08a5243999ce",
   "metadata": {},
   "outputs": [
    {
     "data": {
      "text/plain": [
       "2.136147842601888e-07"
      ]
     },
     "execution_count": 34,
     "metadata": {},
     "output_type": "execute_result"
    }
   ],
   "source": [
    "abs(exe.output[0].forces[-1]).max()"
   ]
  },
  {
   "cell_type": "code",
   "execution_count": 35,
   "id": "515ea06d-9026-4d9e-9df0-b9c249f0758a",
   "metadata": {},
   "outputs": [
    {
     "data": {
      "text/plain": [
       "<Code.FINISHED: 'finished'>"
      ]
     },
     "execution_count": 35,
     "metadata": {},
     "output_type": "execute_result"
    }
   ],
   "source": [
    "exe._run_machine.state"
   ]
  },
  {
   "cell_type": "code",
   "execution_count": 36,
   "id": "52b7231f-8978-46ec-b698-ea8724a6fea3",
   "metadata": {},
   "outputs": [
    {
     "data": {
      "text/plain": [
       "0.07557120098499581"
      ]
     },
     "execution_count": 36,
     "metadata": {},
     "output_type": "execute_result"
    }
   ],
   "source": [
    "exe._run_time"
   ]
  },
  {
   "cell_type": "code",
   "execution_count": 37,
   "id": "c845430c-119d-4566-88e1-8465e378fde1",
   "metadata": {},
   "outputs": [
    {
     "data": {
      "text/plain": [
       "1.684704329818487e-05"
      ]
     },
     "execution_count": 37,
     "metadata": {},
     "output_type": "execute_result"
    }
   ],
   "source": [
    "exe._collect_time"
   ]
  },
  {
   "cell_type": "code",
   "execution_count": 38,
   "id": "35291d7f-33a9-41ab-9b80-f052c5eb2e55",
   "metadata": {},
   "outputs": [
    {
     "data": {
      "image/png": "[encoded data removed]",
      "text/plain": [
       "<Figure size 640x480 with 1 Axes>"
      ]
     },
     "metadata": {},
     "output_type": "display_data"
    }
   ],
   "source": [
    "exe.output[0].plot_energies()"
   ]
  },
  {
   "cell_type": "code",
   "execution_count": 39,
   "id": "1d5b5203-d07f-485b-9553-9150f4a674e7",
   "metadata": {},
   "outputs": [
    {
     "data": {
      "text/plain": [
       "[11.122158782511535,\n",
       " -0.2782678462106827,\n",
       " -0.9960554302957411,\n",
       " -3.560246436024868e-08,\n",
       " -3.560246436024868e-08]"
      ]
     },
     "execution_count": 39,
     "metadata": {},
     "output_type": "execute_result"
    }
   ],
   "source": [
    "exe.output[0].pot_energies"
   ]
  },
  {
   "cell_type": "code",
   "execution_count": 40,
   "id": "d2cc3b3a-5daa-49bb-9d6d-2994ebc74273",
   "metadata": {},
   "outputs": [
    {
     "data": {
      "application/vnd.jupyter.widget-view+json": {
       "model_id": "63d6a4ee513142359ee6edc4754f18ab",
       "version_major": 2,
       "version_minor": 0
      },
      "text/plain": [
       "NGLWidget(max_frame=4)"
      ]
     },
     "metadata": {},
     "output_type": "display_data"
    }
   ],
   "source": [
    "exe.output[0].animate_structures()"
   ]
  },
  {
   "cell_type": "markdown",
   "id": "32c15731-fd88-40d1-9045-beb9c53de501",
   "metadata": {
    "tags": []
   },
   "source": [
    "# Murnaghan"
   ]
  },
  {
   "cell_type": "markdown",
   "id": "aa535698-ddaa-4d60-862c-d6d6d5ecb6c8",
   "metadata": {},
   "source": [
    "## Basic"
   ]
  },
  {
   "cell_type": "code",
   "execution_count": 41,
   "id": "4acdeafc-90b5-4b3f-9559-c74b9fa221ab",
   "metadata": {},
   "outputs": [],
   "source": [
    "m = MurnaghanNode()"
   ]
  },
  {
   "cell_type": "code",
   "execution_count": 42,
   "id": "f8cf3136-9b7c-4f1e-b630-962795527946",
   "metadata": {},
   "outputs": [],
   "source": [
    "m.input.node = AseStaticNode()\n",
    "m.input.node.input.calculator = MorsePotential()\n",
    "m.input.structure = bulk(\"Fe\", a=1.2)"
   ]
  },
  {
   "cell_type": "code",
   "execution_count": 43,
   "id": "fef21aa4-d9f1-4d4a-8761-af1bc3121e5b",
   "metadata": {},
   "outputs": [
    {
     "data": {
      "text/plain": [
       "<pyiron_contrib.tinybase.ase.AseStaticInput at 0x7fb82a1ad550>"
      ]
     },
     "execution_count": 43,
     "metadata": {},
     "output_type": "execute_result"
    }
   ],
   "source": [
    "m.input.node.input"
   ]
  },
  {
   "cell_type": "code",
   "execution_count": 44,
   "id": "41a68b17-c7c4-4a5f-8f04-11bee18fe55a",
   "metadata": {},
   "outputs": [],
   "source": [
    "m.input.set_strain_range(.5, 50)"
   ]
  },
  {
   "cell_type": "code",
   "execution_count": 45,
   "id": "fd107556-99b6-4042-9209-9412b4bbff94",
   "metadata": {},
   "outputs": [
    {
     "data": {
      "text/plain": [
       "array([0.79370053, 0.8043555 , 0.81473542, 0.82485739, 0.83473686,\n",
       "       0.84438786, 0.85382314, 0.86305437, 0.87209225, 0.88094658,\n",
       "       0.88962642, 0.89814011, 0.90649538, 0.9146994 , 0.92275884,\n",
       "       0.93067991, 0.93846839, 0.94612969, 0.95366889, 0.96109074,\n",
       "       0.96839969, 0.97559996, 0.98269548, 0.98968999, 0.996587  ,\n",
       "       1.00338986, 1.01010169, 1.0167255 , 1.02326411, 1.0297202 ,\n",
       "       1.03609634, 1.04239496, 1.04861836, 1.05476875, 1.06084824,\n",
       "       1.06685884, 1.07280247, 1.07868096, 1.08449606, 1.09024946,\n",
       "       1.09594278, 1.10157754, 1.10715524, 1.11267731, 1.1181451 ,\n",
       "       1.12355993, 1.12892306, 1.13423572, 1.13949907, 1.14471424])"
      ]
     },
     "execution_count": 45,
     "metadata": {},
     "output_type": "execute_result"
    }
   ],
   "source": [
    "m.input.strains"
   ]
  },
  {
   "cell_type": "code",
   "execution_count": 46,
   "id": "0715614a-7284-4388-ac6b-c97bfedf7184",
   "metadata": {},
   "outputs": [
    {
     "data": {
      "text/plain": [
       "True"
      ]
     },
     "execution_count": 46,
     "metadata": {},
     "output_type": "execute_result"
    }
   ],
   "source": [
    "m.input.check_ready()"
   ]
  },
  {
   "cell_type": "code",
   "execution_count": 47,
   "id": "c2aa3093-1ea8-4099-bc14-be0c06e9d34b",
   "metadata": {
    "scrolled": true,
    "tags": []
   },
   "outputs": [],
   "source": [
    "exe = m.run(how='foreground')"
   ]
  },
  {
   "cell_type": "code",
   "execution_count": 48,
   "id": "be97853a-f182-4b4f-af74-7fd5a4fbd850",
   "metadata": {},
   "outputs": [
    {
     "data": {
      "text/plain": [
       "(ReturnStatus(Code.DONE, None),)"
      ]
     },
     "execution_count": 48,
     "metadata": {},
     "output_type": "execute_result"
    }
   ],
   "source": [
    "exe.status"
   ]
  },
  {
   "cell_type": "code",
   "execution_count": 49,
   "id": "47f916ef-b140-49c5-adf1-93dca91b4540",
   "metadata": {},
   "outputs": [
    {
     "data": {
      "image/png": "[encoded data removed]",
      "text/plain": [
       "<Figure size 640x480 with 1 Axes>"
      ]
     },
     "metadata": {},
     "output_type": "display_data"
    }
   ],
   "source": [
    "exe.output[0].plot()"
   ]
  },
  {
   "cell_type": "code",
   "execution_count": 50,
   "id": "14162f5b-1318-4595-8c8c-d6346a21721d",
   "metadata": {},
   "outputs": [
    {
     "data": {
      "text/plain": [
       "0.6788586373205143"
      ]
     },
     "execution_count": 50,
     "metadata": {},
     "output_type": "execute_result"
    }
   ],
   "source": [
    "exe.output[0].equilibrium_volume"
   ]
  },
  {
   "cell_type": "code",
   "execution_count": 51,
   "id": "0f5ff296-df33-40d2-851b-02d6ded72dd6",
   "metadata": {},
   "outputs": [
    {
     "data": {
      "text/plain": [
       "0.6788586373205143"
      ]
     },
     "execution_count": 51,
     "metadata": {},
     "output_type": "execute_result"
    }
   ],
   "source": [
    "exe.output[0].get_structure().get_volume()"
   ]
  },
  {
   "cell_type": "code",
   "execution_count": 52,
   "id": "92b06330-b1fc-41d0-8bd8-bf1b11bf448c",
   "metadata": {},
   "outputs": [
    {
     "data": {
      "text/plain": [
       "Atoms(symbols='Fe', pbc=True, cell=[[-0.5536557129291797, 0.5536557129291797, 0.5536557129291797], [0.5536557129291797, -0.5536557129291797, 0.5536557129291797], [0.5536557129291797, 0.5536557129291797, -0.5536557129291797]])"
      ]
     },
     "execution_count": 52,
     "metadata": {},
     "output_type": "execute_result"
    }
   ],
   "source": [
    "exe.output[0].get_structure()"
   ]
  },
  {
   "cell_type": "markdown",
   "id": "26bade63-559f-4c93-be24-5561f5c8190f",
   "metadata": {},
   "source": [
    "## Again but execute children as background processes, but keep the node itself blocking"
   ]
  },
  {
   "cell_type": "code",
   "execution_count": 53,
   "id": "89169376-be36-4ceb-9f4e-6e1f3247bc62",
   "metadata": {},
   "outputs": [],
   "source": [
    "m = MurnaghanNode()"
   ]
  },
  {
   "cell_type": "code",
   "execution_count": 54,
   "id": "2ee9f1d4-5b14-4340-98d4-4bd293af89a4",
   "metadata": {},
   "outputs": [],
   "source": [
    "m.input.node = AseStaticNode()\n",
    "m.input.node.input.calculator = MorsePotential()\n",
    "m.input.structure = bulk(\"Fe\", a=1.2)"
   ]
  },
  {
   "cell_type": "code",
   "execution_count": 55,
   "id": "3d73a9de-7b4e-476a-b50a-ac6a3957a7ab",
   "metadata": {},
   "outputs": [
    {
     "data": {
      "text/plain": [
       "<pyiron_contrib.tinybase.ase.AseStaticInput at 0x7fb82a30b690>"
      ]
     },
     "execution_count": 55,
     "metadata": {},
     "output_type": "execute_result"
    }
   ],
   "source": [
    "m.input.node.input"
   ]
  },
  {
   "cell_type": "code",
   "execution_count": 56,
   "id": "0f075d90-e636-49be-b1a6-741a56363f54",
   "metadata": {},
   "outputs": [],
   "source": [
    "m.input.set_strain_range(.6, 1000)"
   ]
  },
  {
   "cell_type": "code",
   "execution_count": null,
   "id": "2b2f703c-745b-49f9-a81f-a780248e9cd3",
   "metadata": {},
   "outputs": [],
   "source": []
  },
  {
   "cell_type": "code",
   "execution_count": 57,
   "id": "58064e52-1c94-49fd-b38f-614cf6f19004",
   "metadata": {},
   "outputs": [],
   "source": [
    "m.input.child_executor = ProcessExecutor"
   ]
  },
  {
   "cell_type": "code",
   "execution_count": 58,
   "id": "d82a28ab-1a96-4a3a-8f79-5a875ac20788",
   "metadata": {
    "scrolled": true,
    "tags": []
   },
   "outputs": [],
   "source": [
    "exe = m.run(how='foreground')"
   ]
  },
  {
   "cell_type": "code",
   "execution_count": 59,
   "id": "5472daed-f25c-4aab-b101-90c76a0235a5",
   "metadata": {
    "scrolled": true,
    "tags": []
   },
   "outputs": [
    {
     "data": {
      "text/plain": [
       "<Code.FINISHED: 'finished'>"
      ]
     },
     "execution_count": 59,
     "metadata": {},
     "output_type": "execute_result"
    }
   ],
   "source": [
    "exe._run_machine.state"
   ]
  },
  {
   "cell_type": "code",
   "execution_count": 60,
   "id": "a42865c9-8616-4335-8e46-ec4839daab0a",
   "metadata": {},
   "outputs": [
    {
     "data": {
      "text/plain": [
       "27.43538186798105"
      ]
     },
     "execution_count": 60,
     "metadata": {},
     "output_type": "execute_result"
    }
   ],
   "source": [
    "exe._run_time"
   ]
  },
  {
   "cell_type": "code",
   "execution_count": 61,
   "id": "d894a79f-a9e6-4667-9a9b-2bd9a088622f",
   "metadata": {},
   "outputs": [
    {
     "data": {
      "text/plain": [
       "8.610018994659185e-06"
      ]
     },
     "execution_count": 61,
     "metadata": {},
     "output_type": "execute_result"
    }
   ],
   "source": [
    "exe._collect_time"
   ]
  },
  {
   "cell_type": "code",
   "execution_count": 62,
   "id": "78017969-23fc-46f5-b99f-cd1d2dc74c00",
   "metadata": {},
   "outputs": [
    {
     "data": {
      "image/png": "[encoded data removed]",
      "text/plain": [
       "<Figure size 640x480 with 1 Axes>"
      ]
     },
     "metadata": {},
     "output_type": "display_data"
    }
   ],
   "source": [
    "exe.output[0].plot()"
   ]
  },
  {
   "cell_type": "code",
   "execution_count": 63,
   "id": "45162eb2-b23d-45c6-8aad-dfe9a6a484d1",
   "metadata": {},
   "outputs": [
    {
     "data": {
      "text/plain": [
       "0.6818586500998999"
      ]
     },
     "execution_count": 63,
     "metadata": {},
     "output_type": "execute_result"
    }
   ],
   "source": [
    "exe.output[0].get_structure().get_volume()"
   ]
  },
  {
   "cell_type": "code",
   "execution_count": 64,
   "id": "f0bcfe59-2168-4e74-9d7a-33d900368907",
   "metadata": {},
   "outputs": [
    {
     "data": {
      "text/plain": [
       "0.6818586500999"
      ]
     },
     "execution_count": 64,
     "metadata": {},
     "output_type": "execute_result"
    }
   ],
   "source": [
    "exe.output[0].equilibrium_volume"
   ]
  },
  {
   "cell_type": "markdown",
   "id": "36b17048-3941-4d86-bd2a-e131371f4bad",
   "metadata": {},
   "source": [
    "## Again but execute everything in the background."
   ]
  },
  {
   "cell_type": "code",
   "execution_count": 85,
   "id": "10f6c113-1e35-48f0-8878-291129bd8a60",
   "metadata": {},
   "outputs": [],
   "source": [
    "m = MurnaghanNode()"
   ]
  },
  {
   "cell_type": "code",
   "execution_count": 86,
   "id": "70832c31-040e-49be-b0f7-172f930cf31b",
   "metadata": {},
   "outputs": [],
   "source": [
    "m.input.node = AseStaticNode()\n",
    "m.input.node.input.calculator = MorsePotential()\n",
    "m.input.structure = bulk(\"Fe\", a=1.2)"
   ]
  },
  {
   "cell_type": "code",
   "execution_count": 87,
   "id": "94f4c51d-b69b-4477-a9db-d0ee7627cee6",
   "metadata": {},
   "outputs": [
    {
     "data": {
      "text/plain": [
       "<pyiron_contrib.tinybase.ase.AseStaticInput at 0x7fb8336d3690>"
      ]
     },
     "execution_count": 87,
     "metadata": {},
     "output_type": "execute_result"
    }
   ],
   "source": [
    "m.input.node.input"
   ]
  },
  {
   "cell_type": "code",
   "execution_count": 88,
   "id": "9a000824-0a9e-4395-8e07-00e484bc7937",
   "metadata": {},
   "outputs": [],
   "source": [
    "m.input.set_strain_range(.5, 100)"
   ]
  },
  {
   "cell_type": "markdown",
   "id": "82c9d3a2-d93c-41aa-a1af-52bfab8cd8df",
   "metadata": {},
   "source": [
    "Use the threading backend just to show off."
   ]
  },
  {
   "cell_type": "code",
   "execution_count": 89,
   "id": "ca50857c-1c2f-4fad-a58c-16b399b8721d",
   "metadata": {},
   "outputs": [],
   "source": [
    "from pyiron_contrib.tinybase.executor import BackgroundExecutor\n",
    "\n",
    "m.input.child_executor = BackgroundExecutor"
   ]
  },
  {
   "cell_type": "code",
   "execution_count": 90,
   "id": "12f20f5c-27a3-4533-ad19-8ec06e1c8a90",
   "metadata": {
    "scrolled": true,
    "tags": []
   },
   "outputs": [],
   "source": [
    "exe = m.run(how='background')"
   ]
  },
  {
   "cell_type": "code",
   "execution_count": 91,
   "id": "2c5d8bea-49ec-4004-8a54-3ded7a3f413d",
   "metadata": {},
   "outputs": [],
   "source": [
    "exe.wait()"
   ]
  },
  {
   "cell_type": "code",
   "execution_count": 92,
   "id": "ea7bcb58-0890-487e-bef5-bd3cb36143c1",
   "metadata": {},
   "outputs": [
    {
     "data": {
      "text/plain": [
       "<Code.FINISHED: 'finished'>"
      ]
     },
     "execution_count": 92,
     "metadata": {},
     "output_type": "execute_result"
    }
   ],
   "source": [
    "exe._run_machine.state"
   ]
  },
  {
   "cell_type": "code",
   "execution_count": 93,
   "id": "0b7c2912-6847-4262-a62d-7233ca398643",
   "metadata": {},
   "outputs": [
    {
     "data": {
      "text/plain": [
       "10.82231778698042"
      ]
     },
     "execution_count": 93,
     "metadata": {},
     "output_type": "execute_result"
    }
   ],
   "source": [
    "exe._run_time"
   ]
  },
  {
   "cell_type": "code",
   "execution_count": 94,
   "id": "fd5ca921-2062-4f85-b014-382561e9893a",
   "metadata": {},
   "outputs": [
    {
     "data": {
      "text/plain": [
       "5.160982254892588e-06"
      ]
     },
     "execution_count": 94,
     "metadata": {},
     "output_type": "execute_result"
    }
   ],
   "source": [
    "exe._collect_time"
   ]
  },
  {
   "cell_type": "code",
   "execution_count": 95,
   "id": "4d1223f7-2d72-413e-b20b-cf42781780bb",
   "metadata": {},
   "outputs": [
    {
     "data": {
      "image/png": "[encoded data removed]",
      "text/plain": [
       "<Figure size 640x480 with 1 Axes>"
      ]
     },
     "metadata": {},
     "output_type": "display_data"
    }
   ],
   "source": [
    "exe.output[0].plot()"
   ]
  },
  {
   "cell_type": "markdown",
   "id": "e21f6582-e7ec-43be-80ec-e9ad53aabc43",
   "metadata": {},
   "source": [
    "# Combine Minimize and Murnaghan"
   ]
  },
  {
   "cell_type": "code",
   "execution_count": 76,
   "id": "149c52b5-a0ce-4e6b-ba55-d94d33aa2f8a",
   "metadata": {},
   "outputs": [],
   "source": [
    "m = MurnaghanNode()"
   ]
  },
  {
   "cell_type": "code",
   "execution_count": 77,
   "id": "aca24005-ea49-4389-bc26-f292fd0a75a2",
   "metadata": {},
   "outputs": [],
   "source": [
    "m.input.node = AseMinimizeNode()\n",
    "m.input.node.input.calculator = MorsePotential()\n",
    "m.input.node.input.max_steps = 100\n",
    "m.input.node.input.output_steps = 10\n",
    "m.input.node.input.ionic_force_tolerance = 1e-6\n",
    "m.input.node.input.lbfgs()\n",
    "\n",
    "m.input.structure = bulk(\"Fe\", a=1.2)"
   ]
  },
  {
   "cell_type": "code",
   "execution_count": 78,
   "id": "4ae990bd-af18-4dae-8500-779c9509f3f6",
   "metadata": {},
   "outputs": [],
   "source": [
    "m.input.set_strain_range(.5, 500)"
   ]
  },
  {
   "cell_type": "code",
   "execution_count": 79,
   "id": "fa62529f-45e6-4e2d-822d-b1cc433a7223",
   "metadata": {},
   "outputs": [],
   "source": [
    "m.input.child_executor = ProcessExecutor"
   ]
  },
  {
   "cell_type": "code",
   "execution_count": 80,
   "id": "0925864e-4dd1-4f4e-ace4-aac09c55e787",
   "metadata": {
    "scrolled": true,
    "tags": []
   },
   "outputs": [
    {
     "name": "stdout",
     "output_type": "stream",
     "text": [
      "       Step     Time          Energy         fmax\n",
      "LBFGS:    0 09:04:53        4.517693        0.0000\n",
      "       Step     Time          Energy         fmax\n",
      "LBFGS:    0 09:04:53        4.251945        0.0000\n",
      "       Step     Time          Energy         fmax\n",
      "       Step     Time          Energy         fmax\n",
      "LBFGS:    0 09:04:53        3.991875        0.0000\n",
      "LBFGS:    0 09:04:53        4.789242        0.0000\n",
      "       Step     Time          Energy         fmax\n",
      "LBFGS:    0 09:04:54        3.737364        0.0000\n",
      "       Step     Time          Energy         fmax\n",
      "LBFGS:    0 09:04:54        3.488292        0.0000\n",
      "       Step     Time          Energy         fmax\n",
      "LBFGS:    0 09:04:54        3.006013        0.0000\n",
      "       Step     Time          Energy         fmax\n",
      "LBFGS:    0 09:04:54        3.244546        0.0000\n",
      "       Step     Time          Energy         fmax\n",
      "LBFGS:    0 09:04:54        2.772582        0.0000\n",
      "       Step     Time          Energy         fmax\n",
      "LBFGS:    0 09:04:54        2.544148        0.0000\n",
      "       Step     Time          Energy         fmax\n",
      "LBFGS:    0 09:04:54        2.320604        0.0000\n",
      "       Step     Time          Energy         fmax\n",
      "LBFGS:    0 09:04:54        2.101849        0.0000\n",
      "       Step     Time          Energy         fmax\n",
      "LBFGS:    0 09:04:54        1.887783        0.0000\n",
      "       Step     Time          Energy         fmax\n",
      "LBFGS:    0 09:04:54        1.272749        0.0000\n",
      "       Step     Time          Energy         fmax\n",
      "LBFGS:    0 09:04:54        1.473327        0.0000\n",
      "       Step     Time          Energy         fmax\n",
      "LBFGS:    0 09:04:54        1.678307        0.0000\n",
      "       Step     Time          Energy         fmax\n",
      "LBFGS:    0 09:04:54        1.076481        0.0000\n",
      "       Step     Time          Energy         fmax\n",
      "LBFGS:    0 09:04:54        0.696523        0.0000\n",
      "       Step     Time          Energy         fmax\n",
      "LBFGS:    0 09:04:54        0.884435        0.0000\n",
      "       Step     Time          Energy         fmax\n",
      "LBFGS:    0 09:04:54        0.512659        0.0000\n",
      "       Step     Time          Energy         fmax\n",
      "LBFGS:    0 09:04:54        0.332761        0.0000\n",
      "       Step     Time          Energy         fmax\n",
      "LBFGS:    0 09:04:54        0.156747        0.0000\n",
      "       Step     Time          Energy         fmax\n",
      "LBFGS:    0 09:04:54       -0.015462        0.0000\n",
      "       Step     Time          Energy         fmax\n",
      "LBFGS:    0 09:04:54       -0.183946        0.0000\n",
      "       Step     Time          Energy         fmax\n",
      "LBFGS:    0 09:04:54       -0.348779        0.0000\n",
      "       Step     Time          Energy         fmax\n",
      "LBFGS:    0 09:04:54       -0.510037        0.0000\n",
      "       Step     Time          Energy         fmax\n",
      "       Step     Time          Energy         fmax\n",
      "LBFGS:    0 09:04:54       -0.667792        0.0000\n",
      "LBFGS:    0 09:04:54       -0.822116        0.0000\n",
      "       Step     Time          Energy         fmax\n",
      "LBFGS:    0 09:04:55       -0.973078        0.0000\n",
      "       Step     Time          Energy         fmax\n",
      "LBFGS:    0 09:04:55       -1.120747        0.0000\n",
      "       Step     Time          Energy         fmax\n",
      "LBFGS:    0 09:04:55       -1.406469        0.0000\n",
      "       Step     Time          Energy         fmax\n",
      "LBFGS:    0 09:04:55       -1.265189        0.0000\n",
      "       Step     Time          Energy         fmax\n",
      "LBFGS:    0 09:04:55       -1.544652        0.0000\n",
      "       Step     Time          Energy         fmax\n",
      "LBFGS:    0 09:04:55       -1.811973        0.0000\n",
      "       Step     Time          Energy         fmax\n",
      "LBFGS:    0 09:04:55       -1.679799        0.0000\n",
      "       Step     Time          Energy         fmax\n",
      "LBFGS:    0 09:04:55       -1.941232        0.0000\n",
      "       Step     Time          Energy         fmax\n",
      "LBFGS:    0 09:04:55       -2.067636        0.0000\n",
      "       Step     Time          Energy         fmax\n",
      "LBFGS:    0 09:04:55       -2.191241        0.0000\n",
      "       Step     Time          Energy         fmax\n",
      "LBFGS:    0 09:04:55       -2.312104        0.0000\n",
      "       Step     Time          Energy         fmax\n",
      "LBFGS:    0 09:04:55       -2.430279        0.0000\n",
      "       Step     Time          Energy         fmax\n",
      "LBFGS:    0 09:04:55       -2.658780        0.0000\n",
      "       Step     Time          Energy         fmax\n",
      "       Step     Time          Energy         fmax\n",
      "LBFGS:    0 09:04:55       -2.545820        0.0000\n",
      "LBFGS:    0 09:04:55       -2.769210        0.0000\n",
      "       Step     Time          Energy         fmax\n",
      "LBFGS:    0 09:04:55       -2.877160        0.0000\n",
      "       Step     Time          Energy         fmax\n",
      "       Step     Time          Energy         fmax\n",
      "LBFGS:    0 09:04:55       -2.982680        0.0000\n",
      "LBFGS:    0 09:04:55       -3.186620        0.0000\n",
      "       Step     Time          Energy         fmax\n",
      "LBFGS:    0 09:04:55       -3.085817        0.0000\n",
      "       Step     Time          Energy         fmax\n",
      "LBFGS:    0 09:04:55       -3.285134        0.0000\n",
      "       Step     Time          Energy         fmax\n",
      "LBFGS:    0 09:04:55       -3.381404        0.0000\n",
      "       Step     Time          Energy         fmax\n",
      "LBFGS:    0 09:04:55       -3.475475        0.0000\n",
      "       Step     Time          Energy         fmax\n",
      "LBFGS:    0 09:04:55       -3.567390        0.0000\n",
      "       Step     Time          Energy         fmax\n",
      "LBFGS:    0 09:04:56       -3.657192        0.0000\n",
      "       Step     Time          Energy         fmax\n",
      "LBFGS:    0 09:04:56       -3.744922        0.0000\n",
      "       Step     Time          Energy         fmax\n",
      "LBFGS:    0 09:04:56       -3.830620        0.0000\n",
      "       Step     Time          Energy         fmax\n",
      "LBFGS:    0 09:04:56       -3.914328        0.0000\n",
      "       Step     Time          Energy         fmax\n",
      "LBFGS:    0 09:04:56       -3.996084        0.0000\n",
      "       Step     Time          Energy         fmax\n",
      "LBFGS:    0 09:04:56       -4.075925        0.0000\n",
      "       Step     Time          Energy         fmax\n",
      "LBFGS:    0 09:04:56       -4.153891        0.0000\n",
      "       Step     Time          Energy         fmax\n",
      "LBFGS:    0 09:04:56       -4.230016        0.0000\n",
      "       Step     Time          Energy         fmax\n",
      "LBFGS:    0 09:04:56       -4.304338        0.0000\n",
      "       Step     Time          Energy         fmax\n",
      "LBFGS:    0 09:04:56       -4.376892        0.0000\n",
      "       Step     Time          Energy         fmax\n",
      "LBFGS:    0 09:04:56       -4.447711        0.0000\n",
      "       Step     Time          Energy         fmax\n",
      "LBFGS:    0 09:04:56       -4.516830        0.0000\n",
      "       Step     Time          Energy         fmax\n",
      "LBFGS:    0 09:04:56       -4.584282        0.0000\n",
      "       Step     Time          Energy         fmax\n",
      "LBFGS:    0 09:04:56       -4.650099        0.0000\n",
      "       Step     Time          Energy         fmax\n",
      "LBFGS:    0 09:04:56       -4.714313        0.0000\n",
      "       Step     Time          Energy         fmax\n",
      "LBFGS:    0 09:04:56       -4.838057        0.0000\n",
      "       Step     Time          Energy         fmax\n",
      "LBFGS:    0 09:04:56       -4.776956        0.0000\n",
      "       Step     Time          Energy         fmax\n",
      "LBFGS:    0 09:04:56       -4.897647        0.0000\n",
      "       Step     Time          Energy         fmax\n",
      "LBFGS:    0 09:04:56       -4.955755        0.0000\n",
      "       Step     Time          Energy         fmax\n",
      "LBFGS:    0 09:04:56       -5.012409        0.0000\n",
      "       Step     Time          Energy         fmax\n",
      "LBFGS:    0 09:04:56       -5.067638        0.0000\n",
      "       Step     Time          Energy         fmax\n",
      "LBFGS:    0 09:04:56       -5.121469        0.0000\n",
      "       Step     Time          Energy         fmax\n",
      "LBFGS:    0 09:04:57       -5.173930        0.0000\n",
      "       Step     Time          Energy         fmax\n",
      "LBFGS:    0 09:04:57       -5.225046        0.0000\n",
      "       Step     Time          Energy         fmax\n",
      "LBFGS:    0 09:04:57       -5.274844        0.0000\n",
      "       Step     Time          Energy         fmax\n",
      "LBFGS:    0 09:04:57       -5.323350        0.0000\n",
      "       Step     Time          Energy         fmax\n",
      "       Step     Time          Energy         fmax\n",
      "LBFGS:    0 09:04:57       -5.370587        0.0000\n",
      "LBFGS:    0 09:04:57       -5.416581        0.0000\n",
      "       Step     Time          Energy         fmax\n",
      "LBFGS:    0 09:04:57       -5.461356        0.0000\n",
      "       Step     Time          Energy         fmax\n",
      "LBFGS:    0 09:04:57       -5.504934        0.0000\n",
      "       Step     Time          Energy         fmax\n",
      "LBFGS:    0 09:04:57       -5.588595        0.0000\n",
      "       Step     Time          Energy         fmax\n",
      "LBFGS:    0 09:04:57       -5.547340        0.0000\n",
      "       Step     Time          Energy         fmax\n",
      "LBFGS:    0 09:04:57       -5.628722        0.0000\n",
      "       Step     Time          Energy         fmax\n",
      "LBFGS:    0 09:04:57       -5.667742        0.0000\n",
      "       Step     Time          Energy         fmax\n",
      "LBFGS:    0 09:04:57       -5.705677        0.0000\n",
      "       Step     Time          Energy         fmax\n",
      "LBFGS:    0 09:04:57       -5.742548        0.0000\n",
      "       Step     Time          Energy         fmax\n",
      "LBFGS:    0 09:04:57       -5.778375        0.0000\n",
      "       Step     Time          Energy         fmax\n",
      "LBFGS:    0 09:04:57       -5.813177        0.0000\n",
      "       Step     Time          Energy         fmax\n",
      "LBFGS:    0 09:04:57       -5.846976        0.0000\n",
      "       Step     Time          Energy         fmax\n",
      "LBFGS:    0 09:04:57       -5.879789        0.0000\n",
      "       Step     Time          Energy         fmax\n",
      "LBFGS:    0 09:04:57       -5.911636        0.0000\n",
      "       Step     Time          Energy         fmax\n",
      "LBFGS:    0 09:04:57       -5.942536        0.0000\n",
      "       Step     Time          Energy         fmax\n",
      "LBFGS:    0 09:04:57       -5.972506        0.0000\n",
      "       Step     Time          Energy         fmax\n",
      "LBFGS:    0 09:04:57       -6.001565        0.0000\n",
      "       Step     Time          Energy         fmax\n",
      "LBFGS:    0 09:04:57       -6.029730        0.0000\n",
      "       Step     Time          Energy         fmax\n",
      "LBFGS:    0 09:04:57       -6.057017        0.0000\n",
      "       Step     Time          Energy         fmax\n",
      "LBFGS:    0 09:04:57       -6.083445        0.0000\n",
      "       Step     Time          Energy         fmax\n",
      "LBFGS:    0 09:04:58       -6.109029        0.0000\n",
      "       Step     Time          Energy         fmax\n",
      "LBFGS:    0 09:04:58       -6.133786        0.0000\n",
      "       Step     Time          Energy         fmax\n",
      "LBFGS:    0 09:04:58       -6.157731        0.0000\n",
      "       Step     Time          Energy         fmax\n",
      "LBFGS:    0 09:04:58       -6.180881        0.0000\n",
      "       Step     Time          Energy         fmax\n",
      "LBFGS:    0 09:04:58       -6.203250        0.0000\n",
      "       Step     Time          Energy         fmax\n",
      "LBFGS:    0 09:04:58       -6.245705        0.0000\n",
      "       Step     Time          Energy         fmax\n",
      "LBFGS:    0 09:04:58       -6.224853        0.0000\n",
      "       Step     Time          Energy         fmax\n",
      "LBFGS:    0 09:04:58       -6.265820        0.0000\n",
      "       Step     Time          Energy         fmax\n",
      "LBFGS:    0 09:04:58       -6.285213        0.0000\n",
      "       Step     Time          Energy         fmax\n",
      "LBFGS:    0 09:04:58       -6.303898        0.0000\n",
      "       Step     Time          Energy         fmax\n",
      "LBFGS:    0 09:04:58       -6.321888        0.0000\n",
      "       Step     Time          Energy         fmax\n",
      "LBFGS:    0 09:04:58       -6.339196        0.0000\n",
      "       Step     Time          Energy         fmax\n",
      "LBFGS:    0 09:04:58       -6.355836        0.0000\n",
      "       Step     Time          Energy         fmax\n",
      "LBFGS:    0 09:04:58       -6.371820        0.0000\n",
      "       Step     Time          Energy         fmax\n",
      "LBFGS:    0 09:04:58       -6.387162        0.0000\n",
      "       Step     Time          Energy         fmax\n",
      "LBFGS:    0 09:04:58       -6.401872        0.0000\n",
      "       Step     Time          Energy         fmax\n",
      "LBFGS:    0 09:04:58       -6.415965        0.0000\n",
      "       Step     Time          Energy         fmax\n",
      "LBFGS:    0 09:04:58       -6.442342        0.0000\n",
      "       Step     Time          Energy         fmax\n",
      "LBFGS:    0 09:04:58       -6.429451        0.0000\n",
      "       Step     Time          Energy         fmax\n",
      "LBFGS:    0 09:04:58       -6.454650        0.0000\n",
      "       Step     Time          Energy         fmax\n",
      "LBFGS:    0 09:04:58       -6.466386        0.0000\n",
      "       Step     Time          Energy         fmax\n",
      "LBFGS:    0 09:04:58       -6.477561        0.0000\n",
      "       Step     Time          Energy         fmax\n",
      "LBFGS:    0 09:04:58       -6.488186        0.0000\n",
      "       Step     Time          Energy         fmax\n",
      "LBFGS:    0 09:04:58       -6.498271        0.0000\n",
      "       Step     Time          Energy         fmax\n",
      "LBFGS:    0 09:04:58       -6.507828        0.0000\n",
      "       Step     Time          Energy         fmax\n",
      "LBFGS:    0 09:04:58       -6.516865        0.0000\n",
      "       Step     Time          Energy         fmax\n",
      "LBFGS:    0 09:04:58       -6.525395        0.0000\n",
      "       Step     Time          Energy         fmax\n",
      "LBFGS:    0 09:04:58       -6.533425        0.0000\n",
      "       Step     Time          Energy         fmax\n",
      "LBFGS:    0 09:04:58       -6.540966        0.0000\n",
      "       Step     Time          Energy         fmax\n",
      "LBFGS:    0 09:04:58       -6.548028        0.0000\n",
      "       Step     Time          Energy         fmax\n",
      "LBFGS:    0 09:04:58       -6.554620        0.0000\n",
      "       Step     Time          Energy         fmax\n",
      "LBFGS:    0 09:04:58       -6.560750        0.0000\n",
      "       Step     Time          Energy         fmax\n",
      "LBFGS:    0 09:04:58       -6.566429        0.0000\n",
      "       Step     Time          Energy         fmax\n",
      "LBFGS:    0 09:04:58       -6.571664        0.0000\n",
      "       Step     Time          Energy         fmax\n",
      "       Step     Time          Energy         fmax\n",
      "LBFGS:    0 09:04:58       -6.576465        0.0000\n",
      "LBFGS:    0 09:04:58       -6.580840        0.0000\n",
      "       Step     Time          Energy         fmax\n",
      "LBFGS:    0 09:04:58       -6.584797        0.0000\n",
      "       Step     Time          Energy         fmax\n",
      "LBFGS:    0 09:04:58       -6.588345        0.0000\n",
      "       Step     Time          Energy         fmax\n",
      "       Step     Time          Energy         fmax\n",
      "LBFGS:    0 09:04:59       -6.594245        0.0000\n",
      "LBFGS:    0 09:04:59       -6.591492        0.0000\n",
      "       Step     Time          Energy         fmax\n",
      "LBFGS:    0 09:04:59       -6.596612        0.0000\n",
      "       Step     Time          Energy         fmax\n",
      "LBFGS:    0 09:04:59       -6.598601        0.0000\n",
      "       Step     Time          Energy         fmax\n",
      "LBFGS:    0 09:04:59       -6.601475        0.0000\n",
      "       Step     Time          Energy         fmax\n",
      "       Step     Time          Energy         fmax\n",
      "LBFGS:    0 09:04:59       -6.600220        0.0000\n",
      "LBFGS:    0 09:04:59       -6.602374        0.0000\n",
      "       Step     Time          Energy         fmax\n",
      "LBFGS:    0 09:04:59       -6.602924        0.0000\n",
      "       Step     Time          Energy         fmax\n",
      "LBFGS:    0 09:04:59       -6.603132        0.0000\n",
      "       Step     Time          Energy         fmax\n",
      "       Step     Time          Energy         fmax\n",
      "LBFGS:    0 09:04:59       -6.602549        0.0000\n",
      "LBFGS:    0 09:04:59       -6.603005        0.0000\n",
      "       Step     Time          Energy         fmax\n",
      "LBFGS:    0 09:04:59       -6.601771        0.0000\n",
      "       Step     Time          Energy         fmax\n",
      "LBFGS:    0 09:04:59       -6.600678        0.0000\n",
      "       Step     Time          Energy         fmax\n",
      "       Step     Time          Energy         fmax\n",
      "LBFGS:    0 09:04:59       -6.597570        0.0000\n",
      "LBFGS:    0 09:04:59       -6.599275        0.0000\n",
      "       Step     Time          Energy         fmax\n",
      "LBFGS:    0 09:04:59       -6.595568        0.0000\n",
      "       Step     Time          Energy         fmax\n",
      "LBFGS:    0 09:04:59       -6.593275        0.0000\n",
      "       Step     Time          Energy         fmax\n",
      "LBFGS:    0 09:04:59       -6.590697        0.0000\n",
      "       Step     Time          Energy         fmax\n",
      "LBFGS:    0 09:04:59       -6.587840        0.0000\n",
      "       Step     Time          Energy         fmax\n",
      "LBFGS:    0 09:04:59       -6.584710        0.0000\n",
      "       Step     Time          Energy         fmax\n",
      "LBFGS:    0 09:04:59       -6.581312        0.0000\n",
      "       Step     Time          Energy         fmax\n",
      "LBFGS:    0 09:04:59       -6.577651        0.0000\n",
      "       Step     Time          Energy         fmax\n",
      "LBFGS:    0 09:04:59       -6.573734        0.0000\n",
      "       Step     Time          Energy         fmax\n",
      "LBFGS:    0 09:04:59       -6.569565        0.0000\n",
      "       Step     Time          Energy         fmax\n",
      "LBFGS:    0 09:04:59       -6.565149        0.0000\n",
      "       Step     Time          Energy         fmax\n",
      "LBFGS:    0 09:04:59       -6.560493        0.0000\n",
      "       Step     Time          Energy         fmax\n",
      "       Step     Time          Energy         fmax\n",
      "LBFGS:    0 09:04:59       -6.550475        0.0000\n",
      "LBFGS:    0 09:04:59       -6.555599        0.0000\n",
      "       Step     Time          Energy         fmax\n",
      "LBFGS:    0 09:04:59       -6.545124        0.0000\n",
      "       Step     Time          Energy         fmax\n",
      "LBFGS:    0 09:04:59       -6.539551        0.0000\n",
      "       Step     Time          Energy         fmax\n",
      "LBFGS:    0 09:04:59       -6.533761        0.0000\n",
      "       Step     Time          Energy         fmax\n",
      "LBFGS:    0 09:04:59       -6.527759        0.0000\n",
      "       Step     Time          Energy         fmax\n",
      "LBFGS:    0 09:04:59       -6.521548        0.0000\n",
      "       Step     Time          Energy         fmax\n",
      "LBFGS:    0 09:04:59       -6.515134        0.0000\n",
      "       Step     Time          Energy         fmax\n",
      "LBFGS:    0 09:04:59       -6.508521        0.0000\n",
      "       Step     Time          Energy         fmax\n",
      "LBFGS:    0 09:04:59       -6.501712        0.0000\n",
      "       Step     Time          Energy         fmax\n",
      "LBFGS:    0 09:04:59       -6.494713        0.0000\n",
      "       Step     Time          Energy         fmax\n",
      "LBFGS:    0 09:04:59       -6.487527        0.0000\n",
      "       Step     Time          Energy         fmax\n",
      "LBFGS:    0 09:04:59       -6.480158        0.0000\n",
      "       Step     Time          Energy         fmax\n",
      "LBFGS:    0 09:04:59       -6.472611        0.0000\n",
      "       Step     Time          Energy         fmax\n",
      "LBFGS:    0 09:05:00       -6.464889        0.0000\n",
      "       Step     Time          Energy         fmax\n",
      "       Step     Time          Energy         fmax\n",
      "LBFGS:    0 09:05:00       -6.440712        0.0000\n",
      "LBFGS:    0 09:05:00       -6.448936        0.0000\n",
      "       Step     Time          Energy         fmax\n",
      "LBFGS:    0 09:05:00       -6.456996        0.0000\n",
      "       Step     Time          Energy         fmax\n",
      "LBFGS:    0 09:05:00       -6.432329        0.0000\n",
      "       Step     Time          Energy         fmax\n",
      "LBFGS:    0 09:05:00       -6.415096        0.0000\n",
      "       Step     Time          Energy         fmax\n",
      "LBFGS:    0 09:05:00       -6.423789        0.0000\n",
      "       Step     Time          Energy         fmax\n",
      "       Step     Time          Energy         fmax\n",
      "LBFGS:    0 09:05:00       -6.406254        0.0000\n",
      "LBFGS:    0 09:05:00       -6.397266        0.0000\n",
      "       Step     Time          Energy         fmax\n",
      "LBFGS:    0 09:05:00       -6.388136        0.0000\n",
      "       Step     Time          Energy         fmax\n",
      "LBFGS:    0 09:05:00       -6.378866        0.0000\n",
      "       Step     Time          Energy         fmax\n",
      "LBFGS:    0 09:05:00       -6.369460        0.0000\n",
      "       Step     Time          Energy         fmax\n",
      "LBFGS:    0 09:05:00       -6.359921        0.0000\n",
      "       Step     Time          Energy         fmax\n",
      "LBFGS:    0 09:05:00       -6.350251        0.0000\n",
      "       Step     Time          Energy         fmax\n",
      "LBFGS:    0 09:05:00       -6.340455        0.0000\n",
      "       Step     Time          Energy         fmax\n",
      "LBFGS:    0 09:05:00       -6.330535        0.0000\n",
      "       Step     Time          Energy         fmax\n",
      "LBFGS:    0 09:05:00       -6.310333        0.0000\n",
      "       Step     Time          Energy         fmax\n",
      "       Step     Time          Energy         fmax\n",
      "LBFGS:    0 09:05:00       -6.320493        0.0000\n",
      "LBFGS:    0 09:05:00       -6.300058        0.0000\n",
      "       Step     Time          Energy         fmax\n",
      "       Step     Time          Energy         fmax\n",
      "LBFGS:    0 09:05:00       -6.289669        0.0000\n",
      "LBFGS:    0 09:05:00       -6.279171        0.0000\n",
      "       Step     Time          Energy         fmax\n",
      "LBFGS:    0 09:05:00       -6.268565        0.0000\n",
      "       Step     Time          Energy         fmax\n",
      "       Step     Time          Energy         fmax\n",
      "LBFGS:    0 09:05:00       -6.247042        0.0000\n",
      "LBFGS:    0 09:05:00       -6.257855        0.0000\n",
      "       Step     Time          Energy         fmax\n",
      "       Step     Time          Energy         fmax\n",
      "LBFGS:    0 09:05:00       -6.236130        0.0000\n",
      "LBFGS:    0 09:05:00       -6.225120        0.0000\n",
      "       Step     Time          Energy         fmax\n",
      "LBFGS:    0 09:05:00       -6.202819        0.0000\n",
      "       Step     Time          Energy         fmax\n",
      "       Step     Time          Energy         fmax\n",
      "LBFGS:    0 09:05:00       -6.214016        0.0000\n",
      "LBFGS:    0 09:05:00       -6.180158        0.0000\n",
      "       Step     Time          Energy         fmax\n",
      "LBFGS:    0 09:05:00       -6.168698        0.0000\n",
      "       Step     Time          Energy         fmax\n",
      "LBFGS:    0 09:05:00       -6.191532        0.0000\n",
      "       Step     Time          Energy         fmax\n",
      "LBFGS:    0 09:05:00       -6.157154        0.0000\n",
      "       Step     Time          Energy         fmax\n",
      "LBFGS:    0 09:05:00       -6.145530        0.0000\n",
      "       Step     Time          Energy         fmax\n",
      "LBFGS:    0 09:05:00       -6.133827        0.0000\n",
      "       Step     Time          Energy         fmax\n",
      "LBFGS:    0 09:05:01       -6.122047        0.0000\n",
      "       Step     Time          Energy         fmax\n",
      "LBFGS:    0 09:05:01       -6.110193        0.0000\n",
      "       Step     Time          Energy         fmax\n",
      "LBFGS:    0 09:05:01       -6.098266        0.0000\n",
      "       Step     Time          Energy         fmax\n",
      "LBFGS:    0 09:05:01       -6.086268        0.0000\n",
      "       Step     Time          Energy         fmax\n",
      "LBFGS:    0 09:05:01       -6.074202        0.0000\n",
      "       Step     Time          Energy         fmax\n",
      "LBFGS:    0 09:05:01       -6.062068        0.0000\n",
      "       Step     Time          Energy         fmax\n",
      "LBFGS:    0 09:05:01       -6.049871        0.0000\n",
      "       Step     Time          Energy         fmax\n",
      "LBFGS:    0 09:05:01       -6.037610        0.0000\n",
      "       Step     Time          Energy         fmax\n",
      "LBFGS:    0 09:05:01       -6.025288        0.0000\n",
      "       Step     Time          Energy         fmax\n",
      "LBFGS:    0 09:05:01       -6.000468        0.0000\n",
      "       Step     Time          Energy         fmax\n",
      "LBFGS:    0 09:05:01       -6.012907        0.0000\n",
      "       Step     Time          Energy         fmax\n",
      "LBFGS:    0 09:05:01       -5.987974        0.0000\n",
      "       Step     Time          Energy         fmax\n",
      "LBFGS:    0 09:05:01       -5.975426        0.0000\n",
      "       Step     Time          Energy         fmax\n",
      "LBFGS:    0 09:05:01       -5.962825        0.0000\n",
      "       Step     Time          Energy         fmax\n",
      "LBFGS:    0 09:05:01       -5.950174        0.0000\n",
      "       Step     Time          Energy         fmax\n",
      "LBFGS:    0 09:05:01       -5.937473        0.0000\n",
      "       Step     Time          Energy         fmax\n",
      "LBFGS:    0 09:05:01       -5.924725        0.0000\n",
      "       Step     Time          Energy         fmax\n",
      "LBFGS:    0 09:05:01       -5.911931        0.0000\n",
      "       Step     Time          Energy         fmax\n",
      "LBFGS:    0 09:05:01       -5.899093        0.0000\n",
      "       Step     Time          Energy         fmax\n",
      "LBFGS:    0 09:05:01       -5.886212        0.0000\n",
      "       Step     Time          Energy         fmax\n",
      "LBFGS:    0 09:05:01       -5.873290        0.0000\n",
      "       Step     Time          Energy         fmax\n",
      "LBFGS:    0 09:05:01       -5.860327        0.0000\n",
      "       Step     Time          Energy         fmax\n",
      "LBFGS:    0 09:05:01       -5.847326        0.0000\n",
      "       Step     Time          Energy         fmax\n",
      "LBFGS:    0 09:05:01       -5.821215        0.0000\n",
      "       Step     Time          Energy         fmax\n",
      "LBFGS:    0 09:05:01       -5.834289        0.0000\n",
      "       Step     Time          Energy         fmax\n",
      "LBFGS:    0 09:05:01       -5.808107        0.0000\n",
      "       Step     Time          Energy         fmax\n",
      "LBFGS:    0 09:05:01       -5.794966        0.0000\n",
      "       Step     Time          Energy         fmax\n",
      "LBFGS:    0 09:05:01       -5.781794        0.0000\n",
      "       Step     Time          Energy         fmax\n",
      "LBFGS:    0 09:05:01       -5.755359        0.0000\n",
      "       Step     Time          Energy         fmax\n",
      "LBFGS:    0 09:05:01       -5.768591        0.0000\n",
      "       Step     Time          Energy         fmax\n",
      "LBFGS:    0 09:05:01       -5.742099        0.0000\n",
      "       Step     Time          Energy         fmax\n",
      "LBFGS:    0 09:05:01       -5.728813        0.0000\n",
      "       Step     Time          Energy         fmax\n",
      "LBFGS:    0 09:05:01       -5.715501        0.0000\n",
      "       Step     Time          Energy         fmax\n",
      "LBFGS:    0 09:05:01       -5.702165        0.0000\n",
      "       Step     Time          Energy         fmax\n",
      "LBFGS:    0 09:05:01       -5.688805        0.0000\n",
      "       Step     Time          Energy         fmax\n",
      "LBFGS:    0 09:05:01       -5.675424        0.0000\n",
      "       Step     Time          Energy         fmax\n",
      "LBFGS:    0 09:05:01       -5.662022        0.0000\n",
      "       Step     Time          Energy         fmax\n",
      "LBFGS:    0 09:05:01       -5.648600        0.0000\n",
      "       Step     Time          Energy         fmax\n",
      "LBFGS:    0 09:05:01       -5.635159        0.0000\n",
      "       Step     Time          Energy         fmax\n",
      "LBFGS:    0 09:05:02       -5.621701        0.0000\n",
      "       Step     Time          Energy         fmax\n",
      "       Step     Time          Energy         fmax\n",
      "LBFGS:    0 09:05:02       -5.608226        0.0000\n",
      "LBFGS:    0 09:05:02       -5.594735        0.0000\n",
      "       Step     Time          Energy         fmax\n",
      "LBFGS:    0 09:05:02       -5.581230        0.0000\n",
      "       Step     Time          Energy         fmax\n",
      "LBFGS:    0 09:05:02       -5.567712        0.0000\n",
      "       Step     Time          Energy         fmax\n",
      "LBFGS:    0 09:05:02       -5.554180        0.0000\n",
      "       Step     Time          Energy         fmax\n",
      "LBFGS:    0 09:05:02       -5.540637        0.0000\n",
      "       Step     Time          Energy         fmax\n",
      "LBFGS:    0 09:05:02       -5.527083        0.0000\n",
      "       Step     Time          Energy         fmax\n",
      "LBFGS:    0 09:05:02       -5.513519        0.0000\n",
      "       Step     Time          Energy         fmax\n",
      "LBFGS:    0 09:05:02       -5.499947        0.0000\n",
      "       Step     Time          Energy         fmax\n",
      "LBFGS:    0 09:05:02       -5.486366        0.0000\n",
      "       Step     Time          Energy         fmax\n",
      "LBFGS:    0 09:05:02       -5.459183        0.0000\n",
      "       Step     Time          Energy         fmax\n",
      "LBFGS:    0 09:05:02       -5.472778        0.0000\n",
      "       Step     Time          Energy         fmax\n",
      "       Step     Time          Energy         fmax\n",
      "LBFGS:    0 09:05:02       -5.431978        0.0000\n",
      "       Step     Time          Energy         fmax\n",
      "LBFGS:    0 09:05:02       -5.445583        0.0000\n",
      "LBFGS:    0 09:05:02       -5.418369        0.0000\n",
      "       Step     Time          Energy         fmax\n",
      "LBFGS:    0 09:05:02       -5.404757        0.0000\n",
      "       Step     Time          Energy         fmax\n",
      "       Step     Time          Energy         fmax\n",
      "LBFGS:    0 09:05:02       -5.391143        0.0000\n",
      "LBFGS:    0 09:05:02       -5.377527        0.0000\n",
      "       Step     Time          Energy         fmax\n",
      "LBFGS:    0 09:05:02       -5.363910        0.0000\n",
      "       Step     Time          Energy         fmax\n",
      "LBFGS:    0 09:05:02       -5.350293        0.0000\n",
      "       Step     Time          Energy         fmax\n",
      "       Step     Time          Energy         fmax\n",
      "LBFGS:    0 09:05:02       -5.336676        0.0000\n",
      "LBFGS:    0 09:05:02       -5.309448        0.0000\n",
      "       Step     Time          Energy         fmax\n",
      "LBFGS:    0 09:05:02       -5.323061        0.0000\n",
      "       Step     Time          Energy         fmax\n",
      "LBFGS:    0 09:05:02       -5.295837        0.0000\n",
      "       Step     Time          Energy         fmax\n",
      "LBFGS:    0 09:05:02       -5.268625        0.0000\n",
      "       Step     Time          Energy         fmax\n",
      "LBFGS:    0 09:05:02       -5.282229        0.0000\n",
      "       Step     Time          Energy         fmax\n",
      "LBFGS:    0 09:05:02       -5.255026        0.0000\n",
      "       Step     Time          Energy         fmax\n",
      "LBFGS:    0 09:05:02       -5.241432        0.0000\n",
      "       Step     Time          Energy         fmax\n",
      "LBFGS:    0 09:05:02       -5.227844        0.0000\n",
      "       Step     Time          Energy         fmax\n",
      "LBFGS:    0 09:05:02       -5.214262        0.0000\n",
      "       Step     Time          Energy         fmax\n",
      "LBFGS:    0 09:05:02       -5.200687        0.0000\n",
      "       Step     Time          Energy         fmax\n",
      "LBFGS:    0 09:05:02       -5.187119        0.0000\n",
      "       Step     Time          Energy         fmax\n",
      "       Step     Time          Energy         fmax\n",
      "LBFGS:    0 09:05:02       -5.160009        0.0000\n",
      "LBFGS:    0 09:05:02       -5.173560        0.0000\n",
      "       Step     Time          Energy         fmax\n",
      "LBFGS:    0 09:05:02       -5.146468        0.0000\n",
      "       Step     Time          Energy         fmax\n",
      "LBFGS:    0 09:05:03       -5.119414        0.0000\n",
      "       Step     Time          Energy         fmax\n",
      "LBFGS:    0 09:05:03       -5.132936        0.0000\n",
      "       Step     Time          Energy         fmax\n",
      "       Step     Time          Energy         fmax\n",
      "LBFGS:    0 09:05:03       -5.092403        0.0000\n",
      "LBFGS:    0 09:05:03       -5.105903        0.0000\n",
      "       Step     Time          Energy         fmax\n",
      "       Step     Time          Energy         fmax\n",
      "LBFGS:    0 09:05:03       -5.065440        0.0000\n",
      "LBFGS:    0 09:05:03       -5.078915        0.0000\n",
      "       Step     Time          Energy         fmax\n",
      "LBFGS:    0 09:05:03       -5.051977        0.0000\n",
      "       Step     Time          Energy         fmax\n",
      "LBFGS:    0 09:05:03       -5.038527        0.0000\n",
      "       Step     Time          Energy         fmax\n",
      "LBFGS:    0 09:05:03       -5.025090        0.0000\n",
      "       Step     Time          Energy         fmax\n",
      "LBFGS:    0 09:05:03       -5.011668        0.0000\n",
      "       Step     Time          Energy         fmax\n",
      "LBFGS:    0 09:05:03       -4.984867        0.0000\n",
      "       Step     Time          Energy         fmax\n",
      "LBFGS:    0 09:05:03       -4.998260        0.0000\n",
      "       Step     Time          Energy         fmax\n",
      "LBFGS:    0 09:05:03       -4.958128        0.0000\n",
      "       Step     Time          Energy         fmax\n",
      "LBFGS:    0 09:05:03       -4.971490        0.0000\n",
      "       Step     Time          Energy         fmax\n",
      "LBFGS:    0 09:05:03       -4.944782        0.0000\n",
      "       Step     Time          Energy         fmax\n",
      "LBFGS:    0 09:05:03       -4.931453        0.0000\n",
      "       Step     Time          Energy         fmax\n",
      "LBFGS:    0 09:05:03       -4.918140        0.0000\n",
      "       Step     Time          Energy         fmax\n",
      "LBFGS:    0 09:05:03       -4.904845        0.0000\n",
      "       Step     Time          Energy         fmax\n",
      "LBFGS:    0 09:05:03       -4.891567        0.0000\n",
      "       Step     Time          Energy         fmax\n",
      "LBFGS:    0 09:05:03       -4.878308        0.0000\n",
      "       Step     Time          Energy         fmax\n",
      "LBFGS:    0 09:05:03       -4.865067        0.0000\n",
      "       Step     Time          Energy         fmax\n",
      "LBFGS:    0 09:05:03       -4.851844        0.0000\n",
      "       Step     Time          Energy         fmax\n",
      "LBFGS:    0 09:05:03       -4.838641        0.0000\n",
      "       Step     Time          Energy         fmax\n",
      "LBFGS:    0 09:05:03       -4.825456        0.0000\n",
      "       Step     Time          Energy         fmax\n",
      "LBFGS:    0 09:05:03       -4.812292        0.0000\n",
      "       Step     Time          Energy         fmax\n",
      "LBFGS:    0 09:05:03       -4.799147        0.0000\n",
      "       Step     Time          Energy         fmax\n",
      "LBFGS:    0 09:05:03       -4.786023        0.0000\n",
      "       Step     Time          Energy         fmax\n",
      "LBFGS:    0 09:05:03       -4.772919        0.0000\n",
      "       Step     Time          Energy         fmax\n",
      "LBFGS:    0 09:05:03       -4.759837        0.0000\n",
      "       Step     Time          Energy         fmax\n",
      "LBFGS:    0 09:05:03       -4.746775        0.0000\n",
      "       Step     Time          Energy         fmax\n",
      "LBFGS:    0 09:05:03       -4.733735        0.0000\n",
      "       Step     Time          Energy         fmax\n",
      "LBFGS:    0 09:05:03       -4.720716        0.0000\n",
      "       Step     Time          Energy         fmax\n",
      "LBFGS:    0 09:05:03       -4.707720        0.0000\n",
      "       Step     Time          Energy         fmax\n",
      "LBFGS:    0 09:05:03       -4.694745        0.0000\n",
      "       Step     Time          Energy         fmax\n",
      "LBFGS:    0 09:05:03       -4.681794        0.0000\n",
      "       Step     Time          Energy         fmax\n",
      "LBFGS:    0 09:05:03       -4.668865        0.0000\n",
      "       Step     Time          Energy         fmax\n",
      "LBFGS:    0 09:05:03       -4.643076        0.0000\n",
      "       Step     Time          Energy         fmax\n",
      "       Step     Time          Energy         fmax\n",
      "LBFGS:    0 09:05:03       -4.630216        0.0000\n",
      "LBFGS:    0 09:05:03       -4.655959        0.0000\n",
      "       Step     Time          Energy         fmax\n",
      "LBFGS:    0 09:05:03       -4.617381        0.0000\n",
      "       Step     Time          Energy         fmax\n",
      "LBFGS:    0 09:05:04       -4.604569        0.0000\n",
      "       Step     Time          Energy         fmax\n",
      "LBFGS:    0 09:05:04       -4.579018        0.0000\n",
      "       Step     Time          Energy         fmax\n",
      "LBFGS:    0 09:05:04       -4.591781        0.0000\n",
      "       Step     Time          Energy         fmax\n",
      "LBFGS:    0 09:05:04       -4.566279        0.0000\n",
      "       Step     Time          Energy         fmax\n",
      "       Step     Time          Energy         fmax\n",
      "LBFGS:    0 09:05:04       -4.540876        0.0000\n",
      "LBFGS:    0 09:05:04       -4.553565        0.0000\n",
      "       Step     Time          Energy         fmax\n",
      "LBFGS:    0 09:05:04       -4.528212        0.0000\n",
      "       Step     Time          Energy         fmax\n",
      "LBFGS:    0 09:05:04       -4.515574        0.0000\n",
      "       Step     Time          Energy         fmax\n",
      "LBFGS:    0 09:05:04       -4.490373        0.0000\n",
      "       Step     Time          Energy         fmax\n",
      "LBFGS:    0 09:05:04       -4.502960        0.0000\n",
      "       Step     Time          Energy         fmax\n",
      "LBFGS:    0 09:05:04       -4.477811        0.0000\n",
      "       Step     Time          Energy         fmax\n",
      "LBFGS:    0 09:05:04       -4.452766        0.0000\n",
      "       Step     Time          Energy         fmax\n",
      "       Step     Time          Energy         fmax\n",
      "LBFGS:    0 09:05:04       -4.440283        0.0000\n",
      "LBFGS:    0 09:05:04       -4.465275        0.0000\n",
      "       Step     Time          Energy         fmax\n",
      "LBFGS:    0 09:05:04       -4.427826        0.0000\n",
      "       Step     Time          Energy         fmax\n",
      "LBFGS:    0 09:05:04       -4.415396        0.0000\n",
      "       Step     Time          Energy         fmax\n",
      "LBFGS:    0 09:05:04       -4.402992        0.0000\n",
      "       Step     Time          Energy         fmax\n",
      "LBFGS:    0 09:05:04       -4.390616        0.0000\n",
      "       Step     Time          Energy         fmax\n",
      "LBFGS:    0 09:05:04       -4.378267        0.0000\n",
      "       Step     Time          Energy         fmax\n",
      "LBFGS:    0 09:05:04       -4.365944        0.0000\n",
      "       Step     Time          Energy         fmax\n",
      "LBFGS:    0 09:05:04       -4.353649        0.0000\n",
      "       Step     Time          Energy         fmax\n",
      "LBFGS:    0 09:05:04       -4.341382        0.0000\n",
      "       Step     Time          Energy         fmax\n",
      "LBFGS:    0 09:05:04       -4.329142        0.0000\n",
      "       Step     Time          Energy         fmax\n",
      "LBFGS:    0 09:05:04       -4.316929        0.0000\n",
      "       Step     Time          Energy         fmax\n",
      "LBFGS:    0 09:05:04       -4.304745        0.0000\n",
      "       Step     Time          Energy         fmax\n",
      "LBFGS:    0 09:05:04       -4.292588        0.0000\n",
      "       Step     Time          Energy         fmax\n",
      "LBFGS:    0 09:05:04       -4.280459        0.0000\n",
      "       Step     Time          Energy         fmax\n",
      "LBFGS:    0 09:05:04       -4.268359        0.0000\n",
      "       Step     Time          Energy         fmax\n",
      "       Step     Time          Energy         fmax\n",
      "LBFGS:    0 09:05:04       -4.256286        0.0000\n",
      "LBFGS:    0 09:05:04       -4.244242        0.0000\n",
      "       Step     Time          Energy         fmax\n",
      "LBFGS:    0 09:05:04       -4.232226        0.0000\n",
      "       Step     Time          Energy         fmax\n",
      "LBFGS:    0 09:05:04       -4.220239        0.0000\n",
      "       Step     Time          Energy         fmax\n",
      "LBFGS:    0 09:05:04       -4.208280        0.0000\n",
      "       Step     Time          Energy         fmax\n",
      "LBFGS:    0 09:05:04       -4.196350        0.0000\n",
      "       Step     Time          Energy         fmax\n",
      "LBFGS:    0 09:05:04       -4.184448        0.0000\n",
      "       Step     Time          Energy         fmax\n",
      "LBFGS:    0 09:05:04       -4.172575        0.0000\n",
      "       Step     Time          Energy         fmax\n",
      "LBFGS:    0 09:05:05       -4.160732        0.0000\n",
      "       Step     Time          Energy         fmax\n",
      "LBFGS:    0 09:05:05       -4.148917        0.0000\n",
      "       Step     Time          Energy         fmax\n",
      "LBFGS:    0 09:05:05       -4.137131        0.0000\n",
      "       Step     Time          Energy         fmax\n",
      "       Step     Time          Energy         fmax\n",
      "LBFGS:    0 09:05:05       -4.125374        0.0000\n",
      "LBFGS:    0 09:05:05       -4.113646        0.0000\n",
      "       Step     Time          Energy         fmax\n",
      "LBFGS:    0 09:05:05       -4.101948        0.0000\n",
      "       Step     Time          Energy         fmax\n",
      "LBFGS:    0 09:05:05       -4.090278        0.0000\n",
      "       Step     Time          Energy         fmax\n",
      "LBFGS:    0 09:05:05       -4.067028        0.0000\n",
      "       Step     Time          Energy         fmax\n",
      "LBFGS:    0 09:05:05       -4.055446        0.0000\n",
      "       Step     Time          Energy         fmax\n",
      "LBFGS:    0 09:05:05       -4.078638        0.0000\n",
      "       Step     Time          Energy         fmax\n",
      "       Step     Time          Energy         fmax\n",
      "LBFGS:    0 09:05:05       -4.043894        0.0000\n",
      "LBFGS:    0 09:05:05       -4.032372        0.0000\n",
      "       Step     Time          Energy         fmax\n",
      "LBFGS:    0 09:05:05       -4.020879        0.0000\n",
      "       Step     Time          Energy         fmax\n",
      "LBFGS:    0 09:05:05       -4.009416        0.0000\n",
      "       Step     Time          Energy         fmax\n",
      "LBFGS:    0 09:05:05       -3.997982        0.0000\n",
      "       Step     Time          Energy         fmax\n",
      "LBFGS:    0 09:05:05       -3.975204        0.0000\n",
      "       Step     Time          Energy         fmax\n",
      "LBFGS:    0 09:05:05       -3.986578        0.0000\n",
      "       Step     Time          Energy         fmax\n",
      "LBFGS:    0 09:05:05       -3.952544        0.0000\n",
      "       Step     Time          Energy         fmax\n",
      "LBFGS:    0 09:05:05       -3.963859        0.0000\n",
      "       Step     Time          Energy         fmax\n",
      "LBFGS:    0 09:05:05       -3.941259        0.0000\n",
      "       Step     Time          Energy         fmax\n",
      "LBFGS:    0 09:05:05       -3.918778        0.0000\n",
      "       Step     Time          Energy         fmax\n",
      "       Step     Time          Energy         fmax\n",
      "LBFGS:    0 09:05:05       -3.930004        0.0000\n",
      "LBFGS:    0 09:05:05       -3.896416        0.0000\n",
      "       Step     Time          Energy         fmax\n",
      "LBFGS:    0 09:05:05       -3.907582        0.0000\n",
      "       Step     Time          Energy         fmax\n",
      "LBFGS:    0 09:05:05       -3.885280        0.0000\n",
      "       Step     Time          Energy         fmax\n",
      "       Step     Time          Energy         fmax\n",
      "LBFGS:    0 09:05:05       -3.874174        0.0000\n",
      "LBFGS:    0 09:05:05       -3.852051        0.0000\n",
      "       Step     Time          Energy         fmax\n",
      "       Step     Time          Energy         fmax\n",
      "LBFGS:    0 09:05:05       -3.863097        0.0000\n",
      "LBFGS:    0 09:05:05       -3.841034        0.0000\n",
      "       Step     Time          Energy         fmax\n",
      "LBFGS:    0 09:05:05       -3.819091        0.0000\n",
      "       Step     Time          Energy         fmax\n",
      "       Step     Time          Energy         fmax\n",
      "LBFGS:    0 09:05:05       -3.808164        0.0000\n",
      "LBFGS:    0 09:05:05       -3.830047        0.0000\n",
      "       Step     Time          Energy         fmax\n",
      "LBFGS:    0 09:05:05       -3.797267        0.0000\n",
      "       Step     Time          Energy         fmax\n",
      "LBFGS:    0 09:05:05       -3.786400        0.0000\n",
      "       Step     Time          Energy         fmax\n",
      "LBFGS:    0 09:05:06       -3.775562        0.0000\n",
      "       Step     Time          Energy         fmax\n",
      "       Step     Time          Energy         fmax\n",
      "LBFGS:    0 09:05:06       -3.753978        0.0000\n",
      "LBFGS:    0 09:05:06       -3.764755        0.0000\n",
      "       Step     Time          Energy         fmax\n",
      "LBFGS:    0 09:05:06       -3.743230        0.0000\n",
      "       Step     Time          Energy         fmax\n",
      "LBFGS:    0 09:05:06       -3.732513        0.0000\n",
      "       Step     Time          Energy         fmax\n",
      "LBFGS:    0 09:05:06       -3.711167        0.0000\n",
      "       Step     Time          Energy         fmax\n",
      "LBFGS:    0 09:05:06       -3.721825        0.0000\n",
      "       Step     Time          Energy         fmax\n",
      "LBFGS:    0 09:05:06       -3.700539        0.0000\n",
      "       Step     Time          Energy         fmax\n",
      "LBFGS:    0 09:05:06       -3.689941        0.0000\n",
      "       Step     Time          Energy         fmax\n",
      "LBFGS:    0 09:05:06       -3.679373        0.0000\n",
      "       Step     Time          Energy         fmax\n",
      "LBFGS:    0 09:05:06       -3.668834        0.0000\n",
      "       Step     Time          Energy         fmax\n",
      "LBFGS:    0 09:05:06       -3.658325        0.0000\n",
      "       Step     Time          Energy         fmax\n",
      "LBFGS:    0 09:05:06       -3.647846        0.0000\n",
      "       Step     Time          Energy         fmax\n",
      "LBFGS:    0 09:05:06       -3.637397        0.0000\n",
      "       Step     Time          Energy         fmax\n",
      "LBFGS:    0 09:05:06       -3.626978        0.0000\n",
      "       Step     Time          Energy         fmax\n",
      "LBFGS:    0 09:05:06       -3.616588        0.0000\n",
      "       Step     Time          Energy         fmax\n",
      "LBFGS:    0 09:05:06       -3.606228        0.0000\n",
      "       Step     Time          Energy         fmax\n",
      "LBFGS:    0 09:05:06       -3.595897        0.0000\n",
      "       Step     Time          Energy         fmax\n",
      "LBFGS:    0 09:05:06       -3.585597        0.0000\n",
      "       Step     Time          Energy         fmax\n",
      "LBFGS:    0 09:05:06       -3.575325        0.0000\n",
      "       Step     Time          Energy         fmax\n",
      "LBFGS:    0 09:05:06       -3.544689        0.0000\n",
      "       Step     Time          Energy         fmax\n",
      "       Step     Time          Energy         fmax\n",
      "LBFGS:    0 09:05:06       -3.565084        0.0000\n",
      "LBFGS:    0 09:05:06       -3.554872        0.0000\n",
      "       Step     Time          Energy         fmax\n",
      "LBFGS:    0 09:05:06       -3.534536        0.0000\n",
      "       Step     Time          Energy         fmax\n",
      "LBFGS:    0 09:05:06       -3.524412        0.0000\n",
      "       Step     Time          Energy         fmax\n",
      "LBFGS:    0 09:05:06       -3.504253        0.0000\n",
      "       Step     Time          Energy         fmax\n",
      "LBFGS:    0 09:05:06       -3.514318        0.0000\n",
      "       Step     Time          Energy         fmax\n",
      "LBFGS:    0 09:05:06       -3.494218        0.0000\n",
      "       Step     Time          Energy         fmax\n",
      "LBFGS:    0 09:05:06       -3.484212        0.0000\n",
      "       Step     Time          Energy         fmax\n",
      "LBFGS:    0 09:05:06       -3.474235        0.0000\n",
      "       Step     Time          Energy         fmax\n",
      "       Step     Time          Energy         fmax\n",
      "LBFGS:    0 09:05:06       -3.464287        0.0000\n",
      "LBFGS:    0 09:05:06       -3.454369        0.0000\n",
      "       Step     Time          Energy         fmax\n",
      "LBFGS:    0 09:05:06       -3.434619        0.0000\n",
      "       Step     Time          Energy         fmax\n",
      "LBFGS:    0 09:05:06       -3.444480        0.0000\n",
      "       Step     Time          Energy         fmax\n",
      "LBFGS:    0 09:05:06       -3.424788        0.0000\n",
      "       Step     Time          Energy         fmax\n",
      "LBFGS:    0 09:05:06       -3.405213        0.0000\n",
      "       Step     Time          Energy         fmax\n",
      "LBFGS:    0 09:05:06       -3.414986        0.0000\n",
      "       Step     Time          Energy         fmax\n",
      "       Step     Time          Energy         fmax\n",
      "LBFGS:    0 09:05:07       -3.395469        0.0000\n",
      "LBFGS:    0 09:05:07       -3.385754        0.0000\n",
      "       Step     Time          Energy         fmax\n",
      "LBFGS:    0 09:05:07       -3.376068        0.0000\n",
      "       Step     Time          Energy         fmax\n",
      "       Step     Time          Energy         fmax\n",
      "LBFGS:    0 09:05:07       -3.347181        0.0000\n",
      "LBFGS:    0 09:05:07       -3.366410        0.0000\n",
      "       Step     Time          Energy         fmax\n",
      "LBFGS:    0 09:05:07       -3.356781        0.0000\n",
      "       Step     Time          Energy         fmax\n",
      "LBFGS:    0 09:05:07       -3.337610        0.0000\n",
      "       Step     Time          Energy         fmax\n",
      "       Step     Time          Energy         fmax\n",
      "LBFGS:    0 09:05:07       -3.309067        0.0000\n",
      "LBFGS:    0 09:05:07       -3.328067        0.0000\n",
      "       Step     Time          Energy         fmax\n",
      "LBFGS:    0 09:05:07       -3.318553        0.0000\n",
      "       Step     Time          Energy         fmax\n",
      "LBFGS:    0 09:05:07       -3.299610        0.0000\n",
      "       Step     Time          Energy         fmax\n",
      "LBFGS:    0 09:05:07       -3.290181        0.0000\n",
      "       Step     Time          Energy         fmax\n",
      "LBFGS:    0 09:05:07       -3.271409        0.0000\n",
      "       Step     Time          Energy         fmax\n",
      "LBFGS:    0 09:05:07       -3.280781        0.0000\n",
      "       Step     Time          Energy         fmax\n",
      "LBFGS:    0 09:05:07       -3.262065        0.0000\n",
      "       Step     Time          Energy         fmax\n",
      "LBFGS:    0 09:05:07       -3.252749        0.0000\n",
      "       Step     Time          Energy         fmax\n",
      "LBFGS:    0 09:05:07       -3.243462        0.0000\n",
      "       Step     Time          Energy         fmax\n",
      "LBFGS:    0 09:05:07       -3.224971        0.0000\n",
      "       Step     Time          Energy         fmax\n",
      "LBFGS:    0 09:05:07       -3.234202        0.0000\n",
      "       Step     Time          Energy         fmax\n",
      "LBFGS:    0 09:05:07       -3.215768        0.0000\n",
      "       Step     Time          Energy         fmax\n",
      "LBFGS:    0 09:05:07       -3.206592        0.0000\n",
      "       Step     Time          Energy         fmax\n",
      "       Step     Time          Energy         fmax\n",
      "LBFGS:    0 09:05:07       -3.188325        0.0000\n",
      "LBFGS:    0 09:05:07       -3.197445        0.0000\n",
      "       Step     Time          Energy         fmax\n",
      "LBFGS:    0 09:05:07       -3.179233        0.0000\n",
      "       Step     Time          Energy         fmax\n",
      "LBFGS:    0 09:05:07       -3.170169        0.0000\n",
      "       Step     Time          Energy         fmax\n",
      "       Step     Time          Energy         fmax\n",
      "LBFGS:    0 09:05:07       -3.161132        0.0000\n",
      "       Step     Time          Energy         fmax\n",
      "LBFGS:    0 09:05:07       -3.143141        0.0000\n",
      "LBFGS:    0 09:05:07       -3.152123        0.0000\n",
      "       Step     Time          Energy         fmax\n",
      "LBFGS:    0 09:05:07       -3.134187        0.0000\n",
      "       Step     Time          Energy         fmax\n",
      "LBFGS:    0 09:05:07       -3.116361        0.0000\n",
      "       Step     Time          Energy         fmax\n",
      "LBFGS:    0 09:05:07       -3.107488        0.0000\n",
      "       Step     Time          Energy         fmax\n",
      "LBFGS:    0 09:05:07       -3.125260        0.0000\n",
      "       Step     Time          Energy         fmax\n",
      "LBFGS:    0 09:05:07       -3.098643        0.0000\n",
      "       Step     Time          Energy         fmax\n",
      "LBFGS:    0 09:05:07       -3.089825        0.0000\n",
      "       Step     Time          Energy         fmax\n",
      "LBFGS:    0 09:05:07       -3.081034        0.0000\n",
      "       Step     Time          Energy         fmax\n",
      "LBFGS:    0 09:05:08       -3.072271        0.0000\n",
      "       Step     Time          Energy         fmax\n",
      "LBFGS:    0 09:05:08       -3.063534        0.0000\n",
      "       Step     Time          Energy         fmax\n",
      "LBFGS:    0 09:05:08       -3.054823        0.0000\n",
      "       Step     Time          Energy         fmax\n",
      "LBFGS:    0 09:05:08       -3.046140        0.0000\n",
      "       Step     Time          Energy         fmax\n",
      "LBFGS:    0 09:05:08       -3.037483        0.0000\n",
      "       Step     Time          Energy         fmax\n",
      "LBFGS:    0 09:05:08       -3.028853        0.0000\n",
      "       Step     Time          Energy         fmax\n",
      "LBFGS:    0 09:05:08       -3.020250        0.0000\n",
      "       Step     Time          Energy         fmax\n",
      "LBFGS:    0 09:05:08       -3.011673        0.0000\n",
      "       Step     Time          Energy         fmax\n",
      "LBFGS:    0 09:05:08       -3.003123        0.0000\n",
      "       Step     Time          Energy         fmax\n",
      "LBFGS:    0 09:05:08       -2.994599        0.0000\n",
      "       Step     Time          Energy         fmax\n",
      "LBFGS:    0 09:05:08       -2.986101        0.0000\n",
      "       Step     Time          Energy         fmax\n",
      "LBFGS:    0 09:05:08       -2.977630        0.0000\n",
      "       Step     Time          Energy         fmax\n",
      "LBFGS:    0 09:05:08       -2.969185        0.0000\n",
      "       Step     Time          Energy         fmax\n",
      "LBFGS:    0 09:05:08       -2.960766        0.0000\n",
      "       Step     Time          Energy         fmax\n",
      "LBFGS:    0 09:05:08       -2.952373        0.0000\n",
      "       Step     Time          Energy         fmax\n",
      "LBFGS:    0 09:05:08       -2.944006        0.0000\n",
      "       Step     Time          Energy         fmax\n",
      "LBFGS:    0 09:05:08       -2.935665        0.0000\n",
      "       Step     Time          Energy         fmax\n",
      "LBFGS:    0 09:05:08       -2.927350        0.0000\n",
      "       Step     Time          Energy         fmax\n",
      "LBFGS:    0 09:05:08       -2.919060        0.0000\n",
      "       Step     Time          Energy         fmax\n",
      "LBFGS:    0 09:05:08       -2.910796        0.0000\n",
      "       Step     Time          Energy         fmax\n",
      "LBFGS:    0 09:05:08       -2.902558        0.0000\n",
      "       Step     Time          Energy         fmax\n",
      "LBFGS:    0 09:05:08       -2.894346        0.0000\n",
      "       Step     Time          Energy         fmax\n",
      "LBFGS:    0 09:05:08       -2.886159        0.0000\n",
      "       Step     Time          Energy         fmax\n",
      "LBFGS:    0 09:05:08       -2.877998        0.0000\n",
      "       Step     Time          Energy         fmax\n",
      "LBFGS:    0 09:05:08       -2.869862        0.0000\n",
      "       Step     Time          Energy         fmax\n",
      "LBFGS:    0 09:05:08       -2.861751        0.0000\n",
      "       Step     Time          Energy         fmax\n",
      "LBFGS:    0 09:05:08       -2.853666        0.0000\n",
      "       Step     Time          Energy         fmax\n",
      "LBFGS:    0 09:05:08       -2.845605        0.0000\n",
      "       Step     Time          Energy         fmax\n",
      "LBFGS:    0 09:05:08       -2.837570        0.0000\n",
      "       Step     Time          Energy         fmax\n",
      "LBFGS:    0 09:05:08       -2.829560        0.0000\n",
      "       Step     Time          Energy         fmax\n",
      "LBFGS:    0 09:05:08       -2.821575        0.0000\n",
      "       Step     Time          Energy         fmax\n",
      "LBFGS:    0 09:05:08       -2.813615        0.0000\n",
      "       Step     Time          Energy         fmax\n",
      "LBFGS:    0 09:05:08       -2.805679        0.0000\n"
     ]
    }
   ],
   "source": [
    "exe = m.run()"
   ]
  },
  {
   "cell_type": "code",
   "execution_count": 81,
   "id": "a3069fe3-93bf-4c83-93e7-6d0ac56d8248",
   "metadata": {},
   "outputs": [
    {
     "data": {
      "text/plain": [
       "<Code.FINISHED: 'finished'>"
      ]
     },
     "execution_count": 81,
     "metadata": {},
     "output_type": "execute_result"
    }
   ],
   "source": [
    "exe._run_machine.state"
   ]
  },
  {
   "cell_type": "code",
   "execution_count": 82,
   "id": "71bbb913-7d7a-4bb6-b775-3fbc8e7e1f35",
   "metadata": {},
   "outputs": [
    {
     "data": {
      "text/plain": [
       "(ReturnStatus(Code.DONE, None),)"
      ]
     },
     "execution_count": 82,
     "metadata": {},
     "output_type": "execute_result"
    }
   ],
   "source": [
    "exe.status"
   ]
  },
  {
   "cell_type": "code",
   "execution_count": 83,
   "id": "4bf2df15-31dc-474c-b3df-f7c32b0fdaf2",
   "metadata": {},
   "outputs": [
    {
     "data": {
      "text/plain": [
       "array([4.78924238, 4.51769267, 4.25194477, 3.99187529, 3.7373637 ,\n",
       "       3.48829227, 3.244546  , 3.00601254, 2.77258214, 2.54414756])"
      ]
     },
     "execution_count": 83,
     "metadata": {},
     "output_type": "execute_result"
    }
   ],
   "source": [
    "exe.output[0].energies[:10]"
   ]
  },
  {
   "cell_type": "code",
   "execution_count": 84,
   "id": "eb0a2daf-9dab-4174-bfee-0cd1ef8c474e",
   "metadata": {},
   "outputs": [
    {
     "data": {
      "image/png": "[encoded data removed]",
      "text/plain": [
       "<Figure size 640x480 with 1 Axes>"
      ]
     },
     "metadata": {},
     "output_type": "display_data"
    }
   ],
   "source": [
    "exe.output[0].plot()"
   ]
  }
 ],
 "metadata": {
  "kernelspec": {
   "display_name": "Python 3 (ipykernel)",
   "language": "python",
   "name": "python3"
  },
  "language_info": {
   "codemirror_mode": {
    "name": "ipython",
    "version": 3
   },
   "file_extension": ".py",
   "mimetype": "text/x-python",
   "name": "python",
   "nbconvert_exporter": "python",
   "pygments_lexer": "ipython3",
   "version": "3.11.0"
  },
  "widgets": {
   "application/vnd.jupyter.widget-state+json": {
    "state": {
     "00a17ba0b124451cbde0fad3b84353ee": {
      "model_module": "@jupyter-widgets/controls",
      "model_module_version": "1.5.0",
      "model_name": "ButtonModel",
      "state": {
       "icon": "compress",
       "layout": "IPY_MODEL_06890714f26b4a38bc114f4555c24bfa",
       "style": "IPY_MODEL_910eb9e2748644ae844251d1462540df"
      }
     },
     "024eb52716ed4318b0626147bf790cf1": {
      "model_module": "@jupyter-widgets/controls",
      "model_module_version": "1.5.0",
      "model_name": "ButtonStyleModel",
      "state": {}
     },
     "0596ea65e79842aa8da3e12a4dd4c324": {
      "model_module": "@jupyter-widgets/base",
      "model_module_version": "1.2.0",
      "model_name": "LayoutModel",
      "state": {}
     },
     "06890714f26b4a38bc114f4555c24bfa": {
      "model_module": "@jupyter-widgets/base",
      "model_module_version": "1.2.0",
      "model_name": "LayoutModel",
      "state": {
       "width": "34px"
      }
     },
     "0a5483f8e9f14cb0a2c84098493c66e7": {
      "model_module": "@jupyter-widgets/controls",
      "model_module_version": "1.5.0",
      "model_name": "LinkModel",
      "state": {
       "source": [
        "IPY_MODEL_c70e261d6cf44f32bf2b6dae9c2030bc",
        "value"
       ],
       "target": [
        "IPY_MODEL_81ab0afcff0549fe9cdc34038bcb8065",
        "value"
       ]
      }
     },
     "0aa308d445ae4fa3a87e2d31352aaf75": {
      "model_module": "@jupyter-widgets/controls",
      "model_module_version": "1.5.0",
      "model_name": "LinkModel",
      "state": {
       "source": [
        "IPY_MODEL_a13a50d58406485cbfa71d192fdc504d",
        "max"
       ],
       "target": [
        "IPY_MODEL_72151a9d47704d1fb535afa54a44cdda",
        "max_frame"
       ]
      }
     },
     "0cb88e7cb2924370b51b3475a2ecedd3": {
      "model_module": "@jupyter-widgets/base",
      "model_module_version": "1.2.0",
      "model_name": "LayoutModel",
      "state": {}
     },
     "28677f6679f04d989db938d88030310a": {
      "model_module": "@jupyter-widgets/controls",
      "model_module_version": "1.5.0",
      "model_name": "ButtonStyleModel",
      "state": {}
     },
     "2964c4b4b96e47ed977a65d55c4c30f8": {
      "model_module": "@jupyter-widgets/controls",
      "model_module_version": "1.5.0",
      "model_name": "PlayModel",
      "state": {
       "layout": "IPY_MODEL_59c8fe8d50dc434d97ad407aa794ae9d",
       "max": 4,
       "style": "IPY_MODEL_c8b8572514b34b33aff97adc70ec50d6"
      }
     },
     "2bf88d342df54490a8d562803f726d8b": {
      "model_module": "@jupyter-widgets/base",
      "model_module_version": "1.2.0",
      "model_name": "LayoutModel",
      "state": {}
     },
     "2d621d97ad4840f08a792eef56349b30": {
      "model_module": "@jupyter-widgets/controls",
      "model_module_version": "1.5.0",
      "model_name": "SliderStyleModel",
      "state": {
       "description_width": ""
      }
     },
     "3006a5ee838c43d2aafb422a89033515": {
      "model_module": "@jupyter-widgets/controls",
      "model_module_version": "1.5.0",
      "model_name": "HBoxModel",
      "state": {
       "children": [
        "IPY_MODEL_2964c4b4b96e47ed977a65d55c4c30f8",
        "IPY_MODEL_f42dbefe1afa44ceac086275a099407a"
       ],
       "layout": "IPY_MODEL_0596ea65e79842aa8da3e12a4dd4c324"
      }
     },
     "31e5c0c3795a498d87c8a8b1d8327917": {
      "model_module": "@jupyter-widgets/base",
      "model_module_version": "1.2.0",
      "model_name": "LayoutModel",
      "state": {}
     },
     "331e65cb645e4261b0d521035d6f9fa8": {
      "model_module": "@jupyter-widgets/base",
      "model_module_version": "1.2.0",
      "model_name": "LayoutModel",
      "state": {}
     },
     "37d7c2ab2a74486fb7304bffbca48859": {
      "model_module": "@jupyter-widgets/base",
      "model_module_version": "1.2.0",
      "model_name": "LayoutModel",
      "state": {}
     },
     "3b60682933684f1ea5058a3211578972": {
      "model_module": "@jupyter-widgets/base",
      "model_module_version": "1.2.0",
      "model_name": "LayoutModel",
      "state": {}
     },
     "460d462ed7a64f8085e25f5d5c223ea9": {
      "model_module": "@jupyter-widgets/controls",
      "model_module_version": "1.5.0",
      "model_name": "ImageModel",
      "state": {
       "layout": "IPY_MODEL_9df118d922724f7f984c7a2a354672c4",
       "width": "900.0"
      }
     },
     "46480e766c6b4c43bcad9aef7493a9fc": {
      "model_module": "@jupyter-widgets/controls",
      "model_module_version": "1.5.0",
      "model_name": "LinkModel",
      "state": {
       "source": [
        "IPY_MODEL_78a1f9a2fe23401bb112cf028369300d",
        "max"
       ],
       "target": [
        "IPY_MODEL_72151a9d47704d1fb535afa54a44cdda",
        "max_frame"
       ]
      }
     },
     "47298cbae5234c2ba97fc00f30f32fbd": {
      "model_module": "@jupyter-widgets/base",
      "model_module_version": "1.2.0",
      "model_name": "LayoutModel",
      "state": {
       "width": "34px"
      }
     },
     "4d0edbaec6bb442e9d6618b698ced009": {
      "model_module": "@jupyter-widgets/base",
      "model_module_version": "1.2.0",
      "model_name": "LayoutModel",
      "state": {}
     },
     "537d9b3a42ff4c4b9069f347889c6a6c": {
      "model_module": "@jupyter-widgets/controls",
      "model_module_version": "1.5.0",
      "model_name": "LinkModel",
      "state": {
       "source": [
        "IPY_MODEL_c70e261d6cf44f32bf2b6dae9c2030bc",
        "max"
       ],
       "target": [
        "IPY_MODEL_cdde213a7a3445d08efacffc1c7b0581",
        "max_frame"
       ]
      }
     },
     "539b9bb00350429dac26a298efa0c127": {
      "model_module": "@jupyter-widgets/controls",
      "model_module_version": "1.5.0",
      "model_name": "ImageModel",
      "state": {
       "layout": "IPY_MODEL_4d0edbaec6bb442e9d6618b698ced009",
       "width": "900.0"
      }
     },
     "580fe06b91ad41eca7674506eb879c54": {
      "model_module": "@jupyter-widgets/base",
      "model_module_version": "1.2.0",
      "model_name": "LayoutModel",
      "state": {}
     },
     "59c8fe8d50dc434d97ad407aa794ae9d": {
      "model_module": "@jupyter-widgets/base",
      "model_module_version": "1.2.0",
      "model_name": "LayoutModel",
      "state": {}
     },
     "608e267572af412bab629eb7c94fa567": {
      "model_module": "@jupyter-widgets/controls",
      "model_module_version": "1.5.0",
      "model_name": "SliderStyleModel",
      "state": {
       "description_width": ""
      }
     },
     "62964029f705409193860678497ca49f": {
      "model_module": "@jupyter-widgets/controls",
      "model_module_version": "1.5.0",
      "model_name": "ImageModel",
      "state": {
       "layout": "IPY_MODEL_580fe06b91ad41eca7674506eb879c54",
       "width": "900.0"
      }
     },
     "63d6a4ee513142359ee6edc4754f18ab": {
      "model_module": "nglview-js-widgets",
      "model_module_version": "3.0.1",
      "model_name": "NGLModel",
      "state": {
       "_camera_orientation": [
        11.096625056567845,
        0,
        0,
        0,
        0,
        11.096625056567845,
        0,
        0,
        0,
        0,
        11.096625056567845,
        0,
        0,
        0,
        -0.375,
        1
       ],
       "_camera_str": "orthographic",
       "_gui_theme": null,
       "_ibtn_fullscreen": "IPY_MODEL_8cb24cb6978f4c998d27b645ea5757fd",
       "_igui": null,
       "_iplayer": "IPY_MODEL_3006a5ee838c43d2aafb422a89033515",
       "_ngl_color_dict": {},
       "_ngl_coordinate_resource": {},
       "_ngl_full_stage_parameters": {
        "ambientColor": 14540253,
        "ambientIntensity": 0.2,
        "backgroundColor": "white",
        "cameraEyeSep": 0.3,
        "cameraFov": 40,
        "cameraType": "orthographic",
        "clipDist": 10,
        "clipFar": 100,
        "clipNear": 0,
        "fogFar": 100,
        "fogNear": 50,
        "hoverTimeout": 0,
        "impostor": true,
        "lightColor": 14540253,
        "lightIntensity": 1,
        "mousePreset": "default",
        "panSpeed": 1,
        "quality": "medium",
        "rotateSpeed": 2,
        "sampleLevel": 0,
        "tooltip": true,
        "workerDefault": true,
        "zoomSpeed": 1.2
       },
       "_ngl_msg_archive": [
        {
         "args": [
          {
           "binary": false,
           "data": "MODEL     1\nATOM      1   Fe MOL     1       0.000   0.000   0.000  1.00  0.00          FE  \nATOM      2   Fe MOL     1       0.000   0.000   0.750  1.00  0.00          FE  \nENDMDL\n",
           "type": "blob"
          }
         ],
         "kwargs": {
          "defaultRepresentation": true,
          "ext": "pdb",
          "name": "nglview.adaptor.ASETrajectory"
         },
         "methodName": "loadFile",
         "reconstruc_color_scheme": false,
         "target": "Stage",
         "type": "call_method"
        },
        {
         "args": [
          "spacefill"
         ],
         "component_index": 0,
         "kwargs": {
          "radius": 0.5,
          "radiusType": "vdw",
          "scale": 0.5,
          "sele": "all"
         },
         "methodName": "addRepresentation",
         "reconstruc_color_scheme": false,
         "target": "compList",
         "type": "call_method"
        },
        {
         "args": [
          "ball+stick",
          0
         ],
         "kwargs": {},
         "methodName": "removeRepresentationsByName",
         "reconstruc_color_scheme": false,
         "target": "Widget",
         "type": "call_method"
        },
        {
         "args": [
          "unitcell"
         ],
         "component_index": 0,
         "kwargs": {
          "sele": "all"
         },
         "methodName": "addRepresentation",
         "reconstruc_color_scheme": false,
         "target": "compList",
         "type": "call_method"
        },
        {
         "args": [],
         "kwargs": {
          "cameraType": "orthographic"
         },
         "methodName": "setParameters",
         "reconstruc_color_scheme": false,
         "target": "Stage",
         "type": "call_method"
        }
       ],
       "_ngl_original_stage_parameters": {
        "ambientColor": 14540253,
        "ambientIntensity": 0.2,
        "backgroundColor": "white",
        "cameraEyeSep": 0.3,
        "cameraFov": 40,
        "cameraType": "perspective",
        "clipDist": 10,
        "clipFar": 100,
        "clipNear": 0,
        "fogFar": 100,
        "fogNear": 50,
        "hoverTimeout": 0,
        "impostor": true,
        "lightColor": 14540253,
        "lightIntensity": 1,
        "mousePreset": "default",
        "panSpeed": 1,
        "quality": "medium",
        "rotateSpeed": 2,
        "sampleLevel": 0,
        "tooltip": true,
        "workerDefault": true,
        "zoomSpeed": 1.2
       },
       "_ngl_repr_dict": {
        "0": {
         "0": {
          "params": {
           "assembly": "default",
           "clipCenter": {
            "x": 0,
            "y": 0,
            "z": 0
           },
           "clipNear": 0,
           "clipRadius": 0,
           "colorMode": "hcl",
           "colorReverse": false,
           "colorScale": "",
           "colorScheme": "element",
           "colorValue": 9474192,
           "defaultAssembly": "",
           "depthWrite": true,
           "diffuse": 16777215,
           "diffuseInterior": false,
           "disableImpostor": false,
           "disablePicking": false,
           "flatShaded": false,
           "interiorColor": 2236962,
           "interiorDarkening": 0,
           "lazy": false,
           "matrix": {
            "elements": [
             1,
             0,
             0,
             0,
             0,
             1,
             0,
             0,
             0,
             0,
             1,
             0,
             0,
             0,
             0,
             1
            ]
           },
           "metalness": 0,
           "opacity": 1,
           "quality": "medium",
           "radiusData": {},
           "radiusScale": 1,
           "radiusSize": 0.5,
           "radiusType": "size",
           "roughness": 0.4,
           "sele": "all",
           "side": "double",
           "sphereDetail": 1,
           "useInteriorColor": true,
           "visible": true,
           "wireframe": false
          },
          "type": "spacefill"
         },
         "1": {
          "params": {
           "clipCenter": {
            "x": 0,
            "y": 0,
            "z": 0
           },
           "clipNear": 0,
           "clipRadius": 0,
           "colorMode": "hcl",
           "colorReverse": false,
           "colorScale": "",
           "colorScheme": "element",
           "colorValue": "orange",
           "defaultAssembly": "",
           "depthWrite": true,
           "diffuse": 16777215,
           "diffuseInterior": false,
           "disableImpostor": false,
           "disablePicking": false,
           "flatShaded": false,
           "interiorColor": 2236962,
           "interiorDarkening": 0,
           "lazy": false,
           "matrix": {
            "elements": [
             1,
             0,
             0,
             0,
             0,
             1,
             0,
             0,
             0,
             0,
             1,
             0,
             0,
             0,
             0,
             1
            ]
           },
           "metalness": 0,
           "opacity": 1,
           "quality": "medium",
           "radialSegments": 10,
           "radiusData": {},
           "radiusScale": 1,
           "radiusSize": 0.5,
           "radiusType": "vdw",
           "roughness": 0.4,
           "sele": "all",
           "side": "double",
           "sphereDetail": 1,
           "useInteriorColor": true,
           "visible": true,
           "wireframe": false
          },
          "type": "unitcell"
         }
        }
       },
       "_ngl_serialize": false,
       "_ngl_version": "2.0.0-dev.36",
       "_ngl_view_id": [
        "28B9672B-4897-4070-9AC6-9C4B4F2AAC73"
       ],
       "_player_dict": {},
       "_scene_position": {},
       "_scene_rotation": {},
       "_synced_model_ids": [],
       "_synced_repr_model_ids": [],
       "_view_height": "",
       "_view_width": "",
       "background": "white",
       "frame": 0,
       "gui_style": null,
       "layout": "IPY_MODEL_0cb88e7cb2924370b51b3475a2ecedd3",
       "max_frame": 4,
       "n_components": 1,
       "picked": {}
      }
     },
     "68940526b8cf4c2997207324c7e7888b": {
      "model_module": "@jupyter-widgets/controls",
      "model_module_version": "1.5.0",
      "model_name": "SliderStyleModel",
      "state": {
       "description_width": ""
      }
     },
     "72151a9d47704d1fb535afa54a44cdda": {
      "model_module": "nglview-js-widgets",
      "model_module_version": "3.0.1",
      "model_name": "NGLModel",
      "state": {
       "_camera_orientation": [
        16.91904731270948,
        0,
        0,
        0,
        0,
        16.91904731270948,
        0,
        0,
        0,
        0,
        16.91904731270948,
        0,
        -1.5,
        -1.5,
        -1.5,
        1
       ],
       "_camera_str": "orthographic",
       "_gui_theme": null,
       "_ibtn_fullscreen": "IPY_MODEL_7970f82f392f44379408589deaaf3ff5",
       "_igui": null,
       "_iplayer": "IPY_MODEL_ba5a5d97828140d5bc2678f11310a4b5",
       "_ngl_color_dict": {},
       "_ngl_coordinate_resource": {},
       "_ngl_full_stage_parameters": {
        "ambientColor": 14540253,
        "ambientIntensity": 0.2,
        "backgroundColor": "white",
        "cameraEyeSep": 0.3,
        "cameraFov": 40,
        "cameraType": "orthographic",
        "clipDist": 10,
        "clipFar": 100,
        "clipNear": 0,
        "fogFar": 100,
        "fogNear": 50,
        "hoverTimeout": 0,
        "impostor": true,
        "lightColor": 14540253,
        "lightIntensity": 1,
        "mousePreset": "default",
        "panSpeed": 1,
        "quality": "medium",
        "rotateSpeed": 2,
        "sampleLevel": 0,
        "tooltip": true,
        "workerDefault": true,
        "zoomSpeed": 1.2
       },
       "_ngl_msg_archive": [
        {
         "args": [
          {
           "binary": false,
           "data": "CRYST1    3.600    3.600    3.600  90.00  90.00  90.00 P 1\nMODEL     1\nATOM      1   Fe MOL     1       0.000   0.000   0.000  1.00  0.00          FE  \nATOM      2   Fe MOL     1       0.600   0.600   0.600  1.00  0.00          FE  \nATOM      3   Fe MOL     1       0.000   0.000   1.200  1.00  0.00          FE  \nATOM      4   Fe MOL     1       0.600   0.600   1.800  1.00  0.00          FE  \nATOM      5   Fe MOL     1       0.000   0.000   2.400  1.00  0.00          FE  \nATOM      6   Fe MOL     1       0.600   0.600   3.000  1.00  0.00          FE  \nATOM      7   Fe MOL     1       0.000   1.200   0.000  1.00  0.00          FE  \nATOM      8   Fe MOL     1       0.600   1.800   0.600  1.00  0.00          FE  \nATOM      9   Fe MOL     1       0.000   1.200   1.200  1.00  0.00          FE  \nATOM     10   Fe MOL     1       0.600   1.800   1.800  1.00  0.00          FE  \nATOM     11   Fe MOL     1       0.000   1.200   2.400  1.00  0.00          FE  \nATOM     12   Fe MOL     1       0.600   1.800   3.000  1.00  0.00          FE  \nATOM     13   Fe MOL     1       0.000   2.400   0.000  1.00  0.00          FE  \nATOM     14   Fe MOL     1       0.600   3.000   0.600  1.00  0.00          FE  \nATOM     15   Fe MOL     1       0.000   2.400   1.200  1.00  0.00          FE  \nATOM     16   Fe MOL     1       0.600   3.000   1.800  1.00  0.00          FE  \nATOM     17   Fe MOL     1       0.000   2.400   2.400  1.00  0.00          FE  \nATOM     18   Fe MOL     1       0.600   3.000   3.000  1.00  0.00          FE  \nATOM     19   Fe MOL     1       1.200   0.000   0.000  1.00  0.00          FE  \nATOM     20   Fe MOL     1       1.800   0.600   0.600  1.00  0.00          FE  \nATOM     21   Fe MOL     1       1.200   0.000   1.200  1.00  0.00          FE  \nATOM     22   Fe MOL     1       1.800   0.600   1.800  1.00  0.00          FE  \nATOM     23   Fe MOL     1       1.200   0.000   2.400  1.00  0.00          FE  \nATOM     24   Fe MOL     1       1.800   0.600   3.000  1.00  0.00          FE  \nATOM     25   Fe MOL     1       1.200   1.200   0.000  1.00  0.00          FE  \nATOM     26   Fe MOL     1       1.800   1.800   0.600  1.00  0.00          FE  \nATOM     27   Fe MOL     1       1.200   1.200   1.200  1.00  0.00          FE  \nATOM     28   Fe MOL     1       1.800   1.800   1.800  1.00  0.00          FE  \nATOM     29   Fe MOL     1       1.200   1.200   2.400  1.00  0.00          FE  \nATOM     30   Fe MOL     1       1.800   1.800   3.000  1.00  0.00          FE  \nATOM     31   Fe MOL     1       1.200   2.400   0.000  1.00  0.00          FE  \nATOM     32   Fe MOL     1       1.800   3.000   0.600  1.00  0.00          FE  \nATOM     33   Fe MOL     1       1.200   2.400   1.200  1.00  0.00          FE  \nATOM     34   Fe MOL     1       1.800   3.000   1.800  1.00  0.00          FE  \nATOM     35   Fe MOL     1       1.200   2.400   2.400  1.00  0.00          FE  \nATOM     36   Fe MOL     1       1.800   3.000   3.000  1.00  0.00          FE  \nATOM     37   Fe MOL     1       2.400   0.000   0.000  1.00  0.00          FE  \nATOM     38   Fe MOL     1       3.000   0.600   0.600  1.00  0.00          FE  \nATOM     39   Fe MOL     1       2.400   0.000   1.200  1.00  0.00          FE  \nATOM     40   Fe MOL     1       3.000   0.600   1.800  1.00  0.00          FE  \nATOM     41   Fe MOL     1       2.400   0.000   2.400  1.00  0.00          FE  \nATOM     42   Fe MOL     1       3.000   0.600   3.000  1.00  0.00          FE  \nATOM     43   Fe MOL     1       2.400   1.200   0.000  1.00  0.00          FE  \nATOM     44   Fe MOL     1       3.000   1.800   0.600  1.00  0.00          FE  \nATOM     45   Fe MOL     1       2.400   1.200   1.200  1.00  0.00          FE  \nATOM     46   Fe MOL     1       3.000   1.800   1.800  1.00  0.00          FE  \nATOM     47   Fe MOL     1       2.400   1.200   2.400  1.00  0.00          FE  \nATOM     48   Fe MOL     1       3.000   1.800   3.000  1.00  0.00          FE  \nATOM     49   Fe MOL     1       2.400   2.400   0.000  1.00  0.00          FE  \nATOM     50   Fe MOL     1       3.000   3.000   0.600  1.00  0.00          FE  \nATOM     51   Fe MOL     1       2.400   2.400   1.200  1.00  0.00          FE  \nATOM     52   Fe MOL     1       3.000   3.000   1.800  1.00  0.00          FE  \nATOM     53   Fe MOL     1       2.400   2.400   2.400  1.00  0.00          FE  \nATOM     54   Fe MOL     1       3.000   3.000   3.000  1.00  0.00          FE  \nENDMDL\n",
           "type": "blob"
          }
         ],
         "kwargs": {
          "defaultRepresentation": true,
          "ext": "pdb",
          "name": "nglview.adaptor.ASETrajectory"
         },
         "methodName": "loadFile",
         "reconstruc_color_scheme": false,
         "target": "Stage",
         "type": "call_method"
        },
        {
         "args": [
          "spacefill"
         ],
         "component_index": 0,
         "kwargs": {
          "radius": 0.5,
          "radiusType": "vdw",
          "scale": 0.5,
          "sele": "all"
         },
         "methodName": "addRepresentation",
         "reconstruc_color_scheme": false,
         "target": "compList",
         "type": "call_method"
        },
        {
         "args": [
          "ball+stick",
          0
         ],
         "kwargs": {},
         "methodName": "removeRepresentationsByName",
         "reconstruc_color_scheme": false,
         "target": "Widget",
         "type": "call_method"
        },
        {
         "args": [
          "unitcell"
         ],
         "component_index": 0,
         "kwargs": {
          "sele": "all"
         },
         "methodName": "addRepresentation",
         "reconstruc_color_scheme": false,
         "target": "compList",
         "type": "call_method"
        },
        {
         "args": [],
         "kwargs": {
          "cameraType": "orthographic"
         },
         "methodName": "setParameters",
         "reconstruc_color_scheme": false,
         "target": "Stage",
         "type": "call_method"
        }
       ],
       "_ngl_original_stage_parameters": {
        "ambientColor": 14540253,
        "ambientIntensity": 0.2,
        "backgroundColor": "white",
        "cameraEyeSep": 0.3,
        "cameraFov": 40,
        "cameraType": "perspective",
        "clipDist": 10,
        "clipFar": 100,
        "clipNear": 0,
        "fogFar": 100,
        "fogNear": 50,
        "hoverTimeout": 0,
        "impostor": true,
        "lightColor": 14540253,
        "lightIntensity": 1,
        "mousePreset": "default",
        "panSpeed": 1,
        "quality": "medium",
        "rotateSpeed": 2,
        "sampleLevel": 0,
        "tooltip": true,
        "workerDefault": true,
        "zoomSpeed": 1.2
       },
       "_ngl_repr_dict": {
        "0": {
         "0": {
          "params": {
           "assembly": "default",
           "clipCenter": {
            "x": 0,
            "y": 0,
            "z": 0
           },
           "clipNear": 0,
           "clipRadius": 0,
           "colorMode": "hcl",
           "colorReverse": false,
           "colorScale": "",
           "colorScheme": "element",
           "colorValue": 9474192,
           "defaultAssembly": "",
           "depthWrite": true,
           "diffuse": 16777215,
           "diffuseInterior": false,
           "disableImpostor": false,
           "disablePicking": false,
           "flatShaded": false,
           "interiorColor": 2236962,
           "interiorDarkening": 0,
           "lazy": false,
           "matrix": {
            "elements": [
             1,
             0,
             0,
             0,
             0,
             1,
             0,
             0,
             0,
             0,
             1,
             0,
             0,
             0,
             0,
             1
            ]
           },
           "metalness": 0,
           "opacity": 1,
           "quality": "medium",
           "radiusData": {},
           "radiusScale": 1,
           "radiusSize": 0.5,
           "radiusType": "size",
           "roughness": 0.4,
           "sele": "all",
           "side": "double",
           "sphereDetail": 1,
           "useInteriorColor": true,
           "visible": true,
           "wireframe": false
          },
          "type": "spacefill"
         },
         "1": {
          "params": {
           "clipCenter": {
            "x": 0,
            "y": 0,
            "z": 0
           },
           "clipNear": 0,
           "clipRadius": 0,
           "colorMode": "hcl",
           "colorReverse": false,
           "colorScale": "",
           "colorScheme": "element",
           "colorValue": "orange",
           "defaultAssembly": "",
           "depthWrite": true,
           "diffuse": 16777215,
           "diffuseInterior": false,
           "disableImpostor": false,
           "disablePicking": false,
           "flatShaded": false,
           "interiorColor": 2236962,
           "interiorDarkening": 0,
           "lazy": false,
           "matrix": {
            "elements": [
             1,
             0,
             0,
             0,
             0,
             1,
             0,
             0,
             0,
             0,
             1,
             0,
             0,
             0,
             0,
             1
            ]
           },
           "metalness": 0,
           "opacity": 1,
           "quality": "medium",
           "radialSegments": 10,
           "radiusData": {},
           "radiusScale": 1,
           "radiusSize": 0.017999999209869933,
           "radiusType": "vdw",
           "roughness": 0.4,
           "sele": "all",
           "side": "double",
           "sphereDetail": 1,
           "useInteriorColor": true,
           "visible": true,
           "wireframe": false
          },
          "type": "unitcell"
         }
        }
       },
       "_ngl_serialize": false,
       "_ngl_version": "2.0.0-dev.36",
       "_ngl_view_id": [
        "AEE7E543-F286-4AAC-843E-55903D8E906C"
       ],
       "_player_dict": {},
       "_scene_position": {},
       "_scene_rotation": {},
       "_synced_model_ids": [],
       "_synced_repr_model_ids": [],
       "_view_height": "",
       "_view_width": "",
       "background": "white",
       "frame": 0,
       "gui_style": null,
       "layout": "IPY_MODEL_b9ab72d5e1de4c7d99fc1f3fc22216da",
       "max_frame": 21,
       "n_components": 1,
       "picked": {}
      }
     },
     "7518d4e0d82142ee9dd604b8cff07a07": {
      "model_module": "@jupyter-widgets/controls",
      "model_module_version": "1.5.0",
      "model_name": "LinkModel",
      "state": {
       "source": [
        "IPY_MODEL_2964c4b4b96e47ed977a65d55c4c30f8",
        "max"
       ],
       "target": [
        "IPY_MODEL_63d6a4ee513142359ee6edc4754f18ab",
        "max_frame"
       ]
      }
     },
     "78a1f9a2fe23401bb112cf028369300d": {
      "model_module": "@jupyter-widgets/controls",
      "model_module_version": "1.5.0",
      "model_name": "IntSliderModel",
      "state": {
       "layout": "IPY_MODEL_37d7c2ab2a74486fb7304bffbca48859",
       "max": 21,
       "style": "IPY_MODEL_68940526b8cf4c2997207324c7e7888b"
      }
     },
     "7970f82f392f44379408589deaaf3ff5": {
      "model_module": "@jupyter-widgets/controls",
      "model_module_version": "1.5.0",
      "model_name": "ButtonModel",
      "state": {
       "icon": "compress",
       "layout": "IPY_MODEL_47298cbae5234c2ba97fc00f30f32fbd",
       "style": "IPY_MODEL_28677f6679f04d989db938d88030310a"
      }
     },
     "81ab0afcff0549fe9cdc34038bcb8065": {
      "model_module": "@jupyter-widgets/controls",
      "model_module_version": "1.5.0",
      "model_name": "IntSliderModel",
      "state": {
       "layout": "IPY_MODEL_3b60682933684f1ea5058a3211578972",
       "max": 0,
       "style": "IPY_MODEL_608e267572af412bab629eb7c94fa567"
      }
     },
     "8cb24cb6978f4c998d27b645ea5757fd": {
      "model_module": "@jupyter-widgets/controls",
      "model_module_version": "1.5.0",
      "model_name": "ButtonModel",
      "state": {
       "icon": "compress",
       "layout": "IPY_MODEL_95a007abd96a4cf88dc9d1972bfcb885",
       "style": "IPY_MODEL_024eb52716ed4318b0626147bf790cf1"
      }
     },
     "8fcd49b7e0254e05b76f005d4d3ab56f": {
      "model_module": "@jupyter-widgets/base",
      "model_module_version": "1.2.0",
      "model_name": "LayoutModel",
      "state": {}
     },
     "910eb9e2748644ae844251d1462540df": {
      "model_module": "@jupyter-widgets/controls",
      "model_module_version": "1.5.0",
      "model_name": "ButtonStyleModel",
      "state": {}
     },
     "9161bdfbd4154693b32bb3ead65d3db6": {
      "model_module": "@jupyter-widgets/controls",
      "model_module_version": "1.5.0",
      "model_name": "LinkModel",
      "state": {
       "source": [
        "IPY_MODEL_f42dbefe1afa44ceac086275a099407a",
        "max"
       ],
       "target": [
        "IPY_MODEL_63d6a4ee513142359ee6edc4754f18ab",
        "max_frame"
       ]
      }
     },
     "95a007abd96a4cf88dc9d1972bfcb885": {
      "model_module": "@jupyter-widgets/base",
      "model_module_version": "1.2.0",
      "model_name": "LayoutModel",
      "state": {
       "width": "34px"
      }
     },
     "9df118d922724f7f984c7a2a354672c4": {
      "model_module": "@jupyter-widgets/base",
      "model_module_version": "1.2.0",
      "model_name": "LayoutModel",
      "state": {}
     },
     "a13a50d58406485cbfa71d192fdc504d": {
      "model_module": "@jupyter-widgets/controls",
      "model_module_version": "1.5.0",
      "model_name": "PlayModel",
      "state": {
       "layout": "IPY_MODEL_afd6af21b4a148edb9dd992bd5fa132e",
       "max": 21,
       "style": "IPY_MODEL_d7bba2a76a9647f7a7788f0c6b8fbab7"
      }
     },
     "a14ed0d326274c498b91e78604b4fccd": {
      "model_module": "@jupyter-widgets/controls",
      "model_module_version": "1.5.0",
      "model_name": "LinkModel",
      "state": {
       "source": [
        "IPY_MODEL_81ab0afcff0549fe9cdc34038bcb8065",
        "max"
       ],
       "target": [
        "IPY_MODEL_cdde213a7a3445d08efacffc1c7b0581",
        "max_frame"
       ]
      }
     },
     "a776064405af4084b8591f82b2e1fcdf": {
      "model_module": "@jupyter-widgets/controls",
      "model_module_version": "1.5.0",
      "model_name": "LinkModel",
      "state": {
       "source": [
        "IPY_MODEL_c70e261d6cf44f32bf2b6dae9c2030bc",
        "value"
       ],
       "target": [
        "IPY_MODEL_cdde213a7a3445d08efacffc1c7b0581",
        "frame"
       ]
      }
     },
     "afd6af21b4a148edb9dd992bd5fa132e": {
      "model_module": "@jupyter-widgets/base",
      "model_module_version": "1.2.0",
      "model_name": "LayoutModel",
      "state": {}
     },
     "b36c0c9105454af78422278b6847d006": {
      "model_module": "@jupyter-widgets/base",
      "model_module_version": "1.2.0",
      "model_name": "LayoutModel",
      "state": {}
     },
     "b9ab72d5e1de4c7d99fc1f3fc22216da": {
      "model_module": "@jupyter-widgets/base",
      "model_module_version": "1.2.0",
      "model_name": "LayoutModel",
      "state": {}
     },
     "ba5a5d97828140d5bc2678f11310a4b5": {
      "model_module": "@jupyter-widgets/controls",
      "model_module_version": "1.5.0",
      "model_name": "HBoxModel",
      "state": {
       "children": [
        "IPY_MODEL_a13a50d58406485cbfa71d192fdc504d",
        "IPY_MODEL_78a1f9a2fe23401bb112cf028369300d"
       ],
       "layout": "IPY_MODEL_b36c0c9105454af78422278b6847d006"
      }
     },
     "c70e261d6cf44f32bf2b6dae9c2030bc": {
      "model_module": "@jupyter-widgets/controls",
      "model_module_version": "1.5.0",
      "model_name": "PlayModel",
      "state": {
       "layout": "IPY_MODEL_d0d4bd7a685c42ada61108ebc1b2d2cf",
       "max": 0,
       "style": "IPY_MODEL_e75a2359044347888b56002f945db287"
      }
     },
     "c8b8572514b34b33aff97adc70ec50d6": {
      "model_module": "@jupyter-widgets/controls",
      "model_module_version": "1.5.0",
      "model_name": "DescriptionStyleModel",
      "state": {
       "description_width": ""
      }
     },
     "c8cc0fe989a74fe290ab251b3afda8ba": {
      "model_module": "@jupyter-widgets/controls",
      "model_module_version": "1.5.0",
      "model_name": "LinkModel",
      "state": {
       "source": [
        "IPY_MODEL_a13a50d58406485cbfa71d192fdc504d",
        "value"
       ],
       "target": [
        "IPY_MODEL_78a1f9a2fe23401bb112cf028369300d",
        "value"
       ]
      }
     },
     "cdde213a7a3445d08efacffc1c7b0581": {
      "model_module": "nglview-js-widgets",
      "model_module_version": "3.0.1",
      "model_name": "NGLModel",
      "state": {
       "_camera_orientation": [
        14,
        0,
        0,
        0,
        0,
        14,
        0,
        0,
        0,
        0,
        14,
        0,
        0,
        0,
        0,
        1
       ],
       "_camera_str": "orthographic",
       "_gui_theme": null,
       "_ibtn_fullscreen": "IPY_MODEL_00a17ba0b124451cbde0fad3b84353ee",
       "_igui": null,
       "_iplayer": "IPY_MODEL_e517781696d84f9aad35efa9ad443846",
       "_ngl_color_dict": {},
       "_ngl_coordinate_resource": {},
       "_ngl_full_stage_parameters": {
        "ambientColor": 14540253,
        "ambientIntensity": 0.2,
        "backgroundColor": "white",
        "cameraEyeSep": 0.3,
        "cameraFov": 40,
        "cameraType": "orthographic",
        "clipDist": 10,
        "clipFar": 100,
        "clipNear": 0,
        "fogFar": 100,
        "fogNear": 50,
        "hoverTimeout": 0,
        "impostor": true,
        "lightColor": 14540253,
        "lightIntensity": 1,
        "mousePreset": "default",
        "panSpeed": 1,
        "quality": "medium",
        "rotateSpeed": 2,
        "sampleLevel": 0,
        "tooltip": true,
        "workerDefault": true,
        "zoomSpeed": 1.2
       },
       "_ngl_msg_archive": [
        {
         "args": [
          {
           "binary": false,
           "data": "CRYST1   10.000   10.000   10.000  90.00  90.00  90.00 P 1\nMODEL     1\nATOM      0   Fe   Fe     0      0.000   0.000   0.000  1.00  0.00          Fe \nATOM      1   Fe   Fe     1      0.000   0.000   0.750  1.00  0.00          Fe \nENDMDL \n",
           "type": "blob"
          }
         ],
         "kwargs": {
          "defaultRepresentation": true,
          "ext": "pdb"
         },
         "methodName": "loadFile",
         "reconstruc_color_scheme": false,
         "target": "Stage",
         "type": "call_method"
        },
        {
         "args": [
          "spacefill"
         ],
         "component_index": 0,
         "kwargs": {
          "colorScheme": "element",
          "radius": 0.7099019513592786,
          "radiusType": "vdw",
          "sele": "#Fe"
         },
         "methodName": "addRepresentation",
         "reconstruc_color_scheme": false,
         "target": "compList",
         "type": "call_method"
        },
        {
         "args": [
          "ball+stick",
          0
         ],
         "kwargs": {},
         "methodName": "removeRepresentationsByName",
         "reconstruc_color_scheme": false,
         "target": "Widget",
         "type": "call_method"
        },
        {
         "args": [
          "unitcell"
         ],
         "component_index": 0,
         "kwargs": {
          "sele": "all"
         },
         "methodName": "addRepresentation",
         "reconstruc_color_scheme": false,
         "target": "compList",
         "type": "call_method"
        },
        {
         "args": [
          "shape",
          [
           [
            "arrow",
            [
             -1,
             -1,
             -1
            ],
            [
             0,
             -1,
             -1
            ],
            [
             1,
             0,
             0
            ],
            0.1
           ]
          ]
         ],
         "fire_embed": true,
         "kwargs": {},
         "methodName": "addShape",
         "reconstruc_color_scheme": false,
         "target": "Widget",
         "type": "call_method"
        },
        {
         "args": [
          "shape",
          [
           [
            "text",
            [
             0,
             -1,
             -1
            ],
            [
             0,
             0,
             0
            ],
            1,
            "x"
           ]
          ]
         ],
         "fire_embed": true,
         "kwargs": {},
         "methodName": "addShape",
         "reconstruc_color_scheme": false,
         "target": "Widget",
         "type": "call_method"
        },
        {
         "args": [
          "shape",
          [
           [
            "arrow",
            [
             -1,
             -1,
             -1
            ],
            [
             -1,
             0,
             -1
            ],
            [
             0,
             1,
             0
            ],
            0.1
           ]
          ]
         ],
         "fire_embed": true,
         "kwargs": {},
         "methodName": "addShape",
         "reconstruc_color_scheme": false,
         "target": "Widget",
         "type": "call_method"
        },
        {
         "args": [
          "shape",
          [
           [
            "text",
            [
             -1,
             0,
             -1
            ],
            [
             0,
             0,
             0
            ],
            1,
            "y"
           ]
          ]
         ],
         "fire_embed": true,
         "kwargs": {},
         "methodName": "addShape",
         "reconstruc_color_scheme": false,
         "target": "Widget",
         "type": "call_method"
        },
        {
         "args": [
          "shape",
          [
           [
            "arrow",
            [
             -1,
             -1,
             -1
            ],
            [
             -1,
             -1,
             0
            ],
            [
             0,
             0,
             1
            ],
            0.1
           ]
          ]
         ],
         "fire_embed": true,
         "kwargs": {},
         "methodName": "addShape",
         "reconstruc_color_scheme": false,
         "target": "Widget",
         "type": "call_method"
        },
        {
         "args": [
          "shape",
          [
           [
            "text",
            [
             -1,
             -1,
             0
            ],
            [
             0,
             0,
             0
            ],
            1,
            "z"
           ]
          ]
         ],
         "fire_embed": true,
         "kwargs": {},
         "methodName": "addShape",
         "reconstruc_color_scheme": false,
         "target": "Widget",
         "type": "call_method"
        },
        {
         "args": [],
         "kwargs": {
          "cameraType": "orthographic"
         },
         "methodName": "setParameters",
         "reconstruc_color_scheme": false,
         "target": "Stage",
         "type": "call_method"
        },
        {
         "args": [
          [
           14,
           0,
           0,
           0,
           0,
           14,
           0,
           0,
           0,
           0,
           14,
           0,
           0,
           0,
           0,
           14
          ]
         ],
         "kwargs": {},
         "methodName": "orient",
         "reconstruc_color_scheme": false,
         "target": "viewerControls",
         "type": "call_method"
        }
       ],
       "_ngl_original_stage_parameters": {
        "ambientColor": 14540253,
        "ambientIntensity": 0.2,
        "backgroundColor": "white",
        "cameraEyeSep": 0.3,
        "cameraFov": 40,
        "cameraType": "perspective",
        "clipDist": 10,
        "clipFar": 100,
        "clipNear": 0,
        "fogFar": 100,
        "fogNear": 50,
        "hoverTimeout": 0,
        "impostor": true,
        "lightColor": 14540253,
        "lightIntensity": 1,
        "mousePreset": "default",
        "panSpeed": 1,
        "quality": "medium",
        "rotateSpeed": 2,
        "sampleLevel": 0,
        "tooltip": true,
        "workerDefault": true,
        "zoomSpeed": 1.2
       },
       "_ngl_repr_dict": {
        "0": {
         "0": {
          "params": {
           "assembly": "default",
           "clipCenter": {
            "x": 0,
            "y": 0,
            "z": 0
           },
           "clipNear": 0,
           "clipRadius": 0,
           "colorMode": "hcl",
           "colorReverse": false,
           "colorScale": "",
           "colorScheme": "element",
           "colorValue": 9474192,
           "defaultAssembly": "",
           "depthWrite": true,
           "diffuse": 16777215,
           "diffuseInterior": false,
           "disableImpostor": false,
           "disablePicking": false,
           "flatShaded": false,
           "interiorColor": 2236962,
           "interiorDarkening": 0,
           "lazy": false,
           "matrix": {
            "elements": [
             1,
             0,
             0,
             0,
             0,
             1,
             0,
             0,
             0,
             0,
             1,
             0,
             0,
             0,
             0,
             1
            ]
           },
           "metalness": 0,
           "opacity": 1,
           "quality": "medium",
           "radiusData": {},
           "radiusScale": 1,
           "radiusSize": 0.7099019513592786,
           "radiusType": "size",
           "roughness": 0.4,
           "sele": "#Fe",
           "side": "double",
           "sphereDetail": 1,
           "useInteriorColor": true,
           "visible": true,
           "wireframe": false
          },
          "type": "spacefill"
         },
         "1": {
          "params": {
           "clipCenter": {
            "x": 0,
            "y": 0,
            "z": 0
           },
           "clipNear": 0,
           "clipRadius": 0,
           "colorMode": "hcl",
           "colorReverse": false,
           "colorScale": "",
           "colorScheme": "element",
           "colorValue": "orange",
           "defaultAssembly": "",
           "depthWrite": true,
           "diffuse": 16777215,
           "diffuseInterior": false,
           "disableImpostor": false,
           "disablePicking": false,
           "flatShaded": false,
           "interiorColor": 2236962,
           "interiorDarkening": 0,
           "lazy": false,
           "matrix": {
            "elements": [
             1,
             0,
             0,
             0,
             0,
             1,
             0,
             0,
             0,
             0,
             1,
             0,
             0,
             0,
             0,
             1
            ]
           },
           "metalness": 0,
           "opacity": 1,
           "quality": "medium",
           "radialSegments": 10,
           "radiusData": {},
           "radiusScale": 1,
           "radiusSize": 0.049999997805194256,
           "radiusType": "vdw",
           "roughness": 0.4,
           "sele": "all",
           "side": "double",
           "sphereDetail": 1,
           "useInteriorColor": true,
           "visible": true,
           "wireframe": false
          },
          "type": "unitcell"
         }
        },
        "1": {
         "0": {
          "params": {
           "clipCenter": {
            "x": 0,
            "y": 0,
            "z": 0
           },
           "clipNear": 0,
           "clipRadius": 0,
           "colorReverse": false,
           "depthWrite": true,
           "diffuse": 16777215,
           "diffuseInterior": false,
           "disablePicking": false,
           "flatShaded": false,
           "interiorColor": 2236962,
           "interiorDarkening": 0,
           "lazy": false,
           "matrix": {
            "elements": [
             1,
             0,
             0,
             0,
             0,
             1,
             0,
             0,
             0,
             0,
             1,
             0,
             0,
             0,
             0,
             1
            ]
           },
           "metalness": 0,
           "opacity": 1,
           "quality": "medium",
           "roughness": 0.4,
           "side": "double",
           "useInteriorColor": false,
           "visible": true,
           "wireframe": false
          },
          "type": "buffer"
         }
        },
        "2": {
         "0": {
          "params": {
           "clipCenter": {
            "x": 0,
            "y": 0,
            "z": 0
           },
           "clipNear": 0,
           "clipRadius": 0,
           "colorReverse": false,
           "depthWrite": true,
           "diffuse": 16777215,
           "diffuseInterior": false,
           "disablePicking": false,
           "flatShaded": false,
           "interiorColor": 2236962,
           "interiorDarkening": 0,
           "lazy": false,
           "matrix": {
            "elements": [
             1,
             0,
             0,
             0,
             0,
             1,
             0,
             0,
             0,
             0,
             1,
             0,
             0,
             0,
             0,
             1
            ]
           },
           "metalness": 0,
           "opacity": 1,
           "quality": "medium",
           "roughness": 0.4,
           "side": "double",
           "useInteriorColor": false,
           "visible": true,
           "wireframe": false
          },
          "type": "buffer"
         }
        },
        "3": {
         "0": {
          "params": {
           "clipCenter": {
            "x": 0,
            "y": 0,
            "z": 0
           },
           "clipNear": 0,
           "clipRadius": 0,
           "colorReverse": false,
           "depthWrite": true,
           "diffuse": 16777215,
           "diffuseInterior": false,
           "disablePicking": false,
           "flatShaded": false,
           "interiorColor": 2236962,
           "interiorDarkening": 0,
           "lazy": false,
           "matrix": {
            "elements": [
             1,
             0,
             0,
             0,
             0,
             1,
             0,
             0,
             0,
             0,
             1,
             0,
             0,
             0,
             0,
             1
            ]
           },
           "metalness": 0,
           "opacity": 1,
           "quality": "medium",
           "roughness": 0.4,
           "side": "double",
           "useInteriorColor": false,
           "visible": true,
           "wireframe": false
          },
          "type": "buffer"
         }
        },
        "4": {
         "0": {
          "params": {
           "clipCenter": {
            "x": 0,
            "y": 0,
            "z": 0
           },
           "clipNear": 0,
           "clipRadius": 0,
           "colorReverse": false,
           "depthWrite": true,
           "diffuse": 16777215,
           "diffuseInterior": false,
           "disablePicking": false,
           "flatShaded": false,
           "interiorColor": 2236962,
           "interiorDarkening": 0,
           "lazy": false,
           "matrix": {
            "elements": [
             1,
             0,
             0,
             0,
             0,
             1,
             0,
             0,
             0,
             0,
             1,
             0,
             0,
             0,
             0,
             1
            ]
           },
           "metalness": 0,
           "opacity": 1,
           "quality": "medium",
           "roughness": 0.4,
           "side": "double",
           "useInteriorColor": false,
           "visible": true,
           "wireframe": false
          },
          "type": "buffer"
         }
        },
        "5": {
         "0": {
          "params": {
           "clipCenter": {
            "x": 0,
            "y": 0,
            "z": 0
           },
           "clipNear": 0,
           "clipRadius": 0,
           "colorReverse": false,
           "depthWrite": true,
           "diffuse": 16777215,
           "diffuseInterior": false,
           "disablePicking": false,
           "flatShaded": false,
           "interiorColor": 2236962,
           "interiorDarkening": 0,
           "lazy": false,
           "matrix": {
            "elements": [
             1,
             0,
             0,
             0,
             0,
             1,
             0,
             0,
             0,
             0,
             1,
             0,
             0,
             0,
             0,
             1
            ]
           },
           "metalness": 0,
           "opacity": 1,
           "quality": "medium",
           "roughness": 0.4,
           "side": "double",
           "useInteriorColor": false,
           "visible": true,
           "wireframe": false
          },
          "type": "buffer"
         }
        },
        "6": {
         "0": {
          "params": {
           "clipCenter": {
            "x": 0,
            "y": 0,
            "z": 0
           },
           "clipNear": 0,
           "clipRadius": 0,
           "colorReverse": false,
           "depthWrite": true,
           "diffuse": 16777215,
           "diffuseInterior": false,
           "disablePicking": false,
           "flatShaded": false,
           "interiorColor": 2236962,
           "interiorDarkening": 0,
           "lazy": false,
           "matrix": {
            "elements": [
             1,
             0,
             0,
             0,
             0,
             1,
             0,
             0,
             0,
             0,
             1,
             0,
             0,
             0,
             0,
             1
            ]
           },
           "metalness": 0,
           "opacity": 1,
           "quality": "medium",
           "roughness": 0.4,
           "side": "double",
           "useInteriorColor": false,
           "visible": true,
           "wireframe": false
          },
          "type": "buffer"
         }
        }
       },
       "_ngl_serialize": false,
       "_ngl_version": "2.0.0-dev.36",
       "_ngl_view_id": [
        "EEA5383B-89E4-42F3-A148-FC24CADE8089"
       ],
       "_player_dict": {},
       "_scene_position": {},
       "_scene_rotation": {},
       "_synced_model_ids": [],
       "_synced_repr_model_ids": [],
       "_view_height": "",
       "_view_width": "",
       "background": "white",
       "frame": 0,
       "gui_style": null,
       "layout": "IPY_MODEL_2bf88d342df54490a8d562803f726d8b",
       "max_frame": 0,
       "n_components": 7,
       "picked": {}
      }
     },
     "d0d4bd7a685c42ada61108ebc1b2d2cf": {
      "model_module": "@jupyter-widgets/base",
      "model_module_version": "1.2.0",
      "model_name": "LayoutModel",
      "state": {}
     },
     "d3dba68b040c436a87aa1acf4b90a1c9": {
      "model_module": "nglview-js-widgets",
      "model_module_version": "3.0.1",
      "model_name": "ColormakerRegistryModel",
      "state": {
       "_msg_ar": [],
       "_msg_q": [],
       "_ready": true,
       "layout": "IPY_MODEL_8fcd49b7e0254e05b76f005d4d3ab56f"
      }
     },
     "d7bba2a76a9647f7a7788f0c6b8fbab7": {
      "model_module": "@jupyter-widgets/controls",
      "model_module_version": "1.5.0",
      "model_name": "DescriptionStyleModel",
      "state": {
       "description_width": ""
      }
     },
     "e479162c7f164eb28512cf35cef91c2f": {
      "model_module": "@jupyter-widgets/controls",
      "model_module_version": "1.5.0",
      "model_name": "LinkModel",
      "state": {
       "source": [
        "IPY_MODEL_2964c4b4b96e47ed977a65d55c4c30f8",
        "value"
       ],
       "target": [
        "IPY_MODEL_f42dbefe1afa44ceac086275a099407a",
        "value"
       ]
      }
     },
     "e517781696d84f9aad35efa9ad443846": {
      "model_module": "@jupyter-widgets/controls",
      "model_module_version": "1.5.0",
      "model_name": "HBoxModel",
      "state": {
       "children": [
        "IPY_MODEL_c70e261d6cf44f32bf2b6dae9c2030bc",
        "IPY_MODEL_81ab0afcff0549fe9cdc34038bcb8065"
       ],
       "layout": "IPY_MODEL_331e65cb645e4261b0d521035d6f9fa8"
      }
     },
     "e75a2359044347888b56002f945db287": {
      "model_module": "@jupyter-widgets/controls",
      "model_module_version": "1.5.0",
      "model_name": "DescriptionStyleModel",
      "state": {
       "description_width": ""
      }
     },
     "f42dbefe1afa44ceac086275a099407a": {
      "model_module": "@jupyter-widgets/controls",
      "model_module_version": "1.5.0",
      "model_name": "IntSliderModel",
      "state": {
       "layout": "IPY_MODEL_31e5c0c3795a498d87c8a8b1d8327917",
       "max": 4,
       "style": "IPY_MODEL_2d621d97ad4840f08a792eef56349b30"
      }
     },
     "f9278ff760c54f8fa5ad460b82946227": {
      "model_module": "@jupyter-widgets/controls",
      "model_module_version": "1.5.0",
      "model_name": "LinkModel",
      "state": {
       "source": [
        "IPY_MODEL_a13a50d58406485cbfa71d192fdc504d",
        "value"
       ],
       "target": [
        "IPY_MODEL_72151a9d47704d1fb535afa54a44cdda",
        "frame"
       ]
      }
     },
     "fda30267a096477a882c30d1c3fe783e": {
      "model_module": "@jupyter-widgets/controls",
      "model_module_version": "1.5.0",
      "model_name": "LinkModel",
      "state": {
       "source": [
        "IPY_MODEL_2964c4b4b96e47ed977a65d55c4c30f8",
        "value"
       ],
       "target": [
        "IPY_MODEL_63d6a4ee513142359ee6edc4754f18ab",
        "frame"
       ]
      }
     }
    },
    "version_major": 2,
    "version_minor": 0
   }
  }
 },
 "nbformat": 4,
 "nbformat_minor": 5
}
