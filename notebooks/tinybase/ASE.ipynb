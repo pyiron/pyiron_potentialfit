{
 "cells": [
  {
   "cell_type": "markdown",
   "id": "32de9950-ae26-488d-92af-9784ab1c7598",
   "metadata": {},
   "source": [
    "# Imports"
   ]
  },
  {
   "cell_type": "code",
   "execution_count": 8,
   "id": "f9ecb713-99e6-4f34-b4c2-fe9f3d96c81e",
   "metadata": {},
   "outputs": [],
   "source": [
    "from ase import Atoms"
   ]
  },
  {
   "cell_type": "code",
   "execution_count": 9,
   "id": "31dc7658-dcf0-41a4-9c62-ec92b02e47ea",
   "metadata": {},
   "outputs": [],
   "source": [
    "from ase.build import bulk"
   ]
  },
  {
   "cell_type": "code",
   "execution_count": 10,
   "id": "e7cc88a5-8492-482e-8c6b-c17ff967fff5",
   "metadata": {},
   "outputs": [],
   "source": [
    "from ase.calculators.morse import MorsePotential"
   ]
  },
  {
   "cell_type": "code",
   "execution_count": 11,
   "id": "b3108213-1d94-4354-9537-84982e45683d",
   "metadata": {},
   "outputs": [],
   "source": [
    "from pyiron_contrib.tinybase.ase import AseStaticNode, AseMDNode, AseMinimizeNode"
   ]
  },
  {
   "cell_type": "code",
   "execution_count": 12,
   "id": "0029125a-55e6-4181-a59b-09f606a1b4dd",
   "metadata": {},
   "outputs": [],
   "source": [
    "from pyiron_contrib.tinybase.murn import MurnaghanNode"
   ]
  },
  {
   "cell_type": "code",
   "execution_count": 13,
   "id": "c7c74920-c6b3-4577-a60f-951a0d3276ec",
   "metadata": {},
   "outputs": [],
   "source": [
    "from pyiron_contrib.tinybase.executor import ProcessExecutor, BackgroundExecutor, Executor"
   ]
  },
  {
   "cell_type": "code",
   "execution_count": 14,
   "id": "c6630920-6ab7-4273-883e-999020b1fe5a",
   "metadata": {},
   "outputs": [],
   "source": [
    "import logging\n",
    "logging.getLogger().setLevel(20)"
   ]
  },
  {
   "cell_type": "markdown",
   "id": "4d6f4eab-7660-4e66-b85b-8d9969512c00",
   "metadata": {},
   "source": [
    "# Simple ASE Static Calculation"
   ]
  },
  {
   "cell_type": "code",
   "execution_count": 15,
   "id": "a6af72cb-989b-46c3-a2b5-4d2b9c5fd1eb",
   "metadata": {},
   "outputs": [],
   "source": [
    "a = AseStaticNode()"
   ]
  },
  {
   "cell_type": "code",
   "execution_count": 16,
   "id": "5b2a9d62-3f74-4acf-acb6-e72dcd984704",
   "metadata": {},
   "outputs": [],
   "source": [
    "a.input.structure = bulk(\"Fe\")"
   ]
  },
  {
   "cell_type": "code",
   "execution_count": 17,
   "id": "1af70322-897e-487d-ba18-239ba5bfb7ba",
   "metadata": {},
   "outputs": [],
   "source": [
    "a.input.calculator = MorsePotential()"
   ]
  },
  {
   "cell_type": "code",
   "execution_count": 18,
   "id": "273902ef-03f3-4f68-8668-4e6c6055a302",
   "metadata": {},
   "outputs": [
    {
     "data": {
      "text/plain": [
       "(ReturnStatus(Code.DONE, None),\n",
       " <pyiron_contrib.tinybase.container.EnergyOutput at 0x7fc3a2c6d950>)"
      ]
     },
     "execution_count": 18,
     "metadata": {},
     "output_type": "execute_result"
    }
   ],
   "source": [
    "ret, output = a.execute(); ret, output"
   ]
  },
  {
   "cell_type": "code",
   "execution_count": 19,
   "id": "497de0b9-5e11-4d6c-8c19-664d0e759ac4",
   "metadata": {},
   "outputs": [
    {
     "data": {
      "text/plain": [
       "-0.00013307075712109978"
      ]
     },
     "execution_count": 19,
     "metadata": {},
     "output_type": "execute_result"
    }
   ],
   "source": [
    "output.energy_pot"
   ]
  },
  {
   "cell_type": "code",
   "execution_count": 20,
   "id": "57eced2f-6649-4269-b3fa-6061d518f9ee",
   "metadata": {},
   "outputs": [
    {
     "data": {
      "text/plain": [
       "-0.00013307075712109978"
      ]
     },
     "execution_count": 20,
     "metadata": {},
     "output_type": "execute_result"
    }
   ],
   "source": [
    "exe = a.run()\n",
    "exe.output[0].energy_pot"
   ]
  },
  {
   "cell_type": "markdown",
   "id": "ca6ebf4d-f7a7-4bc9-8a45-f544df3d7989",
   "metadata": {
    "tags": []
   },
   "source": [
    "# Murnaghan"
   ]
  },
  {
   "cell_type": "markdown",
   "id": "bf7ed983-d810-4193-ac32-b7b50a3f2145",
   "metadata": {},
   "source": [
    "## Basic"
   ]
  },
  {
   "cell_type": "code",
   "execution_count": 21,
   "id": "ec7e75f1-56b9-4681-902f-65c107e17721",
   "metadata": {},
   "outputs": [],
   "source": [
    "m = MurnaghanNode()"
   ]
  },
  {
   "cell_type": "code",
   "execution_count": 22,
   "id": "992f6dc3-1a6d-40f3-8429-4b4ce2672fdc",
   "metadata": {},
   "outputs": [],
   "source": [
    "m.input.node = AseStaticNode()\n",
    "m.input.node.input.calculator = MorsePotential()\n",
    "m.input.structure = bulk(\"Fe\", a=1.2)"
   ]
  },
  {
   "cell_type": "code",
   "execution_count": 23,
   "id": "cdce8eba-afba-4dcd-923f-717568ccfbb3",
   "metadata": {},
   "outputs": [
    {
     "data": {
      "text/plain": [
       "<pyiron_contrib.tinybase.ase.AseStaticInput at 0x7fc3a2c80110>"
      ]
     },
     "execution_count": 23,
     "metadata": {},
     "output_type": "execute_result"
    }
   ],
   "source": [
    "m.input.node.input"
   ]
  },
  {
   "cell_type": "code",
   "execution_count": 24,
   "id": "8faf6257-e776-4257-8abf-2893af06ff2a",
   "metadata": {},
   "outputs": [],
   "source": [
    "m.input.set_strain_range(.5, 50)"
   ]
  },
  {
   "cell_type": "code",
   "execution_count": 25,
   "id": "d66e2c31-8341-4771-8ed1-fb679b0a8040",
   "metadata": {},
   "outputs": [
    {
     "data": {
      "text/plain": [
       "array([0.79370053, 0.8043555 , 0.81473542, 0.82485739, 0.83473686,\n",
       "       0.84438786, 0.85382314, 0.86305437, 0.87209225, 0.88094658,\n",
       "       0.88962642, 0.89814011, 0.90649538, 0.9146994 , 0.92275884,\n",
       "       0.93067991, 0.93846839, 0.94612969, 0.95366889, 0.96109074,\n",
       "       0.96839969, 0.97559996, 0.98269548, 0.98968999, 0.996587  ,\n",
       "       1.00338986, 1.01010169, 1.0167255 , 1.02326411, 1.0297202 ,\n",
       "       1.03609634, 1.04239496, 1.04861836, 1.05476875, 1.06084824,\n",
       "       1.06685884, 1.07280247, 1.07868096, 1.08449606, 1.09024946,\n",
       "       1.09594278, 1.10157754, 1.10715524, 1.11267731, 1.1181451 ,\n",
       "       1.12355993, 1.12892306, 1.13423572, 1.13949907, 1.14471424])"
      ]
     },
     "execution_count": 25,
     "metadata": {},
     "output_type": "execute_result"
    }
   ],
   "source": [
    "m.input.strains"
   ]
  },
  {
   "cell_type": "code",
   "execution_count": 26,
   "id": "33062219-bbe5-4fa0-88a6-7969e41c30b1",
   "metadata": {},
   "outputs": [
    {
     "data": {
      "text/plain": [
       "True"
      ]
     },
     "execution_count": 26,
     "metadata": {},
     "output_type": "execute_result"
    }
   ],
   "source": [
    "m.input.check_ready()"
   ]
  },
  {
   "cell_type": "code",
   "execution_count": 27,
   "id": "297455da-542c-4117-9bde-8605d0cc3e80",
   "metadata": {
    "scrolled": true,
    "tags": []
   },
   "outputs": [],
   "source": [
    "exe = m.run(how='foreground')"
   ]
  },
  {
   "cell_type": "code",
   "execution_count": 28,
   "id": "d593a930-d19d-45be-9515-e120a71ee588",
   "metadata": {},
   "outputs": [
    {
     "data": {
      "text/plain": [
       "(ReturnStatus(Code.DONE, None),)"
      ]
     },
     "execution_count": 28,
     "metadata": {},
     "output_type": "execute_result"
    }
   ],
   "source": [
    "exe.status"
   ]
  },
  {
   "cell_type": "code",
   "execution_count": 29,
   "id": "131f8dd3-c1b4-4671-9e0a-84729e174483",
   "metadata": {},
   "outputs": [
    {
     "data": {
      "image/png": "[encoded data removed]",
      "text/plain": [
       "<Figure size 640x480 with 1 Axes>"
      ]
     },
     "metadata": {},
     "output_type": "display_data"
    }
   ],
   "source": [
    "exe.output[0].plot()"
   ]
  },
  {
   "cell_type": "code",
   "execution_count": 30,
   "id": "cee1e3fe-1e6f-4aef-ad75-894f59117cae",
   "metadata": {},
   "outputs": [
    {
     "data": {
      "text/plain": [
       "0.6788586373205143"
      ]
     },
     "execution_count": 30,
     "metadata": {},
     "output_type": "execute_result"
    }
   ],
   "source": [
    "exe.output[0].equilibrium_volume"
   ]
  },
  {
   "cell_type": "code",
   "execution_count": 31,
   "id": "90af087c-e926-4465-b237-848c9e382708",
   "metadata": {},
   "outputs": [
    {
     "data": {
      "text/plain": [
       "0.6788586373205143"
      ]
     },
     "execution_count": 31,
     "metadata": {},
     "output_type": "execute_result"
    }
   ],
   "source": [
    "exe.output[0].get_structure().get_volume()"
   ]
  },
  {
   "cell_type": "code",
   "execution_count": 32,
   "id": "d2a84263-1dad-41fc-bb6a-87ecc1de2cc9",
   "metadata": {},
   "outputs": [
    {
     "data": {
      "text/plain": [
       "Atoms(symbols='Fe', pbc=True, cell=[[-0.5536557129291797, 0.5536557129291797, 0.5536557129291797], [0.5536557129291797, -0.5536557129291797, 0.5536557129291797], [0.5536557129291797, 0.5536557129291797, -0.5536557129291797]])"
      ]
     },
     "execution_count": 32,
     "metadata": {},
     "output_type": "execute_result"
    }
   ],
   "source": [
    "exe.output[0].get_structure()"
   ]
  },
  {
   "cell_type": "markdown",
   "id": "5a89046e-035b-4f85-9d4d-3d2047d3b963",
   "metadata": {},
   "source": [
    "## Again but execute children as background processes, but keep the node itself blocking"
   ]
  },
  {
   "cell_type": "code",
   "execution_count": 33,
   "id": "163db559-574e-4bdd-af56-2538cc38f615",
   "metadata": {},
   "outputs": [],
   "source": [
    "m = MurnaghanNode()"
   ]
  },
  {
   "cell_type": "code",
   "execution_count": 34,
   "id": "9cb4b0a3-4fdb-478a-8e23-b39370261413",
   "metadata": {},
   "outputs": [],
   "source": [
    "m.input.node = AseStaticNode()\n",
    "m.input.node.input.calculator = MorsePotential()\n",
    "m.input.structure = bulk(\"Fe\", a=1.2)"
   ]
  },
  {
   "cell_type": "code",
   "execution_count": 35,
   "id": "df71f86e-7764-47ce-a5e2-61df6871bcb3",
   "metadata": {},
   "outputs": [
    {
     "data": {
      "text/plain": [
       "<pyiron_contrib.tinybase.ase.AseStaticInput at 0x7fc3a2cfea50>"
      ]
     },
     "execution_count": 35,
     "metadata": {},
     "output_type": "execute_result"
    }
   ],
   "source": [
    "m.input.node.input"
   ]
  },
  {
   "cell_type": "code",
   "execution_count": 36,
   "id": "79a3872f-d9a0-49a7-b94c-a8618b444e16",
   "metadata": {},
   "outputs": [],
   "source": [
    "m.input.set_strain_range(.6, 1000)"
   ]
  },
  {
   "cell_type": "code",
   "execution_count": null,
   "id": "a07ff474-9975-4ff4-a8f2-966b5588168b",
   "metadata": {},
   "outputs": [],
   "source": []
  },
  {
   "cell_type": "code",
   "execution_count": 37,
   "id": "63dfbc8d-9157-4b95-a025-bf854fd6baa9",
   "metadata": {},
   "outputs": [],
   "source": [
    "m.input.child_executor = ProcessExecutor"
   ]
  },
  {
   "cell_type": "code",
   "execution_count": 38,
   "id": "03d18be4-82fa-4766-84ca-a3558ce6d223",
   "metadata": {
    "scrolled": true,
    "tags": []
   },
   "outputs": [],
   "source": [
    "exe = m.run(how='foreground')"
   ]
  },
  {
   "cell_type": "code",
   "execution_count": 39,
   "id": "6868c82d-fbf0-4fc8-9b70-586a66610a4e",
   "metadata": {
    "scrolled": true,
    "tags": []
   },
   "outputs": [
    {
     "data": {
      "text/plain": [
       "<Code.FINISHED: 'finished'>"
      ]
     },
     "execution_count": 39,
     "metadata": {},
     "output_type": "execute_result"
    }
   ],
   "source": [
    "exe._run_machine.state"
   ]
  },
  {
   "cell_type": "code",
   "execution_count": 40,
   "id": "ab8027b5-a0fd-47f2-8b4a-bf743917330a",
   "metadata": {},
   "outputs": [
    {
     "data": {
      "text/plain": [
       "27.62762461800594"
      ]
     },
     "execution_count": 40,
     "metadata": {},
     "output_type": "execute_result"
    }
   ],
   "source": [
    "exe._run_time"
   ]
  },
  {
   "cell_type": "code",
   "execution_count": 41,
   "id": "7cf03eb5-9ac3-4699-a6d2-cb7fd56c7eff",
   "metadata": {},
   "outputs": [
    {
     "data": {
      "text/plain": [
       "1.2397998943924904e-05"
      ]
     },
     "execution_count": 41,
     "metadata": {},
     "output_type": "execute_result"
    }
   ],
   "source": [
    "exe._collect_time"
   ]
  },
  {
   "cell_type": "code",
   "execution_count": 42,
   "id": "95a0ddb5-b61a-47e3-8bd4-218202f97d7b",
   "metadata": {},
   "outputs": [
    {
     "data": {
      "image/png": "[encoded data removed]",
      "text/plain": [
       "<Figure size 640x480 with 1 Axes>"
      ]
     },
     "metadata": {},
     "output_type": "display_data"
    }
   ],
   "source": [
    "exe.output[0].plot()"
   ]
  },
  {
   "cell_type": "code",
   "execution_count": 43,
   "id": "000713cd-9535-4d3e-9df0-3d27447700f4",
   "metadata": {},
   "outputs": [
    {
     "data": {
      "text/plain": [
       "0.6818586500998999"
      ]
     },
     "execution_count": 43,
     "metadata": {},
     "output_type": "execute_result"
    }
   ],
   "source": [
    "exe.output[0].get_structure().get_volume()"
   ]
  },
  {
   "cell_type": "code",
   "execution_count": 44,
   "id": "7936847d-ef7e-414a-8cbc-21474519eb84",
   "metadata": {},
   "outputs": [
    {
     "data": {
      "text/plain": [
       "0.6818586500999"
      ]
     },
     "execution_count": 44,
     "metadata": {},
     "output_type": "execute_result"
    }
   ],
   "source": [
    "exe.output[0].equilibrium_volume"
   ]
  },
  {
   "cell_type": "markdown",
   "id": "af68c813-e409-4efd-85f8-ee3dfee60201",
   "metadata": {},
   "source": [
    "## Again but execute everything in the background."
   ]
  },
  {
   "cell_type": "code",
   "execution_count": 45,
   "id": "d603c588-a0fa-4aa7-ab57-f79fa6224b2b",
   "metadata": {},
   "outputs": [],
   "source": [
    "m = MurnaghanNode()"
   ]
  },
  {
   "cell_type": "code",
   "execution_count": 46,
   "id": "6b9d7aae-996c-4793-9960-debbf3cd2790",
   "metadata": {},
   "outputs": [],
   "source": [
    "m.input.node = AseStaticNode()\n",
    "m.input.node.input.calculator = MorsePotential()\n",
    "m.input.structure = bulk(\"Fe\", a=1.2)"
   ]
  },
  {
   "cell_type": "code",
   "execution_count": 47,
   "id": "97fe976c-2f7b-40bc-adf1-e9ee8a2520d7",
   "metadata": {},
   "outputs": [
    {
     "data": {
      "text/plain": [
       "<pyiron_contrib.tinybase.ase.AseStaticInput at 0x7fc39a7da810>"
      ]
     },
     "execution_count": 47,
     "metadata": {},
     "output_type": "execute_result"
    }
   ],
   "source": [
    "m.input.node.input"
   ]
  },
  {
   "cell_type": "code",
   "execution_count": 48,
   "id": "0f4e2e94-79c6-47f7-ae93-d34a9fe09f08",
   "metadata": {},
   "outputs": [],
   "source": [
    "m.input.set_strain_range(.7, 100)"
   ]
  },
  {
   "cell_type": "markdown",
   "id": "e9fed5d1-757e-43ad-8adb-653bc464dc3b",
   "metadata": {},
   "source": [
    "Use the threading backend just to show off."
   ]
  },
  {
   "cell_type": "code",
   "execution_count": 49,
   "id": "07585681-e027-4c42-b5cd-7086c5b9ba39",
   "metadata": {},
   "outputs": [],
   "source": [
    "from pyiron_contrib.tinybase.executor import BackgroundExecutor\n",
    "\n",
    "m.input.child_executor = BackgroundExecutor"
   ]
  },
  {
   "cell_type": "code",
   "execution_count": 50,
   "id": "4ba483ff-4a78-4c24-84db-a42ab518945f",
   "metadata": {
    "scrolled": true,
    "tags": []
   },
   "outputs": [],
   "source": [
    "exe = m.run(how='background')"
   ]
  },
  {
   "cell_type": "code",
   "execution_count": 51,
   "id": "c597a2dd-f809-4bb6-9935-a0bdc2d35c07",
   "metadata": {},
   "outputs": [],
   "source": [
    "exe.wait()"
   ]
  },
  {
   "cell_type": "code",
   "execution_count": 52,
   "id": "71a7b3d1-99a8-494e-8649-f7aceada16df",
   "metadata": {},
   "outputs": [
    {
     "data": {
      "text/plain": [
       "<Code.FINISHED: 'finished'>"
      ]
     },
     "execution_count": 52,
     "metadata": {},
     "output_type": "execute_result"
    }
   ],
   "source": [
    "exe._run_machine.state"
   ]
  },
  {
   "cell_type": "code",
   "execution_count": 53,
   "id": "97cf6e6e-c5c4-46eb-bbd0-c36e0cc37589",
   "metadata": {},
   "outputs": [
    {
     "data": {
      "text/plain": [
       "12.170459961984307"
      ]
     },
     "execution_count": 53,
     "metadata": {},
     "output_type": "execute_result"
    }
   ],
   "source": [
    "exe._run_time"
   ]
  },
  {
   "cell_type": "code",
   "execution_count": 54,
   "id": "21861420-e58c-414b-aed7-0f6d67d12642",
   "metadata": {},
   "outputs": [
    {
     "data": {
      "text/plain": [
       "2.338102785870433e-05"
      ]
     },
     "execution_count": 54,
     "metadata": {},
     "output_type": "execute_result"
    }
   ],
   "source": [
    "exe._collect_time"
   ]
  },
  {
   "cell_type": "code",
   "execution_count": 55,
   "id": "11cd873c-a43c-4cb8-ac23-39ec6889c30c",
   "metadata": {},
   "outputs": [
    {
     "data": {
      "image/png": "[encoded data removed]",
      "text/plain": [
       "<Figure size 640x480 with 1 Axes>"
      ]
     },
     "metadata": {},
     "output_type": "display_data"
    }
   ],
   "source": [
    "exe.output[0].plot()"
   ]
  },
  {
   "cell_type": "markdown",
   "id": "8a102a81-df04-4527-8739-7fe542f0c1fc",
   "metadata": {},
   "source": [
    "# ASE MD"
   ]
  },
  {
   "cell_type": "code",
   "execution_count": 56,
   "id": "02cfe01b-0b24-4723-a79b-d41ffb146bf9",
   "metadata": {},
   "outputs": [],
   "source": [
    "md = AseMDNode()"
   ]
  },
  {
   "cell_type": "code",
   "execution_count": 57,
   "id": "466d1f9a-b707-4c05-a8af-5414d76bd8eb",
   "metadata": {},
   "outputs": [],
   "source": [
    "md.input.structure = bulk(\"Fe\", a=1.2, cubic=True).repeat(3)\n",
    "md.input.calculator = MorsePotential()"
   ]
  },
  {
   "cell_type": "code",
   "execution_count": 58,
   "id": "dfdfc027-1608-43ad-9d15-0c649986eb73",
   "metadata": {},
   "outputs": [],
   "source": [
    "md.input.steps = 100\n",
    "md.input.timestep = 3\n",
    "md.input.temperature = 600\n",
    "md.input.output_steps = 20"
   ]
  },
  {
   "cell_type": "code",
   "execution_count": 59,
   "id": "db5c7cfe-b075-483e-8b7e-a58cebf1a782",
   "metadata": {},
   "outputs": [
    {
     "name": "stdout",
     "output_type": "stream",
     "text": [
      "CPU times: user 2.51 ms, sys: 50.7 ms, total: 53.3 ms\n",
      "Wall time: 52.9 ms\n"
     ]
    }
   ],
   "source": [
    "%%time\n",
    "exe = md.run(how='process')"
   ]
  },
  {
   "cell_type": "code",
   "execution_count": 60,
   "id": "80155255-4dcf-48cb-9825-015da13d6ac0",
   "metadata": {},
   "outputs": [],
   "source": [
    "exe.wait()"
   ]
  },
  {
   "cell_type": "code",
   "execution_count": 61,
   "id": "6f7aff4e-9e89-459b-843f-46a4d4139bcf",
   "metadata": {},
   "outputs": [
    {
     "data": {
      "text/plain": [
       "{'status': [ReturnStatus(Code.DONE, None)],\n",
       " 'output': [<pyiron_contrib.tinybase.container.MDOutput at 0x7fc39a807850>]}"
      ]
     },
     "execution_count": 61,
     "metadata": {},
     "output_type": "execute_result"
    }
   ],
   "source": [
    "exe._run_machine._data"
   ]
  },
  {
   "cell_type": "code",
   "execution_count": 62,
   "id": "62ce8439-bf95-4818-b35c-b4e2ef649bd2",
   "metadata": {},
   "outputs": [
    {
     "data": {
      "text/plain": [
       "<Code.FINISHED: 'finished'>"
      ]
     },
     "execution_count": 62,
     "metadata": {},
     "output_type": "execute_result"
    }
   ],
   "source": [
    "exe._run_machine.state"
   ]
  },
  {
   "cell_type": "code",
   "execution_count": 63,
   "id": "5bcd1b68-6a48-4a08-92d4-143419071618",
   "metadata": {},
   "outputs": [
    {
     "data": {
      "text/plain": [
       "16.012012982013403"
      ]
     },
     "execution_count": 63,
     "metadata": {},
     "output_type": "execute_result"
    }
   ],
   "source": [
    "exe._run_time"
   ]
  },
  {
   "cell_type": "code",
   "execution_count": 64,
   "id": "d21371e0-fa36-44bd-b7bf-a0092177ba17",
   "metadata": {},
   "outputs": [
    {
     "data": {
      "text/plain": [
       "4.1224993765354156e-05"
      ]
     },
     "execution_count": 64,
     "metadata": {},
     "output_type": "execute_result"
    }
   ],
   "source": [
    "exe._collect_time"
   ]
  },
  {
   "cell_type": "code",
   "execution_count": 65,
   "id": "9e06cd6d-e0f7-40dd-93f2-777f86ffe2eb",
   "metadata": {},
   "outputs": [
    {
     "data": {
      "image/png": "[encoded data removed]",
      "text/plain": [
       "<Figure size 640x480 with 1 Axes>"
      ]
     },
     "metadata": {},
     "output_type": "display_data"
    }
   ],
   "source": [
    "exe.output[0].plot_energies()"
   ]
  },
  {
   "cell_type": "code",
   "execution_count": 66,
   "id": "bb70a653-6231-4f4e-9bbe-279811acc895",
   "metadata": {},
   "outputs": [
    {
     "data": {
      "application/vnd.jupyter.widget-view+json": {
       "model_id": "9acd0738c709420293ca03c9d7cb65a8",
       "version_major": 2,
       "version_minor": 0
      },
      "text/plain": [
       "NGLWidget(max_frame=21)"
      ]
     },
     "metadata": {},
     "output_type": "display_data"
    }
   ],
   "source": [
    "exe.output[0].animate_structures()"
   ]
  },
  {
   "cell_type": "markdown",
   "id": "c7844b5f-1f9b-4770-8608-144c8b84fb87",
   "metadata": {},
   "source": [
    "# ASE Minimize"
   ]
  },
  {
   "cell_type": "code",
   "execution_count": 67,
   "id": "f816e2af-0455-4e05-9c39-2e9f615d8f34",
   "metadata": {},
   "outputs": [],
   "source": [
    "from pyiron_atomistics import ase_to_pyiron"
   ]
  },
  {
   "cell_type": "code",
   "execution_count": 68,
   "id": "22314020-8f48-487b-a765-229a77d79a2f",
   "metadata": {},
   "outputs": [],
   "source": [
    "mi = AseMinimizeNode()"
   ]
  },
  {
   "cell_type": "code",
   "execution_count": 69,
   "id": "ff411a05-82e1-4581-b06e-ab2fd7e0be3b",
   "metadata": {},
   "outputs": [],
   "source": [
    "dimer = Atoms(symbols=['Fe', 'Fe'], positions=[[0,0,0], [0,0, .75]], cell=[10,10,10])"
   ]
  },
  {
   "cell_type": "code",
   "execution_count": 70,
   "id": "5574f0d5-d800-472a-9418-8c6ccc1e555b",
   "metadata": {},
   "outputs": [],
   "source": [
    "mi.input.structure = dimer\n",
    "mi.input.calculator = MorsePotential(rcut1=6,rcut2=10)"
   ]
  },
  {
   "cell_type": "code",
   "execution_count": 71,
   "id": "9e02d6dd-0fa6-4dd6-a7ab-3e648958eb20",
   "metadata": {},
   "outputs": [
    {
     "data": {
      "application/vnd.jupyter.widget-view+json": {
       "model_id": "5cff2d0d15044fca9105fa3541411380",
       "version_major": 2,
       "version_minor": 0
      },
      "text/plain": [
       "NGLWidget()"
      ]
     },
     "metadata": {},
     "output_type": "display_data"
    }
   ],
   "source": [
    "ase_to_pyiron(mi.input.structure).plot3d()"
   ]
  },
  {
   "cell_type": "code",
   "execution_count": 72,
   "id": "663e4435-1cd0-4ce2-9593-85453f4c846a",
   "metadata": {},
   "outputs": [],
   "source": [
    "mi.input.max_steps = 100\n",
    "mi.input.output_steps = 1\n",
    "mi.input.ionic_force_tolerance = 1e-6"
   ]
  },
  {
   "cell_type": "code",
   "execution_count": 73,
   "id": "37440e5a-75ff-4601-813a-f5c8df9413ad",
   "metadata": {},
   "outputs": [],
   "source": [
    "mi.input.gpmin()"
   ]
  },
  {
   "cell_type": "code",
   "execution_count": 74,
   "id": "a448ec7f-53bc-4d72-a8a7-f9392de9f3d5",
   "metadata": {
    "scrolled": true,
    "tags": []
   },
   "outputs": [
    {
     "name": "stdout",
     "output_type": "stream",
     "text": [
      "       Step     Time          Energy         fmax\n",
      "GPMin:    0 14:53:00       11.122159      187.2462\n",
      "GPMin:    1 14:53:00       -0.278268        1.5338\n",
      "GPMin:    2 14:53:00       -0.996055        0.8010\n",
      "GPMin:    3 14:53:00       -0.000000        0.0000\n",
      "CPU times: user 76.7 ms, sys: 50.9 ms, total: 128 ms\n",
      "Wall time: 57.3 ms\n"
     ]
    }
   ],
   "source": [
    "%%time\n",
    "exe = mi.run(how='foreground')"
   ]
  },
  {
   "cell_type": "code",
   "execution_count": 75,
   "id": "5977dd10-c4cf-40c9-944e-5aa52cfa263d",
   "metadata": {},
   "outputs": [
    {
     "data": {
      "text/plain": [
       "(ReturnStatus(Code.DONE, None),)"
      ]
     },
     "execution_count": 75,
     "metadata": {},
     "output_type": "execute_result"
    }
   ],
   "source": [
    "exe.status"
   ]
  },
  {
   "cell_type": "code",
   "execution_count": 76,
   "id": "dd164778-634c-4785-903a-08a5243999ce",
   "metadata": {},
   "outputs": [
    {
     "data": {
      "text/plain": [
       "2.136147842601888e-07"
      ]
     },
     "execution_count": 76,
     "metadata": {},
     "output_type": "execute_result"
    }
   ],
   "source": [
    "abs(exe.output[0].forces[-1]).max()"
   ]
  },
  {
   "cell_type": "code",
   "execution_count": 77,
   "id": "515ea06d-9026-4d9e-9df0-b9c249f0758a",
   "metadata": {},
   "outputs": [
    {
     "data": {
      "text/plain": [
       "<Code.FINISHED: 'finished'>"
      ]
     },
     "execution_count": 77,
     "metadata": {},
     "output_type": "execute_result"
    }
   ],
   "source": [
    "exe._run_machine.state"
   ]
  },
  {
   "cell_type": "code",
   "execution_count": 78,
   "id": "52b7231f-8978-46ec-b698-ea8724a6fea3",
   "metadata": {},
   "outputs": [
    {
     "data": {
      "text/plain": [
       "0.057213895983295515"
      ]
     },
     "execution_count": 78,
     "metadata": {},
     "output_type": "execute_result"
    }
   ],
   "source": [
    "exe._run_time"
   ]
  },
  {
   "cell_type": "code",
   "execution_count": 79,
   "id": "c845430c-119d-4566-88e1-8465e378fde1",
   "metadata": {},
   "outputs": [
    {
     "data": {
      "text/plain": [
       "1.1272000847384334e-05"
      ]
     },
     "execution_count": 79,
     "metadata": {},
     "output_type": "execute_result"
    }
   ],
   "source": [
    "exe._collect_time"
   ]
  },
  {
   "cell_type": "code",
   "execution_count": 80,
   "id": "35291d7f-33a9-41ab-9b80-f052c5eb2e55",
   "metadata": {},
   "outputs": [
    {
     "data": {
      "image/png": "[encoded data removed]",
      "text/plain": [
       "<Figure size 640x480 with 1 Axes>"
      ]
     },
     "metadata": {},
     "output_type": "display_data"
    }
   ],
   "source": [
    "exe.output[0].plot_energies()"
   ]
  },
  {
   "cell_type": "code",
   "execution_count": 81,
   "id": "1d5b5203-d07f-485b-9553-9150f4a674e7",
   "metadata": {},
   "outputs": [
    {
     "data": {
      "text/plain": [
       "[11.122158782511535,\n",
       " -0.2782678462106827,\n",
       " -0.9960554302957411,\n",
       " -3.560246436024868e-08,\n",
       " -3.560246436024868e-08]"
      ]
     },
     "execution_count": 81,
     "metadata": {},
     "output_type": "execute_result"
    }
   ],
   "source": [
    "exe.output[0].pot_energies"
   ]
  },
  {
   "cell_type": "code",
   "execution_count": 82,
   "id": "d2cc3b3a-5daa-49bb-9d6d-2994ebc74273",
   "metadata": {},
   "outputs": [
    {
     "data": {
      "application/vnd.jupyter.widget-view+json": {
       "model_id": "903d8dc3dee8402b9a481fa1516cc478",
       "version_major": 2,
       "version_minor": 0
      },
      "text/plain": [
       "NGLWidget(max_frame=4)"
      ]
     },
     "metadata": {},
     "output_type": "display_data"
    }
   ],
   "source": [
    "exe.output[0].animate_structures()"
   ]
  },
  {
   "cell_type": "markdown",
   "id": "32c15731-fd88-40d1-9045-beb9c53de501",
   "metadata": {
    "tags": []
   },
   "source": [
    "# Murnaghan"
   ]
  },
  {
   "cell_type": "markdown",
   "id": "aa535698-ddaa-4d60-862c-d6d6d5ecb6c8",
   "metadata": {},
   "source": [
    "## Basic"
   ]
  },
  {
   "cell_type": "code",
   "execution_count": 21,
   "id": "4acdeafc-90b5-4b3f-9559-c74b9fa221ab",
   "metadata": {},
   "outputs": [],
   "source": [
    "m = MurnaghanNode()"
   ]
  },
  {
   "cell_type": "code",
   "execution_count": 22,
   "id": "f8cf3136-9b7c-4f1e-b630-962795527946",
   "metadata": {},
   "outputs": [],
   "source": [
    "m.input.node = AseStaticNode()\n",
    "m.input.node.input.calculator = MorsePotential()\n",
    "m.input.structure = bulk(\"Fe\", a=1.2)"
   ]
  },
  {
   "cell_type": "code",
   "execution_count": 23,
   "id": "fef21aa4-d9f1-4d4a-8761-af1bc3121e5b",
   "metadata": {},
   "outputs": [
    {
     "data": {
      "text/plain": [
       "<pyiron_contrib.tinybase.ase.AseStaticInput at 0x7fc3a2c80110>"
      ]
     },
     "execution_count": 23,
     "metadata": {},
     "output_type": "execute_result"
    }
   ],
   "source": [
    "m.input.node.input"
   ]
  },
  {
   "cell_type": "code",
   "execution_count": 24,
   "id": "41a68b17-c7c4-4a5f-8f04-11bee18fe55a",
   "metadata": {},
   "outputs": [],
   "source": [
    "m.input.set_strain_range(.5, 50)"
   ]
  },
  {
   "cell_type": "code",
   "execution_count": 25,
   "id": "fd107556-99b6-4042-9209-9412b4bbff94",
   "metadata": {},
   "outputs": [
    {
     "data": {
      "text/plain": [
       "array([0.79370053, 0.8043555 , 0.81473542, 0.82485739, 0.83473686,\n",
       "       0.84438786, 0.85382314, 0.86305437, 0.87209225, 0.88094658,\n",
       "       0.88962642, 0.89814011, 0.90649538, 0.9146994 , 0.92275884,\n",
       "       0.93067991, 0.93846839, 0.94612969, 0.95366889, 0.96109074,\n",
       "       0.96839969, 0.97559996, 0.98269548, 0.98968999, 0.996587  ,\n",
       "       1.00338986, 1.01010169, 1.0167255 , 1.02326411, 1.0297202 ,\n",
       "       1.03609634, 1.04239496, 1.04861836, 1.05476875, 1.06084824,\n",
       "       1.06685884, 1.07280247, 1.07868096, 1.08449606, 1.09024946,\n",
       "       1.09594278, 1.10157754, 1.10715524, 1.11267731, 1.1181451 ,\n",
       "       1.12355993, 1.12892306, 1.13423572, 1.13949907, 1.14471424])"
      ]
     },
     "execution_count": 25,
     "metadata": {},
     "output_type": "execute_result"
    }
   ],
   "source": [
    "m.input.strains"
   ]
  },
  {
   "cell_type": "code",
   "execution_count": 26,
   "id": "0715614a-7284-4388-ac6b-c97bfedf7184",
   "metadata": {},
   "outputs": [
    {
     "data": {
      "text/plain": [
       "True"
      ]
     },
     "execution_count": 26,
     "metadata": {},
     "output_type": "execute_result"
    }
   ],
   "source": [
    "m.input.check_ready()"
   ]
  },
  {
   "cell_type": "code",
   "execution_count": 27,
   "id": "c2aa3093-1ea8-4099-bc14-be0c06e9d34b",
   "metadata": {
    "scrolled": true,
    "tags": []
   },
   "outputs": [],
   "source": [
    "exe = m.run(how='foreground')"
   ]
  },
  {
   "cell_type": "code",
   "execution_count": 28,
   "id": "be97853a-f182-4b4f-af74-7fd5a4fbd850",
   "metadata": {},
   "outputs": [
    {
     "data": {
      "text/plain": [
       "(ReturnStatus(Code.DONE, None),)"
      ]
     },
     "execution_count": 28,
     "metadata": {},
     "output_type": "execute_result"
    }
   ],
   "source": [
    "exe.status"
   ]
  },
  {
   "cell_type": "code",
   "execution_count": 29,
   "id": "47f916ef-b140-49c5-adf1-93dca91b4540",
   "metadata": {},
   "outputs": [
    {
     "data": {
      "image/png": "[encoded data removed]",
      "text/plain": [
       "<Figure size 640x480 with 1 Axes>"
      ]
     },
     "metadata": {},
     "output_type": "display_data"
    }
   ],
   "source": [
    "exe.output[0].plot()"
   ]
  },
  {
   "cell_type": "code",
   "execution_count": 30,
   "id": "14162f5b-1318-4595-8c8c-d6346a21721d",
   "metadata": {},
   "outputs": [
    {
     "data": {
      "text/plain": [
       "0.6788586373205143"
      ]
     },
     "execution_count": 30,
     "metadata": {},
     "output_type": "execute_result"
    }
   ],
   "source": [
    "exe.output[0].equilibrium_volume"
   ]
  },
  {
   "cell_type": "code",
   "execution_count": 31,
   "id": "0f5ff296-df33-40d2-851b-02d6ded72dd6",
   "metadata": {},
   "outputs": [
    {
     "data": {
      "text/plain": [
       "0.6788586373205143"
      ]
     },
     "execution_count": 31,
     "metadata": {},
     "output_type": "execute_result"
    }
   ],
   "source": [
    "exe.output[0].get_structure().get_volume()"
   ]
  },
  {
   "cell_type": "code",
   "execution_count": 32,
   "id": "92b06330-b1fc-41d0-8bd8-bf1b11bf448c",
   "metadata": {},
   "outputs": [
    {
     "data": {
      "text/plain": [
       "Atoms(symbols='Fe', pbc=True, cell=[[-0.5536557129291797, 0.5536557129291797, 0.5536557129291797], [0.5536557129291797, -0.5536557129291797, 0.5536557129291797], [0.5536557129291797, 0.5536557129291797, -0.5536557129291797]])"
      ]
     },
     "execution_count": 32,
     "metadata": {},
     "output_type": "execute_result"
    }
   ],
   "source": [
    "exe.output[0].get_structure()"
   ]
  },
  {
   "cell_type": "markdown",
   "id": "26bade63-559f-4c93-be24-5561f5c8190f",
   "metadata": {},
   "source": [
    "## Again but execute children as background processes, but keep the node itself blocking"
   ]
  },
  {
   "cell_type": "code",
   "execution_count": 33,
   "id": "89169376-be36-4ceb-9f4e-6e1f3247bc62",
   "metadata": {},
   "outputs": [],
   "source": [
    "m = MurnaghanNode()"
   ]
  },
  {
   "cell_type": "code",
   "execution_count": 34,
   "id": "2ee9f1d4-5b14-4340-98d4-4bd293af89a4",
   "metadata": {},
   "outputs": [],
   "source": [
    "m.input.node = AseStaticNode()\n",
    "m.input.node.input.calculator = MorsePotential()\n",
    "m.input.structure = bulk(\"Fe\", a=1.2)"
   ]
  },
  {
   "cell_type": "code",
   "execution_count": 35,
   "id": "3d73a9de-7b4e-476a-b50a-ac6a3957a7ab",
   "metadata": {},
   "outputs": [
    {
     "data": {
      "text/plain": [
       "<pyiron_contrib.tinybase.ase.AseStaticInput at 0x7fc3a2cfea50>"
      ]
     },
     "execution_count": 35,
     "metadata": {},
     "output_type": "execute_result"
    }
   ],
   "source": [
    "m.input.node.input"
   ]
  },
  {
   "cell_type": "code",
   "execution_count": 36,
   "id": "0f075d90-e636-49be-b1a6-741a56363f54",
   "metadata": {},
   "outputs": [],
   "source": [
    "m.input.set_strain_range(.6, 1000)"
   ]
  },
  {
   "cell_type": "code",
   "execution_count": null,
   "id": "2b2f703c-745b-49f9-a81f-a780248e9cd3",
   "metadata": {},
   "outputs": [],
   "source": []
  },
  {
   "cell_type": "code",
   "execution_count": 37,
   "id": "58064e52-1c94-49fd-b38f-614cf6f19004",
   "metadata": {},
   "outputs": [],
   "source": [
    "m.input.child_executor = ProcessExecutor"
   ]
  },
  {
   "cell_type": "code",
   "execution_count": 38,
   "id": "d82a28ab-1a96-4a3a-8f79-5a875ac20788",
   "metadata": {
    "scrolled": true,
    "tags": []
   },
   "outputs": [],
   "source": [
    "exe = m.run(how='foreground')"
   ]
  },
  {
   "cell_type": "code",
   "execution_count": 39,
   "id": "5472daed-f25c-4aab-b101-90c76a0235a5",
   "metadata": {
    "scrolled": true,
    "tags": []
   },
   "outputs": [
    {
     "data": {
      "text/plain": [
       "<Code.FINISHED: 'finished'>"
      ]
     },
     "execution_count": 39,
     "metadata": {},
     "output_type": "execute_result"
    }
   ],
   "source": [
    "exe._run_machine.state"
   ]
  },
  {
   "cell_type": "code",
   "execution_count": 40,
   "id": "a42865c9-8616-4335-8e46-ec4839daab0a",
   "metadata": {},
   "outputs": [
    {
     "data": {
      "text/plain": [
       "27.62762461800594"
      ]
     },
     "execution_count": 40,
     "metadata": {},
     "output_type": "execute_result"
    }
   ],
   "source": [
    "exe._run_time"
   ]
  },
  {
   "cell_type": "code",
   "execution_count": 41,
   "id": "d894a79f-a9e6-4667-9a9b-2bd9a088622f",
   "metadata": {},
   "outputs": [
    {
     "data": {
      "text/plain": [
       "1.2397998943924904e-05"
      ]
     },
     "execution_count": 41,
     "metadata": {},
     "output_type": "execute_result"
    }
   ],
   "source": [
    "exe._collect_time"
   ]
  },
  {
   "cell_type": "code",
   "execution_count": 42,
   "id": "78017969-23fc-46f5-b99f-cd1d2dc74c00",
   "metadata": {},
   "outputs": [
    {
     "data": {
      "image/png": "[encoded data removed]",
      "text/plain": [
       "<Figure size 640x480 with 1 Axes>"
      ]
     },
     "metadata": {},
     "output_type": "display_data"
    }
   ],
   "source": [
    "exe.output[0].plot()"
   ]
  },
  {
   "cell_type": "code",
   "execution_count": 43,
   "id": "45162eb2-b23d-45c6-8aad-dfe9a6a484d1",
   "metadata": {},
   "outputs": [
    {
     "data": {
      "text/plain": [
       "0.6818586500998999"
      ]
     },
     "execution_count": 43,
     "metadata": {},
     "output_type": "execute_result"
    }
   ],
   "source": [
    "exe.output[0].get_structure().get_volume()"
   ]
  },
  {
   "cell_type": "code",
   "execution_count": 44,
   "id": "f0bcfe59-2168-4e74-9d7a-33d900368907",
   "metadata": {},
   "outputs": [
    {
     "data": {
      "text/plain": [
       "0.6818586500999"
      ]
     },
     "execution_count": 44,
     "metadata": {},
     "output_type": "execute_result"
    }
   ],
   "source": [
    "exe.output[0].equilibrium_volume"
   ]
  },
  {
   "cell_type": "markdown",
   "id": "36b17048-3941-4d86-bd2a-e131371f4bad",
   "metadata": {},
   "source": [
    "## Again but execute everything in the background."
   ]
  },
  {
   "cell_type": "code",
   "execution_count": 45,
   "id": "10f6c113-1e35-48f0-8878-291129bd8a60",
   "metadata": {},
   "outputs": [],
   "source": [
    "m = MurnaghanNode()"
   ]
  },
  {
   "cell_type": "code",
   "execution_count": 46,
   "id": "70832c31-040e-49be-b0f7-172f930cf31b",
   "metadata": {},
   "outputs": [],
   "source": [
    "m.input.node = AseStaticNode()\n",
    "m.input.node.input.calculator = MorsePotential()\n",
    "m.input.structure = bulk(\"Fe\", a=1.2)"
   ]
  },
  {
   "cell_type": "code",
   "execution_count": 47,
   "id": "94f4c51d-b69b-4477-a9db-d0ee7627cee6",
   "metadata": {},
   "outputs": [
    {
     "data": {
      "text/plain": [
       "<pyiron_contrib.tinybase.ase.AseStaticInput at 0x7fc39a7da810>"
      ]
     },
     "execution_count": 47,
     "metadata": {},
     "output_type": "execute_result"
    }
   ],
   "source": [
    "m.input.node.input"
   ]
  },
  {
   "cell_type": "code",
   "execution_count": 48,
   "id": "9a000824-0a9e-4395-8e07-00e484bc7937",
   "metadata": {},
   "outputs": [],
   "source": [
    "m.input.set_strain_range(.7, 100)"
   ]
  },
  {
   "cell_type": "markdown",
   "id": "82c9d3a2-d93c-41aa-a1af-52bfab8cd8df",
   "metadata": {},
   "source": [
    "Use the threading backend just to show off."
   ]
  },
  {
   "cell_type": "code",
   "execution_count": 49,
   "id": "ca50857c-1c2f-4fad-a58c-16b399b8721d",
   "metadata": {},
   "outputs": [],
   "source": [
    "from pyiron_contrib.tinybase.executor import BackgroundExecutor\n",
    "\n",
    "m.input.child_executor = BackgroundExecutor"
   ]
  },
  {
   "cell_type": "code",
   "execution_count": 50,
   "id": "12f20f5c-27a3-4533-ad19-8ec06e1c8a90",
   "metadata": {
    "scrolled": true,
    "tags": []
   },
   "outputs": [],
   "source": [
    "exe = m.run(how='background')"
   ]
  },
  {
   "cell_type": "code",
   "execution_count": 51,
   "id": "2c5d8bea-49ec-4004-8a54-3ded7a3f413d",
   "metadata": {},
   "outputs": [],
   "source": [
    "exe.wait()"
   ]
  },
  {
   "cell_type": "code",
   "execution_count": 52,
   "id": "ea7bcb58-0890-487e-bef5-bd3cb36143c1",
   "metadata": {},
   "outputs": [
    {
     "data": {
      "text/plain": [
       "<Code.FINISHED: 'finished'>"
      ]
     },
     "execution_count": 52,
     "metadata": {},
     "output_type": "execute_result"
    }
   ],
   "source": [
    "exe._run_machine.state"
   ]
  },
  {
   "cell_type": "code",
   "execution_count": 53,
   "id": "0b7c2912-6847-4262-a62d-7233ca398643",
   "metadata": {},
   "outputs": [
    {
     "data": {
      "text/plain": [
       "12.170459961984307"
      ]
     },
     "execution_count": 53,
     "metadata": {},
     "output_type": "execute_result"
    }
   ],
   "source": [
    "exe._run_time"
   ]
  },
  {
   "cell_type": "code",
   "execution_count": 54,
   "id": "fd5ca921-2062-4f85-b014-382561e9893a",
   "metadata": {},
   "outputs": [
    {
     "data": {
      "text/plain": [
       "2.338102785870433e-05"
      ]
     },
     "execution_count": 54,
     "metadata": {},
     "output_type": "execute_result"
    }
   ],
   "source": [
    "exe._collect_time"
   ]
  },
  {
   "cell_type": "code",
   "execution_count": 55,
   "id": "4d1223f7-2d72-413e-b20b-cf42781780bb",
   "metadata": {},
   "outputs": [
    {
     "data": {
      "image/png": "[encoded data removed]",
      "text/plain": [
       "<Figure size 640x480 with 1 Axes>"
      ]
     },
     "metadata": {},
     "output_type": "display_data"
    }
   ],
   "source": [
    "exe.output[0].plot()"
   ]
  },
  {
   "cell_type": "markdown",
   "id": "e21f6582-e7ec-43be-80ec-e9ad53aabc43",
   "metadata": {},
   "source": [
    "# Combine Minimize and Murnaghan"
   ]
  },
  {
   "cell_type": "code",
   "execution_count": 83,
   "id": "149c52b5-a0ce-4e6b-ba55-d94d33aa2f8a",
   "metadata": {},
   "outputs": [],
   "source": [
    "m = MurnaghanNode()"
   ]
  },
  {
   "cell_type": "code",
   "execution_count": 84,
   "id": "aca24005-ea49-4389-bc26-f292fd0a75a2",
   "metadata": {},
   "outputs": [],
   "source": [
    "m.input.node = AseMinimizeNode()\n",
    "m.input.node.input.calculator = MorsePotential()\n",
    "m.input.node.input.max_steps = 100\n",
    "m.input.node.input.output_steps = 10\n",
    "m.input.node.input.ionic_force_tolerance = 1e-6\n",
    "m.input.node.input.lbfgs()\n",
    "\n",
    "m.input.structure = bulk(\"Fe\", a=1.2)"
   ]
  },
  {
   "cell_type": "code",
   "execution_count": 85,
   "id": "4ae990bd-af18-4dae-8500-779c9509f3f6",
   "metadata": {},
   "outputs": [],
   "source": [
    "m.input.set_strain_range(.5, 500)"
   ]
  },
  {
   "cell_type": "code",
   "execution_count": 86,
   "id": "fa62529f-45e6-4e2d-822d-b1cc433a7223",
   "metadata": {},
   "outputs": [],
   "source": [
    "m.input.child_executor = ProcessExecutor"
   ]
  },
  {
   "cell_type": "code",
   "execution_count": 87,
   "id": "0925864e-4dd1-4f4e-ace4-aac09c55e787",
   "metadata": {
    "scrolled": true,
    "tags": []
   },
   "outputs": [
    {
     "name": "stdout",
     "output_type": "stream",
     "text": [
      "       Step     Time          Energy         fmax\n",
      "       Step     Time          Energy         fmax\n",
      "LBFGS:    0 14:53:00        4.789242        0.0000\n",
      "       Step     Time          Energy         fmax\n",
      "LBFGS:    0 14:53:00        4.517693        0.0000\n",
      "       Step     Time          Energy         fmax\n",
      "LBFGS:    0 14:53:00        4.251945        0.0000\n",
      "LBFGS:    0 14:53:00        3.991875        0.0000\n",
      "       Step     Time          Energy         fmax\n",
      "LBFGS:    0 14:53:01        3.737364        0.0000\n",
      "       Step     Time          Energy         fmax\n",
      "       Step     Time          Energy         fmax\n",
      "LBFGS:    0 14:53:01        3.488292        0.0000\n",
      "LBFGS:    0 14:53:01        3.006013        0.0000\n",
      "       Step     Time          Energy         fmax\n",
      "LBFGS:    0 14:53:01        3.244546        0.0000\n",
      "       Step     Time          Energy         fmax\n",
      "       Step     Time          Energy         fmax\n",
      "LBFGS:    0 14:53:01        2.320604        0.0000\n",
      "LBFGS:    0 14:53:01        2.544148        0.0000\n",
      "       Step     Time          Energy         fmax\n",
      "LBFGS:    0 14:53:01        2.772582        0.0000\n",
      "       Step     Time          Energy         fmax\n",
      "LBFGS:    0 14:53:01        2.101849        0.0000\n",
      "       Step     Time          Energy         fmax\n",
      "       Step     Time          Energy         fmax\n",
      "LBFGS:    0 14:53:01        1.678307        0.0000\n",
      "LBFGS:    0 14:53:01        1.887783        0.0000\n",
      "       Step     Time          Energy         fmax\n",
      "LBFGS:    0 14:53:01        1.473327        0.0000\n",
      "       Step     Time          Energy         fmax\n",
      "LBFGS:    0 14:53:01        1.272749        0.0000\n",
      "       Step     Time          Energy         fmax\n",
      "LBFGS:    0 14:53:01        1.076481        0.0000\n",
      "       Step     Time          Energy         fmax\n",
      "LBFGS:    0 14:53:01        0.884435        0.0000\n",
      "       Step     Time          Energy         fmax\n",
      "LBFGS:    0 14:53:01        0.696523        0.0000\n",
      "       Step     Time          Energy         fmax\n",
      "LBFGS:    0 14:53:02        0.156747        0.0000\n",
      "       Step     Time          Energy         fmax\n",
      "       Step     Time          Energy         fmax\n",
      "LBFGS:    0 14:53:02        0.332761        0.0000\n",
      "LBFGS:    0 14:53:02        0.512659        0.0000\n",
      "       Step     Time          Energy         fmax\n",
      "LBFGS:    0 14:53:02       -0.015462        0.0000\n",
      "       Step     Time          Energy         fmax\n",
      "       Step     Time          Energy         fmax\n",
      "LBFGS:    0 14:53:02       -0.183946        0.0000\n",
      "       Step     Time          Energy         fmax\n",
      "LBFGS:    0 14:53:02       -0.510037        0.0000\n",
      "LBFGS:    0 14:53:02       -0.348779        0.0000\n",
      "       Step     Time          Energy         fmax\n",
      "LBFGS:    0 14:53:02       -0.667792        0.0000\n",
      "       Step     Time          Energy         fmax\n",
      "LBFGS:    0 14:53:02       -0.973078        0.0000\n",
      "       Step     Time          Energy         fmax\n",
      "       Step     Time          Energy         fmax\n",
      "LBFGS:    0 14:53:02       -1.265189        0.0000\n",
      "LBFGS:    0 14:53:02       -1.120747        0.0000\n",
      "       Step     Time          Energy         fmax\n",
      "LBFGS:    0 14:53:02       -0.822116        0.0000\n",
      "       Step     Time          Energy         fmax\n",
      "LBFGS:    0 14:53:02       -1.406469        0.0000\n",
      "       Step     Time          Energy         fmax\n",
      "LBFGS:    0 14:53:02       -1.544652        0.0000\n",
      "       Step     Time          Energy         fmax\n",
      "LBFGS:    0 14:53:02       -1.679799        0.0000\n",
      "       Step     Time          Energy         fmax\n",
      "LBFGS:    0 14:53:02       -1.941232        0.0000\n",
      "       Step     Time          Energy         fmax\n",
      "LBFGS:    0 14:53:02       -1.811973        0.0000\n",
      "       Step     Time          Energy         fmax\n",
      "LBFGS:    0 14:53:02       -2.067636        0.0000\n",
      "       Step     Time          Energy         fmax\n",
      "LBFGS:    0 14:53:02       -2.191241        0.0000\n",
      "       Step     Time          Energy         fmax\n",
      "LBFGS:    0 14:53:03       -2.312104        0.0000\n",
      "       Step     Time          Energy         fmax\n",
      "LBFGS:    0 14:53:03       -2.430279        0.0000\n",
      "       Step     Time          Energy         fmax\n",
      "LBFGS:    0 14:53:03       -2.545820        0.0000\n",
      "       Step     Time          Energy         fmax\n",
      "LBFGS:    0 14:53:03       -2.658780        0.0000\n",
      "       Step     Time          Energy         fmax\n",
      "LBFGS:    0 14:53:03       -2.877160        0.0000\n",
      "       Step     Time          Energy         fmax\n",
      "LBFGS:    0 14:53:03       -2.769210        0.0000\n",
      "       Step     Time          Energy         fmax\n",
      "       Step     Time          Energy         fmax\n",
      "LBFGS:    0 14:53:03       -3.085817        0.0000\n",
      "LBFGS:    0 14:53:03       -2.982680        0.0000\n",
      "       Step     Time          Energy         fmax\n",
      "LBFGS:    0 14:53:03       -3.285134        0.0000\n",
      "       Step     Time          Energy         fmax\n",
      "LBFGS:    0 14:53:03       -3.186620        0.0000\n",
      "       Step     Time          Energy         fmax\n",
      "LBFGS:    0 14:53:03       -3.475475        0.0000\n",
      "       Step     Time          Energy         fmax\n",
      "LBFGS:    0 14:53:03       -3.381404        0.0000\n",
      "       Step     Time          Energy         fmax\n",
      "LBFGS:    0 14:53:03       -3.567390        0.0000\n",
      "       Step     Time          Energy         fmax\n",
      "LBFGS:    0 14:53:03       -3.657192        0.0000\n",
      "       Step     Time          Energy         fmax\n",
      "LBFGS:    0 14:53:03       -3.830620        0.0000\n",
      "       Step     Time          Energy         fmax\n",
      "LBFGS:    0 14:53:03       -3.744922        0.0000\n",
      "       Step     Time          Energy         fmax\n",
      "LBFGS:    0 14:53:04       -3.914328        0.0000\n",
      "       Step     Time          Energy         fmax\n",
      "LBFGS:    0 14:53:04       -4.075925        0.0000\n",
      "       Step     Time          Energy         fmax\n",
      "LBFGS:    0 14:53:04       -3.996084        0.0000\n",
      "       Step     Time          Energy         fmax\n",
      "LBFGS:    0 14:53:04       -4.153891        0.0000\n",
      "       Step     Time          Energy         fmax\n",
      "LBFGS:    0 14:53:04       -4.304338        0.0000\n",
      "       Step     Time          Energy         fmax\n",
      "LBFGS:    0 14:53:04       -4.376892        0.0000\n",
      "       Step     Time          Energy         fmax\n",
      "LBFGS:    0 14:53:04       -4.230016        0.0000\n",
      "       Step     Time          Energy         fmax\n",
      "LBFGS:    0 14:53:04       -4.447711        0.0000\n",
      "       Step     Time          Energy         fmax\n",
      "LBFGS:    0 14:53:04       -4.516830        0.0000\n",
      "       Step     Time          Energy         fmax\n",
      "LBFGS:    0 14:53:04       -4.584282        0.0000\n",
      "       Step     Time          Energy         fmax\n",
      "LBFGS:    0 14:53:04       -4.650099        0.0000\n",
      "       Step     Time          Energy         fmax\n",
      "LBFGS:    0 14:53:04       -4.714313        0.0000\n",
      "       Step     Time          Energy         fmax\n",
      "LBFGS:    0 14:53:04       -4.776956        0.0000\n",
      "       Step     Time          Energy         fmax\n",
      "LBFGS:    0 14:53:04       -4.838057        0.0000\n",
      "       Step     Time          Energy         fmax\n",
      "LBFGS:    0 14:53:04       -4.897647        0.0000\n",
      "       Step     Time          Energy         fmax\n",
      "LBFGS:    0 14:53:04       -4.955755        0.0000\n",
      "       Step     Time          Energy         fmax\n",
      "LBFGS:    0 14:53:04       -5.012409        0.0000\n",
      "       Step     Time          Energy         fmax\n",
      "LBFGS:    0 14:53:04       -5.067638        0.0000\n",
      "       Step     Time          Energy         fmax\n",
      "LBFGS:    0 14:53:05       -5.121469        0.0000\n",
      "       Step     Time          Energy         fmax\n",
      "LBFGS:    0 14:53:05       -5.173930        0.0000\n",
      "       Step     Time          Energy         fmax\n",
      "LBFGS:    0 14:53:05       -5.225046        0.0000\n",
      "       Step     Time          Energy         fmax\n",
      "LBFGS:    0 14:53:05       -5.274844        0.0000\n",
      "       Step     Time          Energy         fmax\n",
      "LBFGS:    0 14:53:05       -5.323350        0.0000\n",
      "       Step     Time          Energy         fmax\n",
      "LBFGS:    0 14:53:05       -5.370587        0.0000\n",
      "       Step     Time          Energy         fmax\n",
      "LBFGS:    0 14:53:05       -5.461356        0.0000\n",
      "       Step     Time          Energy         fmax\n",
      "       Step     Time          Energy         fmax\n",
      "LBFGS:    0 14:53:05       -5.416581        0.0000\n",
      "LBFGS:    0 14:53:05       -5.504934        0.0000\n",
      "       Step     Time          Energy         fmax\n",
      "LBFGS:    0 14:53:05       -5.547340        0.0000\n",
      "       Step     Time          Energy         fmax\n",
      "LBFGS:    0 14:53:05       -5.667742        0.0000\n",
      "       Step     Time          Energy         fmax\n",
      "LBFGS:    0 14:53:05       -5.628722        0.0000\n",
      "       Step     Time          Energy         fmax\n",
      "LBFGS:    0 14:53:05       -5.588595        0.0000\n",
      "       Step     Time          Energy         fmax\n",
      "LBFGS:    0 14:53:05       -5.705677        0.0000\n",
      "       Step     Time          Energy         fmax\n",
      "LBFGS:    0 14:53:05       -5.742548        0.0000\n",
      "       Step     Time          Energy         fmax\n",
      "LBFGS:    0 14:53:05       -5.813177        0.0000\n",
      "       Step     Time          Energy         fmax\n",
      "LBFGS:    0 14:53:05       -5.778375        0.0000\n",
      "       Step     Time          Energy         fmax\n",
      "LBFGS:    0 14:53:05       -5.846976        0.0000\n",
      "       Step     Time          Energy         fmax\n",
      "LBFGS:    0 14:53:06       -5.879789        0.0000\n",
      "       Step     Time          Energy         fmax\n",
      "       Step     Time          Energy         fmax\n",
      "LBFGS:    0 14:53:06       -5.911636        0.0000\n",
      "LBFGS:    0 14:53:06       -5.942536        0.0000\n",
      "       Step     Time          Energy         fmax\n",
      "LBFGS:    0 14:53:06       -5.972506        0.0000\n",
      "       Step     Time          Energy         fmax\n",
      "LBFGS:    0 14:53:06       -6.057017        0.0000\n",
      "       Step     Time          Energy         fmax\n",
      "LBFGS:    0 14:53:06       -6.083445        0.0000\n",
      "       Step     Time          Energy         fmax\n",
      "LBFGS:    0 14:53:06       -6.001565        0.0000\n",
      "       Step     Time          Energy         fmax\n",
      "LBFGS:    0 14:53:06       -6.109029        0.0000\n",
      "       Step     Time          Energy         fmax\n",
      "LBFGS:    0 14:53:06       -6.029730        0.0000\n",
      "       Step     Time          Energy         fmax\n",
      "LBFGS:    0 14:53:06       -6.133786        0.0000\n",
      "       Step     Time          Energy         fmax\n",
      "LBFGS:    0 14:53:06       -6.157731        0.0000\n",
      "       Step     Time          Energy         fmax\n",
      "LBFGS:    0 14:53:06       -6.180881        0.0000\n",
      "       Step     Time          Energy         fmax\n",
      "       Step     Time          Energy         fmax\n",
      "LBFGS:    0 14:53:06       -6.224853        0.0000\n",
      "LBFGS:    0 14:53:06       -6.203250        0.0000\n",
      "       Step     Time          Energy         fmax\n",
      "LBFGS:    0 14:53:06       -6.245705        0.0000\n",
      "       Step     Time          Energy         fmax\n",
      "LBFGS:    0 14:53:06       -6.265820        0.0000\n",
      "       Step     Time          Energy         fmax\n",
      "LBFGS:    0 14:53:06       -6.321888        0.0000\n",
      "       Step     Time          Energy         fmax\n",
      "LBFGS:    0 14:53:06       -6.285213        0.0000\n",
      "       Step     Time          Energy         fmax\n",
      "LBFGS:    0 14:53:06       -6.303898        0.0000\n",
      "       Step     Time          Energy         fmax\n",
      "       Step     Time          Energy         fmax\n",
      "LBFGS:    0 14:53:06       -6.355836        0.0000\n",
      "LBFGS:    0 14:53:06       -6.339196        0.0000\n",
      "       Step     Time          Energy         fmax\n",
      "LBFGS:    0 14:53:06       -6.371820        0.0000\n",
      "       Step     Time          Energy         fmax\n",
      "LBFGS:    0 14:53:06       -6.387162        0.0000\n",
      "       Step     Time          Energy         fmax\n",
      "LBFGS:    0 14:53:06       -6.401872        0.0000\n",
      "       Step     Time          Energy         fmax\n",
      "LBFGS:    0 14:53:06       -6.415965        0.0000\n",
      "       Step     Time          Energy         fmax\n",
      "LBFGS:    0 14:53:06       -6.429451        0.0000\n",
      "       Step     Time          Energy         fmax\n",
      "LBFGS:    0 14:53:06       -6.454650        0.0000\n",
      "       Step     Time          Energy         fmax\n",
      "LBFGS:    0 14:53:06       -6.466386        0.0000\n",
      "       Step     Time          Energy         fmax\n",
      "LBFGS:    0 14:53:06       -6.477561        0.0000\n",
      "       Step     Time          Energy         fmax\n",
      "       Step     Time          Energy         fmax\n",
      "LBFGS:    0 14:53:06       -6.442342        0.0000\n",
      "LBFGS:    0 14:53:06       -6.488186        0.0000\n",
      "       Step     Time          Energy         fmax\n",
      "       Step     Time          Energy         fmax\n",
      "LBFGS:    0 14:53:07       -6.507828        0.0000\n",
      "LBFGS:    0 14:53:07       -6.498271        0.0000\n",
      "       Step     Time          Energy         fmax\n",
      "LBFGS:    0 14:53:07       -6.525395        0.0000\n",
      "       Step     Time          Energy         fmax\n",
      "       Step     Time          Energy         fmax\n",
      "LBFGS:    0 14:53:07       -6.533425        0.0000\n",
      "LBFGS:    0 14:53:07       -6.516865        0.0000\n",
      "       Step     Time          Energy         fmax\n",
      "LBFGS:    0 14:53:07       -6.540966        0.0000\n",
      "       Step     Time          Energy         fmax\n",
      "LBFGS:    0 14:53:07       -6.548028        0.0000\n",
      "       Step     Time          Energy         fmax\n",
      "LBFGS:    0 14:53:07       -6.554620        0.0000\n",
      "       Step     Time          Energy         fmax\n",
      "LBFGS:    0 14:53:07       -6.566429        0.0000\n",
      "       Step     Time          Energy         fmax\n",
      "LBFGS:    0 14:53:07       -6.560750        0.0000\n",
      "       Step     Time          Energy         fmax\n",
      "LBFGS:    0 14:53:07       -6.576465        0.0000\n",
      "       Step     Time          Energy         fmax\n",
      "LBFGS:    0 14:53:07       -6.571664        0.0000\n",
      "       Step     Time          Energy         fmax\n",
      "LBFGS:    0 14:53:07       -6.580840        0.0000\n",
      "       Step     Time          Energy         fmax\n",
      "LBFGS:    0 14:53:07       -6.584797        0.0000\n",
      "       Step     Time          Energy         fmax\n",
      "LBFGS:    0 14:53:07       -6.588345        0.0000\n",
      "       Step     Time          Energy         fmax\n",
      "LBFGS:    0 14:53:07       -6.591492        0.0000\n",
      "       Step     Time          Energy         fmax\n",
      "LBFGS:    0 14:53:07       -6.594245        0.0000\n",
      "       Step     Time          Energy         fmax\n",
      "LBFGS:    0 14:53:07       -6.596612        0.0000\n",
      "       Step     Time          Energy         fmax\n",
      "LBFGS:    0 14:53:07       -6.598601        0.0000\n",
      "       Step     Time          Energy         fmax\n",
      "LBFGS:    0 14:53:07       -6.600220        0.0000\n",
      "       Step     Time          Energy         fmax\n",
      "LBFGS:    0 14:53:07       -6.601475        0.0000\n",
      "       Step     Time          Energy         fmax\n",
      "LBFGS:    0 14:53:07       -6.602374        0.0000\n",
      "       Step     Time          Energy         fmax\n",
      "LBFGS:    0 14:53:07       -6.603132        0.0000\n",
      "       Step     Time          Energy         fmax\n",
      "LBFGS:    0 14:53:07       -6.602924        0.0000\n",
      "       Step     Time          Energy         fmax\n",
      "LBFGS:    0 14:53:07       -6.603005        0.0000\n",
      "       Step     Time          Energy         fmax\n",
      "       Step     Time          Energy         fmax\n",
      "LBFGS:    0 14:53:07       -6.602549        0.0000\n",
      "LBFGS:    0 14:53:07       -6.601771        0.0000\n",
      "       Step     Time          Energy         fmax\n",
      "LBFGS:    0 14:53:07       -6.600678        0.0000\n",
      "       Step     Time          Energy         fmax\n",
      "LBFGS:    0 14:53:07       -6.599275        0.0000\n",
      "       Step     Time          Energy         fmax\n",
      "LBFGS:    0 14:53:07       -6.595568        0.0000\n",
      "       Step     Time          Energy         fmax\n",
      "LBFGS:    0 14:53:07       -6.597570        0.0000\n",
      "       Step     Time          Energy         fmax\n",
      "LBFGS:    0 14:53:08       -6.593275        0.0000\n",
      "       Step     Time          Energy         fmax\n",
      "LBFGS:    0 14:53:08       -6.590697        0.0000\n",
      "       Step     Time          Energy         fmax\n",
      "LBFGS:    0 14:53:08       -6.587840        0.0000\n",
      "       Step     Time          Energy         fmax\n",
      "       Step     Time          Energy         fmax\n",
      "LBFGS:    0 14:53:08       -6.584710        0.0000\n",
      "       Step     Time          Energy         fmax\n",
      "LBFGS:    0 14:53:08       -6.581312        0.0000\n",
      "LBFGS:    0 14:53:08       -6.577651        0.0000\n",
      "       Step     Time          Energy         fmax\n",
      "LBFGS:    0 14:53:08       -6.573734        0.0000\n",
      "       Step     Time          Energy         fmax\n",
      "       Step     Time          Energy         fmax\n",
      "LBFGS:    0 14:53:08       -6.560493        0.0000\n",
      "       Step     Time          Energy         fmax\n",
      "LBFGS:    0 14:53:08       -6.569565        0.0000\n",
      "LBFGS:    0 14:53:08       -6.565149        0.0000\n",
      "       Step     Time          Energy         fmax\n",
      "LBFGS:    0 14:53:08       -6.555599        0.0000\n",
      "       Step     Time          Energy         fmax\n",
      "       Step     Time          Energy         fmax\n",
      "LBFGS:    0 14:53:08       -6.533761        0.0000\n",
      "LBFGS:    0 14:53:08       -6.539551        0.0000\n",
      "       Step     Time          Energy         fmax\n",
      "LBFGS:    0 14:53:08       -6.550475        0.0000\n",
      "       Step     Time          Energy         fmax\n",
      "LBFGS:    0 14:53:08       -6.545124        0.0000\n",
      "       Step     Time          Energy         fmax\n",
      "       Step     Time          Energy         fmax\n",
      "LBFGS:    0 14:53:08       -6.521548        0.0000\n",
      "LBFGS:    0 14:53:08       -6.527759        0.0000\n",
      "       Step     Time          Energy         fmax\n",
      "LBFGS:    0 14:53:08       -6.515134        0.0000\n",
      "       Step     Time          Energy         fmax\n",
      "LBFGS:    0 14:53:08       -6.508521        0.0000\n",
      "       Step     Time          Energy         fmax\n",
      "       Step     Time          Energy         fmax\n",
      "LBFGS:    0 14:53:08       -6.494713        0.0000\n",
      "LBFGS:    0 14:53:08       -6.501712        0.0000\n",
      "       Step     Time          Energy         fmax\n",
      "LBFGS:    0 14:53:08       -6.487527        0.0000\n",
      "       Step     Time          Energy         fmax\n",
      "LBFGS:    0 14:53:08       -6.480158        0.0000\n",
      "       Step     Time          Energy         fmax\n",
      "LBFGS:    0 14:53:08       -6.456996        0.0000\n",
      "       Step     Time          Energy         fmax\n",
      "LBFGS:    0 14:53:08       -6.464889        0.0000\n",
      "       Step     Time          Energy         fmax\n",
      "LBFGS:    0 14:53:08       -6.472611        0.0000\n",
      "       Step     Time          Energy         fmax\n",
      "LBFGS:    0 14:53:08       -6.448936        0.0000\n",
      "       Step     Time          Energy         fmax\n",
      "LBFGS:    0 14:53:08       -6.415096        0.0000\n",
      "       Step     Time          Energy         fmax\n",
      "LBFGS:    0 14:53:08       -6.440712        0.0000\n",
      "       Step     Time          Energy         fmax\n",
      "LBFGS:    0 14:53:08       -6.423789        0.0000\n",
      "       Step     Time          Energy         fmax\n",
      "LBFGS:    0 14:53:08       -6.432329        0.0000\n",
      "       Step     Time          Energy         fmax\n",
      "LBFGS:    0 14:53:09       -6.406254        0.0000\n",
      "       Step     Time          Energy         fmax\n",
      "       Step     Time          Energy         fmax\n",
      "LBFGS:    0 14:53:09       -6.378866        0.0000\n",
      "       Step     Time          Energy         fmax\n",
      "LBFGS:    0 14:53:09       -6.388136        0.0000\n",
      "LBFGS:    0 14:53:09       -6.397266        0.0000\n",
      "       Step     Time          Energy         fmax\n",
      "LBFGS:    0 14:53:09       -6.369460        0.0000\n",
      "       Step     Time          Energy         fmax\n",
      "LBFGS:    0 14:53:09       -6.359921        0.0000\n",
      "       Step     Time          Energy         fmax\n",
      "       Step     Time          Energy         fmax\n",
      "LBFGS:    0 14:53:09       -6.350251        0.0000\n",
      "LBFGS:    0 14:53:09       -6.340455        0.0000\n",
      "       Step     Time          Energy         fmax\n",
      "LBFGS:    0 14:53:09       -6.330535        0.0000\n",
      "       Step     Time          Energy         fmax\n",
      "LBFGS:    0 14:53:09       -6.320493        0.0000\n",
      "       Step     Time          Energy         fmax\n",
      "LBFGS:    0 14:53:09       -6.310333        0.0000\n",
      "       Step     Time          Energy         fmax\n",
      "LBFGS:    0 14:53:09       -6.289669        0.0000\n",
      "       Step     Time          Energy         fmax\n",
      "LBFGS:    0 14:53:09       -6.300058        0.0000\n",
      "       Step     Time          Energy         fmax\n",
      "LBFGS:    0 14:53:09       -6.279171        0.0000\n",
      "       Step     Time          Energy         fmax\n",
      "LBFGS:    0 14:53:09       -6.268565        0.0000\n",
      "       Step     Time          Energy         fmax\n",
      "       Step     Time          Energy         fmax\n",
      "LBFGS:    0 14:53:09       -6.247042        0.0000\n",
      "LBFGS:    0 14:53:09       -6.257855        0.0000\n",
      "       Step     Time          Energy         fmax\n",
      "LBFGS:    0 14:53:09       -6.236130        0.0000\n",
      "       Step     Time          Energy         fmax\n",
      "LBFGS:    0 14:53:09       -6.225120        0.0000\n",
      "       Step     Time          Energy         fmax\n",
      "       Step     Time          Energy         fmax\n",
      "LBFGS:    0 14:53:09       -6.180158        0.0000\n",
      "       Step     Time          Energy         fmax\n",
      "LBFGS:    0 14:53:09       -6.191532        0.0000\n",
      "LBFGS:    0 14:53:09       -6.214016        0.0000\n",
      "       Step     Time          Energy         fmax\n",
      "LBFGS:    0 14:53:09       -6.202819        0.0000\n",
      "       Step     Time          Energy         fmax\n",
      "       Step     Time          Energy         fmax\n",
      "LBFGS:    0 14:53:09       -6.157154        0.0000\n",
      "LBFGS:    0 14:53:09       -6.168698        0.0000\n",
      "       Step     Time          Energy         fmax\n",
      "LBFGS:    0 14:53:10       -6.145530        0.0000\n",
      "       Step     Time          Energy         fmax\n",
      "LBFGS:    0 14:53:10       -6.133827        0.0000\n",
      "       Step     Time          Energy         fmax\n",
      "LBFGS:    0 14:53:10       -6.122047        0.0000\n",
      "       Step     Time          Energy         fmax\n",
      "LBFGS:    0 14:53:10       -6.110193        0.0000\n",
      "       Step     Time          Energy         fmax\n",
      "LBFGS:    0 14:53:10       -6.098266        0.0000\n",
      "       Step     Time          Energy         fmax\n",
      "LBFGS:    0 14:53:10       -6.086268        0.0000\n",
      "       Step     Time          Energy         fmax\n",
      "LBFGS:    0 14:53:10       -6.062068        0.0000\n",
      "       Step     Time          Energy         fmax\n",
      "LBFGS:    0 14:53:10       -6.074202        0.0000\n",
      "       Step     Time          Energy         fmax\n",
      "LBFGS:    0 14:53:10       -6.049871        0.0000\n",
      "       Step     Time          Energy         fmax\n",
      "LBFGS:    0 14:53:10       -6.025288        0.0000\n",
      "       Step     Time          Energy         fmax\n",
      "LBFGS:    0 14:53:10       -6.037610        0.0000\n",
      "       Step     Time          Energy         fmax\n",
      "LBFGS:    0 14:53:10       -6.012907        0.0000\n",
      "       Step     Time          Energy         fmax\n",
      "LBFGS:    0 14:53:10       -6.000468        0.0000\n",
      "       Step     Time          Energy         fmax\n",
      "LBFGS:    0 14:53:10       -5.987974        0.0000\n",
      "       Step     Time          Energy         fmax\n",
      "LBFGS:    0 14:53:10       -5.975426        0.0000\n",
      "       Step     Time          Energy         fmax\n",
      "LBFGS:    0 14:53:10       -5.950174        0.0000\n",
      "       Step     Time          Energy         fmax\n",
      "LBFGS:    0 14:53:10       -5.937473        0.0000\n",
      "       Step     Time          Energy         fmax\n",
      "LBFGS:    0 14:53:10       -5.924725        0.0000\n",
      "       Step     Time          Energy         fmax\n",
      "LBFGS:    0 14:53:10       -5.962825        0.0000\n",
      "       Step     Time          Energy         fmax\n",
      "LBFGS:    0 14:53:10       -5.911931        0.0000\n",
      "       Step     Time          Energy         fmax\n",
      "       Step     Time          Energy         fmax\n",
      "LBFGS:    0 14:53:10       -5.899093        0.0000\n",
      "LBFGS:    0 14:53:10       -5.886212        0.0000\n",
      "       Step     Time          Energy         fmax\n",
      "LBFGS:    0 14:53:10       -5.873290        0.0000\n",
      "       Step     Time          Energy         fmax\n",
      "LBFGS:    0 14:53:10       -5.860327        0.0000\n",
      "       Step     Time          Energy         fmax\n",
      "LBFGS:    0 14:53:10       -5.821215        0.0000\n",
      "       Step     Time          Energy         fmax\n",
      "       Step     Time          Energy         fmax\n",
      "LBFGS:    0 14:53:10       -5.847326        0.0000\n",
      "LBFGS:    0 14:53:10       -5.834289        0.0000\n",
      "       Step     Time          Energy         fmax\n",
      "LBFGS:    0 14:53:10       -5.808107        0.0000\n",
      "       Step     Time          Energy         fmax\n",
      "LBFGS:    0 14:53:11       -5.794966        0.0000\n",
      "       Step     Time          Energy         fmax\n",
      "LBFGS:    0 14:53:11       -5.768591        0.0000\n",
      "       Step     Time          Energy         fmax\n",
      "LBFGS:    0 14:53:11       -5.781794        0.0000\n",
      "       Step     Time          Energy         fmax\n",
      "LBFGS:    0 14:53:11       -5.755359        0.0000\n",
      "       Step     Time          Energy         fmax\n",
      "LBFGS:    0 14:53:11       -5.728813        0.0000\n",
      "       Step     Time          Energy         fmax\n",
      "LBFGS:    0 14:53:11       -5.715501        0.0000\n",
      "       Step     Time          Energy         fmax\n",
      "LBFGS:    0 14:53:11       -5.702165        0.0000\n",
      "       Step     Time          Energy         fmax\n",
      "LBFGS:    0 14:53:11       -5.742099        0.0000\n",
      "       Step     Time          Energy         fmax\n",
      "LBFGS:    0 14:53:11       -5.688805        0.0000\n",
      "       Step     Time          Energy         fmax\n",
      "LBFGS:    0 14:53:11       -5.675424        0.0000\n",
      "       Step     Time          Energy         fmax\n",
      "LBFGS:    0 14:53:11       -5.662022        0.0000\n",
      "       Step     Time          Energy         fmax\n",
      "LBFGS:    0 14:53:11       -5.635159        0.0000\n",
      "       Step     Time          Energy         fmax\n",
      "LBFGS:    0 14:53:11       -5.648600        0.0000\n",
      "       Step     Time          Energy         fmax\n",
      "LBFGS:    0 14:53:11       -5.621701        0.0000\n",
      "       Step     Time          Energy         fmax\n",
      "LBFGS:    0 14:53:11       -5.608226        0.0000\n",
      "       Step     Time          Energy         fmax\n",
      "LBFGS:    0 14:53:11       -5.594735        0.0000\n",
      "       Step     Time          Energy         fmax\n",
      "LBFGS:    0 14:53:11       -5.581230        0.0000\n",
      "       Step     Time          Energy         fmax\n",
      "LBFGS:    0 14:53:11       -5.554180        0.0000\n",
      "       Step     Time          Energy         fmax\n",
      "LBFGS:    0 14:53:11       -5.567712        0.0000\n",
      "       Step     Time          Energy         fmax\n",
      "LBFGS:    0 14:53:11       -5.540637        0.0000\n",
      "       Step     Time          Energy         fmax\n",
      "LBFGS:    0 14:53:11       -5.527083        0.0000\n",
      "       Step     Time          Energy         fmax\n",
      "LBFGS:    0 14:53:11       -5.513519        0.0000\n",
      "       Step     Time          Energy         fmax\n",
      "LBFGS:    0 14:53:11       -5.499947        0.0000\n",
      "       Step     Time          Energy         fmax\n",
      "LBFGS:    0 14:53:11       -5.486366        0.0000\n",
      "       Step     Time          Energy         fmax\n",
      "LBFGS:    0 14:53:11       -5.472778        0.0000\n",
      "       Step     Time          Energy         fmax\n",
      "LBFGS:    0 14:53:11       -5.459183        0.0000\n",
      "       Step     Time          Energy         fmax\n",
      "LBFGS:    0 14:53:11       -5.418369        0.0000\n",
      "       Step     Time          Energy         fmax\n",
      "LBFGS:    0 14:53:11       -5.431978        0.0000\n",
      "       Step     Time          Energy         fmax\n",
      "LBFGS:    0 14:53:11       -5.404757        0.0000\n",
      "       Step     Time          Energy         fmax\n",
      "LBFGS:    0 14:53:11       -5.445583        0.0000\n",
      "       Step     Time          Energy         fmax\n",
      "LBFGS:    0 14:53:12       -5.391143        0.0000\n",
      "       Step     Time          Energy         fmax\n",
      "LBFGS:    0 14:53:12       -5.350293        0.0000\n",
      "       Step     Time          Energy         fmax\n",
      "LBFGS:    0 14:53:12       -5.377527        0.0000\n",
      "       Step     Time          Energy         fmax\n",
      "LBFGS:    0 14:53:12       -5.363910        0.0000\n",
      "       Step     Time          Energy         fmax\n",
      "LBFGS:    0 14:53:12       -5.336676        0.0000\n",
      "       Step     Time          Energy         fmax\n",
      "LBFGS:    0 14:53:12       -5.323061        0.0000\n",
      "       Step     Time          Energy         fmax\n",
      "LBFGS:    0 14:53:12       -5.295837        0.0000\n",
      "       Step     Time          Energy         fmax\n",
      "LBFGS:    0 14:53:12       -5.309448        0.0000\n",
      "       Step     Time          Energy         fmax\n",
      "       Step     Time          Energy         fmax\n",
      "LBFGS:    0 14:53:12       -5.268625        0.0000\n",
      "LBFGS:    0 14:53:12       -5.255026        0.0000\n",
      "       Step     Time          Energy         fmax\n",
      "LBFGS:    0 14:53:12       -5.282229        0.0000\n",
      "       Step     Time          Energy         fmax\n",
      "LBFGS:    0 14:53:12       -5.214262        0.0000\n",
      "       Step     Time          Energy         fmax\n",
      "LBFGS:    0 14:53:12       -5.241432        0.0000\n",
      "       Step     Time          Energy         fmax\n",
      "LBFGS:    0 14:53:12       -5.227844        0.0000\n",
      "       Step     Time          Energy         fmax\n",
      "LBFGS:    0 14:53:12       -5.200687        0.0000\n",
      "       Step     Time          Energy         fmax\n",
      "LBFGS:    0 14:53:12       -5.160009        0.0000\n",
      "       Step     Time          Energy         fmax\n",
      "LBFGS:    0 14:53:12       -5.146468        0.0000\n",
      "       Step     Time          Energy         fmax\n",
      "LBFGS:    0 14:53:12       -5.187119        0.0000\n",
      "       Step     Time          Energy         fmax\n",
      "LBFGS:    0 14:53:12       -5.173560        0.0000\n",
      "       Step     Time          Energy         fmax\n",
      "LBFGS:    0 14:53:12       -5.132936        0.0000\n",
      "       Step     Time          Energy         fmax\n",
      "LBFGS:    0 14:53:12       -5.119414        0.0000\n",
      "       Step     Time          Energy         fmax\n",
      "LBFGS:    0 14:53:12       -5.105903        0.0000\n",
      "       Step     Time          Energy         fmax\n",
      "LBFGS:    0 14:53:12       -5.092403        0.0000\n",
      "       Step     Time          Energy         fmax\n",
      "LBFGS:    0 14:53:12       -5.078915        0.0000\n",
      "       Step     Time          Energy         fmax\n",
      "       Step     Time          Energy         fmax\n",
      "LBFGS:    0 14:53:12       -5.051977        0.0000\n",
      "LBFGS:    0 14:53:12       -5.065440        0.0000\n",
      "       Step     Time          Energy         fmax\n",
      "LBFGS:    0 14:53:13       -5.038527        0.0000\n",
      "       Step     Time          Energy         fmax\n",
      "LBFGS:    0 14:53:13       -5.025090        0.0000\n",
      "       Step     Time          Energy         fmax\n",
      "LBFGS:    0 14:53:13       -5.011668        0.0000\n",
      "       Step     Time          Energy         fmax\n",
      "LBFGS:    0 14:53:13       -4.998260        0.0000\n",
      "       Step     Time          Energy         fmax\n",
      "LBFGS:    0 14:53:13       -4.984867        0.0000\n",
      "       Step     Time          Energy         fmax\n",
      "LBFGS:    0 14:53:13       -4.971490        0.0000\n",
      "       Step     Time          Energy         fmax\n",
      "       Step     Time          Energy         fmax\n",
      "LBFGS:    0 14:53:13       -4.944782        0.0000\n",
      "LBFGS:    0 14:53:13       -4.958128        0.0000\n",
      "       Step     Time          Energy         fmax\n",
      "LBFGS:    0 14:53:13       -4.931453        0.0000\n",
      "       Step     Time          Energy         fmax\n",
      "LBFGS:    0 14:53:13       -4.918140        0.0000\n",
      "       Step     Time          Energy         fmax\n",
      "LBFGS:    0 14:53:13       -4.891567        0.0000\n",
      "       Step     Time          Energy         fmax\n",
      "LBFGS:    0 14:53:13       -4.904845        0.0000\n",
      "       Step     Time          Energy         fmax\n",
      "LBFGS:    0 14:53:13       -4.878308        0.0000\n",
      "       Step     Time          Energy         fmax\n",
      "LBFGS:    0 14:53:13       -4.865067        0.0000\n",
      "       Step     Time          Energy         fmax\n",
      "LBFGS:    0 14:53:13       -4.838641        0.0000\n",
      "       Step     Time          Energy         fmax\n",
      "       Step     Time          Energy         fmax\n",
      "LBFGS:    0 14:53:13       -4.825456        0.0000\n",
      "LBFGS:    0 14:53:13       -4.851844        0.0000\n",
      "       Step     Time          Energy         fmax\n",
      "LBFGS:    0 14:53:13       -4.812292        0.0000\n",
      "       Step     Time          Energy         fmax\n",
      "       Step     Time          Energy         fmax\n",
      "LBFGS:    0 14:53:13       -4.799147        0.0000\n",
      "LBFGS:    0 14:53:13       -4.772919        0.0000\n",
      "       Step     Time          Energy         fmax\n",
      "LBFGS:    0 14:53:13       -4.786023        0.0000\n",
      "       Step     Time          Energy         fmax\n",
      "LBFGS:    0 14:53:13       -4.759837        0.0000\n",
      "       Step     Time          Energy         fmax\n",
      "LBFGS:    0 14:53:13       -4.733735        0.0000\n",
      "       Step     Time          Energy         fmax\n",
      "LBFGS:    0 14:53:13       -4.720716        0.0000\n",
      "       Step     Time          Energy         fmax\n",
      "LBFGS:    0 14:53:13       -4.746775        0.0000\n",
      "       Step     Time          Energy         fmax\n",
      "LBFGS:    0 14:53:13       -4.681794        0.0000\n",
      "       Step     Time          Energy         fmax\n",
      "LBFGS:    0 14:53:13       -4.694745        0.0000\n",
      "       Step     Time          Energy         fmax\n",
      "       Step     Time          Energy         fmax\n",
      "LBFGS:    0 14:53:13       -4.668865        0.0000\n",
      "LBFGS:    0 14:53:13       -4.707720        0.0000\n",
      "       Step     Time          Energy         fmax\n",
      "       Step     Time          Energy         fmax\n",
      "LBFGS:    0 14:53:13       -4.655959        0.0000\n",
      "LBFGS:    0 14:53:13       -4.643076        0.0000\n",
      "       Step     Time          Energy         fmax\n",
      "LBFGS:    0 14:53:14       -4.630216        0.0000\n",
      "       Step     Time          Energy         fmax\n",
      "LBFGS:    0 14:53:14       -4.617381        0.0000\n",
      "       Step     Time          Energy         fmax\n",
      "LBFGS:    0 14:53:14       -4.591781        0.0000\n",
      "       Step     Time          Energy         fmax\n",
      "       Step     Time          Energy         fmax\n",
      "LBFGS:    0 14:53:14       -4.579018        0.0000\n",
      "LBFGS:    0 14:53:14       -4.604569        0.0000\n",
      "       Step     Time          Energy         fmax\n",
      "LBFGS:    0 14:53:14       -4.566279        0.0000\n",
      "       Step     Time          Energy         fmax\n",
      "       Step     Time          Energy         fmax\n",
      "LBFGS:    0 14:53:14       -4.553565        0.0000\n",
      "LBFGS:    0 14:53:14       -4.528212        0.0000\n",
      "       Step     Time          Energy         fmax\n",
      "LBFGS:    0 14:53:14       -4.540876        0.0000\n",
      "       Step     Time          Energy         fmax\n",
      "       Step     Time          Energy         fmax\n",
      "LBFGS:    0 14:53:14       -4.490373        0.0000\n",
      "LBFGS:    0 14:53:14       -4.515574        0.0000\n",
      "       Step     Time          Energy         fmax\n",
      "       Step     Time          Energy         fmax\n",
      "LBFGS:    0 14:53:14       -4.477811        0.0000\n",
      "LBFGS:    0 14:53:14       -4.502960        0.0000\n",
      "       Step     Time          Energy         fmax\n",
      "LBFGS:    0 14:53:14       -4.465275        0.0000\n",
      "       Step     Time          Energy         fmax\n",
      "       Step     Time          Energy         fmax\n",
      "LBFGS:    0 14:53:14       -4.452766        0.0000\n",
      "LBFGS:    0 14:53:14       -4.427826        0.0000\n",
      "       Step     Time          Energy         fmax\n",
      "LBFGS:    0 14:53:14       -4.440283        0.0000\n",
      "       Step     Time          Energy         fmax\n",
      "LBFGS:    0 14:53:14       -4.415396        0.0000\n",
      "       Step     Time          Energy         fmax\n",
      "LBFGS:    0 14:53:14       -4.402992        0.0000\n",
      "       Step     Time          Energy         fmax\n",
      "LBFGS:    0 14:53:14       -4.390616        0.0000\n",
      "       Step     Time          Energy         fmax\n",
      "LBFGS:    0 14:53:14       -4.378267        0.0000\n",
      "       Step     Time          Energy         fmax\n",
      "       Step     Time          Energy         fmax\n",
      "LBFGS:    0 14:53:14       -4.353649        0.0000\n",
      "LBFGS:    0 14:53:14       -4.341382        0.0000\n",
      "       Step     Time          Energy         fmax\n",
      "LBFGS:    0 14:53:14       -4.365944        0.0000\n",
      "       Step     Time          Energy         fmax\n",
      "LBFGS:    0 14:53:14       -4.329142        0.0000\n",
      "       Step     Time          Energy         fmax\n",
      "LBFGS:    0 14:53:14       -4.316929        0.0000\n",
      "       Step     Time          Energy         fmax\n",
      "LBFGS:    0 14:53:14       -4.280459        0.0000\n",
      "       Step     Time          Energy         fmax\n",
      "LBFGS:    0 14:53:14       -4.304745        0.0000\n",
      "       Step     Time          Energy         fmax\n",
      "LBFGS:    0 14:53:15       -4.256286        0.0000\n",
      "       Step     Time          Energy         fmax\n",
      "       Step     Time          Energy         fmax\n",
      "LBFGS:    0 14:53:15       -4.268359        0.0000\n",
      "LBFGS:    0 14:53:15       -4.292588        0.0000\n",
      "       Step     Time          Energy         fmax\n",
      "LBFGS:    0 14:53:15       -4.244242        0.0000\n",
      "       Step     Time          Energy         fmax\n",
      "LBFGS:    0 14:53:15       -4.220239        0.0000\n",
      "       Step     Time          Energy         fmax\n",
      "LBFGS:    0 14:53:15       -4.208280        0.0000\n",
      "       Step     Time          Energy         fmax\n",
      "LBFGS:    0 14:53:15       -4.232226        0.0000\n",
      "       Step     Time          Energy         fmax\n",
      "       Step     Time          Energy         fmax\n",
      "LBFGS:    0 14:53:15       -4.172575        0.0000\n",
      "LBFGS:    0 14:53:15       -4.184448        0.0000\n",
      "       Step     Time          Energy         fmax\n",
      "       Step     Time          Energy         fmax\n",
      "LBFGS:    0 14:53:15       -4.196350        0.0000\n",
      "LBFGS:    0 14:53:15       -4.160732        0.0000\n",
      "       Step     Time          Energy         fmax\n",
      "       Step     Time          Energy         fmax\n",
      "LBFGS:    0 14:53:15       -4.148917        0.0000\n",
      "LBFGS:    0 14:53:15       -4.137131        0.0000\n",
      "       Step     Time          Energy         fmax\n",
      "       Step     Time          Energy         fmax\n",
      "LBFGS:    0 14:53:15       -4.113646        0.0000\n",
      "LBFGS:    0 14:53:15       -4.125374        0.0000\n",
      "       Step     Time          Energy         fmax\n",
      "LBFGS:    0 14:53:15       -4.101948        0.0000\n",
      "       Step     Time          Energy         fmax\n",
      "       Step     Time          Energy         fmax\n",
      "LBFGS:    0 14:53:15       -4.078638        0.0000\n",
      "LBFGS:    0 14:53:15       -4.090278        0.0000\n",
      "       Step     Time          Energy         fmax\n",
      "       Step     Time          Energy         fmax\n",
      "LBFGS:    0 14:53:15       -4.055446        0.0000\n",
      "LBFGS:    0 14:53:15       -4.067028        0.0000\n",
      "       Step     Time          Energy         fmax\n",
      "LBFGS:    0 14:53:15       -4.043894        0.0000\n",
      "       Step     Time          Energy         fmax\n",
      "       Step     Time          Energy         fmax\n",
      "LBFGS:    0 14:53:15       -4.009416        0.0000\n",
      "LBFGS:    0 14:53:15       -4.020879        0.0000\n",
      "       Step     Time          Energy         fmax\n",
      "LBFGS:    0 14:53:15       -4.032372        0.0000\n",
      "       Step     Time          Energy         fmax\n",
      "LBFGS:    0 14:53:15       -3.997982        0.0000\n",
      "       Step     Time          Energy         fmax\n",
      "       Step     Time          Energy         fmax\n",
      "LBFGS:    0 14:53:15       -3.975204        0.0000\n",
      "LBFGS:    0 14:53:15       -3.963859        0.0000\n",
      "       Step     Time          Energy         fmax\n",
      "       Step     Time          Energy         fmax\n",
      "LBFGS:    0 14:53:15       -3.952544        0.0000\n",
      "LBFGS:    0 14:53:15       -3.986578        0.0000\n",
      "       Step     Time          Energy         fmax\n",
      "LBFGS:    0 14:53:15       -3.930004        0.0000\n",
      "       Step     Time          Energy         fmax\n",
      "LBFGS:    0 14:53:15       -3.941259        0.0000\n",
      "       Step     Time          Energy         fmax\n",
      "LBFGS:    0 14:53:16       -3.918778        0.0000\n",
      "       Step     Time          Energy         fmax\n",
      "LBFGS:    0 14:53:16       -3.907582        0.0000\n",
      "       Step     Time          Energy         fmax\n",
      "LBFGS:    0 14:53:16       -3.896416        0.0000\n",
      "       Step     Time          Energy         fmax\n",
      "LBFGS:    0 14:53:16       -3.885280        0.0000\n",
      "       Step     Time          Energy         fmax\n",
      "LBFGS:    0 14:53:16       -3.874174        0.0000\n",
      "       Step     Time          Energy         fmax\n",
      "       Step     Time          Energy         fmax\n",
      "LBFGS:    0 14:53:16       -3.852051        0.0000\n",
      "LBFGS:    0 14:53:16       -3.863097        0.0000\n",
      "       Step     Time          Energy         fmax\n",
      "LBFGS:    0 14:53:16       -3.841034        0.0000\n",
      "       Step     Time          Energy         fmax\n",
      "       Step     Time          Energy         fmax\n",
      "LBFGS:    0 14:53:16       -3.830047        0.0000\n",
      "LBFGS:    0 14:53:16       -3.819091        0.0000\n",
      "       Step     Time          Energy         fmax\n",
      "       Step     Time          Energy         fmax\n",
      "LBFGS:    0 14:53:16       -3.808164        0.0000\n",
      "LBFGS:    0 14:53:16       -3.797267        0.0000\n",
      "       Step     Time          Energy         fmax\n",
      "       Step     Time          Energy         fmax\n",
      "LBFGS:    0 14:53:16       -3.775562        0.0000\n",
      "LBFGS:    0 14:53:16       -3.786400        0.0000\n",
      "       Step     Time          Energy         fmax\n",
      "LBFGS:    0 14:53:16       -3.753978        0.0000\n",
      "       Step     Time          Energy         fmax\n",
      "LBFGS:    0 14:53:16       -3.743230        0.0000\n",
      "       Step     Time          Energy         fmax\n",
      "LBFGS:    0 14:53:16       -3.764755        0.0000\n",
      "       Step     Time          Energy         fmax\n",
      "LBFGS:    0 14:53:16       -3.732513        0.0000\n",
      "       Step     Time          Energy         fmax\n",
      "LBFGS:    0 14:53:16       -3.721825        0.0000\n",
      "       Step     Time          Energy         fmax\n",
      "LBFGS:    0 14:53:16       -3.711167        0.0000\n",
      "       Step     Time          Energy         fmax\n",
      "LBFGS:    0 14:53:16       -3.700539        0.0000\n",
      "       Step     Time          Energy         fmax\n",
      "       Step     Time          Energy         fmax\n",
      "LBFGS:    0 14:53:16       -3.668834        0.0000\n",
      "       Step     Time          Energy         fmax\n",
      "LBFGS:    0 14:53:16       -3.679373        0.0000\n",
      "LBFGS:    0 14:53:16       -3.689941        0.0000\n",
      "       Step     Time          Energy         fmax\n",
      "LBFGS:    0 14:53:16       -3.637397        0.0000\n",
      "       Step     Time          Energy         fmax\n",
      "       Step     Time          Energy         fmax\n",
      "LBFGS:    0 14:53:16       -3.658325        0.0000\n",
      "       Step     Time          Energy         fmax\n",
      "LBFGS:    0 14:53:16       -3.626978        0.0000\n",
      "LBFGS:    0 14:53:16       -3.647846        0.0000\n",
      "       Step     Time          Energy         fmax\n",
      "LBFGS:    0 14:53:17       -3.616588        0.0000\n",
      "       Step     Time          Energy         fmax\n",
      "LBFGS:    0 14:53:17       -3.606228        0.0000\n",
      "       Step     Time          Energy         fmax\n",
      "       Step     Time          Energy         fmax\n",
      "LBFGS:    0 14:53:17       -3.585597        0.0000\n",
      "LBFGS:    0 14:53:17       -3.595897        0.0000\n",
      "       Step     Time          Energy         fmax\n",
      "LBFGS:    0 14:53:17       -3.575325        0.0000\n",
      "       Step     Time          Energy         fmax\n",
      "LBFGS:    0 14:53:17       -3.565084        0.0000\n",
      "       Step     Time          Energy         fmax\n",
      "LBFGS:    0 14:53:17       -3.554872        0.0000\n",
      "       Step     Time          Energy         fmax\n",
      "LBFGS:    0 14:53:17       -3.544689        0.0000\n",
      "       Step     Time          Energy         fmax\n",
      "       Step     Time          Energy         fmax\n",
      "LBFGS:    0 14:53:17       -3.524412        0.0000\n",
      "LBFGS:    0 14:53:17       -3.534536        0.0000\n",
      "       Step     Time          Energy         fmax\n",
      "LBFGS:    0 14:53:17       -3.514318        0.0000\n",
      "       Step     Time          Energy         fmax\n",
      "LBFGS:    0 14:53:17       -3.504253        0.0000\n",
      "       Step     Time          Energy         fmax\n",
      "LBFGS:    0 14:53:17       -3.494218        0.0000\n",
      "       Step     Time          Energy         fmax\n",
      "LBFGS:    0 14:53:17       -3.484212        0.0000\n",
      "       Step     Time          Energy         fmax\n",
      "LBFGS:    0 14:53:17       -3.474235        0.0000\n",
      "       Step     Time          Energy         fmax\n",
      "LBFGS:    0 14:53:17       -3.464287        0.0000\n",
      "       Step     Time          Energy         fmax\n",
      "LBFGS:    0 14:53:17       -3.454369        0.0000\n",
      "       Step     Time          Energy         fmax\n",
      "LBFGS:    0 14:53:17       -3.434619        0.0000\n",
      "       Step     Time          Energy         fmax\n",
      "LBFGS:    0 14:53:17       -3.424788        0.0000\n",
      "       Step     Time          Energy         fmax\n",
      "LBFGS:    0 14:53:17       -3.444480        0.0000\n",
      "       Step     Time          Energy         fmax\n",
      "LBFGS:    0 14:53:17       -3.414986        0.0000\n",
      "       Step     Time          Energy         fmax\n",
      "LBFGS:    0 14:53:17       -3.405213        0.0000\n",
      "       Step     Time          Energy         fmax\n",
      "LBFGS:    0 14:53:17       -3.395469        0.0000\n",
      "       Step     Time          Energy         fmax\n",
      "LBFGS:    0 14:53:17       -3.385754        0.0000\n",
      "       Step     Time          Energy         fmax\n",
      "       Step     Time          Energy         fmax\n",
      "LBFGS:    0 14:53:17       -3.366410        0.0000\n",
      "       Step     Time          Energy         fmax\n",
      "LBFGS:    0 14:53:17       -3.376068        0.0000\n",
      "LBFGS:    0 14:53:17       -3.356781        0.0000\n",
      "       Step     Time          Energy         fmax\n",
      "LBFGS:    0 14:53:17       -3.347181        0.0000\n",
      "       Step     Time          Energy         fmax\n",
      "LBFGS:    0 14:53:17       -3.328067        0.0000\n",
      "       Step     Time          Energy         fmax\n",
      "LBFGS:    0 14:53:17       -3.337610        0.0000\n",
      "       Step     Time          Energy         fmax\n",
      "LBFGS:    0 14:53:17       -3.309067        0.0000\n",
      "       Step     Time          Energy         fmax\n",
      "LBFGS:    0 14:53:17       -3.318553        0.0000\n",
      "       Step     Time          Energy         fmax\n",
      "LBFGS:    0 14:53:18       -3.299610        0.0000\n",
      "       Step     Time          Energy         fmax\n",
      "LBFGS:    0 14:53:18       -3.280781        0.0000\n",
      "       Step     Time          Energy         fmax\n",
      "LBFGS:    0 14:53:18       -3.290181        0.0000\n",
      "       Step     Time          Energy         fmax\n",
      "       Step     Time          Energy         fmax\n",
      "LBFGS:    0 14:53:18       -3.252749        0.0000\n",
      "LBFGS:    0 14:53:18       -3.271409        0.0000\n",
      "       Step     Time          Energy         fmax\n",
      "LBFGS:    0 14:53:18       -3.262065        0.0000\n",
      "       Step     Time          Energy         fmax\n",
      "LBFGS:    0 14:53:18       -3.243462        0.0000\n",
      "       Step     Time          Energy         fmax\n",
      "LBFGS:    0 14:53:18       -3.215768        0.0000\n",
      "       Step     Time          Energy         fmax\n",
      "LBFGS:    0 14:53:18       -3.224971        0.0000\n",
      "       Step     Time          Energy         fmax\n",
      "LBFGS:    0 14:53:18       -3.234202        0.0000\n",
      "       Step     Time          Energy         fmax\n",
      "LBFGS:    0 14:53:18       -3.206592        0.0000\n",
      "       Step     Time          Energy         fmax\n",
      "LBFGS:    0 14:53:18       -3.197445        0.0000\n",
      "       Step     Time          Energy         fmax\n",
      "LBFGS:    0 14:53:18       -3.188325        0.0000\n",
      "       Step     Time          Energy         fmax\n",
      "LBFGS:    0 14:53:18       -3.170169        0.0000\n",
      "       Step     Time          Energy         fmax\n",
      "LBFGS:    0 14:53:18       -3.179233        0.0000\n",
      "       Step     Time          Energy         fmax\n",
      "LBFGS:    0 14:53:18       -3.161132        0.0000\n",
      "       Step     Time          Energy         fmax\n",
      "LBFGS:    0 14:53:18       -3.152123        0.0000\n",
      "       Step     Time          Energy         fmax\n",
      "LBFGS:    0 14:53:18       -3.143141        0.0000\n",
      "       Step     Time          Energy         fmax\n",
      "LBFGS:    0 14:53:18       -3.134187        0.0000\n",
      "       Step     Time          Energy         fmax\n",
      "LBFGS:    0 14:53:18       -3.125260        0.0000\n",
      "       Step     Time          Energy         fmax\n",
      "       Step     Time          Energy         fmax\n",
      "LBFGS:    0 14:53:18       -3.116361        0.0000\n",
      "LBFGS:    0 14:53:18       -3.107488        0.0000\n",
      "       Step     Time          Energy         fmax\n",
      "LBFGS:    0 14:53:18       -3.098643        0.0000\n",
      "       Step     Time          Energy         fmax\n",
      "       Step     Time          Energy         fmax\n",
      "LBFGS:    0 14:53:18       -3.089825        0.0000\n",
      "LBFGS:    0 14:53:18       -3.081034        0.0000\n",
      "       Step     Time          Energy         fmax\n",
      "LBFGS:    0 14:53:19       -3.063534        0.0000\n",
      "       Step     Time          Energy         fmax\n",
      "LBFGS:    0 14:53:19       -3.072271        0.0000\n",
      "       Step     Time          Energy         fmax\n",
      "LBFGS:    0 14:53:19       -3.046140        0.0000\n",
      "       Step     Time          Energy         fmax\n",
      "LBFGS:    0 14:53:19       -3.054823        0.0000\n",
      "       Step     Time          Energy         fmax\n",
      "       Step     Time          Energy         fmax\n",
      "LBFGS:    0 14:53:19       -3.020250        0.0000\n",
      "LBFGS:    0 14:53:19       -3.028853        0.0000\n",
      "       Step     Time          Energy         fmax\n",
      "LBFGS:    0 14:53:19       -3.037483        0.0000\n",
      "       Step     Time          Energy         fmax\n",
      "LBFGS:    0 14:53:19       -3.011673        0.0000\n",
      "       Step     Time          Energy         fmax\n",
      "LBFGS:    0 14:53:19       -2.986101        0.0000\n",
      "       Step     Time          Energy         fmax\n",
      "       Step     Time          Energy         fmax\n",
      "LBFGS:    0 14:53:19       -2.994599        0.0000\n",
      "LBFGS:    0 14:53:19       -3.003123        0.0000\n",
      "       Step     Time          Energy         fmax\n",
      "LBFGS:    0 14:53:19       -2.977630        0.0000\n",
      "       Step     Time          Energy         fmax\n",
      "LBFGS:    0 14:53:19       -2.969185        0.0000\n",
      "       Step     Time          Energy         fmax\n",
      "       Step     Time          Energy         fmax\n",
      "LBFGS:    0 14:53:19       -2.960766        0.0000\n",
      "LBFGS:    0 14:53:19       -2.952373        0.0000\n",
      "       Step     Time          Energy         fmax\n",
      "LBFGS:    0 14:53:19       -2.944006        0.0000\n",
      "       Step     Time          Energy         fmax\n",
      "LBFGS:    0 14:53:19       -2.919060        0.0000\n",
      "       Step     Time          Energy         fmax\n",
      "       Step     Time          Energy         fmax\n",
      "LBFGS:    0 14:53:19       -2.927350        0.0000\n",
      "LBFGS:    0 14:53:19       -2.935665        0.0000\n",
      "       Step     Time          Energy         fmax\n",
      "LBFGS:    0 14:53:19       -2.910796        0.0000\n",
      "       Step     Time          Energy         fmax\n",
      "LBFGS:    0 14:53:19       -2.902558        0.0000\n",
      "       Step     Time          Energy         fmax\n",
      "LBFGS:    0 14:53:19       -2.894346        0.0000\n",
      "       Step     Time          Energy         fmax\n",
      "LBFGS:    0 14:53:19       -2.877998        0.0000\n",
      "       Step     Time          Energy         fmax\n",
      "LBFGS:    0 14:53:19       -2.886159        0.0000\n",
      "       Step     Time          Energy         fmax\n",
      "LBFGS:    0 14:53:19       -2.869862        0.0000\n",
      "       Step     Time          Energy         fmax\n",
      "LBFGS:    0 14:53:19       -2.853666        0.0000\n",
      "       Step     Time          Energy         fmax\n",
      "LBFGS:    0 14:53:19       -2.845605        0.0000\n",
      "       Step     Time          Energy         fmax\n",
      "LBFGS:    0 14:53:19       -2.837570        0.0000\n",
      "       Step     Time          Energy         fmax\n",
      "LBFGS:    0 14:53:19       -2.861751        0.0000\n",
      "       Step     Time          Energy         fmax\n",
      "LBFGS:    0 14:53:20       -2.829560        0.0000\n",
      "       Step     Time          Energy         fmax\n",
      "LBFGS:    0 14:53:20       -2.821575        0.0000\n",
      "       Step     Time          Energy         fmax\n",
      "LBFGS:    0 14:53:20       -2.805679        0.0000\n",
      "       Step     Time          Energy         fmax\n",
      "LBFGS:    0 14:53:20       -2.813615        0.0000\n"
     ]
    }
   ],
   "source": [
    "exe = m.run()"
   ]
  },
  {
   "cell_type": "code",
   "execution_count": 88,
   "id": "a3069fe3-93bf-4c83-93e7-6d0ac56d8248",
   "metadata": {},
   "outputs": [
    {
     "data": {
      "text/plain": [
       "<Code.FINISHED: 'finished'>"
      ]
     },
     "execution_count": 88,
     "metadata": {},
     "output_type": "execute_result"
    }
   ],
   "source": [
    "exe._run_machine.state"
   ]
  },
  {
   "cell_type": "code",
   "execution_count": 89,
   "id": "71bbb913-7d7a-4bb6-b775-3fbc8e7e1f35",
   "metadata": {},
   "outputs": [
    {
     "data": {
      "text/plain": [
       "(ReturnStatus(Code.DONE, None),)"
      ]
     },
     "execution_count": 89,
     "metadata": {},
     "output_type": "execute_result"
    }
   ],
   "source": [
    "exe.status"
   ]
  },
  {
   "cell_type": "code",
   "execution_count": 90,
   "id": "4bf2df15-31dc-474c-b3df-f7c32b0fdaf2",
   "metadata": {},
   "outputs": [
    {
     "data": {
      "text/plain": [
       "array([4.78924238, 4.51769267, 4.25194477, 3.99187529, 3.7373637 ,\n",
       "       3.48829227, 3.244546  , 3.00601254, 2.77258214, 2.54414756])"
      ]
     },
     "execution_count": 90,
     "metadata": {},
     "output_type": "execute_result"
    }
   ],
   "source": [
    "exe.output[0].energies[:10]"
   ]
  },
  {
   "cell_type": "code",
   "execution_count": 91,
   "id": "eb0a2daf-9dab-4174-bfee-0cd1ef8c474e",
   "metadata": {},
   "outputs": [
    {
     "data": {
      "image/png": "[encoded data removed]",
      "text/plain": [
       "<Figure size 640x480 with 1 Axes>"
      ]
     },
     "metadata": {},
     "output_type": "display_data"
    }
   ],
   "source": [
    "exe.output[0].plot()"
   ]
  }
 ],
 "metadata": {
  "kernelspec": {
   "display_name": "Python 3 (ipykernel)",
   "language": "python",
   "name": "python3"
  },
  "language_info": {
   "codemirror_mode": {
    "name": "ipython",
    "version": 3
   },
   "file_extension": ".py",
   "mimetype": "text/x-python",
   "name": "python",
   "nbconvert_exporter": "python",
   "pygments_lexer": "ipython3",
   "version": "3.11.0"
  },
  "widgets": {
   "application/vnd.jupyter.widget-state+json": {
    "state": {
     "012a52ac25554558bbcbb8b106b79bef": {
      "model_module": "@jupyter-widgets/base",
      "model_module_version": "1.2.0",
      "model_name": "LayoutModel",
      "state": {}
     },
     "084667f4bad34f3d897a790ea169d3d1": {
      "model_module": "@jupyter-widgets/controls",
      "model_module_version": "1.5.0",
      "model_name": "ButtonStyleModel",
      "state": {}
     },
     "0ae500050c904bdcad53b5d936c381f0": {
      "model_module": "@jupyter-widgets/controls",
      "model_module_version": "1.5.0",
      "model_name": "SliderStyleModel",
      "state": {
       "description_width": ""
      }
     },
     "0cc6cbf6ee384fd88783d0d2b3c7a740": {
      "model_module": "@jupyter-widgets/base",
      "model_module_version": "1.2.0",
      "model_name": "LayoutModel",
      "state": {}
     },
     "189a33f4d4984b8094066039bebff284": {
      "model_module": "@jupyter-widgets/base",
      "model_module_version": "1.2.0",
      "model_name": "LayoutModel",
      "state": {
       "width": "34px"
      }
     },
     "1b10815147524b69949cca8b3947a15f": {
      "model_module": "@jupyter-widgets/base",
      "model_module_version": "1.2.0",
      "model_name": "LayoutModel",
      "state": {}
     },
     "2261898b13bf45168106ac3c693491f4": {
      "model_module": "@jupyter-widgets/controls",
      "model_module_version": "1.5.0",
      "model_name": "LinkModel",
      "state": {
       "source": [
        "IPY_MODEL_f819f493d6424b3f988fffcd4a06461e",
        "max"
       ],
       "target": [
        "IPY_MODEL_9acd0738c709420293ca03c9d7cb65a8",
        "max_frame"
       ]
      }
     },
     "23bbcda59ee344d59c43eb48b5fab38a": {
      "model_module": "@jupyter-widgets/controls",
      "model_module_version": "1.5.0",
      "model_name": "ButtonModel",
      "state": {
       "icon": "compress",
       "layout": "IPY_MODEL_189a33f4d4984b8094066039bebff284",
       "style": "IPY_MODEL_9a484ae0199f40df9ea9dcb504a7519b"
      }
     },
     "28e019aae94f4db4beeeba0004eb69c6": {
      "model_module": "@jupyter-widgets/controls",
      "model_module_version": "1.5.0",
      "model_name": "IntSliderModel",
      "state": {
       "layout": "IPY_MODEL_1b10815147524b69949cca8b3947a15f",
       "max": 4,
       "style": "IPY_MODEL_0ae500050c904bdcad53b5d936c381f0"
      }
     },
     "29a4b696a29b4a339c0207927b43c38d": {
      "model_module": "@jupyter-widgets/controls",
      "model_module_version": "1.5.0",
      "model_name": "LinkModel",
      "state": {
       "source": [
        "IPY_MODEL_f318329ff0ab4284832df6987aa08caa",
        "value"
       ],
       "target": [
        "IPY_MODEL_3a33fd7cc94d455ab40b075b6011194b",
        "value"
       ]
      }
     },
     "2af614f0e8e6415a8f3d3387518d8d51": {
      "model_module": "@jupyter-widgets/base",
      "model_module_version": "1.2.0",
      "model_name": "LayoutModel",
      "state": {}
     },
     "38bc5381b0a34a2bb5c26de4e9ced220": {
      "model_module": "@jupyter-widgets/controls",
      "model_module_version": "1.5.0",
      "model_name": "ImageModel",
      "state": {
       "layout": "IPY_MODEL_eb67e23591be4890bc094d2dbfd48737",
       "width": "900.0"
      }
     },
     "3a33fd7cc94d455ab40b075b6011194b": {
      "model_module": "@jupyter-widgets/controls",
      "model_module_version": "1.5.0",
      "model_name": "IntSliderModel",
      "state": {
       "layout": "IPY_MODEL_5baf9865602342759674d426310ebe57",
       "max": 0,
       "style": "IPY_MODEL_f6e844f90dc344f99829326587cce4a8"
      }
     },
     "3f9330a5f2a140daa6098330fdfdfb44": {
      "model_module": "@jupyter-widgets/base",
      "model_module_version": "1.2.0",
      "model_name": "LayoutModel",
      "state": {
       "width": "34px"
      }
     },
     "412c481251fe49ef97872f1a95c86765": {
      "model_module": "@jupyter-widgets/base",
      "model_module_version": "1.2.0",
      "model_name": "LayoutModel",
      "state": {
       "width": "34px"
      }
     },
     "4315b7650344477ba62e3de9d829e8d0": {
      "model_module": "@jupyter-widgets/controls",
      "model_module_version": "1.5.0",
      "model_name": "PlayModel",
      "state": {
       "layout": "IPY_MODEL_0cc6cbf6ee384fd88783d0d2b3c7a740",
       "max": 21,
       "style": "IPY_MODEL_c486ea6139d24312a32942eeb4308084"
      }
     },
     "50ee641c092b4f62aae9eff65eef8291": {
      "model_module": "@jupyter-widgets/base",
      "model_module_version": "1.2.0",
      "model_name": "LayoutModel",
      "state": {}
     },
     "5359d4fda4d242998c39e2f4a8b65bca": {
      "model_module": "nglview-js-widgets",
      "model_module_version": "3.0.1",
      "model_name": "ColormakerRegistryModel",
      "state": {
       "_msg_ar": [],
       "_msg_q": [],
       "_ready": true,
       "layout": "IPY_MODEL_c08c0a5b38fb4c7eaa042e1cf2ae75a5"
      }
     },
     "55c919e973dd4285983c523c55229f5c": {
      "model_module": "@jupyter-widgets/controls",
      "model_module_version": "1.5.0",
      "model_name": "LinkModel",
      "state": {
       "source": [
        "IPY_MODEL_b579f6e205824ec698867f439d52b70c",
        "value"
       ],
       "target": [
        "IPY_MODEL_28e019aae94f4db4beeeba0004eb69c6",
        "value"
       ]
      }
     },
     "5baf9865602342759674d426310ebe57": {
      "model_module": "@jupyter-widgets/base",
      "model_module_version": "1.2.0",
      "model_name": "LayoutModel",
      "state": {}
     },
     "5cff2d0d15044fca9105fa3541411380": {
      "model_module": "nglview-js-widgets",
      "model_module_version": "3.0.1",
      "model_name": "NGLModel",
      "state": {
       "_camera_orientation": [
        14,
        0,
        0,
        0,
        0,
        14,
        0,
        0,
        0,
        0,
        14,
        0,
        0,
        0,
        0,
        1
       ],
       "_camera_str": "orthographic",
       "_gui_theme": null,
       "_ibtn_fullscreen": "IPY_MODEL_23bbcda59ee344d59c43eb48b5fab38a",
       "_igui": null,
       "_iplayer": "IPY_MODEL_a0a84a448aa749a2bc0c8bca3962bdcb",
       "_ngl_color_dict": {},
       "_ngl_coordinate_resource": {},
       "_ngl_full_stage_parameters": {
        "ambientColor": 14540253,
        "ambientIntensity": 0.2,
        "backgroundColor": "white",
        "cameraEyeSep": 0.3,
        "cameraFov": 40,
        "cameraType": "orthographic",
        "clipDist": 10,
        "clipFar": 100,
        "clipNear": 0,
        "fogFar": 100,
        "fogNear": 50,
        "hoverTimeout": 0,
        "impostor": true,
        "lightColor": 14540253,
        "lightIntensity": 1,
        "mousePreset": "default",
        "panSpeed": 1,
        "quality": "medium",
        "rotateSpeed": 2,
        "sampleLevel": 0,
        "tooltip": true,
        "workerDefault": true,
        "zoomSpeed": 1.2
       },
       "_ngl_msg_archive": [
        {
         "args": [
          {
           "binary": false,
           "data": "CRYST1   10.000   10.000   10.000  90.00  90.00  90.00 P 1\nMODEL     1\nATOM      0   Fe   Fe     0      0.000   0.000   0.000  1.00  0.00          Fe \nATOM      1   Fe   Fe     1      0.000   0.000   0.750  1.00  0.00          Fe \nENDMDL \n",
           "type": "blob"
          }
         ],
         "kwargs": {
          "defaultRepresentation": true,
          "ext": "pdb"
         },
         "methodName": "loadFile",
         "reconstruc_color_scheme": false,
         "target": "Stage",
         "type": "call_method"
        },
        {
         "args": [
          "spacefill"
         ],
         "component_index": 0,
         "kwargs": {
          "colorScheme": "element",
          "radius": 0.7099019513592786,
          "radiusType": "vdw",
          "sele": "#Fe"
         },
         "methodName": "addRepresentation",
         "reconstruc_color_scheme": false,
         "target": "compList",
         "type": "call_method"
        },
        {
         "args": [
          "ball+stick",
          0
         ],
         "kwargs": {},
         "methodName": "removeRepresentationsByName",
         "reconstruc_color_scheme": false,
         "target": "Widget",
         "type": "call_method"
        },
        {
         "args": [
          "unitcell"
         ],
         "component_index": 0,
         "kwargs": {
          "sele": "all"
         },
         "methodName": "addRepresentation",
         "reconstruc_color_scheme": false,
         "target": "compList",
         "type": "call_method"
        },
        {
         "args": [
          "shape",
          [
           [
            "arrow",
            [
             -1,
             -1,
             -1
            ],
            [
             0,
             -1,
             -1
            ],
            [
             1,
             0,
             0
            ],
            0.1
           ]
          ]
         ],
         "fire_embed": true,
         "kwargs": {},
         "methodName": "addShape",
         "reconstruc_color_scheme": false,
         "target": "Widget",
         "type": "call_method"
        },
        {
         "args": [
          "shape",
          [
           [
            "text",
            [
             0,
             -1,
             -1
            ],
            [
             0,
             0,
             0
            ],
            1,
            "x"
           ]
          ]
         ],
         "fire_embed": true,
         "kwargs": {},
         "methodName": "addShape",
         "reconstruc_color_scheme": false,
         "target": "Widget",
         "type": "call_method"
        },
        {
         "args": [
          "shape",
          [
           [
            "arrow",
            [
             -1,
             -1,
             -1
            ],
            [
             -1,
             0,
             -1
            ],
            [
             0,
             1,
             0
            ],
            0.1
           ]
          ]
         ],
         "fire_embed": true,
         "kwargs": {},
         "methodName": "addShape",
         "reconstruc_color_scheme": false,
         "target": "Widget",
         "type": "call_method"
        },
        {
         "args": [
          "shape",
          [
           [
            "text",
            [
             -1,
             0,
             -1
            ],
            [
             0,
             0,
             0
            ],
            1,
            "y"
           ]
          ]
         ],
         "fire_embed": true,
         "kwargs": {},
         "methodName": "addShape",
         "reconstruc_color_scheme": false,
         "target": "Widget",
         "type": "call_method"
        },
        {
         "args": [
          "shape",
          [
           [
            "arrow",
            [
             -1,
             -1,
             -1
            ],
            [
             -1,
             -1,
             0
            ],
            [
             0,
             0,
             1
            ],
            0.1
           ]
          ]
         ],
         "fire_embed": true,
         "kwargs": {},
         "methodName": "addShape",
         "reconstruc_color_scheme": false,
         "target": "Widget",
         "type": "call_method"
        },
        {
         "args": [
          "shape",
          [
           [
            "text",
            [
             -1,
             -1,
             0
            ],
            [
             0,
             0,
             0
            ],
            1,
            "z"
           ]
          ]
         ],
         "fire_embed": true,
         "kwargs": {},
         "methodName": "addShape",
         "reconstruc_color_scheme": false,
         "target": "Widget",
         "type": "call_method"
        },
        {
         "args": [],
         "kwargs": {
          "cameraType": "orthographic"
         },
         "methodName": "setParameters",
         "reconstruc_color_scheme": false,
         "target": "Stage",
         "type": "call_method"
        },
        {
         "args": [
          [
           14,
           0,
           0,
           0,
           0,
           14,
           0,
           0,
           0,
           0,
           14,
           0,
           0,
           0,
           0,
           14
          ]
         ],
         "kwargs": {},
         "methodName": "orient",
         "reconstruc_color_scheme": false,
         "target": "viewerControls",
         "type": "call_method"
        }
       ],
       "_ngl_original_stage_parameters": {
        "ambientColor": 14540253,
        "ambientIntensity": 0.2,
        "backgroundColor": "white",
        "cameraEyeSep": 0.3,
        "cameraFov": 40,
        "cameraType": "perspective",
        "clipDist": 10,
        "clipFar": 100,
        "clipNear": 0,
        "fogFar": 100,
        "fogNear": 50,
        "hoverTimeout": 0,
        "impostor": true,
        "lightColor": 14540253,
        "lightIntensity": 1,
        "mousePreset": "default",
        "panSpeed": 1,
        "quality": "medium",
        "rotateSpeed": 2,
        "sampleLevel": 0,
        "tooltip": true,
        "workerDefault": true,
        "zoomSpeed": 1.2
       },
       "_ngl_repr_dict": {
        "0": {
         "0": {
          "params": {
           "assembly": "default",
           "clipCenter": {
            "x": 0,
            "y": 0,
            "z": 0
           },
           "clipNear": 0,
           "clipRadius": 0,
           "colorMode": "hcl",
           "colorReverse": false,
           "colorScale": "",
           "colorScheme": "element",
           "colorValue": 9474192,
           "defaultAssembly": "",
           "depthWrite": true,
           "diffuse": 16777215,
           "diffuseInterior": false,
           "disableImpostor": false,
           "disablePicking": false,
           "flatShaded": false,
           "interiorColor": 2236962,
           "interiorDarkening": 0,
           "lazy": false,
           "matrix": {
            "elements": [
             1,
             0,
             0,
             0,
             0,
             1,
             0,
             0,
             0,
             0,
             1,
             0,
             0,
             0,
             0,
             1
            ]
           },
           "metalness": 0,
           "opacity": 1,
           "quality": "medium",
           "radiusData": {},
           "radiusScale": 1,
           "radiusSize": 0.7099019513592786,
           "radiusType": "size",
           "roughness": 0.4,
           "sele": "#Fe",
           "side": "double",
           "sphereDetail": 1,
           "useInteriorColor": true,
           "visible": true,
           "wireframe": false
          },
          "type": "spacefill"
         },
         "1": {
          "params": {
           "clipCenter": {
            "x": 0,
            "y": 0,
            "z": 0
           },
           "clipNear": 0,
           "clipRadius": 0,
           "colorMode": "hcl",
           "colorReverse": false,
           "colorScale": "",
           "colorScheme": "element",
           "colorValue": "orange",
           "defaultAssembly": "",
           "depthWrite": true,
           "diffuse": 16777215,
           "diffuseInterior": false,
           "disableImpostor": false,
           "disablePicking": false,
           "flatShaded": false,
           "interiorColor": 2236962,
           "interiorDarkening": 0,
           "lazy": false,
           "matrix": {
            "elements": [
             1,
             0,
             0,
             0,
             0,
             1,
             0,
             0,
             0,
             0,
             1,
             0,
             0,
             0,
             0,
             1
            ]
           },
           "metalness": 0,
           "opacity": 1,
           "quality": "medium",
           "radialSegments": 10,
           "radiusData": {},
           "radiusScale": 1,
           "radiusSize": 0.049999997805194256,
           "radiusType": "vdw",
           "roughness": 0.4,
           "sele": "all",
           "side": "double",
           "sphereDetail": 1,
           "useInteriorColor": true,
           "visible": true,
           "wireframe": false
          },
          "type": "unitcell"
         }
        },
        "1": {
         "0": {
          "params": {
           "clipCenter": {
            "x": 0,
            "y": 0,
            "z": 0
           },
           "clipNear": 0,
           "clipRadius": 0,
           "colorReverse": false,
           "depthWrite": true,
           "diffuse": 16777215,
           "diffuseInterior": false,
           "disablePicking": false,
           "flatShaded": false,
           "interiorColor": 2236962,
           "interiorDarkening": 0,
           "lazy": false,
           "matrix": {
            "elements": [
             1,
             0,
             0,
             0,
             0,
             1,
             0,
             0,
             0,
             0,
             1,
             0,
             0,
             0,
             0,
             1
            ]
           },
           "metalness": 0,
           "opacity": 1,
           "quality": "medium",
           "roughness": 0.4,
           "side": "double",
           "useInteriorColor": false,
           "visible": true,
           "wireframe": false
          },
          "type": "buffer"
         }
        },
        "2": {
         "0": {
          "params": {
           "clipCenter": {
            "x": 0,
            "y": 0,
            "z": 0
           },
           "clipNear": 0,
           "clipRadius": 0,
           "colorReverse": false,
           "depthWrite": true,
           "diffuse": 16777215,
           "diffuseInterior": false,
           "disablePicking": false,
           "flatShaded": false,
           "interiorColor": 2236962,
           "interiorDarkening": 0,
           "lazy": false,
           "matrix": {
            "elements": [
             1,
             0,
             0,
             0,
             0,
             1,
             0,
             0,
             0,
             0,
             1,
             0,
             0,
             0,
             0,
             1
            ]
           },
           "metalness": 0,
           "opacity": 1,
           "quality": "medium",
           "roughness": 0.4,
           "side": "double",
           "useInteriorColor": false,
           "visible": true,
           "wireframe": false
          },
          "type": "buffer"
         }
        },
        "3": {
         "0": {
          "params": {
           "clipCenter": {
            "x": 0,
            "y": 0,
            "z": 0
           },
           "clipNear": 0,
           "clipRadius": 0,
           "colorReverse": false,
           "depthWrite": true,
           "diffuse": 16777215,
           "diffuseInterior": false,
           "disablePicking": false,
           "flatShaded": false,
           "interiorColor": 2236962,
           "interiorDarkening": 0,
           "lazy": false,
           "matrix": {
            "elements": [
             1,
             0,
             0,
             0,
             0,
             1,
             0,
             0,
             0,
             0,
             1,
             0,
             0,
             0,
             0,
             1
            ]
           },
           "metalness": 0,
           "opacity": 1,
           "quality": "medium",
           "roughness": 0.4,
           "side": "double",
           "useInteriorColor": false,
           "visible": true,
           "wireframe": false
          },
          "type": "buffer"
         }
        },
        "4": {
         "0": {
          "params": {
           "clipCenter": {
            "x": 0,
            "y": 0,
            "z": 0
           },
           "clipNear": 0,
           "clipRadius": 0,
           "colorReverse": false,
           "depthWrite": true,
           "diffuse": 16777215,
           "diffuseInterior": false,
           "disablePicking": false,
           "flatShaded": false,
           "interiorColor": 2236962,
           "interiorDarkening": 0,
           "lazy": false,
           "matrix": {
            "elements": [
             1,
             0,
             0,
             0,
             0,
             1,
             0,
             0,
             0,
             0,
             1,
             0,
             0,
             0,
             0,
             1
            ]
           },
           "metalness": 0,
           "opacity": 1,
           "quality": "medium",
           "roughness": 0.4,
           "side": "double",
           "useInteriorColor": false,
           "visible": true,
           "wireframe": false
          },
          "type": "buffer"
         }
        },
        "5": {
         "0": {
          "params": {
           "clipCenter": {
            "x": 0,
            "y": 0,
            "z": 0
           },
           "clipNear": 0,
           "clipRadius": 0,
           "colorReverse": false,
           "depthWrite": true,
           "diffuse": 16777215,
           "diffuseInterior": false,
           "disablePicking": false,
           "flatShaded": false,
           "interiorColor": 2236962,
           "interiorDarkening": 0,
           "lazy": false,
           "matrix": {
            "elements": [
             1,
             0,
             0,
             0,
             0,
             1,
             0,
             0,
             0,
             0,
             1,
             0,
             0,
             0,
             0,
             1
            ]
           },
           "metalness": 0,
           "opacity": 1,
           "quality": "medium",
           "roughness": 0.4,
           "side": "double",
           "useInteriorColor": false,
           "visible": true,
           "wireframe": false
          },
          "type": "buffer"
         }
        },
        "6": {
         "0": {
          "params": {
           "clipCenter": {
            "x": 0,
            "y": 0,
            "z": 0
           },
           "clipNear": 0,
           "clipRadius": 0,
           "colorReverse": false,
           "depthWrite": true,
           "diffuse": 16777215,
           "diffuseInterior": false,
           "disablePicking": false,
           "flatShaded": false,
           "interiorColor": 2236962,
           "interiorDarkening": 0,
           "lazy": false,
           "matrix": {
            "elements": [
             1,
             0,
             0,
             0,
             0,
             1,
             0,
             0,
             0,
             0,
             1,
             0,
             0,
             0,
             0,
             1
            ]
           },
           "metalness": 0,
           "opacity": 1,
           "quality": "medium",
           "roughness": 0.4,
           "side": "double",
           "useInteriorColor": false,
           "visible": true,
           "wireframe": false
          },
          "type": "buffer"
         }
        }
       },
       "_ngl_serialize": false,
       "_ngl_version": "2.0.0-dev.36",
       "_ngl_view_id": [
        "4452CC60-66A4-4075-8A04-F4EA21BE6B54"
       ],
       "_player_dict": {},
       "_scene_position": {},
       "_scene_rotation": {},
       "_synced_model_ids": [],
       "_synced_repr_model_ids": [],
       "_view_height": "",
       "_view_width": "",
       "background": "white",
       "frame": 0,
       "gui_style": null,
       "layout": "IPY_MODEL_dfd94ac53b394ccfa01a42103029dbc1",
       "max_frame": 0,
       "n_components": 7,
       "picked": {}
      }
     },
     "616b7105d7a14e799fd71f9c7e2ddbc1": {
      "model_module": "@jupyter-widgets/base",
      "model_module_version": "1.2.0",
      "model_name": "LayoutModel",
      "state": {}
     },
     "68113cbdde8a441ab41682def194c341": {
      "model_module": "@jupyter-widgets/base",
      "model_module_version": "1.2.0",
      "model_name": "LayoutModel",
      "state": {}
     },
     "691a27593c0c43d1bad168acc42a0d00": {
      "model_module": "@jupyter-widgets/controls",
      "model_module_version": "1.5.0",
      "model_name": "LinkModel",
      "state": {
       "source": [
        "IPY_MODEL_4315b7650344477ba62e3de9d829e8d0",
        "value"
       ],
       "target": [
        "IPY_MODEL_9acd0738c709420293ca03c9d7cb65a8",
        "frame"
       ]
      }
     },
     "6b34af6fbd8d42879280927d8a9f0815": {
      "model_module": "@jupyter-widgets/controls",
      "model_module_version": "1.5.0",
      "model_name": "ImageModel",
      "state": {
       "layout": "IPY_MODEL_c5afa7b7bf62440caa2e336d30e3f87a",
       "width": "900.0"
      }
     },
     "6c738e0cd99447eea546fb257581d104": {
      "model_module": "@jupyter-widgets/controls",
      "model_module_version": "1.5.0",
      "model_name": "ButtonStyleModel",
      "state": {}
     },
     "6e92491cab9d4064961c20be5d0352dc": {
      "model_module": "@jupyter-widgets/controls",
      "model_module_version": "1.5.0",
      "model_name": "LinkModel",
      "state": {
       "source": [
        "IPY_MODEL_f318329ff0ab4284832df6987aa08caa",
        "value"
       ],
       "target": [
        "IPY_MODEL_5cff2d0d15044fca9105fa3541411380",
        "frame"
       ]
      }
     },
     "6fe0ae77b7c843519d9a5307d2b83ec5": {
      "model_module": "@jupyter-widgets/controls",
      "model_module_version": "1.5.0",
      "model_name": "HBoxModel",
      "state": {
       "children": [
        "IPY_MODEL_4315b7650344477ba62e3de9d829e8d0",
        "IPY_MODEL_f819f493d6424b3f988fffcd4a06461e"
       ],
       "layout": "IPY_MODEL_7052c34813d545eb84c5c674eb82cd91"
      }
     },
     "7052c34813d545eb84c5c674eb82cd91": {
      "model_module": "@jupyter-widgets/base",
      "model_module_version": "1.2.0",
      "model_name": "LayoutModel",
      "state": {}
     },
     "77ca3b8d35044a5982b88d68e38e3289": {
      "model_module": "@jupyter-widgets/controls",
      "model_module_version": "1.5.0",
      "model_name": "ButtonModel",
      "state": {
       "icon": "compress",
       "layout": "IPY_MODEL_3f9330a5f2a140daa6098330fdfdfb44",
       "style": "IPY_MODEL_084667f4bad34f3d897a790ea169d3d1"
      }
     },
     "7c40f68c2f2b43aea1a8e6ae3e344c20": {
      "model_module": "@jupyter-widgets/controls",
      "model_module_version": "1.5.0",
      "model_name": "ImageModel",
      "state": {
       "layout": "IPY_MODEL_bd58d6b40ef94f9abc1d621b42bd030f",
       "width": "900.0"
      }
     },
     "863d1ff1c0f94c7cbfb9dc175d1078a0": {
      "model_module": "@jupyter-widgets/controls",
      "model_module_version": "1.5.0",
      "model_name": "DescriptionStyleModel",
      "state": {
       "description_width": ""
      }
     },
     "903d8dc3dee8402b9a481fa1516cc478": {
      "model_module": "nglview-js-widgets",
      "model_module_version": "3.0.1",
      "model_name": "NGLModel",
      "state": {
       "_camera_orientation": [
        11.096625056567845,
        0,
        0,
        0,
        0,
        11.096625056567845,
        0,
        0,
        0,
        0,
        11.096625056567845,
        0,
        0,
        0,
        -0.375,
        1
       ],
       "_camera_str": "orthographic",
       "_gui_theme": null,
       "_ibtn_fullscreen": "IPY_MODEL_77ca3b8d35044a5982b88d68e38e3289",
       "_igui": null,
       "_iplayer": "IPY_MODEL_abb060530b644eb7ac83734007e72760",
       "_ngl_color_dict": {},
       "_ngl_coordinate_resource": {},
       "_ngl_full_stage_parameters": {
        "ambientColor": 14540253,
        "ambientIntensity": 0.2,
        "backgroundColor": "white",
        "cameraEyeSep": 0.3,
        "cameraFov": 40,
        "cameraType": "orthographic",
        "clipDist": 10,
        "clipFar": 100,
        "clipNear": 0,
        "fogFar": 100,
        "fogNear": 50,
        "hoverTimeout": 0,
        "impostor": true,
        "lightColor": 14540253,
        "lightIntensity": 1,
        "mousePreset": "default",
        "panSpeed": 1,
        "quality": "medium",
        "rotateSpeed": 2,
        "sampleLevel": 0,
        "tooltip": true,
        "workerDefault": true,
        "zoomSpeed": 1.2
       },
       "_ngl_msg_archive": [
        {
         "args": [
          {
           "binary": false,
           "data": "MODEL     1\nATOM      1   Fe MOL     1       0.000   0.000   0.000  1.00  0.00          FE  \nATOM      2   Fe MOL     1       0.000   0.000   0.750  1.00  0.00          FE  \nENDMDL\n",
           "type": "blob"
          }
         ],
         "kwargs": {
          "defaultRepresentation": true,
          "ext": "pdb",
          "name": "nglview.adaptor.ASETrajectory"
         },
         "methodName": "loadFile",
         "reconstruc_color_scheme": false,
         "target": "Stage",
         "type": "call_method"
        },
        {
         "args": [
          "spacefill"
         ],
         "component_index": 0,
         "kwargs": {
          "radius": 0.5,
          "radiusType": "vdw",
          "scale": 0.5,
          "sele": "all"
         },
         "methodName": "addRepresentation",
         "reconstruc_color_scheme": false,
         "target": "compList",
         "type": "call_method"
        },
        {
         "args": [
          "ball+stick",
          0
         ],
         "kwargs": {},
         "methodName": "removeRepresentationsByName",
         "reconstruc_color_scheme": false,
         "target": "Widget",
         "type": "call_method"
        },
        {
         "args": [
          "unitcell"
         ],
         "component_index": 0,
         "kwargs": {
          "sele": "all"
         },
         "methodName": "addRepresentation",
         "reconstruc_color_scheme": false,
         "target": "compList",
         "type": "call_method"
        },
        {
         "args": [],
         "kwargs": {
          "cameraType": "orthographic"
         },
         "methodName": "setParameters",
         "reconstruc_color_scheme": false,
         "target": "Stage",
         "type": "call_method"
        }
       ],
       "_ngl_original_stage_parameters": {
        "ambientColor": 14540253,
        "ambientIntensity": 0.2,
        "backgroundColor": "white",
        "cameraEyeSep": 0.3,
        "cameraFov": 40,
        "cameraType": "perspective",
        "clipDist": 10,
        "clipFar": 100,
        "clipNear": 0,
        "fogFar": 100,
        "fogNear": 50,
        "hoverTimeout": 0,
        "impostor": true,
        "lightColor": 14540253,
        "lightIntensity": 1,
        "mousePreset": "default",
        "panSpeed": 1,
        "quality": "medium",
        "rotateSpeed": 2,
        "sampleLevel": 0,
        "tooltip": true,
        "workerDefault": true,
        "zoomSpeed": 1.2
       },
       "_ngl_repr_dict": {
        "0": {
         "0": {
          "params": {
           "assembly": "default",
           "clipCenter": {
            "x": 0,
            "y": 0,
            "z": 0
           },
           "clipNear": 0,
           "clipRadius": 0,
           "colorMode": "hcl",
           "colorReverse": false,
           "colorScale": "",
           "colorScheme": "element",
           "colorValue": 9474192,
           "defaultAssembly": "",
           "depthWrite": true,
           "diffuse": 16777215,
           "diffuseInterior": false,
           "disableImpostor": false,
           "disablePicking": false,
           "flatShaded": false,
           "interiorColor": 2236962,
           "interiorDarkening": 0,
           "lazy": false,
           "matrix": {
            "elements": [
             1,
             0,
             0,
             0,
             0,
             1,
             0,
             0,
             0,
             0,
             1,
             0,
             0,
             0,
             0,
             1
            ]
           },
           "metalness": 0,
           "opacity": 1,
           "quality": "medium",
           "radiusData": {},
           "radiusScale": 1,
           "radiusSize": 0.5,
           "radiusType": "size",
           "roughness": 0.4,
           "sele": "all",
           "side": "double",
           "sphereDetail": 1,
           "useInteriorColor": true,
           "visible": true,
           "wireframe": false
          },
          "type": "spacefill"
         },
         "1": {
          "params": {
           "clipCenter": {
            "x": 0,
            "y": 0,
            "z": 0
           },
           "clipNear": 0,
           "clipRadius": 0,
           "colorMode": "hcl",
           "colorReverse": false,
           "colorScale": "",
           "colorScheme": "element",
           "colorValue": "orange",
           "defaultAssembly": "",
           "depthWrite": true,
           "diffuse": 16777215,
           "diffuseInterior": false,
           "disableImpostor": false,
           "disablePicking": false,
           "flatShaded": false,
           "interiorColor": 2236962,
           "interiorDarkening": 0,
           "lazy": false,
           "matrix": {
            "elements": [
             1,
             0,
             0,
             0,
             0,
             1,
             0,
             0,
             0,
             0,
             1,
             0,
             0,
             0,
             0,
             1
            ]
           },
           "metalness": 0,
           "opacity": 1,
           "quality": "medium",
           "radialSegments": 10,
           "radiusData": {},
           "radiusScale": 1,
           "radiusSize": 0.5,
           "radiusType": "vdw",
           "roughness": 0.4,
           "sele": "all",
           "side": "double",
           "sphereDetail": 1,
           "useInteriorColor": true,
           "visible": true,
           "wireframe": false
          },
          "type": "unitcell"
         }
        }
       },
       "_ngl_serialize": false,
       "_ngl_version": "2.0.0-dev.36",
       "_ngl_view_id": [
        "242406BE-824C-47E3-BAAF-8680FC355719"
       ],
       "_player_dict": {},
       "_scene_position": {},
       "_scene_rotation": {},
       "_synced_model_ids": [],
       "_synced_repr_model_ids": [],
       "_view_height": "",
       "_view_width": "",
       "background": "white",
       "frame": 0,
       "gui_style": null,
       "layout": "IPY_MODEL_af292d89fcf44b87900031c9b27c2533",
       "max_frame": 4,
       "n_components": 1,
       "picked": {}
      }
     },
     "941d6b9e9e004db982b9b599e4735ef8": {
      "model_module": "@jupyter-widgets/controls",
      "model_module_version": "1.5.0",
      "model_name": "LinkModel",
      "state": {
       "source": [
        "IPY_MODEL_3a33fd7cc94d455ab40b075b6011194b",
        "max"
       ],
       "target": [
        "IPY_MODEL_5cff2d0d15044fca9105fa3541411380",
        "max_frame"
       ]
      }
     },
     "97714c28adb94f97ac44e3819311d316": {
      "model_module": "@jupyter-widgets/controls",
      "model_module_version": "1.5.0",
      "model_name": "SliderStyleModel",
      "state": {
       "description_width": ""
      }
     },
     "982d09abf73240c898d5c545d08ed9b6": {
      "model_module": "@jupyter-widgets/base",
      "model_module_version": "1.2.0",
      "model_name": "LayoutModel",
      "state": {}
     },
     "9a484ae0199f40df9ea9dcb504a7519b": {
      "model_module": "@jupyter-widgets/controls",
      "model_module_version": "1.5.0",
      "model_name": "ButtonStyleModel",
      "state": {}
     },
     "9acd0738c709420293ca03c9d7cb65a8": {
      "model_module": "nglview-js-widgets",
      "model_module_version": "3.0.1",
      "model_name": "NGLModel",
      "state": {
       "_camera_orientation": [
        16.91904731270948,
        0,
        0,
        0,
        0,
        16.91904731270948,
        0,
        0,
        0,
        0,
        16.91904731270948,
        0,
        -1.5,
        -1.5,
        -1.5,
        1
       ],
       "_camera_str": "orthographic",
       "_gui_theme": null,
       "_ibtn_fullscreen": "IPY_MODEL_db8318e27dd048d3b57c56c61fe0125c",
       "_igui": null,
       "_iplayer": "IPY_MODEL_6fe0ae77b7c843519d9a5307d2b83ec5",
       "_ngl_color_dict": {},
       "_ngl_coordinate_resource": {},
       "_ngl_full_stage_parameters": {
        "ambientColor": 14540253,
        "ambientIntensity": 0.2,
        "backgroundColor": "white",
        "cameraEyeSep": 0.3,
        "cameraFov": 40,
        "cameraType": "orthographic",
        "clipDist": 10,
        "clipFar": 100,
        "clipNear": 0,
        "fogFar": 100,
        "fogNear": 50,
        "hoverTimeout": 0,
        "impostor": true,
        "lightColor": 14540253,
        "lightIntensity": 1,
        "mousePreset": "default",
        "panSpeed": 1,
        "quality": "medium",
        "rotateSpeed": 2,
        "sampleLevel": 0,
        "tooltip": true,
        "workerDefault": true,
        "zoomSpeed": 1.2
       },
       "_ngl_msg_archive": [
        {
         "args": [
          {
           "binary": false,
           "data": "CRYST1    3.600    3.600    3.600  90.00  90.00  90.00 P 1\nMODEL     1\nATOM      1   Fe MOL     1       0.000   0.000   0.000  1.00  0.00          FE  \nATOM      2   Fe MOL     1       0.600   0.600   0.600  1.00  0.00          FE  \nATOM      3   Fe MOL     1       0.000   0.000   1.200  1.00  0.00          FE  \nATOM      4   Fe MOL     1       0.600   0.600   1.800  1.00  0.00          FE  \nATOM      5   Fe MOL     1       0.000   0.000   2.400  1.00  0.00          FE  \nATOM      6   Fe MOL     1       0.600   0.600   3.000  1.00  0.00          FE  \nATOM      7   Fe MOL     1       0.000   1.200   0.000  1.00  0.00          FE  \nATOM      8   Fe MOL     1       0.600   1.800   0.600  1.00  0.00          FE  \nATOM      9   Fe MOL     1       0.000   1.200   1.200  1.00  0.00          FE  \nATOM     10   Fe MOL     1       0.600   1.800   1.800  1.00  0.00          FE  \nATOM     11   Fe MOL     1       0.000   1.200   2.400  1.00  0.00          FE  \nATOM     12   Fe MOL     1       0.600   1.800   3.000  1.00  0.00          FE  \nATOM     13   Fe MOL     1       0.000   2.400   0.000  1.00  0.00          FE  \nATOM     14   Fe MOL     1       0.600   3.000   0.600  1.00  0.00          FE  \nATOM     15   Fe MOL     1       0.000   2.400   1.200  1.00  0.00          FE  \nATOM     16   Fe MOL     1       0.600   3.000   1.800  1.00  0.00          FE  \nATOM     17   Fe MOL     1       0.000   2.400   2.400  1.00  0.00          FE  \nATOM     18   Fe MOL     1       0.600   3.000   3.000  1.00  0.00          FE  \nATOM     19   Fe MOL     1       1.200   0.000   0.000  1.00  0.00          FE  \nATOM     20   Fe MOL     1       1.800   0.600   0.600  1.00  0.00          FE  \nATOM     21   Fe MOL     1       1.200   0.000   1.200  1.00  0.00          FE  \nATOM     22   Fe MOL     1       1.800   0.600   1.800  1.00  0.00          FE  \nATOM     23   Fe MOL     1       1.200   0.000   2.400  1.00  0.00          FE  \nATOM     24   Fe MOL     1       1.800   0.600   3.000  1.00  0.00          FE  \nATOM     25   Fe MOL     1       1.200   1.200   0.000  1.00  0.00          FE  \nATOM     26   Fe MOL     1       1.800   1.800   0.600  1.00  0.00          FE  \nATOM     27   Fe MOL     1       1.200   1.200   1.200  1.00  0.00          FE  \nATOM     28   Fe MOL     1       1.800   1.800   1.800  1.00  0.00          FE  \nATOM     29   Fe MOL     1       1.200   1.200   2.400  1.00  0.00          FE  \nATOM     30   Fe MOL     1       1.800   1.800   3.000  1.00  0.00          FE  \nATOM     31   Fe MOL     1       1.200   2.400   0.000  1.00  0.00          FE  \nATOM     32   Fe MOL     1       1.800   3.000   0.600  1.00  0.00          FE  \nATOM     33   Fe MOL     1       1.200   2.400   1.200  1.00  0.00          FE  \nATOM     34   Fe MOL     1       1.800   3.000   1.800  1.00  0.00          FE  \nATOM     35   Fe MOL     1       1.200   2.400   2.400  1.00  0.00          FE  \nATOM     36   Fe MOL     1       1.800   3.000   3.000  1.00  0.00          FE  \nATOM     37   Fe MOL     1       2.400   0.000   0.000  1.00  0.00          FE  \nATOM     38   Fe MOL     1       3.000   0.600   0.600  1.00  0.00          FE  \nATOM     39   Fe MOL     1       2.400   0.000   1.200  1.00  0.00          FE  \nATOM     40   Fe MOL     1       3.000   0.600   1.800  1.00  0.00          FE  \nATOM     41   Fe MOL     1       2.400   0.000   2.400  1.00  0.00          FE  \nATOM     42   Fe MOL     1       3.000   0.600   3.000  1.00  0.00          FE  \nATOM     43   Fe MOL     1       2.400   1.200   0.000  1.00  0.00          FE  \nATOM     44   Fe MOL     1       3.000   1.800   0.600  1.00  0.00          FE  \nATOM     45   Fe MOL     1       2.400   1.200   1.200  1.00  0.00          FE  \nATOM     46   Fe MOL     1       3.000   1.800   1.800  1.00  0.00          FE  \nATOM     47   Fe MOL     1       2.400   1.200   2.400  1.00  0.00          FE  \nATOM     48   Fe MOL     1       3.000   1.800   3.000  1.00  0.00          FE  \nATOM     49   Fe MOL     1       2.400   2.400   0.000  1.00  0.00          FE  \nATOM     50   Fe MOL     1       3.000   3.000   0.600  1.00  0.00          FE  \nATOM     51   Fe MOL     1       2.400   2.400   1.200  1.00  0.00          FE  \nATOM     52   Fe MOL     1       3.000   3.000   1.800  1.00  0.00          FE  \nATOM     53   Fe MOL     1       2.400   2.400   2.400  1.00  0.00          FE  \nATOM     54   Fe MOL     1       3.000   3.000   3.000  1.00  0.00          FE  \nENDMDL\n",
           "type": "blob"
          }
         ],
         "kwargs": {
          "defaultRepresentation": true,
          "ext": "pdb",
          "name": "nglview.adaptor.ASETrajectory"
         },
         "methodName": "loadFile",
         "reconstruc_color_scheme": false,
         "target": "Stage",
         "type": "call_method"
        },
        {
         "args": [
          "spacefill"
         ],
         "component_index": 0,
         "kwargs": {
          "radius": 0.5,
          "radiusType": "vdw",
          "scale": 0.5,
          "sele": "all"
         },
         "methodName": "addRepresentation",
         "reconstruc_color_scheme": false,
         "target": "compList",
         "type": "call_method"
        },
        {
         "args": [
          "ball+stick",
          0
         ],
         "kwargs": {},
         "methodName": "removeRepresentationsByName",
         "reconstruc_color_scheme": false,
         "target": "Widget",
         "type": "call_method"
        },
        {
         "args": [
          "unitcell"
         ],
         "component_index": 0,
         "kwargs": {
          "sele": "all"
         },
         "methodName": "addRepresentation",
         "reconstruc_color_scheme": false,
         "target": "compList",
         "type": "call_method"
        },
        {
         "args": [],
         "kwargs": {
          "cameraType": "orthographic"
         },
         "methodName": "setParameters",
         "reconstruc_color_scheme": false,
         "target": "Stage",
         "type": "call_method"
        }
       ],
       "_ngl_original_stage_parameters": {
        "ambientColor": 14540253,
        "ambientIntensity": 0.2,
        "backgroundColor": "white",
        "cameraEyeSep": 0.3,
        "cameraFov": 40,
        "cameraType": "perspective",
        "clipDist": 10,
        "clipFar": 100,
        "clipNear": 0,
        "fogFar": 100,
        "fogNear": 50,
        "hoverTimeout": 0,
        "impostor": true,
        "lightColor": 14540253,
        "lightIntensity": 1,
        "mousePreset": "default",
        "panSpeed": 1,
        "quality": "medium",
        "rotateSpeed": 2,
        "sampleLevel": 0,
        "tooltip": true,
        "workerDefault": true,
        "zoomSpeed": 1.2
       },
       "_ngl_repr_dict": {
        "0": {
         "0": {
          "params": {
           "assembly": "default",
           "clipCenter": {
            "x": 0,
            "y": 0,
            "z": 0
           },
           "clipNear": 0,
           "clipRadius": 0,
           "colorMode": "hcl",
           "colorReverse": false,
           "colorScale": "",
           "colorScheme": "element",
           "colorValue": 9474192,
           "defaultAssembly": "",
           "depthWrite": true,
           "diffuse": 16777215,
           "diffuseInterior": false,
           "disableImpostor": false,
           "disablePicking": false,
           "flatShaded": false,
           "interiorColor": 2236962,
           "interiorDarkening": 0,
           "lazy": false,
           "matrix": {
            "elements": [
             1,
             0,
             0,
             0,
             0,
             1,
             0,
             0,
             0,
             0,
             1,
             0,
             0,
             0,
             0,
             1
            ]
           },
           "metalness": 0,
           "opacity": 1,
           "quality": "medium",
           "radiusData": {},
           "radiusScale": 1,
           "radiusSize": 0.5,
           "radiusType": "size",
           "roughness": 0.4,
           "sele": "all",
           "side": "double",
           "sphereDetail": 1,
           "useInteriorColor": true,
           "visible": true,
           "wireframe": false
          },
          "type": "spacefill"
         },
         "1": {
          "params": {
           "clipCenter": {
            "x": 0,
            "y": 0,
            "z": 0
           },
           "clipNear": 0,
           "clipRadius": 0,
           "colorMode": "hcl",
           "colorReverse": false,
           "colorScale": "",
           "colorScheme": "element",
           "colorValue": "orange",
           "defaultAssembly": "",
           "depthWrite": true,
           "diffuse": 16777215,
           "diffuseInterior": false,
           "disableImpostor": false,
           "disablePicking": false,
           "flatShaded": false,
           "interiorColor": 2236962,
           "interiorDarkening": 0,
           "lazy": false,
           "matrix": {
            "elements": [
             1,
             0,
             0,
             0,
             0,
             1,
             0,
             0,
             0,
             0,
             1,
             0,
             0,
             0,
             0,
             1
            ]
           },
           "metalness": 0,
           "opacity": 1,
           "quality": "medium",
           "radialSegments": 10,
           "radiusData": {},
           "radiusScale": 1,
           "radiusSize": 0.017999999209869933,
           "radiusType": "vdw",
           "roughness": 0.4,
           "sele": "all",
           "side": "double",
           "sphereDetail": 1,
           "useInteriorColor": true,
           "visible": true,
           "wireframe": false
          },
          "type": "unitcell"
         }
        }
       },
       "_ngl_serialize": false,
       "_ngl_version": "2.0.0-dev.36",
       "_ngl_view_id": [
        "8ED2CDFF-EA6D-4A63-BAAE-A8BF61BE463D"
       ],
       "_player_dict": {},
       "_scene_position": {},
       "_scene_rotation": {},
       "_synced_model_ids": [],
       "_synced_repr_model_ids": [],
       "_view_height": "",
       "_view_width": "",
       "background": "white",
       "frame": 0,
       "gui_style": null,
       "layout": "IPY_MODEL_2af614f0e8e6415a8f3d3387518d8d51",
       "max_frame": 21,
       "n_components": 1,
       "picked": {}
      }
     },
     "9b9319a09d05487ca4f28005cf495d44": {
      "model_module": "@jupyter-widgets/controls",
      "model_module_version": "1.5.0",
      "model_name": "LinkModel",
      "state": {
       "source": [
        "IPY_MODEL_4315b7650344477ba62e3de9d829e8d0",
        "value"
       ],
       "target": [
        "IPY_MODEL_f819f493d6424b3f988fffcd4a06461e",
        "value"
       ]
      }
     },
     "9c91b7a14718493eb53e9a47ef565c04": {
      "model_module": "@jupyter-widgets/controls",
      "model_module_version": "1.5.0",
      "model_name": "LinkModel",
      "state": {
       "source": [
        "IPY_MODEL_28e019aae94f4db4beeeba0004eb69c6",
        "max"
       ],
       "target": [
        "IPY_MODEL_903d8dc3dee8402b9a481fa1516cc478",
        "max_frame"
       ]
      }
     },
     "a0a84a448aa749a2bc0c8bca3962bdcb": {
      "model_module": "@jupyter-widgets/controls",
      "model_module_version": "1.5.0",
      "model_name": "HBoxModel",
      "state": {
       "children": [
        "IPY_MODEL_f318329ff0ab4284832df6987aa08caa",
        "IPY_MODEL_3a33fd7cc94d455ab40b075b6011194b"
       ],
       "layout": "IPY_MODEL_68113cbdde8a441ab41682def194c341"
      }
     },
     "abb060530b644eb7ac83734007e72760": {
      "model_module": "@jupyter-widgets/controls",
      "model_module_version": "1.5.0",
      "model_name": "HBoxModel",
      "state": {
       "children": [
        "IPY_MODEL_b579f6e205824ec698867f439d52b70c",
        "IPY_MODEL_28e019aae94f4db4beeeba0004eb69c6"
       ],
       "layout": "IPY_MODEL_616b7105d7a14e799fd71f9c7e2ddbc1"
      }
     },
     "af292d89fcf44b87900031c9b27c2533": {
      "model_module": "@jupyter-widgets/base",
      "model_module_version": "1.2.0",
      "model_name": "LayoutModel",
      "state": {}
     },
     "b579f6e205824ec698867f439d52b70c": {
      "model_module": "@jupyter-widgets/controls",
      "model_module_version": "1.5.0",
      "model_name": "PlayModel",
      "state": {
       "layout": "IPY_MODEL_982d09abf73240c898d5c545d08ed9b6",
       "max": 4,
       "style": "IPY_MODEL_863d1ff1c0f94c7cbfb9dc175d1078a0"
      }
     },
     "bd58d6b40ef94f9abc1d621b42bd030f": {
      "model_module": "@jupyter-widgets/base",
      "model_module_version": "1.2.0",
      "model_name": "LayoutModel",
      "state": {}
     },
     "c08c0a5b38fb4c7eaa042e1cf2ae75a5": {
      "model_module": "@jupyter-widgets/base",
      "model_module_version": "1.2.0",
      "model_name": "LayoutModel",
      "state": {}
     },
     "c486ea6139d24312a32942eeb4308084": {
      "model_module": "@jupyter-widgets/controls",
      "model_module_version": "1.5.0",
      "model_name": "DescriptionStyleModel",
      "state": {
       "description_width": ""
      }
     },
     "c5afa7b7bf62440caa2e336d30e3f87a": {
      "model_module": "@jupyter-widgets/base",
      "model_module_version": "1.2.0",
      "model_name": "LayoutModel",
      "state": {}
     },
     "c8b5c52c81bc4c9d8bf0b20138613f1d": {
      "model_module": "@jupyter-widgets/controls",
      "model_module_version": "1.5.0",
      "model_name": "LinkModel",
      "state": {
       "source": [
        "IPY_MODEL_f318329ff0ab4284832df6987aa08caa",
        "max"
       ],
       "target": [
        "IPY_MODEL_5cff2d0d15044fca9105fa3541411380",
        "max_frame"
       ]
      }
     },
     "cec9a5a47ffe425788ba310f0381594f": {
      "model_module": "@jupyter-widgets/controls",
      "model_module_version": "1.5.0",
      "model_name": "LinkModel",
      "state": {
       "source": [
        "IPY_MODEL_b579f6e205824ec698867f439d52b70c",
        "value"
       ],
       "target": [
        "IPY_MODEL_903d8dc3dee8402b9a481fa1516cc478",
        "frame"
       ]
      }
     },
     "db8318e27dd048d3b57c56c61fe0125c": {
      "model_module": "@jupyter-widgets/controls",
      "model_module_version": "1.5.0",
      "model_name": "ButtonModel",
      "state": {
       "icon": "compress",
       "layout": "IPY_MODEL_412c481251fe49ef97872f1a95c86765",
       "style": "IPY_MODEL_6c738e0cd99447eea546fb257581d104"
      }
     },
     "dfd94ac53b394ccfa01a42103029dbc1": {
      "model_module": "@jupyter-widgets/base",
      "model_module_version": "1.2.0",
      "model_name": "LayoutModel",
      "state": {}
     },
     "eb67e23591be4890bc094d2dbfd48737": {
      "model_module": "@jupyter-widgets/base",
      "model_module_version": "1.2.0",
      "model_name": "LayoutModel",
      "state": {}
     },
     "f1f947b6e1fe4a60b61e9cca50328d78": {
      "model_module": "@jupyter-widgets/controls",
      "model_module_version": "1.5.0",
      "model_name": "DescriptionStyleModel",
      "state": {
       "description_width": ""
      }
     },
     "f21fb1ae2a6c4a91ac80d1a58d50587b": {
      "model_module": "@jupyter-widgets/controls",
      "model_module_version": "1.5.0",
      "model_name": "LinkModel",
      "state": {
       "source": [
        "IPY_MODEL_b579f6e205824ec698867f439d52b70c",
        "max"
       ],
       "target": [
        "IPY_MODEL_903d8dc3dee8402b9a481fa1516cc478",
        "max_frame"
       ]
      }
     },
     "f318329ff0ab4284832df6987aa08caa": {
      "model_module": "@jupyter-widgets/controls",
      "model_module_version": "1.5.0",
      "model_name": "PlayModel",
      "state": {
       "layout": "IPY_MODEL_50ee641c092b4f62aae9eff65eef8291",
       "max": 0,
       "style": "IPY_MODEL_f1f947b6e1fe4a60b61e9cca50328d78"
      }
     },
     "f6ae52a0c4a5408ab81b41ae139be0c3": {
      "model_module": "@jupyter-widgets/controls",
      "model_module_version": "1.5.0",
      "model_name": "LinkModel",
      "state": {
       "source": [
        "IPY_MODEL_4315b7650344477ba62e3de9d829e8d0",
        "max"
       ],
       "target": [
        "IPY_MODEL_9acd0738c709420293ca03c9d7cb65a8",
        "max_frame"
       ]
      }
     },
     "f6e844f90dc344f99829326587cce4a8": {
      "model_module": "@jupyter-widgets/controls",
      "model_module_version": "1.5.0",
      "model_name": "SliderStyleModel",
      "state": {
       "description_width": ""
      }
     },
     "f819f493d6424b3f988fffcd4a06461e": {
      "model_module": "@jupyter-widgets/controls",
      "model_module_version": "1.5.0",
      "model_name": "IntSliderModel",
      "state": {
       "layout": "IPY_MODEL_012a52ac25554558bbcbb8b106b79bef",
       "max": 21,
       "style": "IPY_MODEL_97714c28adb94f97ac44e3819311d316"
      }
     }
    },
    "version_major": 2,
    "version_minor": 0
   }
  }
 },
 "nbformat": 4,
 "nbformat_minor": 5
}
