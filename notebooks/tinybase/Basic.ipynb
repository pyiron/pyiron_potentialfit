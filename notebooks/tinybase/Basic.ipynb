{
 "cells": [
  {
   "cell_type": "markdown",
   "id": "ef2b1629-437d-45d8-b9d1-1cf3a6bf9d08",
   "metadata": {},
   "source": [
    "# Imports"
   ]
  },
  {
   "cell_type": "code",
   "execution_count": 2,
   "id": "fd11c1fd-6b5b-4739-ad10-9ebe47c0db49",
   "metadata": {},
   "outputs": [],
   "source": [
    "from pyiron_contrib.tinybase.task import AbstractTask, FunctionTask, SeriesTask, LoopTask"
   ]
  },
  {
   "cell_type": "code",
   "execution_count": 3,
   "id": "95594ff4-2f77-49c2-b4a2-467268ecac00",
   "metadata": {},
   "outputs": [],
   "source": [
    "from pyiron_contrib.tinybase.executor import ProcessExecutor, BackgroundExecutor, Executor"
   ]
  },
  {
   "cell_type": "code",
   "execution_count": 4,
   "id": "88b1b600-28e0-4ad9-82d6-b2bd993efbda",
   "metadata": {},
   "outputs": [],
   "source": [
    "import logging\n",
    "logging.getLogger().setLevel(20)"
   ]
  },
  {
   "cell_type": "code",
   "execution_count": 5,
   "id": "e3d8cf33-1f39-4ef9-b92c-2dfd43cf4dd3",
   "metadata": {},
   "outputs": [],
   "source": [
    "import numpy as np"
   ]
  },
  {
   "cell_type": "markdown",
   "id": "5a1c480f-545b-411b-9cfc-a50af282de29",
   "metadata": {},
   "source": [
    "# Function Task"
   ]
  },
  {
   "cell_type": "markdown",
   "id": "756bef2c-7a16-40bb-8dee-9e9becf353f3",
   "metadata": {},
   "source": [
    "## Basic"
   ]
  },
  {
   "cell_type": "code",
   "execution_count": 6,
   "id": "9f2f3102-d15c-470a-b38c-f8084c9535ec",
   "metadata": {},
   "outputs": [],
   "source": [
    "def calc_fib(n):\n",
    "    import time\n",
    "    n1 = n2 = 1\n",
    "    for i in range(n):\n",
    "        time.sleep(.1)\n",
    "        x = n1 + n2\n",
    "        n1 = n2\n",
    "        n2 = x\n",
    "    return x"
   ]
  },
  {
   "cell_type": "code",
   "execution_count": 7,
   "id": "e125f49c-257b-4a24-bc81-83fe345d1dcf",
   "metadata": {},
   "outputs": [],
   "source": [
    "f = FunctionTask(calc_fib)"
   ]
  },
  {
   "cell_type": "code",
   "execution_count": 8,
   "id": "324f3c10-385e-4577-b089-c305f8203ca5",
   "metadata": {},
   "outputs": [
    {
     "data": {
      "application/json": [],
      "text/html": [
       "<pre>DataContainer([])</pre>"
      ],
      "text/plain": [
       "DataContainer([])"
      ]
     },
     "execution_count": 8,
     "metadata": {},
     "output_type": "execute_result"
    }
   ],
   "source": [
    "f.input.storage"
   ]
  },
  {
   "cell_type": "code",
   "execution_count": 9,
   "id": "6c1f5af7-f5e9-41d9-a849-bab0ebc7dd9f",
   "metadata": {},
   "outputs": [
    {
     "data": {
      "text/plain": [
       "[]"
      ]
     },
     "execution_count": 9,
     "metadata": {},
     "output_type": "execute_result"
    }
   ],
   "source": [
    "f.input.args"
   ]
  },
  {
   "cell_type": "code",
   "execution_count": 10,
   "id": "e0afb76d-d1b7-4b42-925f-fb117d58025e",
   "metadata": {},
   "outputs": [
    {
     "data": {
      "text/plain": [
       "{}"
      ]
     },
     "execution_count": 10,
     "metadata": {},
     "output_type": "execute_result"
    }
   ],
   "source": [
    "f.input.kwargs"
   ]
  },
  {
   "cell_type": "code",
   "execution_count": 11,
   "id": "6a5c3235-9c6b-481f-b316-db7420d1ad43",
   "metadata": {},
   "outputs": [],
   "source": [
    "f.input.kwargs['n'] = 10"
   ]
  },
  {
   "cell_type": "code",
   "execution_count": 12,
   "id": "4ade8d6a-6ce2-4f3a-b43d-71e1f87125bf",
   "metadata": {},
   "outputs": [
    {
     "data": {
      "text/plain": [
       "{'n': 10}"
      ]
     },
     "execution_count": 12,
     "metadata": {},
     "output_type": "execute_result"
    }
   ],
   "source": [
    "f.input.kwargs"
   ]
  },
  {
   "cell_type": "code",
   "execution_count": 13,
   "id": "a39cfb50-4ed6-49ab-8ffb-af236cf61153",
   "metadata": {},
   "outputs": [],
   "source": [
    "exe = f.run()"
   ]
  },
  {
   "cell_type": "code",
   "execution_count": 14,
   "id": "aa095e57-3d3c-4af5-9a94-eda6af34e2b3",
   "metadata": {},
   "outputs": [
    {
     "data": {
      "text/plain": [
       "{'status': (ReturnStatus(Code.DONE, None),),\n",
       " 'output': (<pyiron_contrib.tinybase.task.FunctionOutput at 0x7f4f3f730b20>,)}"
      ]
     },
     "execution_count": 14,
     "metadata": {},
     "output_type": "execute_result"
    }
   ],
   "source": [
    "exe._run_machine._data"
   ]
  },
  {
   "cell_type": "code",
   "execution_count": 15,
   "id": "82d0ca07-12c2-4cd9-bba3-1f210a907b41",
   "metadata": {},
   "outputs": [
    {
     "data": {
      "text/plain": [
       "144"
      ]
     },
     "execution_count": 15,
     "metadata": {},
     "output_type": "execute_result"
    }
   ],
   "source": [
    "exe.output[0].result"
   ]
  },
  {
   "cell_type": "code",
   "execution_count": 16,
   "id": "24994f4a-d5cd-4aad-857f-a33ddd0eaf23",
   "metadata": {},
   "outputs": [
    {
     "data": {
      "text/plain": [
       "(1.0841432279994478, 3.1526011298410594e-05)"
      ]
     },
     "execution_count": 16,
     "metadata": {},
     "output_type": "execute_result"
    }
   ],
   "source": [
    "exe._run_time, exe._collect_time"
   ]
  },
  {
   "cell_type": "markdown",
   "id": "a6cbcd0e-2a04-4e93-add5-0f423fc1fa69",
   "metadata": {},
   "source": [
    "## We don't actually have to use an executor if we just want a result"
   ]
  },
  {
   "cell_type": "code",
   "execution_count": 17,
   "id": "a622ef14-4543-4cc1-bdfe-3625052f9b04",
   "metadata": {},
   "outputs": [],
   "source": [
    "f = FunctionTask(calc_fib)"
   ]
  },
  {
   "cell_type": "code",
   "execution_count": 18,
   "id": "b0a0ff5d-6c5f-4c66-bc71-a9de5bf58220",
   "metadata": {},
   "outputs": [],
   "source": [
    "f.input.kwargs['n'] = 10"
   ]
  },
  {
   "cell_type": "code",
   "execution_count": 19,
   "id": "b196759b-8cd6-45c7-8d3f-aad861b02edc",
   "metadata": {},
   "outputs": [
    {
     "data": {
      "text/plain": [
       "(ReturnStatus(Code.DONE, None),\n",
       " <pyiron_contrib.tinybase.task.FunctionOutput at 0x7f4f3f731510>)"
      ]
     },
     "execution_count": 19,
     "metadata": {},
     "output_type": "execute_result"
    }
   ],
   "source": [
    "f.execute()"
   ]
  },
  {
   "cell_type": "markdown",
   "id": "8a3b6481-3605-44d3-8061-cb00c9fbcd34",
   "metadata": {},
   "source": [
    "## Do the same but in the background"
   ]
  },
  {
   "cell_type": "code",
   "execution_count": 20,
   "id": "1e1b986e-9e00-41f2-86c2-945ff7818580",
   "metadata": {},
   "outputs": [],
   "source": [
    "f = FunctionTask(calc_fib)"
   ]
  },
  {
   "cell_type": "code",
   "execution_count": 21,
   "id": "0b612150-f654-4995-8910-e46e766fdce2",
   "metadata": {},
   "outputs": [],
   "source": [
    "f.input.kwargs['n'] = 100"
   ]
  },
  {
   "cell_type": "code",
   "execution_count": 22,
   "id": "bac98046-09c1-457c-881a-e31f03267788",
   "metadata": {},
   "outputs": [],
   "source": [
    "exe = f.run(how='background')"
   ]
  },
  {
   "cell_type": "code",
   "execution_count": 23,
   "id": "ba09ae22-d2b4-41ba-8637-cb7f0fb3bfe9",
   "metadata": {},
   "outputs": [
    {
     "data": {
      "text/plain": [
       "{}"
      ]
     },
     "execution_count": 23,
     "metadata": {},
     "output_type": "execute_result"
    }
   ],
   "source": [
    "exe._run_machine._data"
   ]
  },
  {
   "cell_type": "code",
   "execution_count": 24,
   "id": "0d2f427a-21e1-449e-a8cc-c2296bff6c10",
   "metadata": {},
   "outputs": [
    {
     "data": {
      "text/plain": [
       "<Code.RUNNING: 'running'>"
      ]
     },
     "execution_count": 24,
     "metadata": {},
     "output_type": "execute_result"
    }
   ],
   "source": [
    "exe._run_machine.state"
   ]
  },
  {
   "cell_type": "code",
   "execution_count": 25,
   "id": "a9631d5e-d46a-419c-a929-68ddd77487bb",
   "metadata": {},
   "outputs": [],
   "source": [
    "exe.wait()"
   ]
  },
  {
   "cell_type": "code",
   "execution_count": 26,
   "id": "408ffab0-70a1-4d08-9007-4d9f0513935d",
   "metadata": {},
   "outputs": [
    {
     "data": {
      "text/plain": [
       "927372692193078999176"
      ]
     },
     "execution_count": 26,
     "metadata": {},
     "output_type": "execute_result"
    }
   ],
   "source": [
    "exe.output[0].result"
   ]
  },
  {
   "cell_type": "markdown",
   "id": "c255f51a-950f-4e2e-a9b9-feb2f64f3ac5",
   "metadata": {},
   "source": [
    "## Do the same but in the background as process"
   ]
  },
  {
   "cell_type": "code",
   "execution_count": 27,
   "id": "1e2178c0-ee70-4ec0-8b4b-2c7c55873b43",
   "metadata": {},
   "outputs": [],
   "source": [
    "fib_Task = FunctionTask(calc_fib)"
   ]
  },
  {
   "cell_type": "code",
   "execution_count": 28,
   "id": "998c4724-c7ab-4fc0-8794-8b60da819090",
   "metadata": {},
   "outputs": [],
   "source": [
    "fib_Task.input.kwargs['n'] = 100"
   ]
  },
  {
   "cell_type": "code",
   "execution_count": 29,
   "id": "7b66b215-33cd-425c-bb9b-62e3eaa0451e",
   "metadata": {},
   "outputs": [],
   "source": [
    "exe = fib_Task.run(how='process')"
   ]
  },
  {
   "cell_type": "code",
   "execution_count": 30,
   "id": "fcdcbe0b-f44a-4c37-acd8-10eedf5b3aa2",
   "metadata": {},
   "outputs": [
    {
     "data": {
      "text/plain": [
       "{}"
      ]
     },
     "execution_count": 30,
     "metadata": {},
     "output_type": "execute_result"
    }
   ],
   "source": [
    "exe._run_machine._data"
   ]
  },
  {
   "cell_type": "code",
   "execution_count": 31,
   "id": "5354db31-169d-4c7b-a8cc-6ddc3358b4c1",
   "metadata": {},
   "outputs": [
    {
     "data": {
      "text/plain": [
       "<Code.RUNNING: 'running'>"
      ]
     },
     "execution_count": 31,
     "metadata": {},
     "output_type": "execute_result"
    }
   ],
   "source": [
    "exe._run_machine.state"
   ]
  },
  {
   "cell_type": "code",
   "execution_count": 32,
   "id": "282a6ae8-e869-4ae2-bfea-8644ba693866",
   "metadata": {},
   "outputs": [],
   "source": [
    "exe.wait()"
   ]
  },
  {
   "cell_type": "code",
   "execution_count": 33,
   "id": "fd24c4c8-6b17-433f-ac28-a490911a3628",
   "metadata": {},
   "outputs": [
    {
     "data": {
      "text/plain": [
       "927372692193078999176"
      ]
     },
     "execution_count": 33,
     "metadata": {},
     "output_type": "execute_result"
    }
   ],
   "source": [
    "exe.output[0].result"
   ]
  },
  {
   "cell_type": "markdown",
   "id": "85ec26e2-db1f-4858-a3ab-b7955e85e572",
   "metadata": {},
   "source": [
    "# Executors handle single Tasks and lists of them on the same footing"
   ]
  },
  {
   "cell_type": "code",
   "execution_count": 35,
   "id": "e2fed9f1-590b-4ab5-9922-a126444e6169",
   "metadata": {},
   "outputs": [],
   "source": [
    "tasks = [FunctionTask(calc_fib) for _ in range(10)]"
   ]
  },
  {
   "cell_type": "code",
   "execution_count": 49,
   "id": "fdfc8943-8c0b-4bc6-98f0-71a64b3fae27",
   "metadata": {},
   "outputs": [],
   "source": [
    "for i, n in enumerate(tasks):\n",
    "    n.input.kwargs['n'] = 3 + i"
   ]
  },
  {
   "cell_type": "markdown",
   "id": "cdb9c07d-a153-4e0c-926e-96702b64cbd3",
   "metadata": {},
   "source": [
    "## With the basic executor"
   ]
  },
  {
   "cell_type": "code",
   "execution_count": 51,
   "id": "dd709cfa-775f-41c1-a015-7e0647ec3d27",
   "metadata": {
    "scrolled": true,
    "tags": []
   },
   "outputs": [],
   "source": [
    "exe = Executor(tasks)\n",
    "exe.run()"
   ]
  },
  {
   "cell_type": "code",
   "execution_count": 52,
   "id": "0ac1b35a-b130-4330-bf20-a1222bdc6103",
   "metadata": {},
   "outputs": [
    {
     "data": {
      "text/plain": [
       "(<pyiron_contrib.tinybase.task.FunctionOutput at 0x7f4f3f7155d0>,\n",
       " <pyiron_contrib.tinybase.task.FunctionOutput at 0x7f4f3f730f40>,\n",
       " <pyiron_contrib.tinybase.task.FunctionOutput at 0x7f4f3f732e00>,\n",
       " <pyiron_contrib.tinybase.task.FunctionOutput at 0x7f4f48d89750>,\n",
       " <pyiron_contrib.tinybase.task.FunctionOutput at 0x7f4f3f716290>,\n",
       " <pyiron_contrib.tinybase.task.FunctionOutput at 0x7f4f3f715a20>,\n",
       " <pyiron_contrib.tinybase.task.FunctionOutput at 0x7f4f3f715060>,\n",
       " <pyiron_contrib.tinybase.task.FunctionOutput at 0x7f4f3f717d90>,\n",
       " <pyiron_contrib.tinybase.task.FunctionOutput at 0x7f4f3f7170d0>,\n",
       " <pyiron_contrib.tinybase.task.FunctionOutput at 0x7f4f3f716950>)"
      ]
     },
     "execution_count": 52,
     "metadata": {},
     "output_type": "execute_result"
    }
   ],
   "source": [
    "exe.output"
   ]
  },
  {
   "cell_type": "code",
   "execution_count": 53,
   "id": "1ef8d9d6-e5dc-4db1-9e20-7181321f07ce",
   "metadata": {},
   "outputs": [
    {
     "data": {
      "text/plain": [
       "8"
      ]
     },
     "execution_count": 53,
     "metadata": {},
     "output_type": "execute_result"
    }
   ],
   "source": [
    "exe.output[1].result"
   ]
  },
  {
   "cell_type": "markdown",
   "id": "4106ad2f-ece3-41d6-bed1-b340e434bec1",
   "metadata": {},
   "source": [
    "## With the process executor"
   ]
  },
  {
   "cell_type": "code",
   "execution_count": 54,
   "id": "25fe617c-ae8e-4b83-bf58-b790441a1126",
   "metadata": {
    "scrolled": true,
    "tags": []
   },
   "outputs": [],
   "source": [
    "exe = ProcessExecutor(tasks)\n",
    "exe.run()"
   ]
  },
  {
   "cell_type": "code",
   "execution_count": 55,
   "id": "19e5d3e8-6779-4c36-a636-2d8cd549e99c",
   "metadata": {},
   "outputs": [],
   "source": [
    "exe.wait()"
   ]
  },
  {
   "cell_type": "code",
   "execution_count": 56,
   "id": "66feb98b-3f99-4bfb-9bb5-cccaf26d009b",
   "metadata": {},
   "outputs": [
    {
     "data": {
      "text/plain": [
       "[ReturnStatus(Code.DONE, None),\n",
       " ReturnStatus(Code.DONE, None),\n",
       " ReturnStatus(Code.DONE, None),\n",
       " ReturnStatus(Code.DONE, None),\n",
       " ReturnStatus(Code.DONE, None),\n",
       " ReturnStatus(Code.DONE, None),\n",
       " ReturnStatus(Code.DONE, None),\n",
       " ReturnStatus(Code.DONE, None),\n",
       " ReturnStatus(Code.DONE, None),\n",
       " ReturnStatus(Code.DONE, None)]"
      ]
     },
     "execution_count": 56,
     "metadata": {},
     "output_type": "execute_result"
    }
   ],
   "source": [
    "exe.status"
   ]
  },
  {
   "cell_type": "code",
   "execution_count": 57,
   "id": "fbb40611-9f53-479e-854c-82c8c99a8070",
   "metadata": {},
   "outputs": [
    {
     "data": {
      "text/plain": [
       "[<pyiron_contrib.tinybase.task.FunctionOutput at 0x7f4f3f715bd0>,\n",
       " <pyiron_contrib.tinybase.task.FunctionOutput at 0x7f4f3f7162c0>,\n",
       " <pyiron_contrib.tinybase.task.FunctionOutput at 0x7f4f3f732f80>,\n",
       " <pyiron_contrib.tinybase.task.FunctionOutput at 0x7f4f3f730a90>,\n",
       " <pyiron_contrib.tinybase.task.FunctionOutput at 0x7f4f3f715e10>,\n",
       " <pyiron_contrib.tinybase.task.FunctionOutput at 0x7f4f3f715db0>,\n",
       " <pyiron_contrib.tinybase.task.FunctionOutput at 0x7f4fe1320d30>,\n",
       " <pyiron_contrib.tinybase.task.FunctionOutput at 0x7f4fe13213c0>,\n",
       " <pyiron_contrib.tinybase.task.FunctionOutput at 0x7f4fe1321480>,\n",
       " <pyiron_contrib.tinybase.task.FunctionOutput at 0x7f4fe1321540>]"
      ]
     },
     "execution_count": 57,
     "metadata": {},
     "output_type": "execute_result"
    }
   ],
   "source": [
    "exe.output"
   ]
  },
  {
   "cell_type": "code",
   "execution_count": 58,
   "id": "250f9c2d-5c71-4ddb-a94e-fd42f42cbeff",
   "metadata": {},
   "outputs": [
    {
     "data": {
      "text/plain": [
       "55"
      ]
     },
     "execution_count": 58,
     "metadata": {},
     "output_type": "execute_result"
    }
   ],
   "source": [
    "exe.output[5].result"
   ]
  },
  {
   "cell_type": "markdown",
   "id": "3fc133cd-e685-499e-b139-82fc2678652a",
   "metadata": {},
   "source": [
    "# SeriesTask"
   ]
  },
  {
   "cell_type": "code",
   "execution_count": 59,
   "id": "3dba0814-6a50-41f9-a78f-040014fdc140",
   "metadata": {},
   "outputs": [],
   "source": [
    "s = SeriesTask()"
   ]
  },
  {
   "cell_type": "code",
   "execution_count": 60,
   "id": "52aae339-ebad-4621-b2e0-c55d4fea3d1b",
   "metadata": {},
   "outputs": [],
   "source": [
    "f1 = FunctionTask(calc_fib)"
   ]
  },
  {
   "cell_type": "code",
   "execution_count": 61,
   "id": "e10f7ee9-98db-48c7-affd-465c2011f7b1",
   "metadata": {},
   "outputs": [],
   "source": [
    "f2 = FunctionTask(np.sqrt)"
   ]
  },
  {
   "cell_type": "code",
   "execution_count": 62,
   "id": "b7e58b55-b4f5-4e2a-aef5-f4e080e4d50c",
   "metadata": {},
   "outputs": [],
   "source": [
    "def transfer(input, output):\n",
    "    input.args = [output.result]"
   ]
  },
  {
   "cell_type": "code",
   "execution_count": 63,
   "id": "b4b2212a-64df-4284-834d-8836c9a59b70",
   "metadata": {},
   "outputs": [
    {
     "data": {
      "text/plain": [
       "<pyiron_contrib.tinybase.task.SeriesInput at 0x7f4fe13212d0>"
      ]
     },
     "execution_count": 63,
     "metadata": {},
     "output_type": "execute_result"
    }
   ],
   "source": [
    "s.input.first(f1).then(f2, transfer)"
   ]
  },
  {
   "cell_type": "code",
   "execution_count": 65,
   "id": "af337125-c4fe-497d-9374-b2d9301abe08",
   "metadata": {},
   "outputs": [],
   "source": [
    "s.input.tasks[0].input.kwargs['n'] = 10"
   ]
  },
  {
   "cell_type": "code",
   "execution_count": 66,
   "id": "810a17bb-9f5d-4c50-9665-fa2f93070d60",
   "metadata": {},
   "outputs": [],
   "source": [
    "status, output = s.execute()"
   ]
  },
  {
   "cell_type": "code",
   "execution_count": 67,
   "id": "4af47287-ab42-4cb4-8e65-c6efb7982ab4",
   "metadata": {},
   "outputs": [
    {
     "data": {
      "text/plain": [
       "ReturnStatus(Code.DONE, None)"
      ]
     },
     "execution_count": 67,
     "metadata": {},
     "output_type": "execute_result"
    }
   ],
   "source": [
    "status"
   ]
  },
  {
   "cell_type": "code",
   "execution_count": 68,
   "id": "705637d8-8da7-4429-ae6f-5401fc15cc9e",
   "metadata": {},
   "outputs": [
    {
     "data": {
      "text/plain": [
       "12.0"
      ]
     },
     "execution_count": 68,
     "metadata": {},
     "output_type": "execute_result"
    }
   ],
   "source": [
    "output.result"
   ]
  },
  {
   "cell_type": "markdown",
   "id": "fc672a15-6943-410e-91b2-7dfac8326948",
   "metadata": {},
   "source": [
    "# Loop Task"
   ]
  },
  {
   "cell_type": "markdown",
   "id": "adbced5b-dfa6-408e-ae01-e0a341c217e6",
   "metadata": {},
   "source": [
    "## Simple repeat loop"
   ]
  },
  {
   "cell_type": "code",
   "execution_count": 69,
   "id": "b9807c98-6df8-450f-a8dd-1a53cb4ded35",
   "metadata": {},
   "outputs": [],
   "source": [
    "l = LoopTask()"
   ]
  },
  {
   "cell_type": "code",
   "execution_count": 71,
   "id": "ac2b9aa8-c118-4a1a-bf8b-96d6853b9be6",
   "metadata": {},
   "outputs": [],
   "source": [
    "l.input.task = FunctionTask(lambda: np.random.rand())"
   ]
  },
  {
   "cell_type": "code",
   "execution_count": 72,
   "id": "ef092015-5756-409a-bd1a-a31793c0b2b8",
   "metadata": {},
   "outputs": [],
   "source": [
    "l.input.repeat(10, restart=lambda output, input, scratch: print(output.result))"
   ]
  },
  {
   "cell_type": "code",
   "execution_count": 73,
   "id": "91a3d26f-d1fc-44a9-b06d-a9c452dfb3db",
   "metadata": {},
   "outputs": [
    {
     "name": "stdout",
     "output_type": "stream",
     "text": [
      "0.9953802852390651\n",
      "0.4979426757738342\n",
      "0.7496647591996423\n",
      "0.9064905781297882\n",
      "0.15763598102657594\n",
      "0.5111053249038157\n",
      "0.8777179700937587\n",
      "0.6172844516713738\n",
      "0.025877138756273066\n"
     ]
    }
   ],
   "source": [
    "exe = l.run()"
   ]
  },
  {
   "cell_type": "code",
   "execution_count": 74,
   "id": "dbc8730e-9ebc-403b-9987-0de04e1f77f3",
   "metadata": {},
   "outputs": [
    {
     "data": {
      "text/plain": [
       "(ReturnStatus(Code.DONE, None),)"
      ]
     },
     "execution_count": 74,
     "metadata": {},
     "output_type": "execute_result"
    }
   ],
   "source": [
    "exe.status"
   ]
  },
  {
   "cell_type": "markdown",
   "id": "1be0a463-f003-4a43-80a3-3e70df03a0bc",
   "metadata": {},
   "source": [
    "## Loop with a termination condition"
   ]
  },
  {
   "cell_type": "code",
   "execution_count": 75,
   "id": "6c251bfa-e8cf-4e1a-990d-451ebb53f713",
   "metadata": {},
   "outputs": [],
   "source": [
    "l = LoopTask()"
   ]
  },
  {
   "cell_type": "code",
   "execution_count": 76,
   "id": "563c7fe1-b96f-463c-8903-50f054c831f6",
   "metadata": {},
   "outputs": [],
   "source": [
    "l.input.task = FunctionTask(lambda: np.random.rand())"
   ]
  },
  {
   "cell_type": "code",
   "execution_count": 77,
   "id": "10130bfd-636f-4771-b30b-4648a8822f04",
   "metadata": {},
   "outputs": [],
   "source": [
    "l.input.control_with(\n",
    "    condition=lambda task, output, scratch: output.result < .05,\n",
    "    restart=lambda output, input, scratch: print(output.result)\n",
    ")"
   ]
  },
  {
   "cell_type": "code",
   "execution_count": 78,
   "id": "f875b6c9-8cd1-4e6b-9ec8-16b93b6e7f64",
   "metadata": {
    "scrolled": true,
    "tags": []
   },
   "outputs": [
    {
     "name": "stdout",
     "output_type": "stream",
     "text": [
      "0.3510052419168129\n",
      "0.9583658097014569\n",
      "0.3822386305905213\n",
      "0.9446397962657214\n",
      "0.5190580019824569\n",
      "0.9004145100900804\n",
      "0.1214505719318919\n",
      "0.15782601335162105\n",
      "0.2467458443276147\n",
      "0.32779186092001633\n",
      "0.3545881045937541\n",
      "0.2742999138135499\n",
      "0.1346229590051038\n",
      "0.6519388412108668\n",
      "0.5656985488590841\n"
     ]
    }
   ],
   "source": [
    "exe = l.run()"
   ]
  },
  {
   "cell_type": "code",
   "execution_count": 79,
   "id": "8df83822-0bbd-4157-8bb2-f6e93433eefc",
   "metadata": {},
   "outputs": [
    {
     "data": {
      "text/plain": [
       "ReturnStatus(Code.DONE, None)"
      ]
     },
     "execution_count": 79,
     "metadata": {},
     "output_type": "execute_result"
    }
   ],
   "source": [
    "exe.status[0]"
   ]
  },
  {
   "cell_type": "code",
   "execution_count": 80,
   "id": "815ba264-9bdb-4758-ab20-92e3650bdbae",
   "metadata": {
    "tags": []
   },
   "outputs": [
    {
     "data": {
      "text/plain": [
       "0.013353255375349593"
      ]
     },
     "execution_count": 80,
     "metadata": {},
     "output_type": "execute_result"
    }
   ],
   "source": [
    "exe.output[0].result"
   ]
  }
 ],
 "metadata": {
  "kernelspec": {
   "display_name": "Python 3 (ipykernel)",
   "language": "python",
   "name": "python3"
  },
  "language_info": {
   "codemirror_mode": {
    "name": "ipython",
    "version": 3
   },
   "file_extension": ".py",
   "mimetype": "text/x-python",
   "name": "python",
   "nbconvert_exporter": "python",
   "pygments_lexer": "ipython3",
   "version": "3.10.8"
  },
  "widgets": {
   "application/vnd.jupyter.widget-state+json": {
    "state": {},
    "version_major": 2,
    "version_minor": 0
   }
  }
 },
 "nbformat": 4,
 "nbformat_minor": 5
}
