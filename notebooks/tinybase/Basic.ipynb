{
 "cells": [
  {
   "cell_type": "markdown",
   "id": "ef2b1629-437d-45d8-b9d1-1cf3a6bf9d08",
   "metadata": {},
   "source": [
    "# Imports"
   ]
  },
  {
   "cell_type": "code",
   "execution_count": 1,
   "id": "fd11c1fd-6b5b-4739-ad10-9ebe47c0db49",
   "metadata": {},
   "outputs": [
    {
     "name": "stderr",
     "output_type": "stream",
     "text": [
      "/home/ponder/science/phd/dev/pyiron_contrib/pyiron_contrib/__init__.py:9: UserWarning: pyiron module not found, importing Project from pyiron_base\n",
      "  warnings.warn(\"pyiron module not found, importing Project from pyiron_base\")\n"
     ]
    },
    {
     "data": {
      "application/vnd.jupyter.widget-view+json": {
       "model_id": "d1c3ced555be42948758b8ee70dfe5a8",
       "version_major": 2,
       "version_minor": 0
      },
      "text/plain": []
     },
     "metadata": {},
     "output_type": "display_data"
    }
   ],
   "source": [
    "from pyiron_contrib.tinybase.node import AbstractNode, FunctionNode, SeriesNode, LoopNode"
   ]
  },
  {
   "cell_type": "code",
   "execution_count": 2,
   "id": "95594ff4-2f77-49c2-b4a2-467268ecac00",
   "metadata": {},
   "outputs": [],
   "source": [
    "from pyiron_contrib.tinybase.executor import ProcessExecutor, BackgroundExecutor, Executor"
   ]
  },
  {
   "cell_type": "code",
   "execution_count": 3,
   "id": "88b1b600-28e0-4ad9-82d6-b2bd993efbda",
   "metadata": {},
   "outputs": [],
   "source": [
    "import logging\n",
    "logging.getLogger().setLevel(20)"
   ]
  },
  {
   "cell_type": "code",
   "execution_count": 4,
   "id": "e3d8cf33-1f39-4ef9-b92c-2dfd43cf4dd3",
   "metadata": {},
   "outputs": [],
   "source": [
    "import numpy as np"
   ]
  },
  {
   "cell_type": "markdown",
   "id": "5a1c480f-545b-411b-9cfc-a50af282de29",
   "metadata": {},
   "source": [
    "# Function Node"
   ]
  },
  {
   "cell_type": "markdown",
   "id": "756bef2c-7a16-40bb-8dee-9e9becf353f3",
   "metadata": {},
   "source": [
    "## Basic"
   ]
  },
  {
   "cell_type": "code",
   "execution_count": 5,
   "id": "9f2f3102-d15c-470a-b38c-f8084c9535ec",
   "metadata": {},
   "outputs": [],
   "source": [
    "def calc_fib(n):\n",
    "    import time\n",
    "    n1 = n2 = 1\n",
    "    for i in range(n):\n",
    "        time.sleep(.1)\n",
    "        x = n1 + n2\n",
    "        n1 = n2\n",
    "        n2 = x\n",
    "    return x"
   ]
  },
  {
   "cell_type": "code",
   "execution_count": 6,
   "id": "e125f49c-257b-4a24-bc81-83fe345d1dcf",
   "metadata": {},
   "outputs": [],
   "source": [
    "f = FunctionNode(calc_fib)"
   ]
  },
  {
   "cell_type": "code",
   "execution_count": 7,
   "id": "324f3c10-385e-4577-b089-c305f8203ca5",
   "metadata": {},
   "outputs": [
    {
     "data": {
      "application/json": [],
      "text/html": [
       "<pre>DataContainer([])</pre>"
      ],
      "text/plain": [
       "DataContainer([])"
      ]
     },
     "execution_count": 7,
     "metadata": {},
     "output_type": "execute_result"
    }
   ],
   "source": [
    "f.input.storage"
   ]
  },
  {
   "cell_type": "code",
   "execution_count": 8,
   "id": "6c1f5af7-f5e9-41d9-a849-bab0ebc7dd9f",
   "metadata": {},
   "outputs": [
    {
     "data": {
      "text/plain": [
       "[]"
      ]
     },
     "execution_count": 8,
     "metadata": {},
     "output_type": "execute_result"
    }
   ],
   "source": [
    "f.input.args"
   ]
  },
  {
   "cell_type": "code",
   "execution_count": 9,
   "id": "e0afb76d-d1b7-4b42-925f-fb117d58025e",
   "metadata": {},
   "outputs": [
    {
     "data": {
      "text/plain": [
       "{}"
      ]
     },
     "execution_count": 9,
     "metadata": {},
     "output_type": "execute_result"
    }
   ],
   "source": [
    "f.input.kwargs"
   ]
  },
  {
   "cell_type": "code",
   "execution_count": 10,
   "id": "6a5c3235-9c6b-481f-b316-db7420d1ad43",
   "metadata": {},
   "outputs": [],
   "source": [
    "f.input.kwargs['n'] = 10"
   ]
  },
  {
   "cell_type": "code",
   "execution_count": 11,
   "id": "4ade8d6a-6ce2-4f3a-b43d-71e1f87125bf",
   "metadata": {},
   "outputs": [
    {
     "data": {
      "text/plain": [
       "{'n': 10}"
      ]
     },
     "execution_count": 11,
     "metadata": {},
     "output_type": "execute_result"
    }
   ],
   "source": [
    "f.input.kwargs"
   ]
  },
  {
   "cell_type": "code",
   "execution_count": 12,
   "id": "a39cfb50-4ed6-49ab-8ffb-af236cf61153",
   "metadata": {},
   "outputs": [],
   "source": [
    "exe = f.run()"
   ]
  },
  {
   "cell_type": "code",
   "execution_count": 13,
   "id": "aa095e57-3d3c-4af5-9a94-eda6af34e2b3",
   "metadata": {},
   "outputs": [
    {
     "data": {
      "text/plain": [
       "{'status': (ReturnStatus(Code.DONE, None),),\n",
       " 'output': (<pyiron_contrib.tinybase.node.FunctionOutput at 0x7f12bb0a3d50>,)}"
      ]
     },
     "execution_count": 13,
     "metadata": {},
     "output_type": "execute_result"
    }
   ],
   "source": [
    "exe._run_machine._data"
   ]
  },
  {
   "cell_type": "code",
   "execution_count": 14,
   "id": "82d0ca07-12c2-4cd9-bba3-1f210a907b41",
   "metadata": {},
   "outputs": [
    {
     "data": {
      "text/plain": [
       "144"
      ]
     },
     "execution_count": 14,
     "metadata": {},
     "output_type": "execute_result"
    }
   ],
   "source": [
    "exe.output[0].result"
   ]
  },
  {
   "cell_type": "code",
   "execution_count": 15,
   "id": "24994f4a-d5cd-4aad-857f-a33ddd0eaf23",
   "metadata": {},
   "outputs": [
    {
     "data": {
      "text/plain": [
       "(1.0013468409888446, 2.5904009817168117e-05)"
      ]
     },
     "execution_count": 15,
     "metadata": {},
     "output_type": "execute_result"
    }
   ],
   "source": [
    "exe._run_time, exe._collect_time"
   ]
  },
  {
   "cell_type": "markdown",
   "id": "8a3b6481-3605-44d3-8061-cb00c9fbcd34",
   "metadata": {},
   "source": [
    "## Do the same but in the background"
   ]
  },
  {
   "cell_type": "code",
   "execution_count": 16,
   "id": "1e1b986e-9e00-41f2-86c2-945ff7818580",
   "metadata": {},
   "outputs": [],
   "source": [
    "f = FunctionNode(calc_fib)"
   ]
  },
  {
   "cell_type": "code",
   "execution_count": 17,
   "id": "0b612150-f654-4995-8910-e46e766fdce2",
   "metadata": {},
   "outputs": [],
   "source": [
    "f.input.kwargs['n'] = 100"
   ]
  },
  {
   "cell_type": "code",
   "execution_count": 18,
   "id": "bac98046-09c1-457c-881a-e31f03267788",
   "metadata": {},
   "outputs": [],
   "source": [
    "exe = f.run(how='background')"
   ]
  },
  {
   "cell_type": "code",
   "execution_count": 19,
   "id": "ba09ae22-d2b4-41ba-8637-cb7f0fb3bfe9",
   "metadata": {},
   "outputs": [
    {
     "data": {
      "text/plain": [
       "{}"
      ]
     },
     "execution_count": 19,
     "metadata": {},
     "output_type": "execute_result"
    }
   ],
   "source": [
    "exe._run_machine._data"
   ]
  },
  {
   "cell_type": "code",
   "execution_count": 20,
   "id": "0d2f427a-21e1-449e-a8cc-c2296bff6c10",
   "metadata": {},
   "outputs": [
    {
     "data": {
      "text/plain": [
       "<Code.RUNNING: 'running'>"
      ]
     },
     "execution_count": 20,
     "metadata": {},
     "output_type": "execute_result"
    }
   ],
   "source": [
    "exe._run_machine.state"
   ]
  },
  {
   "cell_type": "code",
   "execution_count": 21,
   "id": "a9631d5e-d46a-419c-a929-68ddd77487bb",
   "metadata": {},
   "outputs": [],
   "source": [
    "exe.wait()"
   ]
  },
  {
   "cell_type": "code",
   "execution_count": 22,
   "id": "408ffab0-70a1-4d08-9007-4d9f0513935d",
   "metadata": {},
   "outputs": [
    {
     "data": {
      "text/plain": [
       "927372692193078999176"
      ]
     },
     "execution_count": 22,
     "metadata": {},
     "output_type": "execute_result"
    }
   ],
   "source": [
    "exe.output[0].result"
   ]
  },
  {
   "cell_type": "markdown",
   "id": "c255f51a-950f-4e2e-a9b9-feb2f64f3ac5",
   "metadata": {},
   "source": [
    "## Do the same but in the background as process"
   ]
  },
  {
   "cell_type": "code",
   "execution_count": 23,
   "id": "1e2178c0-ee70-4ec0-8b4b-2c7c55873b43",
   "metadata": {},
   "outputs": [],
   "source": [
    "fib_node = FunctionNode(calc_fib)"
   ]
  },
  {
   "cell_type": "code",
   "execution_count": 24,
   "id": "998c4724-c7ab-4fc0-8794-8b60da819090",
   "metadata": {},
   "outputs": [],
   "source": [
    "fib_node.input.kwargs['n'] = 100"
   ]
  },
  {
   "cell_type": "code",
   "execution_count": 25,
   "id": "7b66b215-33cd-425c-bb9b-62e3eaa0451e",
   "metadata": {},
   "outputs": [],
   "source": [
    "exe = fib_node.run(how='process')"
   ]
  },
  {
   "cell_type": "code",
   "execution_count": 26,
   "id": "fcdcbe0b-f44a-4c37-acd8-10eedf5b3aa2",
   "metadata": {},
   "outputs": [
    {
     "data": {
      "text/plain": [
       "{}"
      ]
     },
     "execution_count": 26,
     "metadata": {},
     "output_type": "execute_result"
    }
   ],
   "source": [
    "exe._run_machine._data"
   ]
  },
  {
   "cell_type": "code",
   "execution_count": 27,
   "id": "5354db31-169d-4c7b-a8cc-6ddc3358b4c1",
   "metadata": {},
   "outputs": [
    {
     "data": {
      "text/plain": [
       "<Code.RUNNING: 'running'>"
      ]
     },
     "execution_count": 27,
     "metadata": {},
     "output_type": "execute_result"
    }
   ],
   "source": [
    "exe._run_machine.state"
   ]
  },
  {
   "cell_type": "code",
   "execution_count": 28,
   "id": "282a6ae8-e869-4ae2-bfea-8644ba693866",
   "metadata": {},
   "outputs": [],
   "source": [
    "exe.wait()"
   ]
  },
  {
   "cell_type": "code",
   "execution_count": 29,
   "id": "fd24c4c8-6b17-433f-ac28-a490911a3628",
   "metadata": {},
   "outputs": [
    {
     "data": {
      "text/plain": [
       "927372692193078999176"
      ]
     },
     "execution_count": 29,
     "metadata": {},
     "output_type": "execute_result"
    }
   ],
   "source": [
    "exe.output[0].result"
   ]
  },
  {
   "cell_type": "markdown",
   "id": "85ec26e2-db1f-4858-a3ab-b7955e85e572",
   "metadata": {},
   "source": [
    "# Executors handle single nodes and lists of them on the same footing"
   ]
  },
  {
   "cell_type": "code",
   "execution_count": 69,
   "id": "e2fed9f1-590b-4ab5-9922-a126444e6169",
   "metadata": {},
   "outputs": [],
   "source": [
    "nodes = [FunctionNode(calc_fib) for _ in range(10)]"
   ]
  },
  {
   "cell_type": "code",
   "execution_count": 72,
   "id": "fdfc8943-8c0b-4bc6-98f0-71a64b3fae27",
   "metadata": {},
   "outputs": [],
   "source": [
    "for i, n in enumerate(nodes):\n",
    "    n.input.kwargs['n'] = 3 + i"
   ]
  },
  {
   "cell_type": "markdown",
   "id": "cdb9c07d-a153-4e0c-926e-96702b64cbd3",
   "metadata": {},
   "source": [
    "## With the basic executor"
   ]
  },
  {
   "cell_type": "code",
   "execution_count": 73,
   "id": "dd709cfa-775f-41c1-a015-7e0647ec3d27",
   "metadata": {
    "scrolled": true,
    "tags": []
   },
   "outputs": [],
   "source": [
    "exe = Executor(nodes)\n",
    "exe.run()"
   ]
  },
  {
   "cell_type": "code",
   "execution_count": 74,
   "id": "0ac1b35a-b130-4330-bf20-a1222bdc6103",
   "metadata": {},
   "outputs": [
    {
     "data": {
      "text/plain": [
       "(<pyiron_contrib.tinybase.node.FunctionOutput at 0x7f12bae7f050>,\n",
       " <pyiron_contrib.tinybase.node.FunctionOutput at 0x7f12bae9f290>,\n",
       " <pyiron_contrib.tinybase.node.FunctionOutput at 0x7f12b9fb5f90>,\n",
       " <pyiron_contrib.tinybase.node.FunctionOutput at 0x7f12b9fb64d0>,\n",
       " <pyiron_contrib.tinybase.node.FunctionOutput at 0x7f12b9fb4290>,\n",
       " <pyiron_contrib.tinybase.node.FunctionOutput at 0x7f12b9fb41d0>,\n",
       " <pyiron_contrib.tinybase.node.FunctionOutput at 0x7f12b9fb6fd0>,\n",
       " <pyiron_contrib.tinybase.node.FunctionOutput at 0x7f12b9fb6450>,\n",
       " <pyiron_contrib.tinybase.node.FunctionOutput at 0x7f12b9fb62d0>,\n",
       " <pyiron_contrib.tinybase.node.FunctionOutput at 0x7f12b9fb6e50>)"
      ]
     },
     "execution_count": 74,
     "metadata": {},
     "output_type": "execute_result"
    }
   ],
   "source": [
    "exe.output"
   ]
  },
  {
   "cell_type": "code",
   "execution_count": 75,
   "id": "1ef8d9d6-e5dc-4db1-9e20-7181321f07ce",
   "metadata": {},
   "outputs": [
    {
     "data": {
      "text/plain": [
       "55"
      ]
     },
     "execution_count": 75,
     "metadata": {},
     "output_type": "execute_result"
    }
   ],
   "source": [
    "exe.output[5].result"
   ]
  },
  {
   "cell_type": "markdown",
   "id": "4106ad2f-ece3-41d6-bed1-b340e434bec1",
   "metadata": {},
   "source": [
    "## With the process executor"
   ]
  },
  {
   "cell_type": "code",
   "execution_count": 88,
   "id": "25fe617c-ae8e-4b83-bf58-b790441a1126",
   "metadata": {
    "scrolled": true,
    "tags": []
   },
   "outputs": [],
   "source": [
    "exe = ProcessExecutor(nodes)\n",
    "exe.run()"
   ]
  },
  {
   "cell_type": "code",
   "execution_count": 89,
   "id": "19e5d3e8-6779-4c36-a636-2d8cd549e99c",
   "metadata": {},
   "outputs": [],
   "source": [
    "exe.wait()"
   ]
  },
  {
   "cell_type": "code",
   "execution_count": 90,
   "id": "66feb98b-3f99-4bfb-9bb5-cccaf26d009b",
   "metadata": {},
   "outputs": [
    {
     "data": {
      "text/plain": [
       "[ReturnStatus(Code.DONE, None),\n",
       " ReturnStatus(Code.DONE, None),\n",
       " ReturnStatus(Code.DONE, None),\n",
       " ReturnStatus(Code.DONE, None),\n",
       " ReturnStatus(Code.DONE, None),\n",
       " ReturnStatus(Code.DONE, None),\n",
       " ReturnStatus(Code.DONE, None),\n",
       " ReturnStatus(Code.DONE, None),\n",
       " ReturnStatus(Code.DONE, None),\n",
       " ReturnStatus(Code.DONE, None)]"
      ]
     },
     "execution_count": 90,
     "metadata": {},
     "output_type": "execute_result"
    }
   ],
   "source": [
    "exe.status"
   ]
  },
  {
   "cell_type": "code",
   "execution_count": 91,
   "id": "fbb40611-9f53-479e-854c-82c8c99a8070",
   "metadata": {},
   "outputs": [
    {
     "data": {
      "text/plain": [
       "[<pyiron_contrib.tinybase.node.FunctionOutput at 0x7f12ba4a8d90>,\n",
       " <pyiron_contrib.tinybase.node.FunctionOutput at 0x7f12ba160890>,\n",
       " <pyiron_contrib.tinybase.node.FunctionOutput at 0x7f12bae8af90>,\n",
       " <pyiron_contrib.tinybase.node.FunctionOutput at 0x7f12ba4c2bd0>,\n",
       " <pyiron_contrib.tinybase.node.FunctionOutput at 0x7f12ba4c03d0>,\n",
       " <pyiron_contrib.tinybase.node.FunctionOutput at 0x7f12ba05b450>,\n",
       " <pyiron_contrib.tinybase.node.FunctionOutput at 0x7f12bae722d0>,\n",
       " <pyiron_contrib.tinybase.node.FunctionOutput at 0x7f12ba05b5d0>,\n",
       " <pyiron_contrib.tinybase.node.FunctionOutput at 0x7f12ba045c10>,\n",
       " <pyiron_contrib.tinybase.node.FunctionOutput at 0x7f12ba044050>]"
      ]
     },
     "execution_count": 91,
     "metadata": {},
     "output_type": "execute_result"
    }
   ],
   "source": [
    "exe.output"
   ]
  },
  {
   "cell_type": "code",
   "execution_count": 92,
   "id": "250f9c2d-5c71-4ddb-a94e-fd42f42cbeff",
   "metadata": {},
   "outputs": [
    {
     "data": {
      "text/plain": [
       "55"
      ]
     },
     "execution_count": 92,
     "metadata": {},
     "output_type": "execute_result"
    }
   ],
   "source": [
    "exe.output[5].result"
   ]
  },
  {
   "cell_type": "markdown",
   "id": "3fc133cd-e685-499e-b139-82fc2678652a",
   "metadata": {},
   "source": [
    "# SeriesNode"
   ]
  },
  {
   "cell_type": "code",
   "execution_count": 30,
   "id": "3dba0814-6a50-41f9-a78f-040014fdc140",
   "metadata": {},
   "outputs": [],
   "source": [
    "s = SeriesNode()"
   ]
  },
  {
   "cell_type": "code",
   "execution_count": 31,
   "id": "52aae339-ebad-4621-b2e0-c55d4fea3d1b",
   "metadata": {},
   "outputs": [],
   "source": [
    "f1 = FunctionNode(calc_fib)"
   ]
  },
  {
   "cell_type": "code",
   "execution_count": 32,
   "id": "e10f7ee9-98db-48c7-affd-465c2011f7b1",
   "metadata": {},
   "outputs": [],
   "source": [
    "f2 = FunctionNode(np.sqrt)"
   ]
  },
  {
   "cell_type": "code",
   "execution_count": 62,
   "id": "b7e58b55-b4f5-4e2a-aef5-f4e080e4d50c",
   "metadata": {},
   "outputs": [],
   "source": [
    "def transfer(input, output):\n",
    "    input.args = [output.result]"
   ]
  },
  {
   "cell_type": "code",
   "execution_count": 63,
   "id": "b4b2212a-64df-4284-834d-8836c9a59b70",
   "metadata": {},
   "outputs": [
    {
     "data": {
      "text/plain": [
       "<pyiron_contrib.tinybase.node.SeriesInput at 0x7f12bae9ca90>"
      ]
     },
     "execution_count": 63,
     "metadata": {},
     "output_type": "execute_result"
    }
   ],
   "source": [
    "s.input.first(f1).then(f2, transfer)"
   ]
  },
  {
   "cell_type": "code",
   "execution_count": 64,
   "id": "af337125-c4fe-497d-9374-b2d9301abe08",
   "metadata": {},
   "outputs": [],
   "source": [
    "s.input.nodes[0].input.kwargs['n'] = 10"
   ]
  },
  {
   "cell_type": "code",
   "execution_count": 65,
   "id": "810a17bb-9f5d-4c50-9665-fa2f93070d60",
   "metadata": {},
   "outputs": [],
   "source": [
    "status, output = s.execute()"
   ]
  },
  {
   "cell_type": "code",
   "execution_count": 66,
   "id": "4af47287-ab42-4cb4-8e65-c6efb7982ab4",
   "metadata": {},
   "outputs": [
    {
     "data": {
      "text/plain": [
       "ReturnStatus(Code.DONE, None)"
      ]
     },
     "execution_count": 66,
     "metadata": {},
     "output_type": "execute_result"
    }
   ],
   "source": [
    "status"
   ]
  },
  {
   "cell_type": "code",
   "execution_count": 67,
   "id": "705637d8-8da7-4429-ae6f-5401fc15cc9e",
   "metadata": {},
   "outputs": [
    {
     "data": {
      "text/plain": [
       "12.0"
      ]
     },
     "execution_count": 67,
     "metadata": {},
     "output_type": "execute_result"
    }
   ],
   "source": [
    "output.result"
   ]
  },
  {
   "cell_type": "markdown",
   "id": "fc672a15-6943-410e-91b2-7dfac8326948",
   "metadata": {},
   "source": [
    "# Loop Node"
   ]
  },
  {
   "cell_type": "markdown",
   "id": "adbced5b-dfa6-408e-ae01-e0a341c217e6",
   "metadata": {},
   "source": [
    "## Simple repeat loop"
   ]
  },
  {
   "cell_type": "code",
   "execution_count": 38,
   "id": "b9807c98-6df8-450f-a8dd-1a53cb4ded35",
   "metadata": {},
   "outputs": [],
   "source": [
    "l = LoopNode()"
   ]
  },
  {
   "cell_type": "code",
   "execution_count": 39,
   "id": "ac2b9aa8-c118-4a1a-bf8b-96d6853b9be6",
   "metadata": {},
   "outputs": [],
   "source": [
    "l.input.node = FunctionNode(lambda: np.random.rand())"
   ]
  },
  {
   "cell_type": "code",
   "execution_count": 40,
   "id": "ef092015-5756-409a-bd1a-a31793c0b2b8",
   "metadata": {},
   "outputs": [],
   "source": [
    "l.input.repeat(10, restart=lambda output, input, scratch: print(output.result))"
   ]
  },
  {
   "cell_type": "code",
   "execution_count": 41,
   "id": "91a3d26f-d1fc-44a9-b06d-a9c452dfb3db",
   "metadata": {},
   "outputs": [
    {
     "name": "stdout",
     "output_type": "stream",
     "text": [
      "0.06831008568469543\n",
      "0.4397644993497386\n",
      "0.4710237017187203\n",
      "0.6351871327200411\n",
      "0.09403372149094191\n",
      "0.45571674954951835\n",
      "0.8693040125694965\n",
      "0.03592129945541278\n",
      "0.2842080026440601\n"
     ]
    }
   ],
   "source": [
    "exe = l.run()"
   ]
  },
  {
   "cell_type": "code",
   "execution_count": 42,
   "id": "dbc8730e-9ebc-403b-9987-0de04e1f77f3",
   "metadata": {},
   "outputs": [
    {
     "data": {
      "text/plain": [
       "(ReturnStatus(Code.DONE, None),)"
      ]
     },
     "execution_count": 42,
     "metadata": {},
     "output_type": "execute_result"
    }
   ],
   "source": [
    "exe.status"
   ]
  },
  {
   "cell_type": "markdown",
   "id": "1be0a463-f003-4a43-80a3-3e70df03a0bc",
   "metadata": {},
   "source": [
    "## Loop with a termination condition"
   ]
  },
  {
   "cell_type": "code",
   "execution_count": 93,
   "id": "6c251bfa-e8cf-4e1a-990d-451ebb53f713",
   "metadata": {},
   "outputs": [],
   "source": [
    "l = LoopNode()"
   ]
  },
  {
   "cell_type": "code",
   "execution_count": 94,
   "id": "563c7fe1-b96f-463c-8903-50f054c831f6",
   "metadata": {},
   "outputs": [],
   "source": [
    "l.input.node = FunctionNode(lambda: np.random.rand())"
   ]
  },
  {
   "cell_type": "code",
   "execution_count": 99,
   "id": "10130bfd-636f-4771-b30b-4648a8822f04",
   "metadata": {},
   "outputs": [],
   "source": [
    "l.input.control_with(\n",
    "    condition=lambda node, output, scratch: output.result < .05,\n",
    "    restart=lambda output, input, scratch: print(output.result)\n",
    ")"
   ]
  },
  {
   "cell_type": "code",
   "execution_count": 100,
   "id": "f875b6c9-8cd1-4e6b-9ec8-16b93b6e7f64",
   "metadata": {
    "scrolled": true,
    "tags": []
   },
   "outputs": [
    {
     "name": "stdout",
     "output_type": "stream",
     "text": [
      "0.6180549529309188\n",
      "0.9433407283326789\n",
      "0.6650129766719227\n",
      "0.9246096624581522\n",
      "0.702924921444492\n",
      "0.4932765584360923\n",
      "0.10209510690867707\n",
      "0.19723819666451714\n",
      "0.6319420933414326\n",
      "0.9376161926340415\n",
      "0.1911762555082791\n",
      "0.7812203005244642\n",
      "0.36658807729956766\n",
      "0.997651587491596\n",
      "0.17214861003243775\n",
      "0.49700246072622345\n",
      "0.8929166329882523\n",
      "0.9069634041837235\n",
      "0.928329630027329\n",
      "0.14530372536131697\n",
      "0.4551759858923593\n",
      "0.8299354186855429\n",
      "0.9971370925238271\n",
      "0.3922295916439884\n",
      "0.43629137886178726\n",
      "0.13481396015844416\n",
      "0.06396401175605293\n",
      "0.0502648932556814\n",
      "0.0919464823724655\n",
      "0.2478196375875663\n",
      "0.5547919839305524\n",
      "0.9950273201349219\n",
      "0.7490433592510488\n",
      "0.5708404460188841\n",
      "0.2800227217981094\n",
      "0.452859610657651\n",
      "0.5086825431878267\n",
      "0.7486390124589416\n",
      "0.34312007912192777\n",
      "0.771168396478236\n",
      "0.4539288607160801\n",
      "0.7642828950901653\n",
      "0.9944398067831015\n",
      "0.8876987515750713\n",
      "0.7498600155938839\n",
      "0.8124747754930199\n",
      "0.9020421405237081\n",
      "0.40694715335295206\n",
      "0.6880129743298647\n",
      "0.8457057679143185\n",
      "0.10612064010204925\n",
      "0.4658543363818123\n",
      "0.35949607240217285\n",
      "0.9031175105972618\n",
      "0.651652451274804\n",
      "0.40381401433722386\n",
      "0.6465594430809206\n",
      "0.1129458759346127\n",
      "0.07455862107161915\n",
      "0.7246939877012769\n",
      "0.6406247398029579\n",
      "0.3875703065028444\n",
      "0.6329595311691336\n",
      "0.16772887766889388\n",
      "0.4353447524968901\n",
      "0.8271185273102784\n",
      "0.5888175907051821\n",
      "0.7213444488699345\n"
     ]
    }
   ],
   "source": [
    "exe = l.run()"
   ]
  },
  {
   "cell_type": "code",
   "execution_count": 101,
   "id": "8df83822-0bbd-4157-8bb2-f6e93433eefc",
   "metadata": {},
   "outputs": [
    {
     "data": {
      "text/plain": [
       "ReturnStatus(Code.DONE, None)"
      ]
     },
     "execution_count": 101,
     "metadata": {},
     "output_type": "execute_result"
    }
   ],
   "source": [
    "exe.status[0]"
   ]
  },
  {
   "cell_type": "code",
   "execution_count": 102,
   "id": "815ba264-9bdb-4758-ab20-92e3650bdbae",
   "metadata": {},
   "outputs": [
    {
     "data": {
      "text/plain": [
       "0.022068342941342967"
      ]
     },
     "execution_count": 102,
     "metadata": {},
     "output_type": "execute_result"
    }
   ],
   "source": [
    "exe.output[0].result"
   ]
  }
 ],
 "metadata": {
  "kernelspec": {
   "display_name": "Python 3 (ipykernel)",
   "language": "python",
   "name": "python3"
  },
  "language_info": {
   "codemirror_mode": {
    "name": "ipython",
    "version": 3
   },
   "file_extension": ".py",
   "mimetype": "text/x-python",
   "name": "python",
   "nbconvert_exporter": "python",
   "pygments_lexer": "ipython3",
   "version": "3.11.0"
  },
  "widgets": {
   "application/vnd.jupyter.widget-state+json": {
    "state": {
     "a0f7f042a295465588d884090818b8a6": {
      "model_module": "@jupyter-widgets/base",
      "model_module_version": "1.2.0",
      "model_name": "LayoutModel",
      "state": {}
     },
     "d1c3ced555be42948758b8ee70dfe5a8": {
      "model_module": "nglview-js-widgets",
      "model_module_version": "3.0.1",
      "model_name": "ColormakerRegistryModel",
      "state": {
       "_msg_ar": [],
       "_msg_q": [],
       "_ready": true,
       "layout": "IPY_MODEL_a0f7f042a295465588d884090818b8a6"
      }
     }
    },
    "version_major": 2,
    "version_minor": 0
   }
  }
 },
 "nbformat": 4,
 "nbformat_minor": 5
}
