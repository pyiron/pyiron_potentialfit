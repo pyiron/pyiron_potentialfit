{
 "cells": [
  {
   "cell_type": "markdown",
   "id": "ef2b1629-437d-45d8-b9d1-1cf3a6bf9d08",
   "metadata": {},
   "source": [
    "# Imports"
   ]
  },
  {
   "cell_type": "code",
   "execution_count": 1,
   "id": "fd11c1fd-6b5b-4739-ad10-9ebe47c0db49",
   "metadata": {},
   "outputs": [
    {
     "name": "stderr",
     "output_type": "stream",
     "text": [
      "/home/ponder/science/phd/dev/pyiron_contrib/pyiron_contrib/__init__.py:9: UserWarning: pyiron module not found, importing Project from pyiron_base\n",
      "  warnings.warn(\"pyiron module not found, importing Project from pyiron_base\")\n"
     ]
    },
    {
     "data": {
      "application/vnd.jupyter.widget-view+json": {
       "model_id": "cf2ad1379a3b4306981fef55c99a0e26",
       "version_major": 2,
       "version_minor": 0
      },
      "text/plain": []
     },
     "metadata": {},
     "output_type": "display_data"
    }
   ],
   "source": [
    "from pyiron_contrib.tinybase.node import AbstractNode, FunctionNode, SeriesNode, LoopNode"
   ]
  },
  {
   "cell_type": "code",
   "execution_count": 2,
   "id": "95594ff4-2f77-49c2-b4a2-467268ecac00",
   "metadata": {},
   "outputs": [],
   "source": [
    "from pyiron_contrib.tinybase.executor import ProcessExecutor, BackgroundExecutor, Executor"
   ]
  },
  {
   "cell_type": "code",
   "execution_count": 3,
   "id": "88b1b600-28e0-4ad9-82d6-b2bd993efbda",
   "metadata": {},
   "outputs": [],
   "source": [
    "import logging\n",
    "logging.getLogger().setLevel(20)"
   ]
  },
  {
   "cell_type": "code",
   "execution_count": 4,
   "id": "e3d8cf33-1f39-4ef9-b92c-2dfd43cf4dd3",
   "metadata": {},
   "outputs": [],
   "source": [
    "import numpy as np"
   ]
  },
  {
   "cell_type": "markdown",
   "id": "5a1c480f-545b-411b-9cfc-a50af282de29",
   "metadata": {},
   "source": [
    "# Function Node"
   ]
  },
  {
   "cell_type": "markdown",
   "id": "756bef2c-7a16-40bb-8dee-9e9becf353f3",
   "metadata": {},
   "source": [
    "## Basic"
   ]
  },
  {
   "cell_type": "code",
   "execution_count": 5,
   "id": "9f2f3102-d15c-470a-b38c-f8084c9535ec",
   "metadata": {},
   "outputs": [],
   "source": [
    "def calc_fib(n):\n",
    "    import time\n",
    "    n1 = n2 = 1\n",
    "    for i in range(n):\n",
    "        time.sleep(.1)\n",
    "        x = n1 + n2\n",
    "        n1 = n2\n",
    "        n2 = x\n",
    "    return x"
   ]
  },
  {
   "cell_type": "code",
   "execution_count": 6,
   "id": "e125f49c-257b-4a24-bc81-83fe345d1dcf",
   "metadata": {},
   "outputs": [],
   "source": [
    "f = FunctionNode(calc_fib)"
   ]
  },
  {
   "cell_type": "code",
   "execution_count": 7,
   "id": "324f3c10-385e-4577-b089-c305f8203ca5",
   "metadata": {},
   "outputs": [
    {
     "data": {
      "application/json": [],
      "text/html": [
       "<pre>DataContainer([])</pre>"
      ],
      "text/plain": [
       "DataContainer([])"
      ]
     },
     "execution_count": 7,
     "metadata": {},
     "output_type": "execute_result"
    }
   ],
   "source": [
    "f.input.storage"
   ]
  },
  {
   "cell_type": "code",
   "execution_count": 8,
   "id": "6c1f5af7-f5e9-41d9-a849-bab0ebc7dd9f",
   "metadata": {},
   "outputs": [
    {
     "data": {
      "text/plain": [
       "[]"
      ]
     },
     "execution_count": 8,
     "metadata": {},
     "output_type": "execute_result"
    }
   ],
   "source": [
    "f.input.args"
   ]
  },
  {
   "cell_type": "code",
   "execution_count": 9,
   "id": "e0afb76d-d1b7-4b42-925f-fb117d58025e",
   "metadata": {},
   "outputs": [
    {
     "data": {
      "text/plain": [
       "{}"
      ]
     },
     "execution_count": 9,
     "metadata": {},
     "output_type": "execute_result"
    }
   ],
   "source": [
    "f.input.kwargs"
   ]
  },
  {
   "cell_type": "code",
   "execution_count": 10,
   "id": "6a5c3235-9c6b-481f-b316-db7420d1ad43",
   "metadata": {},
   "outputs": [],
   "source": [
    "f.input.kwargs['n'] = 10"
   ]
  },
  {
   "cell_type": "code",
   "execution_count": 11,
   "id": "4ade8d6a-6ce2-4f3a-b43d-71e1f87125bf",
   "metadata": {},
   "outputs": [
    {
     "data": {
      "text/plain": [
       "{'n': 10}"
      ]
     },
     "execution_count": 11,
     "metadata": {},
     "output_type": "execute_result"
    }
   ],
   "source": [
    "f.input.kwargs"
   ]
  },
  {
   "cell_type": "code",
   "execution_count": 12,
   "id": "a39cfb50-4ed6-49ab-8ffb-af236cf61153",
   "metadata": {},
   "outputs": [],
   "source": [
    "exe = f.run()"
   ]
  },
  {
   "cell_type": "code",
   "execution_count": 13,
   "id": "aa095e57-3d3c-4af5-9a94-eda6af34e2b3",
   "metadata": {},
   "outputs": [
    {
     "data": {
      "text/plain": [
       "{'status': (ReturnStatus(Code.DONE, None),),\n",
       " 'output': (<pyiron_contrib.tinybase.node.FunctionOutput at 0x7fa49a99ec90>,)}"
      ]
     },
     "execution_count": 13,
     "metadata": {},
     "output_type": "execute_result"
    }
   ],
   "source": [
    "exe._run_machine._data"
   ]
  },
  {
   "cell_type": "code",
   "execution_count": 14,
   "id": "82d0ca07-12c2-4cd9-bba3-1f210a907b41",
   "metadata": {},
   "outputs": [
    {
     "data": {
      "text/plain": [
       "144"
      ]
     },
     "execution_count": 14,
     "metadata": {},
     "output_type": "execute_result"
    }
   ],
   "source": [
    "exe.output[0].result"
   ]
  },
  {
   "cell_type": "code",
   "execution_count": 15,
   "id": "24994f4a-d5cd-4aad-857f-a33ddd0eaf23",
   "metadata": {},
   "outputs": [
    {
     "data": {
      "text/plain": [
       "(1.0009997060114983, 9.59599856287241e-06)"
      ]
     },
     "execution_count": 15,
     "metadata": {},
     "output_type": "execute_result"
    }
   ],
   "source": [
    "exe._run_time, exe._collect_time"
   ]
  },
  {
   "cell_type": "markdown",
   "id": "a6cbcd0e-2a04-4e93-add5-0f423fc1fa69",
   "metadata": {},
   "source": [
    "## We don't actually have to use an executor if we just want a result"
   ]
  },
  {
   "cell_type": "code",
   "execution_count": 16,
   "id": "a622ef14-4543-4cc1-bdfe-3625052f9b04",
   "metadata": {},
   "outputs": [],
   "source": [
    "f = FunctionNode(calc_fib)"
   ]
  },
  {
   "cell_type": "code",
   "execution_count": 17,
   "id": "b0a0ff5d-6c5f-4c66-bc71-a9de5bf58220",
   "metadata": {},
   "outputs": [],
   "source": [
    "f.input.kwargs['n'] = 10"
   ]
  },
  {
   "cell_type": "code",
   "execution_count": 18,
   "id": "b196759b-8cd6-45c7-8d3f-aad861b02edc",
   "metadata": {},
   "outputs": [
    {
     "data": {
      "text/plain": [
       "(ReturnStatus(Code.DONE, None),\n",
       " <pyiron_contrib.tinybase.node.FunctionOutput at 0x7fa49a76d510>)"
      ]
     },
     "execution_count": 18,
     "metadata": {},
     "output_type": "execute_result"
    }
   ],
   "source": [
    "f.execute()"
   ]
  },
  {
   "cell_type": "markdown",
   "id": "8a3b6481-3605-44d3-8061-cb00c9fbcd34",
   "metadata": {},
   "source": [
    "## Do the same but in the background"
   ]
  },
  {
   "cell_type": "code",
   "execution_count": 19,
   "id": "1e1b986e-9e00-41f2-86c2-945ff7818580",
   "metadata": {},
   "outputs": [],
   "source": [
    "f = FunctionNode(calc_fib)"
   ]
  },
  {
   "cell_type": "code",
   "execution_count": 20,
   "id": "0b612150-f654-4995-8910-e46e766fdce2",
   "metadata": {},
   "outputs": [],
   "source": [
    "f.input.kwargs['n'] = 100"
   ]
  },
  {
   "cell_type": "code",
   "execution_count": 21,
   "id": "bac98046-09c1-457c-881a-e31f03267788",
   "metadata": {},
   "outputs": [],
   "source": [
    "exe = f.run(how='background')"
   ]
  },
  {
   "cell_type": "code",
   "execution_count": 22,
   "id": "ba09ae22-d2b4-41ba-8637-cb7f0fb3bfe9",
   "metadata": {},
   "outputs": [
    {
     "data": {
      "text/plain": [
       "{}"
      ]
     },
     "execution_count": 22,
     "metadata": {},
     "output_type": "execute_result"
    }
   ],
   "source": [
    "exe._run_machine._data"
   ]
  },
  {
   "cell_type": "code",
   "execution_count": 23,
   "id": "0d2f427a-21e1-449e-a8cc-c2296bff6c10",
   "metadata": {},
   "outputs": [
    {
     "data": {
      "text/plain": [
       "<Code.RUNNING: 'running'>"
      ]
     },
     "execution_count": 23,
     "metadata": {},
     "output_type": "execute_result"
    }
   ],
   "source": [
    "exe._run_machine.state"
   ]
  },
  {
   "cell_type": "code",
   "execution_count": 24,
   "id": "a9631d5e-d46a-419c-a929-68ddd77487bb",
   "metadata": {},
   "outputs": [],
   "source": [
    "exe.wait()"
   ]
  },
  {
   "cell_type": "code",
   "execution_count": 25,
   "id": "408ffab0-70a1-4d08-9007-4d9f0513935d",
   "metadata": {},
   "outputs": [
    {
     "data": {
      "text/plain": [
       "927372692193078999176"
      ]
     },
     "execution_count": 25,
     "metadata": {},
     "output_type": "execute_result"
    }
   ],
   "source": [
    "exe.output[0].result"
   ]
  },
  {
   "cell_type": "markdown",
   "id": "c255f51a-950f-4e2e-a9b9-feb2f64f3ac5",
   "metadata": {},
   "source": [
    "## Do the same but in the background as process"
   ]
  },
  {
   "cell_type": "code",
   "execution_count": 26,
   "id": "1e2178c0-ee70-4ec0-8b4b-2c7c55873b43",
   "metadata": {},
   "outputs": [],
   "source": [
    "fib_node = FunctionNode(calc_fib)"
   ]
  },
  {
   "cell_type": "code",
   "execution_count": 27,
   "id": "998c4724-c7ab-4fc0-8794-8b60da819090",
   "metadata": {},
   "outputs": [],
   "source": [
    "fib_node.input.kwargs['n'] = 100"
   ]
  },
  {
   "cell_type": "code",
   "execution_count": 28,
   "id": "7b66b215-33cd-425c-bb9b-62e3eaa0451e",
   "metadata": {},
   "outputs": [],
   "source": [
    "exe = fib_node.run(how='process')"
   ]
  },
  {
   "cell_type": "code",
   "execution_count": 29,
   "id": "fcdcbe0b-f44a-4c37-acd8-10eedf5b3aa2",
   "metadata": {},
   "outputs": [
    {
     "data": {
      "text/plain": [
       "{}"
      ]
     },
     "execution_count": 29,
     "metadata": {},
     "output_type": "execute_result"
    }
   ],
   "source": [
    "exe._run_machine._data"
   ]
  },
  {
   "cell_type": "code",
   "execution_count": 30,
   "id": "5354db31-169d-4c7b-a8cc-6ddc3358b4c1",
   "metadata": {},
   "outputs": [
    {
     "data": {
      "text/plain": [
       "<Code.RUNNING: 'running'>"
      ]
     },
     "execution_count": 30,
     "metadata": {},
     "output_type": "execute_result"
    }
   ],
   "source": [
    "exe._run_machine.state"
   ]
  },
  {
   "cell_type": "code",
   "execution_count": 31,
   "id": "282a6ae8-e869-4ae2-bfea-8644ba693866",
   "metadata": {},
   "outputs": [],
   "source": [
    "exe.wait()"
   ]
  },
  {
   "cell_type": "code",
   "execution_count": 32,
   "id": "fd24c4c8-6b17-433f-ac28-a490911a3628",
   "metadata": {},
   "outputs": [
    {
     "data": {
      "text/plain": [
       "927372692193078999176"
      ]
     },
     "execution_count": 32,
     "metadata": {},
     "output_type": "execute_result"
    }
   ],
   "source": [
    "exe.output[0].result"
   ]
  },
  {
   "cell_type": "markdown",
   "id": "85ec26e2-db1f-4858-a3ab-b7955e85e572",
   "metadata": {},
   "source": [
    "# Executors handle single nodes and lists of them on the same footing"
   ]
  },
  {
   "cell_type": "code",
   "execution_count": 33,
   "id": "e2fed9f1-590b-4ab5-9922-a126444e6169",
   "metadata": {},
   "outputs": [],
   "source": [
    "nodes = [FunctionNode(calc_fib) for _ in range(10)]"
   ]
  },
  {
   "cell_type": "code",
   "execution_count": 34,
   "id": "fdfc8943-8c0b-4bc6-98f0-71a64b3fae27",
   "metadata": {},
   "outputs": [],
   "source": [
    "for i, n in enumerate(nodes):\n",
    "    n.input.kwargs['n'] = 3 + i"
   ]
  },
  {
   "cell_type": "markdown",
   "id": "cdb9c07d-a153-4e0c-926e-96702b64cbd3",
   "metadata": {},
   "source": [
    "## With the basic executor"
   ]
  },
  {
   "cell_type": "code",
   "execution_count": 35,
   "id": "dd709cfa-775f-41c1-a015-7e0647ec3d27",
   "metadata": {
    "scrolled": true,
    "tags": []
   },
   "outputs": [],
   "source": [
    "exe = Executor(nodes)\n",
    "exe.run()"
   ]
  },
  {
   "cell_type": "code",
   "execution_count": 36,
   "id": "0ac1b35a-b130-4330-bf20-a1222bdc6103",
   "metadata": {},
   "outputs": [
    {
     "data": {
      "text/plain": [
       "(<pyiron_contrib.tinybase.node.FunctionOutput at 0x7fa49acb3750>,\n",
       " <pyiron_contrib.tinybase.node.FunctionOutput at 0x7fa49a78af50>,\n",
       " <pyiron_contrib.tinybase.node.FunctionOutput at 0x7fa49a78b050>,\n",
       " <pyiron_contrib.tinybase.node.FunctionOutput at 0x7fa49a78b150>,\n",
       " <pyiron_contrib.tinybase.node.FunctionOutput at 0x7fa49a78b250>,\n",
       " <pyiron_contrib.tinybase.node.FunctionOutput at 0x7fa49a78b310>,\n",
       " <pyiron_contrib.tinybase.node.FunctionOutput at 0x7fa49a78b4d0>,\n",
       " <pyiron_contrib.tinybase.node.FunctionOutput at 0x7fa49a78b650>,\n",
       " <pyiron_contrib.tinybase.node.FunctionOutput at 0x7fa49a78b7d0>,\n",
       " <pyiron_contrib.tinybase.node.FunctionOutput at 0x7fa49a78b350>)"
      ]
     },
     "execution_count": 36,
     "metadata": {},
     "output_type": "execute_result"
    }
   ],
   "source": [
    "exe.output"
   ]
  },
  {
   "cell_type": "code",
   "execution_count": 37,
   "id": "1ef8d9d6-e5dc-4db1-9e20-7181321f07ce",
   "metadata": {},
   "outputs": [
    {
     "data": {
      "text/plain": [
       "55"
      ]
     },
     "execution_count": 37,
     "metadata": {},
     "output_type": "execute_result"
    }
   ],
   "source": [
    "exe.output[5].result"
   ]
  },
  {
   "cell_type": "markdown",
   "id": "4106ad2f-ece3-41d6-bed1-b340e434bec1",
   "metadata": {},
   "source": [
    "## With the process executor"
   ]
  },
  {
   "cell_type": "code",
   "execution_count": 38,
   "id": "25fe617c-ae8e-4b83-bf58-b790441a1126",
   "metadata": {
    "scrolled": true,
    "tags": []
   },
   "outputs": [],
   "source": [
    "exe = ProcessExecutor(nodes)\n",
    "exe.run()"
   ]
  },
  {
   "cell_type": "code",
   "execution_count": 39,
   "id": "19e5d3e8-6779-4c36-a636-2d8cd549e99c",
   "metadata": {},
   "outputs": [],
   "source": [
    "exe.wait()"
   ]
  },
  {
   "cell_type": "code",
   "execution_count": 40,
   "id": "66feb98b-3f99-4bfb-9bb5-cccaf26d009b",
   "metadata": {},
   "outputs": [
    {
     "data": {
      "text/plain": [
       "[ReturnStatus(Code.DONE, None),\n",
       " ReturnStatus(Code.DONE, None),\n",
       " ReturnStatus(Code.DONE, None),\n",
       " ReturnStatus(Code.DONE, None),\n",
       " ReturnStatus(Code.DONE, None),\n",
       " ReturnStatus(Code.DONE, None),\n",
       " ReturnStatus(Code.DONE, None),\n",
       " ReturnStatus(Code.DONE, None),\n",
       " ReturnStatus(Code.DONE, None),\n",
       " ReturnStatus(Code.DONE, None)]"
      ]
     },
     "execution_count": 40,
     "metadata": {},
     "output_type": "execute_result"
    }
   ],
   "source": [
    "exe.status"
   ]
  },
  {
   "cell_type": "code",
   "execution_count": 41,
   "id": "fbb40611-9f53-479e-854c-82c8c99a8070",
   "metadata": {},
   "outputs": [
    {
     "data": {
      "text/plain": [
       "[<pyiron_contrib.tinybase.node.FunctionOutput at 0x7fa49a7a7e90>,\n",
       " <pyiron_contrib.tinybase.node.FunctionOutput at 0x7fa49a7b01d0>,\n",
       " <pyiron_contrib.tinybase.node.FunctionOutput at 0x7fa49a760290>,\n",
       " <pyiron_contrib.tinybase.node.FunctionOutput at 0x7fa49a760590>,\n",
       " <pyiron_contrib.tinybase.node.FunctionOutput at 0x7fa49a7b0610>,\n",
       " <pyiron_contrib.tinybase.node.FunctionOutput at 0x7fa49a7b0a90>,\n",
       " <pyiron_contrib.tinybase.node.FunctionOutput at 0x7fa49a742850>,\n",
       " <pyiron_contrib.tinybase.node.FunctionOutput at 0x7fa49a77ad50>,\n",
       " <pyiron_contrib.tinybase.node.FunctionOutput at 0x7fa49a7b0e50>,\n",
       " <pyiron_contrib.tinybase.node.FunctionOutput at 0x7fa49a7b13d0>]"
      ]
     },
     "execution_count": 41,
     "metadata": {},
     "output_type": "execute_result"
    }
   ],
   "source": [
    "exe.output"
   ]
  },
  {
   "cell_type": "code",
   "execution_count": 42,
   "id": "250f9c2d-5c71-4ddb-a94e-fd42f42cbeff",
   "metadata": {},
   "outputs": [
    {
     "data": {
      "text/plain": [
       "55"
      ]
     },
     "execution_count": 42,
     "metadata": {},
     "output_type": "execute_result"
    }
   ],
   "source": [
    "exe.output[5].result"
   ]
  },
  {
   "cell_type": "markdown",
   "id": "3fc133cd-e685-499e-b139-82fc2678652a",
   "metadata": {},
   "source": [
    "# SeriesNode"
   ]
  },
  {
   "cell_type": "code",
   "execution_count": 43,
   "id": "3dba0814-6a50-41f9-a78f-040014fdc140",
   "metadata": {},
   "outputs": [],
   "source": [
    "s = SeriesNode()"
   ]
  },
  {
   "cell_type": "code",
   "execution_count": 44,
   "id": "52aae339-ebad-4621-b2e0-c55d4fea3d1b",
   "metadata": {},
   "outputs": [],
   "source": [
    "f1 = FunctionNode(calc_fib)"
   ]
  },
  {
   "cell_type": "code",
   "execution_count": 45,
   "id": "e10f7ee9-98db-48c7-affd-465c2011f7b1",
   "metadata": {},
   "outputs": [],
   "source": [
    "f2 = FunctionNode(np.sqrt)"
   ]
  },
  {
   "cell_type": "code",
   "execution_count": 46,
   "id": "b7e58b55-b4f5-4e2a-aef5-f4e080e4d50c",
   "metadata": {},
   "outputs": [],
   "source": [
    "def transfer(input, output):\n",
    "    input.args = [output.result]"
   ]
  },
  {
   "cell_type": "code",
   "execution_count": 47,
   "id": "b4b2212a-64df-4284-834d-8836c9a59b70",
   "metadata": {},
   "outputs": [
    {
     "data": {
      "text/plain": [
       "<pyiron_contrib.tinybase.node.SeriesInput at 0x7fa49a7b3090>"
      ]
     },
     "execution_count": 47,
     "metadata": {},
     "output_type": "execute_result"
    }
   ],
   "source": [
    "s.input.first(f1).then(f2, transfer)"
   ]
  },
  {
   "cell_type": "code",
   "execution_count": 48,
   "id": "af337125-c4fe-497d-9374-b2d9301abe08",
   "metadata": {},
   "outputs": [],
   "source": [
    "s.input.nodes[0].input.kwargs['n'] = 10"
   ]
  },
  {
   "cell_type": "code",
   "execution_count": 49,
   "id": "810a17bb-9f5d-4c50-9665-fa2f93070d60",
   "metadata": {},
   "outputs": [],
   "source": [
    "status, output = s.execute()"
   ]
  },
  {
   "cell_type": "code",
   "execution_count": 50,
   "id": "4af47287-ab42-4cb4-8e65-c6efb7982ab4",
   "metadata": {},
   "outputs": [
    {
     "data": {
      "text/plain": [
       "ReturnStatus(Code.DONE, None)"
      ]
     },
     "execution_count": 50,
     "metadata": {},
     "output_type": "execute_result"
    }
   ],
   "source": [
    "status"
   ]
  },
  {
   "cell_type": "code",
   "execution_count": 51,
   "id": "705637d8-8da7-4429-ae6f-5401fc15cc9e",
   "metadata": {},
   "outputs": [
    {
     "data": {
      "text/plain": [
       "12.0"
      ]
     },
     "execution_count": 51,
     "metadata": {},
     "output_type": "execute_result"
    }
   ],
   "source": [
    "output.result"
   ]
  },
  {
   "cell_type": "markdown",
   "id": "fc672a15-6943-410e-91b2-7dfac8326948",
   "metadata": {},
   "source": [
    "# Loop Node"
   ]
  },
  {
   "cell_type": "markdown",
   "id": "adbced5b-dfa6-408e-ae01-e0a341c217e6",
   "metadata": {},
   "source": [
    "## Simple repeat loop"
   ]
  },
  {
   "cell_type": "code",
   "execution_count": 52,
   "id": "b9807c98-6df8-450f-a8dd-1a53cb4ded35",
   "metadata": {},
   "outputs": [],
   "source": [
    "l = LoopNode()"
   ]
  },
  {
   "cell_type": "code",
   "execution_count": 53,
   "id": "ac2b9aa8-c118-4a1a-bf8b-96d6853b9be6",
   "metadata": {},
   "outputs": [],
   "source": [
    "l.input.node = FunctionNode(lambda: np.random.rand())"
   ]
  },
  {
   "cell_type": "code",
   "execution_count": 54,
   "id": "ef092015-5756-409a-bd1a-a31793c0b2b8",
   "metadata": {},
   "outputs": [],
   "source": [
    "l.input.repeat(10, restart=lambda output, input, scratch: print(output.result))"
   ]
  },
  {
   "cell_type": "code",
   "execution_count": 55,
   "id": "91a3d26f-d1fc-44a9-b06d-a9c452dfb3db",
   "metadata": {},
   "outputs": [
    {
     "name": "stdout",
     "output_type": "stream",
     "text": [
      "0.6416842803528255\n",
      "0.7583838349829116\n",
      "0.25412630351718535\n",
      "0.978146926974964\n",
      "0.6346764217817196\n",
      "0.8760354316006344\n",
      "0.3598792613379673\n",
      "0.7532969335152777\n",
      "0.3682944984993325\n"
     ]
    }
   ],
   "source": [
    "exe = l.run()"
   ]
  },
  {
   "cell_type": "code",
   "execution_count": 56,
   "id": "dbc8730e-9ebc-403b-9987-0de04e1f77f3",
   "metadata": {},
   "outputs": [
    {
     "data": {
      "text/plain": [
       "(ReturnStatus(Code.DONE, None),)"
      ]
     },
     "execution_count": 56,
     "metadata": {},
     "output_type": "execute_result"
    }
   ],
   "source": [
    "exe.status"
   ]
  },
  {
   "cell_type": "markdown",
   "id": "1be0a463-f003-4a43-80a3-3e70df03a0bc",
   "metadata": {},
   "source": [
    "## Loop with a termination condition"
   ]
  },
  {
   "cell_type": "code",
   "execution_count": 57,
   "id": "6c251bfa-e8cf-4e1a-990d-451ebb53f713",
   "metadata": {},
   "outputs": [],
   "source": [
    "l = LoopNode()"
   ]
  },
  {
   "cell_type": "code",
   "execution_count": 58,
   "id": "563c7fe1-b96f-463c-8903-50f054c831f6",
   "metadata": {},
   "outputs": [],
   "source": [
    "l.input.node = FunctionNode(lambda: np.random.rand())"
   ]
  },
  {
   "cell_type": "code",
   "execution_count": 59,
   "id": "10130bfd-636f-4771-b30b-4648a8822f04",
   "metadata": {},
   "outputs": [],
   "source": [
    "l.input.control_with(\n",
    "    condition=lambda node, output, scratch: output.result < .05,\n",
    "    restart=lambda output, input, scratch: print(output.result)\n",
    ")"
   ]
  },
  {
   "cell_type": "code",
   "execution_count": 60,
   "id": "f875b6c9-8cd1-4e6b-9ec8-16b93b6e7f64",
   "metadata": {
    "scrolled": true,
    "tags": []
   },
   "outputs": [
    {
     "name": "stdout",
     "output_type": "stream",
     "text": [
      "0.9413063812991156\n",
      "0.057607401981599304\n",
      "0.5397672296450867\n",
      "0.09250834651031281\n",
      "0.07879485371081929\n",
      "0.11682404864093698\n",
      "0.40972529768552957\n",
      "0.4949451538792201\n",
      "0.4185353179411203\n",
      "0.8901597039186674\n",
      "0.7351951144010666\n",
      "0.23869310822669132\n",
      "0.31807750515467925\n",
      "0.4612495341559427\n",
      "0.7640290216688888\n",
      "0.3869288752008373\n",
      "0.23391774163562495\n",
      "0.5139434388248725\n",
      "0.6190472000582091\n",
      "0.22725085086512875\n",
      "0.8568498193403175\n",
      "0.20466606514335917\n",
      "0.6031013104131141\n",
      "0.4322284299797473\n",
      "0.6921598384356622\n",
      "0.9143146262866392\n",
      "0.7142585471813697\n",
      "0.8067120253887571\n",
      "0.2985613290985082\n",
      "0.08197401100526269\n",
      "0.8502914897450804\n",
      "0.5441851005084206\n",
      "0.4514940877891841\n",
      "0.4895956404459735\n",
      "0.23293653173840512\n",
      "0.9152221474508541\n",
      "0.35937794575487036\n",
      "0.9560404151460253\n",
      "0.1681320614012014\n",
      "0.3887573415069143\n",
      "0.936771887470757\n",
      "0.8987739992014511\n",
      "0.22822592639583683\n",
      "0.5306744820161604\n",
      "0.21711390374139883\n",
      "0.7720820846158695\n",
      "0.694832684749003\n",
      "0.9880804928246634\n",
      "0.8877319250523327\n",
      "0.7389376534050393\n"
     ]
    }
   ],
   "source": [
    "exe = l.run()"
   ]
  },
  {
   "cell_type": "code",
   "execution_count": 61,
   "id": "8df83822-0bbd-4157-8bb2-f6e93433eefc",
   "metadata": {},
   "outputs": [
    {
     "data": {
      "text/plain": [
       "ReturnStatus(Code.DONE, None)"
      ]
     },
     "execution_count": 61,
     "metadata": {},
     "output_type": "execute_result"
    }
   ],
   "source": [
    "exe.status[0]"
   ]
  },
  {
   "cell_type": "code",
   "execution_count": 62,
   "id": "815ba264-9bdb-4758-ab20-92e3650bdbae",
   "metadata": {},
   "outputs": [
    {
     "data": {
      "text/plain": [
       "0.03279942765741395"
      ]
     },
     "execution_count": 62,
     "metadata": {},
     "output_type": "execute_result"
    }
   ],
   "source": [
    "exe.output[0].result"
   ]
  }
 ],
 "metadata": {
  "kernelspec": {
   "display_name": "Python 3 (ipykernel)",
   "language": "python",
   "name": "python3"
  },
  "language_info": {
   "codemirror_mode": {
    "name": "ipython",
    "version": 3
   },
   "file_extension": ".py",
   "mimetype": "text/x-python",
   "name": "python",
   "nbconvert_exporter": "python",
   "pygments_lexer": "ipython3",
   "version": "3.11.0"
  },
  "widgets": {
   "application/vnd.jupyter.widget-state+json": {
    "state": {},
    "version_major": 2,
    "version_minor": 0
   }
  }
 },
 "nbformat": 4,
 "nbformat_minor": 5
}
