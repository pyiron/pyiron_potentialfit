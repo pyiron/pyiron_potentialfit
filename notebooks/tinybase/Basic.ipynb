{
 "cells": [
  {
   "cell_type": "markdown",
   "id": "ef2b1629-437d-45d8-b9d1-1cf3a6bf9d08",
   "metadata": {},
   "source": [
    "# Imports"
   ]
  },
  {
   "cell_type": "code",
   "execution_count": 1,
   "id": "fd11c1fd-6b5b-4739-ad10-9ebe47c0db49",
   "metadata": {},
   "outputs": [
    {
     "name": "stderr",
     "output_type": "stream",
     "text": [
      "/home/poul/pyiron/contrib/pyiron_contrib/__init__.py:9: UserWarning: pyiron module not found, importing Project from pyiron_base\n",
      "  warnings.warn(\"pyiron module not found, importing Project from pyiron_base\")\n"
     ]
    },
    {
     "data": {
      "application/vnd.jupyter.widget-view+json": {
       "model_id": "cfc617d25c58458ab02e487bed85e341",
       "version_major": 2,
       "version_minor": 0
      },
      "text/plain": []
     },
     "metadata": {},
     "output_type": "display_data"
    }
   ],
   "source": [
    "from pyiron_contrib.tinybase.task import AbstractTask, FunctionTask, SeriesTask, LoopTask"
   ]
  },
  {
   "cell_type": "code",
   "execution_count": 2,
   "id": "95594ff4-2f77-49c2-b4a2-467268ecac00",
   "metadata": {},
   "outputs": [],
   "source": [
    "from pyiron_contrib.tinybase.executor import ProcessExecutor, BackgroundExecutor, Executor"
   ]
  },
  {
   "cell_type": "code",
   "execution_count": 3,
   "id": "88b1b600-28e0-4ad9-82d6-b2bd993efbda",
   "metadata": {},
   "outputs": [],
   "source": [
    "import logging\n",
    "logging.getLogger().setLevel(20)"
   ]
  },
  {
   "cell_type": "code",
   "execution_count": 4,
   "id": "e3d8cf33-1f39-4ef9-b92c-2dfd43cf4dd3",
   "metadata": {},
   "outputs": [],
   "source": [
    "import numpy as np"
   ]
  },
  {
   "cell_type": "markdown",
   "id": "5a1c480f-545b-411b-9cfc-a50af282de29",
   "metadata": {},
   "source": [
    "# Function Task"
   ]
  },
  {
   "cell_type": "markdown",
   "id": "756bef2c-7a16-40bb-8dee-9e9becf353f3",
   "metadata": {},
   "source": [
    "## Basic"
   ]
  },
  {
   "cell_type": "code",
   "execution_count": 9,
   "id": "9f2f3102-d15c-470a-b38c-f8084c9535ec",
   "metadata": {},
   "outputs": [],
   "source": [
    "def calc_fib(n):\n",
    "    import time\n",
    "    n1 = n2 = 1\n",
    "    for i in range(n):\n",
    "        time.sleep(.1)\n",
    "        x = n1 + n2\n",
    "        n1 = n2\n",
    "        n2 = x\n",
    "    return x"
   ]
  },
  {
   "cell_type": "code",
   "execution_count": 10,
   "id": "e125f49c-257b-4a24-bc81-83fe345d1dcf",
   "metadata": {},
   "outputs": [],
   "source": [
    "f = FunctionTask(calc_fib)"
   ]
  },
  {
   "cell_type": "code",
   "execution_count": 11,
   "id": "324f3c10-385e-4577-b089-c305f8203ca5",
   "metadata": {},
   "outputs": [
    {
     "data": {
      "application/json": [],
      "text/html": [
       "<pre>DataContainer([])</pre>"
      ],
      "text/plain": [
       "DataContainer([])"
      ]
     },
     "execution_count": 11,
     "metadata": {},
     "output_type": "execute_result"
    }
   ],
   "source": [
    "f.input.storage"
   ]
  },
  {
   "cell_type": "code",
   "execution_count": 12,
   "id": "6c1f5af7-f5e9-41d9-a849-bab0ebc7dd9f",
   "metadata": {},
   "outputs": [
    {
     "data": {
      "text/plain": [
       "[]"
      ]
     },
     "execution_count": 12,
     "metadata": {},
     "output_type": "execute_result"
    }
   ],
   "source": [
    "f.input.args"
   ]
  },
  {
   "cell_type": "code",
   "execution_count": 13,
   "id": "e0afb76d-d1b7-4b42-925f-fb117d58025e",
   "metadata": {},
   "outputs": [
    {
     "data": {
      "text/plain": [
       "{}"
      ]
     },
     "execution_count": 13,
     "metadata": {},
     "output_type": "execute_result"
    }
   ],
   "source": [
    "f.input.kwargs"
   ]
  },
  {
   "cell_type": "code",
   "execution_count": 14,
   "id": "6a5c3235-9c6b-481f-b316-db7420d1ad43",
   "metadata": {},
   "outputs": [],
   "source": [
    "f.input.kwargs['n'] = 10"
   ]
  },
  {
   "cell_type": "code",
   "execution_count": 15,
   "id": "4ade8d6a-6ce2-4f3a-b43d-71e1f87125bf",
   "metadata": {},
   "outputs": [
    {
     "data": {
      "text/plain": [
       "{'n': 10}"
      ]
     },
     "execution_count": 15,
     "metadata": {},
     "output_type": "execute_result"
    }
   ],
   "source": [
    "f.input.kwargs"
   ]
  },
  {
   "cell_type": "code",
   "execution_count": 16,
   "id": "da69a4cc-409a-4f51-b329-06a69ce8e7f5",
   "metadata": {
    "tags": []
   },
   "outputs": [
    {
     "data": {
      "text/plain": [
       "(ReturnStatus(Code.DONE, None),\n",
       " <pyiron_contrib.tinybase.task.FunctionOutput at 0x7f9b5941ab00>)"
      ]
     },
     "execution_count": 16,
     "metadata": {},
     "output_type": "execute_result"
    }
   ],
   "source": [
    "f.execute()"
   ]
  },
  {
   "cell_type": "markdown",
   "id": "e4c8370f-fa93-44b8-a5d5-6fbdc59e3f4b",
   "metadata": {},
   "source": [
    "## We can use an executor to distribute the task to any compute resource"
   ]
  },
  {
   "cell_type": "markdown",
   "id": "aefcf8f6-fa1e-4902-aeff-7b3060e8290c",
   "metadata": {},
   "source": [
    "### Directly in the foreground"
   ]
  },
  {
   "cell_type": "code",
   "execution_count": 18,
   "id": "9bf053ed-14a1-4d05-80df-d5e135f2722f",
   "metadata": {
    "tags": []
   },
   "outputs": [],
   "source": [
    "exe = Executor().submit([f])"
   ]
  },
  {
   "cell_type": "code",
   "execution_count": 19,
   "id": "ab2584f3-4c66-4573-b3ab-265af626f5a5",
   "metadata": {
    "tags": []
   },
   "outputs": [],
   "source": [
    "exe.run()"
   ]
  },
  {
   "cell_type": "code",
   "execution_count": 20,
   "id": "9b995df8-09a5-45a0-b03e-ffa2706db25c",
   "metadata": {
    "tags": []
   },
   "outputs": [
    {
     "data": {
      "text/plain": [
       "ReturnStatus(Code.DONE, None)"
      ]
     },
     "execution_count": 20,
     "metadata": {},
     "output_type": "execute_result"
    }
   ],
   "source": [
    "exe.status[0]"
   ]
  },
  {
   "cell_type": "code",
   "execution_count": 21,
   "id": "b7ee90e1-7d99-46eb-bc69-138b986e6ebd",
   "metadata": {
    "tags": []
   },
   "outputs": [
    {
     "data": {
      "text/plain": [
       "144"
      ]
     },
     "execution_count": 21,
     "metadata": {},
     "output_type": "execute_result"
    }
   ],
   "source": [
    "exe.output[0].result"
   ]
  },
  {
   "cell_type": "markdown",
   "id": "8a3b6481-3605-44d3-8061-cb00c9fbcd34",
   "metadata": {},
   "source": [
    "### Do the same but in the background"
   ]
  },
  {
   "cell_type": "code",
   "execution_count": 22,
   "id": "1e1b986e-9e00-41f2-86c2-945ff7818580",
   "metadata": {},
   "outputs": [],
   "source": [
    "f = FunctionTask(calc_fib)"
   ]
  },
  {
   "cell_type": "code",
   "execution_count": 23,
   "id": "0b612150-f654-4995-8910-e46e766fdce2",
   "metadata": {},
   "outputs": [],
   "source": [
    "f.input.kwargs['n'] = 100"
   ]
  },
  {
   "cell_type": "code",
   "execution_count": 57,
   "id": "097b7515-4875-4e22-8b7a-07594ce16204",
   "metadata": {
    "tags": []
   },
   "outputs": [],
   "source": [
    "exe = BackgroundExecutor(max_threads=1).submit([f])"
   ]
  },
  {
   "cell_type": "code",
   "execution_count": 58,
   "id": "b334ac7e-35ae-4160-b6cf-96fa8672975a",
   "metadata": {
    "tags": []
   },
   "outputs": [],
   "source": [
    "exe.run()"
   ]
  },
  {
   "cell_type": "code",
   "execution_count": 59,
   "id": "0d2f427a-21e1-449e-a8cc-c2296bff6c10",
   "metadata": {},
   "outputs": [
    {
     "data": {
      "text/plain": [
       "<Code.RUNNING: 'running'>"
      ]
     },
     "execution_count": 59,
     "metadata": {},
     "output_type": "execute_result"
    }
   ],
   "source": [
    "exe._run_machine.state"
   ]
  },
  {
   "cell_type": "code",
   "execution_count": 60,
   "id": "a9631d5e-d46a-419c-a929-68ddd77487bb",
   "metadata": {},
   "outputs": [],
   "source": [
    "exe.wait()"
   ]
  },
  {
   "cell_type": "code",
   "execution_count": 61,
   "id": "408ffab0-70a1-4d08-9007-4d9f0513935d",
   "metadata": {},
   "outputs": [
    {
     "data": {
      "text/plain": [
       "927372692193078999176"
      ]
     },
     "execution_count": 61,
     "metadata": {},
     "output_type": "execute_result"
    }
   ],
   "source": [
    "exe.output[0].result"
   ]
  },
  {
   "cell_type": "markdown",
   "id": "c255f51a-950f-4e2e-a9b9-feb2f64f3ac5",
   "metadata": {},
   "source": [
    "### Do the same but in the background as process"
   ]
  },
  {
   "cell_type": "code",
   "execution_count": 36,
   "id": "ef72a65d-9020-46f6-b9f2-6cc57d7d016b",
   "metadata": {},
   "outputs": [],
   "source": [
    "f = FunctionTask(calc_fib)"
   ]
  },
  {
   "cell_type": "code",
   "execution_count": 37,
   "id": "18607afd-8c43-4c88-8b40-5f758b1afab8",
   "metadata": {},
   "outputs": [],
   "source": [
    "f.input.kwargs['n'] = 100"
   ]
  },
  {
   "cell_type": "code",
   "execution_count": 40,
   "id": "418a3d1b-abba-4609-881c-109e1e73fcff",
   "metadata": {
    "tags": []
   },
   "outputs": [],
   "source": [
    "exe = ProcessExecutor(max_processes=1).submit([f])"
   ]
  },
  {
   "cell_type": "code",
   "execution_count": 41,
   "id": "71a470dd-f25a-484b-9fbf-c758968ffb83",
   "metadata": {
    "tags": []
   },
   "outputs": [],
   "source": [
    "exe.run()"
   ]
  },
  {
   "cell_type": "code",
   "execution_count": 43,
   "id": "0c5bf27b-31da-48ce-9344-4b24638f237a",
   "metadata": {},
   "outputs": [
    {
     "data": {
      "text/plain": [
       "<Code.RUNNING: 'running'>"
      ]
     },
     "execution_count": 43,
     "metadata": {},
     "output_type": "execute_result"
    }
   ],
   "source": [
    "exe._run_machine.state"
   ]
  },
  {
   "cell_type": "code",
   "execution_count": 44,
   "id": "9765f4fe-262d-43fd-a122-a0ed1f97bc29",
   "metadata": {},
   "outputs": [],
   "source": [
    "exe.wait()"
   ]
  },
  {
   "cell_type": "code",
   "execution_count": 45,
   "id": "21f5ae38-f3e7-4f79-a38e-ef2531d537a1",
   "metadata": {},
   "outputs": [
    {
     "data": {
      "text/plain": [
       "927372692193078999176"
      ]
     },
     "execution_count": 45,
     "metadata": {},
     "output_type": "execute_result"
    }
   ],
   "source": [
    "exe.output[0].result"
   ]
  },
  {
   "cell_type": "code",
   "execution_count": 46,
   "id": "760de692-42d0-4827-abf5-8f3afaf1a2b2",
   "metadata": {},
   "outputs": [
    {
     "data": {
      "text/plain": [
       "<Code.FINISHED: 'finished'>"
      ]
     },
     "execution_count": 46,
     "metadata": {},
     "output_type": "execute_result"
    }
   ],
   "source": [
    "exe._run_machine.state"
   ]
  },
  {
   "cell_type": "markdown",
   "id": "85ec26e2-db1f-4858-a3ab-b7955e85e572",
   "metadata": {},
   "source": [
    "# Executors handle single Tasks and lists of them on the same footing"
   ]
  },
  {
   "cell_type": "code",
   "execution_count": 47,
   "id": "e2fed9f1-590b-4ab5-9922-a126444e6169",
   "metadata": {},
   "outputs": [],
   "source": [
    "tasks = [FunctionTask(calc_fib) for _ in range(10)]"
   ]
  },
  {
   "cell_type": "code",
   "execution_count": 48,
   "id": "fdfc8943-8c0b-4bc6-98f0-71a64b3fae27",
   "metadata": {},
   "outputs": [],
   "source": [
    "for i, n in enumerate(tasks):\n",
    "    n.input.kwargs['n'] = 3 + i"
   ]
  },
  {
   "cell_type": "markdown",
   "id": "cdb9c07d-a153-4e0c-926e-96702b64cbd3",
   "metadata": {},
   "source": [
    "## With the basic executor"
   ]
  },
  {
   "cell_type": "code",
   "execution_count": 49,
   "id": "dd709cfa-775f-41c1-a015-7e0647ec3d27",
   "metadata": {
    "scrolled": true,
    "tags": []
   },
   "outputs": [],
   "source": [
    "exe = Executor().submit(tasks)\n",
    "exe.run()"
   ]
  },
  {
   "cell_type": "code",
   "execution_count": 50,
   "id": "0ac1b35a-b130-4330-bf20-a1222bdc6103",
   "metadata": {},
   "outputs": [
    {
     "data": {
      "text/plain": [
       "(<pyiron_contrib.tinybase.task.FunctionOutput at 0x7f9b596ac160>,\n",
       " <pyiron_contrib.tinybase.task.FunctionOutput at 0x7f9b596ad240>,\n",
       " <pyiron_contrib.tinybase.task.FunctionOutput at 0x7f9b596acd90>,\n",
       " <pyiron_contrib.tinybase.task.FunctionOutput at 0x7f9b596ad570>,\n",
       " <pyiron_contrib.tinybase.task.FunctionOutput at 0x7f9b596ac700>,\n",
       " <pyiron_contrib.tinybase.task.FunctionOutput at 0x7f9b5943d090>,\n",
       " <pyiron_contrib.tinybase.task.FunctionOutput at 0x7f9b59429930>,\n",
       " <pyiron_contrib.tinybase.task.FunctionOutput at 0x7f9b5942bca0>,\n",
       " <pyiron_contrib.tinybase.task.FunctionOutput at 0x7f9b5942ab00>,\n",
       " <pyiron_contrib.tinybase.task.FunctionOutput at 0x7f9b59462590>)"
      ]
     },
     "execution_count": 50,
     "metadata": {},
     "output_type": "execute_result"
    }
   ],
   "source": [
    "exe.output"
   ]
  },
  {
   "cell_type": "code",
   "execution_count": 51,
   "id": "1ef8d9d6-e5dc-4db1-9e20-7181321f07ce",
   "metadata": {},
   "outputs": [
    {
     "data": {
      "text/plain": [
       "8"
      ]
     },
     "execution_count": 51,
     "metadata": {},
     "output_type": "execute_result"
    }
   ],
   "source": [
    "exe.output[1].result"
   ]
  },
  {
   "cell_type": "markdown",
   "id": "4106ad2f-ece3-41d6-bed1-b340e434bec1",
   "metadata": {},
   "source": [
    "## With the process executor"
   ]
  },
  {
   "cell_type": "code",
   "execution_count": 62,
   "id": "25fe617c-ae8e-4b83-bf58-b790441a1126",
   "metadata": {
    "scrolled": true,
    "tags": []
   },
   "outputs": [],
   "source": [
    "exe = ProcessExecutor(max_processes=4).submit(tasks)\n",
    "exe.run()"
   ]
  },
  {
   "cell_type": "code",
   "execution_count": 63,
   "id": "19e5d3e8-6779-4c36-a636-2d8cd549e99c",
   "metadata": {},
   "outputs": [],
   "source": [
    "exe.wait()"
   ]
  },
  {
   "cell_type": "code",
   "execution_count": 64,
   "id": "66feb98b-3f99-4bfb-9bb5-cccaf26d009b",
   "metadata": {},
   "outputs": [
    {
     "data": {
      "text/plain": [
       "[ReturnStatus(Code.DONE, None),\n",
       " ReturnStatus(Code.DONE, None),\n",
       " ReturnStatus(Code.DONE, None),\n",
       " ReturnStatus(Code.DONE, None),\n",
       " ReturnStatus(Code.DONE, None),\n",
       " ReturnStatus(Code.DONE, None),\n",
       " ReturnStatus(Code.DONE, None),\n",
       " ReturnStatus(Code.DONE, None),\n",
       " ReturnStatus(Code.DONE, None),\n",
       " ReturnStatus(Code.DONE, None)]"
      ]
     },
     "execution_count": 64,
     "metadata": {},
     "output_type": "execute_result"
    }
   ],
   "source": [
    "exe.status"
   ]
  },
  {
   "cell_type": "code",
   "execution_count": 65,
   "id": "fbb40611-9f53-479e-854c-82c8c99a8070",
   "metadata": {},
   "outputs": [
    {
     "data": {
      "text/plain": [
       "[<pyiron_contrib.tinybase.task.FunctionOutput at 0x7f9b596a2bc0>,\n",
       " <pyiron_contrib.tinybase.task.FunctionOutput at 0x7f9b596a28c0>,\n",
       " <pyiron_contrib.tinybase.task.FunctionOutput at 0x7f9b596a2830>,\n",
       " <pyiron_contrib.tinybase.task.FunctionOutput at 0x7f9b596a3a60>,\n",
       " <pyiron_contrib.tinybase.task.FunctionOutput at 0x7f9b596a1270>,\n",
       " <pyiron_contrib.tinybase.task.FunctionOutput at 0x7f9b596a11e0>,\n",
       " <pyiron_contrib.tinybase.task.FunctionOutput at 0x7f9b596a1120>,\n",
       " <pyiron_contrib.tinybase.task.FunctionOutput at 0x7f9b596a1060>,\n",
       " <pyiron_contrib.tinybase.task.FunctionOutput at 0x7f9b596a0820>,\n",
       " <pyiron_contrib.tinybase.task.FunctionOutput at 0x7f9b596a0e20>]"
      ]
     },
     "execution_count": 65,
     "metadata": {},
     "output_type": "execute_result"
    }
   ],
   "source": [
    "exe.output"
   ]
  },
  {
   "cell_type": "code",
   "execution_count": 66,
   "id": "250f9c2d-5c71-4ddb-a94e-fd42f42cbeff",
   "metadata": {},
   "outputs": [
    {
     "data": {
      "text/plain": [
       "55"
      ]
     },
     "execution_count": 66,
     "metadata": {},
     "output_type": "execute_result"
    }
   ],
   "source": [
    "exe.output[5].result"
   ]
  },
  {
   "cell_type": "markdown",
   "id": "3fc133cd-e685-499e-b139-82fc2678652a",
   "metadata": {},
   "source": [
    "# SeriesTask"
   ]
  },
  {
   "cell_type": "code",
   "execution_count": 67,
   "id": "3dba0814-6a50-41f9-a78f-040014fdc140",
   "metadata": {},
   "outputs": [],
   "source": [
    "s = SeriesTask()"
   ]
  },
  {
   "cell_type": "code",
   "execution_count": 68,
   "id": "52aae339-ebad-4621-b2e0-c55d4fea3d1b",
   "metadata": {},
   "outputs": [],
   "source": [
    "f1 = FunctionTask(calc_fib)"
   ]
  },
  {
   "cell_type": "code",
   "execution_count": 69,
   "id": "e10f7ee9-98db-48c7-affd-465c2011f7b1",
   "metadata": {},
   "outputs": [],
   "source": [
    "f2 = FunctionTask(np.sqrt)"
   ]
  },
  {
   "cell_type": "code",
   "execution_count": 70,
   "id": "b7e58b55-b4f5-4e2a-aef5-f4e080e4d50c",
   "metadata": {},
   "outputs": [],
   "source": [
    "def transfer(input, output):\n",
    "    input.args = [output.result]"
   ]
  },
  {
   "cell_type": "code",
   "execution_count": 71,
   "id": "b4b2212a-64df-4284-834d-8836c9a59b70",
   "metadata": {},
   "outputs": [
    {
     "data": {
      "text/plain": [
       "<pyiron_contrib.tinybase.task.SeriesInput at 0x7f9b596849a0>"
      ]
     },
     "execution_count": 71,
     "metadata": {},
     "output_type": "execute_result"
    }
   ],
   "source": [
    "s.input.first(f1).then(f2, transfer)"
   ]
  },
  {
   "cell_type": "code",
   "execution_count": 72,
   "id": "af337125-c4fe-497d-9374-b2d9301abe08",
   "metadata": {},
   "outputs": [],
   "source": [
    "s.input.tasks[0].input.kwargs['n'] = 10"
   ]
  },
  {
   "cell_type": "code",
   "execution_count": 73,
   "id": "810a17bb-9f5d-4c50-9665-fa2f93070d60",
   "metadata": {},
   "outputs": [],
   "source": [
    "status, output = s.execute()"
   ]
  },
  {
   "cell_type": "code",
   "execution_count": 74,
   "id": "4af47287-ab42-4cb4-8e65-c6efb7982ab4",
   "metadata": {},
   "outputs": [
    {
     "data": {
      "text/plain": [
       "ReturnStatus(Code.DONE, None)"
      ]
     },
     "execution_count": 74,
     "metadata": {},
     "output_type": "execute_result"
    }
   ],
   "source": [
    "status"
   ]
  },
  {
   "cell_type": "code",
   "execution_count": 75,
   "id": "705637d8-8da7-4429-ae6f-5401fc15cc9e",
   "metadata": {},
   "outputs": [
    {
     "data": {
      "text/plain": [
       "144"
      ]
     },
     "execution_count": 75,
     "metadata": {},
     "output_type": "execute_result"
    }
   ],
   "source": [
    "output.result"
   ]
  },
  {
   "cell_type": "markdown",
   "id": "fc672a15-6943-410e-91b2-7dfac8326948",
   "metadata": {},
   "source": [
    "# Loop Task"
   ]
  },
  {
   "cell_type": "markdown",
   "id": "adbced5b-dfa6-408e-ae01-e0a341c217e6",
   "metadata": {},
   "source": [
    "## Simple repeat loop"
   ]
  },
  {
   "cell_type": "code",
   "execution_count": 76,
   "id": "b9807c98-6df8-450f-a8dd-1a53cb4ded35",
   "metadata": {},
   "outputs": [],
   "source": [
    "l = LoopTask()"
   ]
  },
  {
   "cell_type": "code",
   "execution_count": 77,
   "id": "ac2b9aa8-c118-4a1a-bf8b-96d6853b9be6",
   "metadata": {},
   "outputs": [],
   "source": [
    "l.input.task = FunctionTask(lambda: np.random.rand())"
   ]
  },
  {
   "cell_type": "code",
   "execution_count": 78,
   "id": "ef092015-5756-409a-bd1a-a31793c0b2b8",
   "metadata": {},
   "outputs": [],
   "source": [
    "l.input.repeat(10, restart=lambda output, input, scratch: print(output.result))"
   ]
  },
  {
   "cell_type": "code",
   "execution_count": 80,
   "id": "10b67618-f56e-4348-9fdc-35514d0e83a4",
   "metadata": {
    "tags": []
   },
   "outputs": [
    {
     "name": "stdout",
     "output_type": "stream",
     "text": [
      "0.6362656980328528\n",
      "0.9334281883854404\n",
      "0.6924270609164432\n",
      "0.6860250441744892\n",
      "0.022525309153174855\n",
      "0.7312372220390315\n",
      "0.48944745224752595\n",
      "0.4136240195901667\n",
      "0.2259678116613234\n"
     ]
    },
    {
     "data": {
      "text/plain": [
       "(ReturnStatus(Code.DONE, None),\n",
       " <pyiron_contrib.tinybase.task.FunctionOutput at 0x7f9b596a3400>)"
      ]
     },
     "execution_count": 80,
     "metadata": {},
     "output_type": "execute_result"
    }
   ],
   "source": [
    "l.execute()"
   ]
  },
  {
   "cell_type": "markdown",
   "id": "1be0a463-f003-4a43-80a3-3e70df03a0bc",
   "metadata": {},
   "source": [
    "## Loop with a termination condition"
   ]
  },
  {
   "cell_type": "code",
   "execution_count": 89,
   "id": "6c251bfa-e8cf-4e1a-990d-451ebb53f713",
   "metadata": {},
   "outputs": [],
   "source": [
    "l = LoopTask()"
   ]
  },
  {
   "cell_type": "code",
   "execution_count": 90,
   "id": "563c7fe1-b96f-463c-8903-50f054c831f6",
   "metadata": {},
   "outputs": [],
   "source": [
    "l.input.task = FunctionTask(lambda: np.random.rand())"
   ]
  },
  {
   "cell_type": "code",
   "execution_count": 102,
   "id": "10130bfd-636f-4771-b30b-4648a8822f04",
   "metadata": {},
   "outputs": [],
   "source": [
    "l.input.control_with(\n",
    "    condition=lambda task, output, scratch: output.result < .15,\n",
    "    restart=lambda output, input, scratch: print(output.result)\n",
    ")"
   ]
  },
  {
   "cell_type": "code",
   "execution_count": 107,
   "id": "e65a16c1-40b4-4aa6-b382-c38405edd41e",
   "metadata": {
    "tags": []
   },
   "outputs": [
    {
     "name": "stdout",
     "output_type": "stream",
     "text": [
      "0.4416017514257269\n",
      "0.3160638768343853\n",
      "0.20690423045422135\n",
      "0.5952022105132233\n",
      "0.3844701289093476\n",
      "0.996852574386064\n"
     ]
    },
    {
     "data": {
      "text/plain": [
       "(ReturnStatus(Code.DONE, None),\n",
       " <pyiron_contrib.tinybase.task.FunctionOutput at 0x7f9b5967d3f0>)"
      ]
     },
     "execution_count": 107,
     "metadata": {},
     "output_type": "execute_result"
    }
   ],
   "source": [
    "l.execute()"
   ]
  }
 ],
 "metadata": {
  "kernelspec": {
   "display_name": "Python 3 (ipykernel)",
   "language": "python",
   "name": "python3"
  },
  "language_info": {
   "codemirror_mode": {
    "name": "ipython",
    "version": 3
   },
   "file_extension": ".py",
   "mimetype": "text/x-python",
   "name": "python",
   "nbconvert_exporter": "python",
   "pygments_lexer": "ipython3",
   "version": "3.10.8"
  },
  "widgets": {
   "application/vnd.jupyter.widget-state+json": {
    "state": {},
    "version_major": 2,
    "version_minor": 0
   }
  }
 },
 "nbformat": 4,
 "nbformat_minor": 5
}
