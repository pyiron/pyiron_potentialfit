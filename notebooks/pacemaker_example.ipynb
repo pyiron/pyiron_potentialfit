{
 "cells": [
  {
   "cell_type": "markdown",
   "id": "f4eaae76",
   "metadata": {},
   "source": [
    "# Pre-requisites\n",
    "\n",
    "1. Install [`python-ace`](https://github.com/ICAMS/python-ace) and [`tensorpotential`](https://github.com/ICAMS/TensorPotential), check more instructions [here](https://pacemaker.readthedocs.io/en/latest/pacemaker/install/) into pyiron conda environment\n",
    "\n",
    "2. Add following files into `~/pyiron/resources/pacemaker/bin`:\n",
    "\n",
    "**~/pyiron/resources/pacemaker/bin/run_pacemaker_tf.sh**:\n",
    "```bash\n",
    "#!/bin/bash\n",
    "\n",
    "source $HOME/.bashrc\n",
    "conda activate PYIRON_AND_PACEMAKER_CONDA_ENVIRONMENT\n",
    "TF_FORCE_GPU_ALLOW_GROWTH=true pacemaker input.yaml -l log.txt\n",
    "pace_yaml2yace output_potential.yaml\n",
    "```\n",
    "\n",
    "**~/pyiron/resources/pacemaker/bin/run_pacemaker_tf_cpu.sh**:\n",
    "```bash\n",
    "#!/bin/bash\n",
    "\n",
    "source $HOME/.bashrc\n",
    "conda activate PYIRON_AND_PACEMAKER_CONDA_ENVIRONMENT\n",
    "CUDA_VISIBLE_DEVICES=-1 pacemaker input.yaml -l log.txt\n",
    "pace_yaml2yace output_potential.yaml\n",
    "\n",
    "```\n",
    "\n",
    "or get it from https://github.com/pyiron/pyiron-resources"
   ]
  },
  {
   "cell_type": "markdown",
   "id": "180f4a44",
   "metadata": {},
   "source": [
    "# Import and load"
   ]
  },
  {
   "cell_type": "code",
   "execution_count": null,
   "id": "a24477d0",
   "metadata": {},
   "outputs": [],
   "source": [
    "%pylab inline"
   ]
  },
  {
   "cell_type": "code",
   "execution_count": 2,
   "id": "d19586ef",
   "metadata": {},
   "outputs": [],
   "source": [
    "from pyiron_contrib import Project"
   ]
  },
  {
   "cell_type": "code",
   "execution_count": 3,
   "id": "78425c8c",
   "metadata": {},
   "outputs": [],
   "source": [
    "pr = Project('fit_project')"
   ]
  },
  {
   "cell_type": "code",
   "execution_count": 8,
   "id": "dc7ef7ee",
   "metadata": {},
   "outputs": [
    {
     "data": {
      "text/html": [
       "<div>\n",
       "<style scoped>\n",
       "    .dataframe tbody tr th:only-of-type {\n",
       "        vertical-align: middle;\n",
       "    }\n",
       "\n",
       "    .dataframe tbody tr th {\n",
       "        vertical-align: top;\n",
       "    }\n",
       "\n",
       "    .dataframe thead th {\n",
       "        text-align: right;\n",
       "    }\n",
       "</style>\n",
       "<table border=\"1\" class=\"dataframe\">\n",
       "  <thead>\n",
       "    <tr style=\"text-align: right;\">\n",
       "      <th></th>\n",
       "      <th>id</th>\n",
       "      <th>status</th>\n",
       "      <th>chemicalformula</th>\n",
       "      <th>job</th>\n",
       "      <th>subjob</th>\n",
       "      <th>projectpath</th>\n",
       "      <th>project</th>\n",
       "      <th>timestart</th>\n",
       "      <th>timestop</th>\n",
       "      <th>totalcputime</th>\n",
       "      <th>computer</th>\n",
       "      <th>hamilton</th>\n",
       "      <th>hamversion</th>\n",
       "      <th>parentid</th>\n",
       "      <th>masterid</th>\n",
       "    </tr>\n",
       "  </thead>\n",
       "  <tbody>\n",
       "    <tr>\n",
       "      <th>0</th>\n",
       "      <td>2</td>\n",
       "      <td>finished</td>\n",
       "      <td>None</td>\n",
       "      <td>initial</td>\n",
       "      <td>/initial</td>\n",
       "      <td>None</td>\n",
       "      <td>/home/users/lysogy36/PycharmProjects/pyiron2021/pyiron_contrib/workshop_data/unpack/initial/</td>\n",
       "      <td>2022-05-20 07:33:26.696857</td>\n",
       "      <td>None</td>\n",
       "      <td>None</td>\n",
       "      <td>zora@cmti001#1</td>\n",
       "      <td>TrainingContainer</td>\n",
       "      <td>0.4</td>\n",
       "      <td>None</td>\n",
       "      <td>None</td>\n",
       "    </tr>\n",
       "    <tr>\n",
       "      <th>1</th>\n",
       "      <td>3</td>\n",
       "      <td>finished</td>\n",
       "      <td>None</td>\n",
       "      <td>offstoichiometry</td>\n",
       "      <td>/offstoichiometry</td>\n",
       "      <td>None</td>\n",
       "      <td>/home/users/lysogy36/PycharmProjects/pyiron2021/pyiron_contrib/workshop_data/unpack/initial/</td>\n",
       "      <td>2022-05-20 07:40:54.302418</td>\n",
       "      <td>None</td>\n",
       "      <td>None</td>\n",
       "      <td>zora@cmti001#1</td>\n",
       "      <td>TrainingContainer</td>\n",
       "      <td>0.4</td>\n",
       "      <td>None</td>\n",
       "      <td>None</td>\n",
       "    </tr>\n",
       "  </tbody>\n",
       "</table>\n",
       "</div>"
      ],
      "text/plain": [
       "   id    status chemicalformula               job             subjob  \\\n",
       "0   2  finished            None           initial           /initial   \n",
       "1   3  finished            None  offstoichiometry  /offstoichiometry   \n",
       "\n",
       "  projectpath  \\\n",
       "0        None   \n",
       "1        None   \n",
       "\n",
       "                                                                                        project  \\\n",
       "0  /home/users/lysogy36/PycharmProjects/pyiron2021/pyiron_contrib/workshop_data/unpack/initial/   \n",
       "1  /home/users/lysogy36/PycharmProjects/pyiron2021/pyiron_contrib/workshop_data/unpack/initial/   \n",
       "\n",
       "                   timestart timestop totalcputime        computer  \\\n",
       "0 2022-05-20 07:33:26.696857     None         None  zora@cmti001#1   \n",
       "1 2022-05-20 07:40:54.302418     None         None  zora@cmti001#1   \n",
       "\n",
       "            hamilton hamversion parentid masterid  \n",
       "0  TrainingContainer        0.4     None     None  \n",
       "1  TrainingContainer        0.4     None     None  "
      ]
     },
     "execution_count": 8,
     "metadata": {},
     "output_type": "execute_result"
    }
   ],
   "source": [
    "pr.job_table()"
   ]
  },
  {
   "cell_type": "markdown",
   "id": "be711442",
   "metadata": {},
   "source": [
    "# Loading training containers"
   ]
  },
  {
   "cell_type": "code",
   "execution_count": 4,
   "id": "e8588cf3",
   "metadata": {},
   "outputs": [],
   "source": [
    "training_container_1 = pr['initial/initial']"
   ]
  },
  {
   "cell_type": "code",
   "execution_count": 5,
   "id": "05ea947a",
   "metadata": {},
   "outputs": [],
   "source": [
    "training_container_2 = pr['initial/offstoichiometry']"
   ]
  },
  {
   "cell_type": "markdown",
   "id": "5ddc4df8",
   "metadata": {},
   "source": [
    "# Create PacemakerJob"
   ]
  },
  {
   "cell_type": "code",
   "execution_count": 9,
   "id": "932a7b46",
   "metadata": {},
   "outputs": [],
   "source": [
    "job = pr.create_job(pr.job_type.PacemakerJob, \"pacemaker_job\")"
   ]
  },
  {
   "cell_type": "code",
   "execution_count": 10,
   "id": "6bd31372",
   "metadata": {},
   "outputs": [],
   "source": [
    "job.add_training_data(training_container_1)"
   ]
  },
  {
   "cell_type": "code",
   "execution_count": 11,
   "id": "6b8edcef",
   "metadata": {},
   "outputs": [],
   "source": [
    "job.add_training_data(training_container_2)"
   ]
  },
  {
   "cell_type": "code",
   "execution_count": 12,
   "id": "180d92d9",
   "metadata": {},
   "outputs": [],
   "source": [
    "# set cutoff\n",
    "job.cutoff=7.0"
   ]
  },
  {
   "cell_type": "code",
   "execution_count": 37,
   "id": "b25f83e8",
   "metadata": {},
   "outputs": [],
   "source": [
    "# set number of iterations\n",
    "job.input[\"fit\"][\"maxiter\"]=1000"
   ]
  },
  {
   "cell_type": "code",
   "execution_count": 38,
   "id": "f9d67b89",
   "metadata": {},
   "outputs": [
    {
     "data": {
      "text/html": [
       "<div>\n",
       "<style scoped>\n",
       "    .dataframe tbody tr th:only-of-type {\n",
       "        vertical-align: middle;\n",
       "    }\n",
       "\n",
       "    .dataframe tbody tr th {\n",
       "        vertical-align: top;\n",
       "    }\n",
       "\n",
       "    .dataframe thead th {\n",
       "        text-align: right;\n",
       "    }\n",
       "</style>\n",
       "<table border=\"1\" class=\"dataframe\">\n",
       "  <thead>\n",
       "    <tr style=\"text-align: right;\">\n",
       "      <th></th>\n",
       "      <th>Parameter</th>\n",
       "      <th>Value</th>\n",
       "      <th>Comment</th>\n",
       "    </tr>\n",
       "  </thead>\n",
       "  <tbody>\n",
       "    <tr>\n",
       "      <th>0</th>\n",
       "      <td>cutoff</td>\n",
       "      <td>7.0</td>\n",
       "      <td></td>\n",
       "    </tr>\n",
       "    <tr>\n",
       "      <th>1</th>\n",
       "      <td>metadata</td>\n",
       "      <td>{'comment': 'pyiron-generated fitting job', 'pyiron_job_id': '4'}</td>\n",
       "      <td></td>\n",
       "    </tr>\n",
       "    <tr>\n",
       "      <th>2</th>\n",
       "      <td>data</td>\n",
       "      <td>{'filename': '/home/users/lysogy36/PycharmProjects/pyiron2021/pyiron_contrib/workshop_data/unpack/pacemaker_job_hdf5/pacemaker_job/df_fit.pckl.gzip'}</td>\n",
       "      <td></td>\n",
       "    </tr>\n",
       "    <tr>\n",
       "      <th>3</th>\n",
       "      <td>potential</td>\n",
       "      <td>{'elements': ['Al', 'Li'], 'bonds': {'ALL': {'radbase': 'SBessel', 'rcut': 7.0, 'dcut': 0.01, 'radparameters': [5.25]}}, 'embeddings': {'ALL': {'fs_parameters': [1, 1, 1, 0.5], 'ndensity': 2, 'npo...</td>\n",
       "      <td></td>\n",
       "    </tr>\n",
       "    <tr>\n",
       "      <th>4</th>\n",
       "      <td>fit</td>\n",
       "      <td>{'loss': {'L1_coeffs': 1e-08, 'L2_coeffs': 1e-08, 'kappa': 0.3, 'w0_rad': 0, 'w1_rad': 0, 'w2_rad': 0}, 'maxiter': 1000, 'optimizer': 'BFGS', 'fit_cycles': 1}</td>\n",
       "      <td></td>\n",
       "    </tr>\n",
       "    <tr>\n",
       "      <th>5</th>\n",
       "      <td>backend</td>\n",
       "      <td>{'batch_size': 100, 'display_step': 50, 'evaluator': 'tensorpot'}</td>\n",
       "      <td></td>\n",
       "    </tr>\n",
       "  </tbody>\n",
       "</table>\n",
       "</div>"
      ],
      "text/plain": [
       "   Parameter  \\\n",
       "0     cutoff   \n",
       "1   metadata   \n",
       "2       data   \n",
       "3  potential   \n",
       "4        fit   \n",
       "5    backend   \n",
       "\n",
       "                                                                                                                                                                                                     Value  \\\n",
       "0                                                                                                                                                                                                      7.0   \n",
       "1                                                                                                                                        {'comment': 'pyiron-generated fitting job', 'pyiron_job_id': '4'}   \n",
       "2                                                    {'filename': '/home/users/lysogy36/PycharmProjects/pyiron2021/pyiron_contrib/workshop_data/unpack/pacemaker_job_hdf5/pacemaker_job/df_fit.pckl.gzip'}   \n",
       "3  {'elements': ['Al', 'Li'], 'bonds': {'ALL': {'radbase': 'SBessel', 'rcut': 7.0, 'dcut': 0.01, 'radparameters': [5.25]}}, 'embeddings': {'ALL': {'fs_parameters': [1, 1, 1, 0.5], 'ndensity': 2, 'npo...   \n",
       "4                                           {'loss': {'L1_coeffs': 1e-08, 'L2_coeffs': 1e-08, 'kappa': 0.3, 'w0_rad': 0, 'w1_rad': 0, 'w2_rad': 0}, 'maxiter': 1000, 'optimizer': 'BFGS', 'fit_cycles': 1}   \n",
       "5                                                                                                                                        {'batch_size': 100, 'display_step': 50, 'evaluator': 'tensorpot'}   \n",
       "\n",
       "  Comment  \n",
       "0          \n",
       "1          \n",
       "2          \n",
       "3          \n",
       "4          \n",
       "5          "
      ]
     },
     "execution_count": 38,
     "metadata": {},
     "output_type": "execute_result"
    }
   ],
   "source": [
    "job.input"
   ]
  },
  {
   "cell_type": "markdown",
   "id": "18f2a543",
   "metadata": {},
   "source": [
    "# Run fit"
   ]
  },
  {
   "cell_type": "code",
   "execution_count": 17,
   "id": "4bff02a2",
   "metadata": {},
   "outputs": [
    {
     "name": "stdout",
     "output_type": "stream",
     "text": [
      "Set automatically determined list of elements: ['Al', 'Li']\n",
      "The job pacemaker_job was saved and received the ID: 4\n"
     ]
    }
   ],
   "source": [
    "job.run()"
   ]
  },
  {
   "cell_type": "code",
   "execution_count": 46,
   "id": "58687533",
   "metadata": {},
   "outputs": [],
   "source": [
    "job.collect_output()"
   ]
  },
  {
   "cell_type": "markdown",
   "id": "27f90579",
   "metadata": {},
   "source": [
    "# Analyse fit"
   ]
  },
  {
   "cell_type": "markdown",
   "id": "30654b6e",
   "metadata": {},
   "source": [
    "plot loss function"
   ]
  },
  {
   "cell_type": "code",
   "execution_count": 48,
   "id": "1640ba96",
   "metadata": {},
   "outputs": [
    {
     "data": {
      "text/plain": [
       "[]"
      ]
     },
     "execution_count": 48,
     "metadata": {},
     "output_type": "execute_result"
    },
    {
     "data": {
      "image/png": "[encoded data removed]",
      "text/plain": [
       "<Figure size 432x288 with 1 Axes>"
      ]
     },
     "metadata": {
      "needs_background": "light"
     },
     "output_type": "display_data"
    }
   ],
   "source": [
    "plt.plot(job[\"output/log/loss\"])\n",
    "plt.xlabel(\"# iter\")\n",
    "plt.ylabel(\"Loss\")\n",
    "plt.loglog()"
   ]
  },
  {
   "cell_type": "markdown",
   "id": "4e8d5e7d",
   "metadata": {},
   "source": [
    "plot energy per atom RMSE"
   ]
  },
  {
   "cell_type": "code",
   "execution_count": 50,
   "id": "9c52dd86",
   "metadata": {},
   "outputs": [
    {
     "data": {
      "text/plain": [
       "[]"
      ]
     },
     "execution_count": 50,
     "metadata": {},
     "output_type": "execute_result"
    },
    {
     "data": {
      "image/png": "[encoded data removed]",
      "text/plain": [
       "<Figure size 432x288 with 1 Axes>"
      ]
     },
     "metadata": {
      "needs_background": "light"
     },
     "output_type": "display_data"
    }
   ],
   "source": [
    "plt.plot(job[\"output/log/rmse_epa\"])\n",
    "plt.xlabel(\"# iter\")\n",
    "plt.ylabel(\"RMSE E, eV/atom\")\n",
    "plt.loglog()"
   ]
  },
  {
   "cell_type": "markdown",
   "id": "ae6c3689",
   "metadata": {},
   "source": [
    "plot force component RMSE"
   ]
  },
  {
   "cell_type": "code",
   "execution_count": 51,
   "id": "e55598f4",
   "metadata": {},
   "outputs": [
    {
     "data": {
      "text/plain": [
       "[]"
      ]
     },
     "execution_count": 51,
     "metadata": {},
     "output_type": "execute_result"
    },
    {
     "data": {
      "image/png": "[encoded data removed]",
      "text/plain": [
       "<Figure size 432x288 with 1 Axes>"
      ]
     },
     "metadata": {
      "needs_background": "light"
     },
     "output_type": "display_data"
    }
   ],
   "source": [
    "plt.plot(job[\"output/log/rmse_f_comp\"])\n",
    "plt.xlabel(\"# iter\")\n",
    "plt.ylabel(\"RMSE F_i, eV/A\")\n",
    "plt.loglog()"
   ]
  },
  {
   "cell_type": "code",
   "execution_count": null,
   "id": "f09f50f6",
   "metadata": {},
   "outputs": [],
   "source": []
  },
  {
   "cell_type": "markdown",
   "id": "f23dd5c8",
   "metadata": {},
   "source": [
    "load DataFrame with predictions"
   ]
  },
  {
   "cell_type": "code",
   "execution_count": 52,
   "id": "0acc3ed8",
   "metadata": {},
   "outputs": [],
   "source": [
    "pred_df = job.predicted_data"
   ]
  },
  {
   "cell_type": "code",
   "execution_count": 53,
   "id": "604da991",
   "metadata": {},
   "outputs": [],
   "source": [
    "pred_df[\"energy_pred_per_atom\"] = pred_df[\"energy_pred\"]/pred_df[\"NUMBER_OF_ATOMS\"]"
   ]
  },
  {
   "cell_type": "code",
   "execution_count": 54,
   "id": "0456dfe6",
   "metadata": {},
   "outputs": [
    {
     "data": {
      "text/plain": [
       "Text(0, 0.5, 'ACE E, eV/atom')"
      ]
     },
     "execution_count": 54,
     "metadata": {},
     "output_type": "execute_result"
    },
    {
     "data": {
      "image/png": "[encoded data removed]",
      "text/plain": [
       "<Figure size 432x288 with 1 Axes>"
      ]
     },
     "metadata": {
      "needs_background": "light"
     },
     "output_type": "display_data"
    }
   ],
   "source": [
    "plt.scatter(pred_df[\"energy_corrected_per_atom\"], pred_df[\"energy_pred_per_atom\"])\n",
    "plt.xlabel(\"DFT E, eV/atom\")\n",
    "plt.ylabel(\"ACE E, eV/atom\")"
   ]
  },
  {
   "cell_type": "code",
   "execution_count": 55,
   "id": "07e559d1",
   "metadata": {},
   "outputs": [
    {
     "data": {
      "text/plain": [
       "Text(0, 0.5, 'ACE F_i, eV/A')"
      ]
     },
     "execution_count": 55,
     "metadata": {},
     "output_type": "execute_result"
    },
    {
     "data": {
      "image/png": "[encoded data removed]",
      "text/plain": [
       "<Figure size 432x288 with 1 Axes>"
      ]
     },
     "metadata": {
      "needs_background": "light"
     },
     "output_type": "display_data"
    }
   ],
   "source": [
    "plt.scatter(np.vstack(pred_df[\"forces\"]),  np.vstack(pred_df[\"forces_pred\"]))\n",
    "plt.xlabel(\"DFT F_i, eV/A\")\n",
    "plt.ylabel(\"ACE F_i, eV/A\")"
   ]
  },
  {
   "cell_type": "code",
   "execution_count": null,
   "id": "43303071",
   "metadata": {},
   "outputs": [],
   "source": []
  },
  {
   "cell_type": "markdown",
   "id": "a400fd18",
   "metadata": {},
   "source": [
    "Check more in `job.working_directory`/report folder"
   ]
  },
  {
   "cell_type": "code",
   "execution_count": 43,
   "id": "06ddc750",
   "metadata": {},
   "outputs": [
    {
     "name": "stdout",
     "output_type": "stream",
     "text": [
      "train_E-dE-dist.png  train_EF-pairplots.png  train_Fi-dFi-dist.png\r\n",
      "train_E-dE-nn.png    train_F-dF-dist.png\r\n"
     ]
    }
   ],
   "source": [
    "! ls {job.working_directory}/report"
   ]
  },
  {
   "cell_type": "markdown",
   "id": "aeea434a",
   "metadata": {},
   "source": [
    "# Get LAMMPS potential "
   ]
  },
  {
   "cell_type": "code",
   "execution_count": 34,
   "id": "a739431f",
   "metadata": {},
   "outputs": [
    {
     "data": {
      "text/html": [
       "<div>\n",
       "<style scoped>\n",
       "    .dataframe tbody tr th:only-of-type {\n",
       "        vertical-align: middle;\n",
       "    }\n",
       "\n",
       "    .dataframe tbody tr th {\n",
       "        vertical-align: top;\n",
       "    }\n",
       "\n",
       "    .dataframe thead th {\n",
       "        text-align: right;\n",
       "    }\n",
       "</style>\n",
       "<table border=\"1\" class=\"dataframe\">\n",
       "  <thead>\n",
       "    <tr style=\"text-align: right;\">\n",
       "      <th></th>\n",
       "      <th>Config</th>\n",
       "      <th>Filename</th>\n",
       "      <th>Model</th>\n",
       "      <th>Name</th>\n",
       "      <th>Species</th>\n",
       "    </tr>\n",
       "  </thead>\n",
       "  <tbody>\n",
       "    <tr>\n",
       "      <th>0</th>\n",
       "      <td>[pair_style pace\\n, pair_coeff  * * /home/users/lysogy36/PycharmProjects/pyiron2021/pyiron_contrib/workshop_data/unpack/pacemaker_job_hdf5/pacemaker_job/output_potential.yace Al Li\\n]</td>\n",
       "      <td></td>\n",
       "      <td>ACE</td>\n",
       "      <td>pacemaker_job</td>\n",
       "      <td>[Al, Li]</td>\n",
       "    </tr>\n",
       "  </tbody>\n",
       "</table>\n",
       "</div>"
      ],
      "text/plain": [
       "                                                                                                                                                                                    Config  \\\n",
       "0  [pair_style pace\\n, pair_coeff  * * /home/users/lysogy36/PycharmProjects/pyiron2021/pyiron_contrib/workshop_data/unpack/pacemaker_job_hdf5/pacemaker_job/output_potential.yace Al Li\\n]   \n",
       "\n",
       "  Filename Model           Name   Species  \n",
       "0            ACE  pacemaker_job  [Al, Li]  "
      ]
     },
     "execution_count": 34,
     "metadata": {},
     "output_type": "execute_result"
    }
   ],
   "source": [
    "lammps_potential = job.get_lammps_potential()\n",
    "lammps_potential"
   ]
  },
  {
   "cell_type": "code",
   "execution_count": null,
   "id": "7d6534da",
   "metadata": {},
   "outputs": [],
   "source": []
  }
 ],
 "metadata": {
  "kernelspec": {
   "display_name": "Python (pyiron2022)",
   "language": "python",
   "name": "pyiron2022"
  },
  "language_info": {
   "codemirror_mode": {
    "name": "ipython",
    "version": 3
   },
   "file_extension": ".py",
   "mimetype": "text/x-python",
   "name": "python",
   "nbconvert_exporter": "python",
   "pygments_lexer": "ipython3",
   "version": "3.9.12"
  }
 },
 "nbformat": 4,
 "nbformat_minor": 5
}
