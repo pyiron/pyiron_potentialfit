{
 "cells": [
  {
   "cell_type": "markdown",
   "metadata": {},
   "source": [
    "# Introduction\n",
    "\n",
    "This notebook presents each of the example problems in the official [FEniCS tutorial](https://fenicsproject.org/pub/tutorial/html/ftut1.html), but in their super friendly pyironized format. For a description of the underlying physics/mathematics, please see the official documentation. The purpose here is as a rosetta stone to demonstrate the translation into pyiron.\n",
    "\n",
    "At the moment it's also really a testbed so that I (Liam huber@mpie.de) can play around with our interface class(es) to see what is necessary and helpful across a broad selection of problems. I'd like to codify some of it into unit tests before the end as well."
   ]
  },
  {
   "cell_type": "code",
   "execution_count": 1,
   "metadata": {
    "ExecuteTime": {
     "end_time": "2020-12-16T11:56:28.748087Z",
     "start_time": "2020-12-16T11:56:26.254525Z"
    }
   },
   "outputs": [],
   "source": [
    "from pyiron import Project\n",
    "import pyiron_contrib\n",
    "import numpy as np\n",
    "import matplotlib.pyplot as plt\n",
    "import seaborn as sns"
   ]
  },
  {
   "cell_type": "code",
   "execution_count": 2,
   "metadata": {
    "ExecuteTime": {
     "end_time": "2020-12-16T11:56:28.782085Z",
     "start_time": "2020-12-16T11:56:28.750449Z"
    }
   },
   "outputs": [],
   "source": [
    "pr = Project('fenics_tutorial')\n",
    "pr.remove_jobs_silently(recursive=True)"
   ]
  },
  {
   "cell_type": "markdown",
   "metadata": {},
   "source": [
    "# Fundamentals: Solving the Poisson equation"
   ]
  },
  {
   "cell_type": "code",
   "execution_count": 3,
   "metadata": {
    "ExecuteTime": {
     "end_time": "2020-12-16T11:56:33.183023Z",
     "start_time": "2020-12-16T11:56:28.784259Z"
    }
   },
   "outputs": [
    {
     "ename": "AttributeError",
     "evalue": "'DomainFactory' object has no attribute 'unit'",
     "output_type": "error",
     "traceback": [
      "\u001b[0;31m---------------------------------------------------------------------------\u001b[0m",
      "\u001b[0;31mAttributeError\u001b[0m                            Traceback (most recent call last)",
      "\u001b[0;32m<ipython-input-3-8bed0d3dfc67>\u001b[0m in \u001b[0;36m<module>\u001b[0;34m\u001b[0m\n\u001b[1;32m      2\u001b[0m \u001b[0mjob\u001b[0m\u001b[0;34m.\u001b[0m\u001b[0minput\u001b[0m\u001b[0;34m.\u001b[0m\u001b[0melement_type\u001b[0m \u001b[0;34m=\u001b[0m \u001b[0;34m'P'\u001b[0m\u001b[0;34m\u001b[0m\u001b[0;34m\u001b[0m\u001b[0m\n\u001b[1;32m      3\u001b[0m \u001b[0mjob\u001b[0m\u001b[0;34m.\u001b[0m\u001b[0minput\u001b[0m\u001b[0;34m.\u001b[0m\u001b[0melement_order\u001b[0m \u001b[0;34m=\u001b[0m \u001b[0;36m1\u001b[0m\u001b[0;34m\u001b[0m\u001b[0;34m\u001b[0m\u001b[0m\n\u001b[0;32m----> 4\u001b[0;31m \u001b[0mjob\u001b[0m\u001b[0;34m.\u001b[0m\u001b[0mdomain\u001b[0m \u001b[0;34m=\u001b[0m \u001b[0mjob\u001b[0m\u001b[0;34m.\u001b[0m\u001b[0mcreate\u001b[0m\u001b[0;34m.\u001b[0m\u001b[0mdomain\u001b[0m\u001b[0;34m.\u001b[0m\u001b[0munit\u001b[0m\u001b[0;34m.\u001b[0m\u001b[0msquare\u001b[0m\u001b[0;34m(\u001b[0m\u001b[0;36m8\u001b[0m\u001b[0;34m,\u001b[0m \u001b[0;36m8\u001b[0m\u001b[0;34m)\u001b[0m\u001b[0;34m\u001b[0m\u001b[0;34m\u001b[0m\u001b[0m\n\u001b[0m\u001b[1;32m      5\u001b[0m \u001b[0;34m\u001b[0m\u001b[0m\n\u001b[1;32m      6\u001b[0m \u001b[0mu_D\u001b[0m \u001b[0;34m=\u001b[0m \u001b[0mjob\u001b[0m\u001b[0;34m.\u001b[0m\u001b[0mExpression\u001b[0m\u001b[0;34m(\u001b[0m\u001b[0;34m'1 + x[0]*x[0] + 2*x[1]*x[1]'\u001b[0m\u001b[0;34m,\u001b[0m \u001b[0mdegree\u001b[0m\u001b[0;34m=\u001b[0m\u001b[0;36m2\u001b[0m\u001b[0;34m)\u001b[0m  \u001b[0;31m# String expressions must have valid C++ syntax\u001b[0m\u001b[0;34m\u001b[0m\u001b[0;34m\u001b[0m\u001b[0m\n",
      "\u001b[0;31mAttributeError\u001b[0m: 'DomainFactory' object has no attribute 'unit'"
     ]
    }
   ],
   "source": [
    "job = pr.create.job.Fenics('poisson', delete_existing_job=True)\n",
    "job.input.element_type = 'P'\n",
    "job.input.element_order = 1\n",
    "job.domain = job.create.domain.unit.square(8, 8)\n",
    "\n",
    "u_D = job.Expression('1 + x[0]*x[0] + 2*x[1]*x[1]', degree=2)  # String expressions must have valid C++ syntax\n",
    "job.BC = job.create.bc.dirichlet(u_D)\n",
    "\n",
    "job.LHS = job.dot(job.grad_u, job.grad_v) * job.dx\n",
    "job.RHS = job.Constant(-6.0) * job.v * job.dx"
   ]
  },
  {
   "cell_type": "code",
   "execution_count": null,
   "metadata": {
    "ExecuteTime": {
     "end_time": "2020-12-16T11:56:33.190866Z",
     "start_time": "2020-12-16T11:56:26.228Z"
    }
   },
   "outputs": [],
   "source": [
    "job.run()"
   ]
  },
  {
   "cell_type": "code",
   "execution_count": null,
   "metadata": {
    "ExecuteTime": {
     "end_time": "2020-12-16T11:56:33.194564Z",
     "start_time": "2020-12-16T11:56:26.229Z"
    }
   },
   "outputs": [],
   "source": [
    "job.plot_mesh()"
   ]
  },
  {
   "cell_type": "code",
   "execution_count": null,
   "metadata": {
    "ExecuteTime": {
     "end_time": "2020-12-16T11:56:33.198069Z",
     "start_time": "2020-12-16T11:56:26.231Z"
    }
   },
   "outputs": [],
   "source": [
    "job.plot_u()"
   ]
  },
  {
   "cell_type": "code",
   "execution_count": null,
   "metadata": {
    "ExecuteTime": {
     "end_time": "2020-12-16T11:56:33.201638Z",
     "start_time": "2020-12-16T11:56:26.233Z"
    }
   },
   "outputs": [],
   "source": [
    "error_L2 = job.fenics.errornorm(u_D, job.u, 'L2')\n",
    "\n",
    "vertex_values_u_D = u_D.compute_vertex_values(job.mesh)\n",
    "vertex_values_u = job.u.compute_vertex_values(job.mesh)\n",
    "\n",
    "print('error_L2  =', error_L2)\n",
    "print('error_max =', np.max(np.abs(vertex_values_u_D - vertex_values_u)))\n",
    "      \n",
    "# Try increasing the element order to 3 and the mesh resolution to see the error drop"
   ]
  },
  {
   "cell_type": "markdown",
   "metadata": {},
   "source": [
    "# Deflection of a membrane"
   ]
  },
  {
   "cell_type": "code",
   "execution_count": null,
   "metadata": {
    "ExecuteTime": {
     "end_time": "2020-12-16T11:56:33.206847Z",
     "start_time": "2020-12-16T11:56:26.234Z"
    }
   },
   "outputs": [],
   "source": [
    "job = pr.create.job.Fenics('membrane', delete_existing_job=True)\n",
    "job.input.mesh_resolution = 64\n",
    "job.input.element_type = 'P'\n",
    "job.input.element_order = 2\n",
    "\n",
    "job.domain = job.create.domain.circle((0, 0), 1)\n",
    "job.BC = job.create.bc.dirichlet(job.Constant(0))\n",
    "\n",
    "p = job.Expression('4*exp(-pow(beta, 2)*(pow(x[0], 2) + pow(x[1] - R0, 2)))', degree=1, beta=8, R0=0.6)\n",
    "job.LHS = job.dot(job.grad_u, job.grad_v) * job.dx\n",
    "job.RHS = p * job.v * job.dx"
   ]
  },
  {
   "cell_type": "code",
   "execution_count": null,
   "metadata": {
    "ExecuteTime": {
     "end_time": "2020-12-16T11:56:33.210279Z",
     "start_time": "2020-12-16T11:56:26.236Z"
    }
   },
   "outputs": [],
   "source": [
    "job.run()"
   ]
  },
  {
   "cell_type": "code",
   "execution_count": null,
   "metadata": {
    "ExecuteTime": {
     "end_time": "2020-12-16T11:56:33.213485Z",
     "start_time": "2020-12-16T11:56:26.238Z"
    }
   },
   "outputs": [],
   "source": [
    "job.output.u"
   ]
  },
  {
   "cell_type": "code",
   "execution_count": null,
   "metadata": {
    "ExecuteTime": {
     "end_time": "2020-12-16T11:56:33.217770Z",
     "start_time": "2020-12-16T11:56:26.240Z"
    }
   },
   "outputs": [],
   "source": [
    "job.plot_u()"
   ]
  },
  {
   "cell_type": "code",
   "execution_count": null,
   "metadata": {
    "ExecuteTime": {
     "end_time": "2020-12-16T11:56:33.224066Z",
     "start_time": "2020-12-16T11:56:26.242Z"
    }
   },
   "outputs": [],
   "source": [
    "job.plot_output(n_grid=100);  # Our simple output plotter also works for non-square mesh-shapes\n",
    "# Here we drop the interpolation parameter to see the coarse-grained-ness"
   ]
  },
  {
   "cell_type": "code",
   "execution_count": null,
   "metadata": {
    "ExecuteTime": {
     "end_time": "2020-12-16T11:56:33.230049Z",
     "start_time": "2020-12-16T11:56:26.246Z"
    }
   },
   "outputs": [],
   "source": [
    "tol = 0.001  # avoid hitting points outside the domain\n",
    "y = np.linspace(-1 + tol, 1 - tol, 101)\n",
    "points = [(0, y_) for y_ in y]  # 2D points cutting a vertical line through the center of the domain\n",
    "w_line = np.array([job.u(point) for point in points])\n",
    "p_line = np.array([p(point) for point in points])\n",
    "\n",
    "plt.plot(y, 50*w_line, 'k', linewidth=2)  # magnify w\n",
    "plt.plot(y, p_line, 'b--', linewidth=2)\n",
    "plt.grid(True)\n",
    "plt.xlabel('$y$')\n",
    "plt.legend(['Deflection ($\\\\times 50$)', 'Load'], loc='upper left');"
   ]
  },
  {
   "cell_type": "markdown",
   "metadata": {},
   "source": [
    "# The heat equation"
   ]
  },
  {
   "cell_type": "code",
   "execution_count": null,
   "metadata": {
    "ExecuteTime": {
     "end_time": "2020-12-16T11:56:33.235318Z",
     "start_time": "2020-12-16T11:56:26.248Z"
    }
   },
   "outputs": [],
   "source": [
    "total_time = 2.0            # final time\n",
    "num_steps = 10     # number of time steps\n",
    "dt = total_time / num_steps # time step size\n",
    "\n",
    "job = pr.create.job.Fenics('heat', delete_existing_job=True)\n",
    "job.input.element_types = 'P'\n",
    "job.input.element_order = 1\n",
    "job.input.n_steps = 10\n",
    "job.input.dt = 0.2\n",
    "\n",
    "job.domain = job.create.domain.unit_square(8, 8)\n",
    "\n",
    "u_D = job.Expression('1 + x[0]*x[0] + alpha*x[1]*x[1] + beta*t', degree=2, alpha=3, beta=1.2, t=0)\n",
    "job.BC = job.create.bc.dirichlet(u_D)\n",
    "\n",
    "u_n = job.interpolate_function(u_D)  # TODO: Make job method with automatic V\n",
    "\n",
    "f = job.Constant(u_D.beta - 2 - 2*u_D.alpha)\n",
    "job.F = job.u * job.v * job.dx + dt * job.dot(job.grad_u, job.grad_v) * job.dx \\\n",
    "        - (u_n + job.input.dt * f) * job.v * job.dx\n",
    "\n",
    "job.time_dependent_expressions.append(u_D)\n",
    "job.assigned_u = u_n\n",
    "\n",
    "# TODO?: Add error calculation to the run loop? Interpolation at each step seems costly..."
   ]
  },
  {
   "cell_type": "code",
   "execution_count": null,
   "metadata": {
    "ExecuteTime": {
     "end_time": "2020-12-16T11:56:33.258399Z",
     "start_time": "2020-12-16T11:56:26.249Z"
    }
   },
   "outputs": [],
   "source": [
    "job.run()"
   ]
  },
  {
   "cell_type": "code",
   "execution_count": null,
   "metadata": {
    "ExecuteTime": {
     "end_time": "2020-12-16T11:56:33.261786Z",
     "start_time": "2020-12-16T11:56:26.252Z"
    }
   },
   "outputs": [],
   "source": [
    "job.plot_output(frame=0);"
   ]
  },
  {
   "cell_type": "code",
   "execution_count": null,
   "metadata": {
    "ExecuteTime": {
     "end_time": "2020-12-16T11:56:33.264194Z",
     "start_time": "2020-12-16T11:56:26.253Z"
    }
   },
   "outputs": [],
   "source": [
    "job.plot_output(frame=-1);"
   ]
  },
  {
   "cell_type": "markdown",
   "metadata": {},
   "source": [
    "# Diffusion of a Gaussian function"
   ]
  },
  {
   "cell_type": "code",
   "execution_count": null,
   "metadata": {
    "ExecuteTime": {
     "end_time": "2020-12-16T11:56:33.267608Z",
     "start_time": "2020-12-16T11:56:26.255Z"
    }
   },
   "outputs": [],
   "source": [
    "job = pr.create.job.Fenics('gauss', delete_existing_job=True)\n",
    "total_time = 2.0  # final time\n",
    "num_steps = 50  # number of time steps\n",
    "dt = total_time / num_steps  # time step size\n",
    "\n",
    "job.input.element_types = 'P'\n",
    "job.input.element_order = 1\n",
    "job.input.n_steps = num_steps\n",
    "job.input.dt = dt\n",
    "\n",
    "job.domain = job.create.domain.regular_mesh.rectangle((-2, -2), (2, 2), 30, 30)\n",
    "job.BC = job.create.bc.dirichlet(job.Constant(0))\n",
    "\n",
    "u_0 = job.Expression('exp(-a*pow(x[0], 2) - a*pow(x[1], 2))', degree=2, a=5)\n",
    "u_n = job.interpolate_function(u_0)\n",
    "\n",
    "f = job.Constant(0)\n",
    "job.F = job.u * job.v * job.dx + job.input.dt * job.dot(job.grad_u, job.grad_v) * job.dx \\\n",
    "        - (u_n + job.input.dt * f) * job.v * job.dx\n",
    "\n",
    "job.assigned_u = u_n"
   ]
  },
  {
   "cell_type": "code",
   "execution_count": null,
   "metadata": {
    "ExecuteTime": {
     "end_time": "2020-12-16T11:56:33.272101Z",
     "start_time": "2020-12-16T11:56:26.257Z"
    }
   },
   "outputs": [],
   "source": [
    "job.run()"
   ]
  },
  {
   "cell_type": "code",
   "execution_count": null,
   "metadata": {
    "ExecuteTime": {
     "end_time": "2020-12-16T11:56:33.274890Z",
     "start_time": "2020-12-16T11:56:26.259Z"
    }
   },
   "outputs": [],
   "source": [
    "job.plot_output(frame=0);"
   ]
  },
  {
   "cell_type": "code",
   "execution_count": null,
   "metadata": {
    "ExecuteTime": {
     "end_time": "2020-12-16T11:56:33.276994Z",
     "start_time": "2020-12-16T11:56:26.260Z"
    }
   },
   "outputs": [],
   "source": [
    "job.plot_output(frame=8);"
   ]
  },
  {
   "cell_type": "code",
   "execution_count": null,
   "metadata": {
    "ExecuteTime": {
     "end_time": "2020-12-16T11:56:33.283383Z",
     "start_time": "2020-12-16T11:56:26.262Z"
    }
   },
   "outputs": [],
   "source": [
    "job.plot_output(frame=-1);"
   ]
  },
  {
   "cell_type": "code",
   "execution_count": null,
   "metadata": {},
   "outputs": [],
   "source": []
  }
 ],
 "metadata": {
  "kernelspec": {
   "display_name": "Python 3",
   "language": "python",
   "name": "python3"
  },
  "language_info": {
   "codemirror_mode": {
    "name": "ipython",
    "version": 3
   },
   "file_extension": ".py",
   "mimetype": "text/x-python",
   "name": "python",
   "nbconvert_exporter": "python",
   "pygments_lexer": "ipython3",
   "version": "3.8.6"
  },
  "toc": {
   "base_numbering": 1,
   "nav_menu": {},
   "number_sections": true,
   "sideBar": true,
   "skip_h1_title": false,
   "title_cell": "Table of Contents",
   "title_sidebar": "Contents",
   "toc_cell": false,
   "toc_position": {},
   "toc_section_display": true,
   "toc_window_display": false
  }
 },
 "nbformat": 4,
 "nbformat_minor": 4
}
